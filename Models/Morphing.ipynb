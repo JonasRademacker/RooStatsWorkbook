{
 "cells": [
  {
   "cell_type": "markdown",
   "metadata": {},
   "source": [
    "# Morphing histograms.\n",
    "\n",
    "The morphing/iterpolation scheme used by Histfactory."
   ]
  },
  {
   "cell_type": "markdown",
   "metadata": {
    "collapsed": true
   },
   "source": [
    "## Interpolation & Constraints\n",
    "\n",
    "The treatment of systematic uncertainties is subtle, particularly when one wishes to take into account the correlated effect of multiple sources of systematic uncertainty across many signal and background samples. The most important conceptual issue is that we separate the source of the uncertainty (for instance the uncertainty in the calorimeter’s response to jets) from its effect on an individual signal or background sample (eg. the change in the acceptance and shape of a $W +jets$ background). In particular, the same source of uncertainty has a different effect on the various signal and background samples 1. The effect of these “$\\pm 1\\sigma$” variations about the nominal predictions $\\eta_s^0 = 1$ and $\\sigma_{sb}^0$ is quantified by dedicated studies that provide\n",
    "$\\eta^\\pm_{sp}$ and $\\sigma^\\pm_{spb}$. The main purpose of the `HistFactory` XML schema is to represent these tables."
   ]
  },
  {
   "cell_type": "markdown",
   "metadata": {},
   "source": [
    "One must address two related issues to form a likelihood parametrized with continuous nuisance parameters. First, one must provide an interpolation algorithm to interpolate to define ηs(α) and σsb(α). Secondly, one must incorporate constraint terms on the αp to reflect that the uncertain parameter has been estimated with some uncertainty by an auxiliary mea- surement. A strength of the histogram template based approach (compared to parametrized analytic functions) is that the effect of individual systematics are tracked explicitly; however, the ambiguities associated to the interpolation and constraints are a weakness."
   ]
  },
  {
   "cell_type": "markdown",
   "metadata": {},
   "source": [
    "### Interpolation Options\n",
    "\n",
    "For each sample, one can interpolate and extrapolate from the nominal prediction $\\eta_{s}^0$ = 1 and the variations $\\eta_{ps}^\\pm$ to produce a parametrized $\\eta(\\boldsymbol{\\alpha})$. Similarly, one can interpolate and extrapolate from the nominal shape $\\sigma^0$ and the variations $\\sigma^\\pm_{psb}$ to produce a parametrized $\\sigma_{sb}(\\boldsymbol{\\alpha})$. We choose to parametrize $\\alpha_p$ such that $\\alpha_p$ = 0 is the nominal value of this parameter, $\\alpha_p=\\pm1$ are the “$\\pm1\\sigma$ variations”. Needless to say, there is a significant amount of ambiguity in these interpolation and extrapolation procedures and they must be handled with care. In the future the `HistFactory` may support other types of shape interpolation, but as of ROOT 5.32 the shape interpolation is a 'vertical' style interpolation that is treated independently per-bin. Four interpolation strategies are described below and can be compared in Fig 1."
   ]
  },
  {
   "cell_type": "code",
   "execution_count": null,
   "metadata": {
    "collapsed": true
   },
   "outputs": [],
   "source": []
  }
 ],
 "metadata": {
  "kernelspec": {
   "display_name": "ROOT C++",
   "language": "c++",
   "name": "root"
  },
  "language_info": {
   "codemirror_mode": "text/x-c++src",
   "file_extension": ".C",
   "mimetype": " text/x-c++src",
   "name": "c++"
  }
 },
 "nbformat": 4,
 "nbformat_minor": 2
}
