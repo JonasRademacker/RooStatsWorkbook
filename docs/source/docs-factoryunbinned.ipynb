{
 "cells": [
  {
   "cell_type": "markdown",
   "metadata": {},
   "source": [
    "### Workspace Factory\n",
    "\n",
    "Make an extended probability density function for a distribution in $m_{\\gamma\\gamma}$\n",
    "\n",
    "An extended probability density model is a product of a probability density function $f(x)$ in a continuous observable $x$ and a Poisson model modeling the observed event count $P(N_\\mathrm{obs}|N_\\mathrm{exp})$\n",
    "\n",
    "For composite pdfs (a sum of 2 of more components) the conceptual expression \n",
    "$$\n",
    "\\mathrm{model}(x,N) = N_\\mathrm{sig}*\\mathrm{sig}(x) + N_\\mathrm{bkg}*\\mathrm{bkg}(x)\n",
    "$$\n",
    "\n",
    "can be elegantly rewritten in the producy of a  probability density function and Poisson\n",
    "\n",
    "$$\n",
    "f_\\mathrm{sig} = N_\\mathrm{sig} / (N_\\mathrm{sig} + N_\\mathrm{bkg})\n",
    "$$\n",
    "$$\n",
    "E   = N_\\mathrm{sig} + N_\\mathrm{bkg}\n",
    "$$\n",
    "$$\n",
    "\\mathrm{model}(x) = f_\\mathrm{sig} * \\mathrm{sig}(x) + (1-f_\\mathrm{sig}) * \\mathrm{bkg}(x) \n",
    "$$\n",
    "$$\n",
    "P(N|E)   = \\mathrm{Poisson}(N|E)\n",
    "$$"
   ]
  },
  {
   "cell_type": "code",
   "execution_count": 1,
   "metadata": {},
   "outputs": [
    {
     "name": "stdout",
     "output_type": "stream",
     "text": [
      "\n",
      "\u001b[1mRooFit v3.60 -- Developed by Wouter Verkerke and David Kirkby\u001b[0m \n",
      "                Copyright (C) 2000-2013 NIKHEF, University of California & Stanford University\n",
      "                All rights reserved, please read http://roofit.sourceforge.net/license.txt\n",
      "\n"
     ]
    }
   ],
   "source": [
    "RooWorkspace w(\"w\") ;"
   ]
  },
  {
   "cell_type": "markdown",
   "metadata": {},
   "source": [
    "Exponential distribution for the background and Gaussian distribution for the signal"
   ]
  },
  {
   "cell_type": "code",
   "execution_count": 2,
   "metadata": {},
   "outputs": [],
   "source": [
    "w.factory(\"Exponential::bkg(mgg[40,400],alpha[-0.01,-10,0])\") ; \n",
    "w.factory(\"Gaussian::sig(mgg,mean[125,80,400],width[3,1,10])\") ;"
   ]
  },
  {
   "cell_type": "markdown",
   "metadata": {},
   "source": [
    "Fix signal shape for now"
   ]
  },
  {
   "cell_type": "code",
   "execution_count": 3,
   "metadata": {
    "collapsed": true
   },
   "outputs": [],
   "source": [
    "w.var(\"mean\")->setConstant(true) ;\n",
    "w.var(\"width\")->setConstant(true) ;"
   ]
  },
  {
   "cell_type": "markdown",
   "metadata": {},
   "source": [
    "Model is sum of signal and background\n",
    "$$\n",
    "S = \\mu * S_\\mathrm{nom}[200]\n",
    "$$\n",
    "$$\n",
    "B = B_\\mathrm{nom}[10000]\n",
    "$$"
   ]
  },
  {
   "cell_type": "code",
   "execution_count": 4,
   "metadata": {},
   "outputs": [],
   "source": [
    "w.factory(\"expr::S('mu*Snom',mu[1,-3,6],Snom[50])\") ;\n",
    "w.factory(\"SUM::model(S*sig,Bnom[10000]*bkg)\") ;"
   ]
  },
  {
   "cell_type": "markdown",
   "metadata": {},
   "source": [
    "Sample a toy unbinned toy dataset from the model If no event count is given, the predicted count of the model is taken (in this case S+B)"
   ]
  },
  {
   "cell_type": "code",
   "execution_count": 5,
   "metadata": {},
   "outputs": [],
   "source": [
    "RooDataSet* data = w.pdf(\"model\")->generate(*w.var(\"mgg\")) ;"
   ]
  },
  {
   "cell_type": "markdown",
   "metadata": {},
   "source": [
    "Fit model to toy data - the extended option forces the inclusion of the Poisson term in the likelihood construction"
   ]
  },
  {
   "cell_type": "code",
   "execution_count": 6,
   "metadata": {},
   "outputs": [
    {
     "name": "stdout",
     "output_type": "stream",
     "text": [
      "[#1] INFO:Minization -- createNLL: caching constraint set under name CONSTR_OF_PDF_model_FOR_OBS_mgg with 0 entries\n",
      "[#1] INFO:Minization -- RooMinimizer::optimizeConst: activating const optimization\n",
      "[#1] INFO:Minization --  The following expressions have been identified as constant and will be precalculated and cached: (sig)\n",
      "[#1] INFO:Minization --  The following expressions will be evaluated in cache-and-track mode: (bkg)\n",
      " **********\n",
      " **    1 **SET PRINT           1\n",
      " **********\n",
      " **********\n",
      " **    2 **SET NOGRAD\n",
      " **********\n",
      " PARAMETER DEFINITIONS:\n",
      "    NO.   NAME         VALUE      STEP SIZE      LIMITS\n",
      "     1 alpha       -1.00000e-02  5.00000e-03   -1.00000e+01  0.00000e+00\n",
      "     2 mu           1.00000e+00  9.00000e-01   -3.00000e+00  6.00000e+00\n",
      " **********\n",
      " **    3 **SET ERR         0.5\n",
      " **********\n",
      " **********\n",
      " **    4 **SET PRINT           1\n",
      " **********\n",
      " **********\n",
      " **    5 **SET STR           1\n",
      " **********\n",
      " NOW USING STRATEGY  1: TRY TO BALANCE SPEED AGAINST RELIABILITY\n",
      " **********\n",
      " **    6 **MIGRAD        1000           1\n",
      " **********\n",
      " FIRST CALL TO USER FUNCTION AT NEW START POINT, WITH IFLAG=4.\n",
      " START MIGRAD MINIMIZATION.  STRATEGY  1.  CONVERGENCE WHEN EDM .LT. 1.00e-03\n",
      " FCN=-27531.8 FROM MIGRAD    STATUS=INITIATE       10 CALLS          11 TOTAL\n",
      "                     EDM= unknown      STRATEGY= 1      NO ERROR MATRIX       \n",
      "  EXT PARAMETER               CURRENT GUESS       STEP         FIRST   \n",
      "  NO.   NAME      VALUE            ERROR          SIZE      DERIVATIVE \n",
      "   1  alpha       -1.00000e-02   5.00000e-03   1.63770e-02  -1.52597e+01\n",
      "   2  mu           1.00000e+00   9.00000e-01   2.02684e-01  -2.10238e+00\n",
      "                               ERR DEF= 0.5\n",
      " MIGRAD MINIMIZATION HAS CONVERGED.\n",
      " MIGRAD WILL VERIFY CONVERGENCE AND ERROR MATRIX.\n",
      " COVARIANCE MATRIX CALCULATED SUCCESSFULLY\n",
      " FCN=-27531.8 FROM MIGRAD    STATUS=CONVERGED      27 CALLS          28 TOTAL\n",
      "                     EDM=9.49644e-06    STRATEGY= 1      ERROR MATRIX ACCURATE \n",
      "  EXT PARAMETER                                   STEP         FIRST   \n",
      "  NO.   NAME      VALUE            ERROR          SIZE      DERIVATIVE \n",
      "   1  alpha       -9.99923e-03   1.26457e-04   4.58294e-05  -6.74097e+00\n",
      "   2  mu           1.09775e+00   4.59302e-01   1.16765e-02  -1.41907e-02\n",
      "                               ERR DEF= 0.5\n",
      " EXTERNAL ERROR MATRIX.    NDIM=  25    NPAR=  2    ERR DEF=0.5\n",
      "  1.599e-08  7.395e-07 \n",
      "  7.395e-07  2.117e-01 \n",
      " PARAMETER  CORRELATION COEFFICIENTS  \n",
      "       NO.  GLOBAL      1      2\n",
      "        1  0.01271   1.000  0.013\n",
      "        2  0.01271   0.013  1.000\n",
      " **********\n",
      " **    7 **SET ERR         0.5\n",
      " **********\n",
      " **********\n",
      " **    8 **SET PRINT           1\n",
      " **********\n",
      " **********\n",
      " **    9 **HESSE        1000\n",
      " **********\n",
      " COVARIANCE MATRIX CALCULATED SUCCESSFULLY\n",
      " FCN=-27531.8 FROM HESSE     STATUS=OK             10 CALLS          38 TOTAL\n",
      "                     EDM=9.49203e-06    STRATEGY= 1      ERROR MATRIX ACCURATE \n",
      "  EXT PARAMETER                                INTERNAL      INTERNAL  \n",
      "  NO.   NAME      VALUE            ERROR       STEP SIZE       VALUE   \n",
      "   1  alpha       -9.99923e-03   1.26456e-04   9.16588e-06   1.50754e+00\n",
      "   2  mu           1.09775e+00   4.59294e-01   4.67062e-04  -8.95073e-02\n",
      "                               ERR DEF= 0.5\n",
      " EXTERNAL ERROR MATRIX.    NDIM=  25    NPAR=  2    ERR DEF=0.5\n",
      "  1.599e-08  7.372e-07 \n",
      "  7.372e-07  2.117e-01 \n",
      " PARAMETER  CORRELATION COEFFICIENTS  \n",
      "       NO.  GLOBAL      1      2\n",
      "        1  0.01267   1.000  0.013\n",
      "        2  0.01267   0.013  1.000\n",
      "[#1] INFO:Minization -- RooMinimizer::optimizeConst: deactivating const optimization\n"
     ]
    }
   ],
   "source": [
    "RooFitResult* r = w.pdf(\"model\")->fitTo(*data,RooFit::Save(),RooFit::Extended()) ;"
   ]
  },
  {
   "cell_type": "markdown",
   "metadata": {},
   "source": [
    "Visualize result"
   ]
  },
  {
   "cell_type": "code",
   "execution_count": 7,
   "metadata": {},
   "outputs": [],
   "source": [
    "TCanvas* c1 = new TCanvas();\n",
    "RooPlot* frame = w.var(\"mgg\")->frame() ;\n",
    "data->plotOn(frame) ;"
   ]
  },
  {
   "cell_type": "markdown",
   "metadata": {},
   "source": [
    "When plotting an extended pdf you can choose to follow intrinsic prediction for the event count, rather than normalizing the plot to the observed data\n",
    "\n",
    "To do so request a normalization scale factor 1.0 w.r.t the intrinsic expecation"
   ]
  },
  {
   "cell_type": "code",
   "execution_count": 8,
   "metadata": {
    "collapsed": true
   },
   "outputs": [],
   "source": [
    "w.pdf(\"model\")->plotOn(frame,RooFit::Normalization(1.0,RooAbsReal::RelativeExpected)) ;"
   ]
  },
  {
   "cell_type": "markdown",
   "metadata": {},
   "source": [
    "You can also highlight components of the fit as follows"
   ]
  },
  {
   "cell_type": "code",
   "execution_count": 9,
   "metadata": {},
   "outputs": [
    {
     "data": {
      "image/png": "[encoded data removed]",
      "text/plain": [
       "<IPython.core.display.Image object>"
      ]
     },
     "metadata": {},
     "output_type": "display_data"
    },
    {
     "name": "stdout",
     "output_type": "stream",
     "text": [
      "[#1] INFO:Plotting -- RooAbsPdf::plotOn(model) directly selected PDF components: (bkg)\n",
      "[#1] INFO:Plotting -- RooAbsPdf::plotOn(model) indirectly selected PDF components: ()\n"
     ]
    }
   ],
   "source": [
    "w.pdf(\"model\")->plotOn(frame,RooFit::Normalization(1.0,RooAbsReal::RelativeExpected),RooFit::Components(\"bkg\"),RooFit::LineStyle(kDashed)) ;\n",
    "frame->Draw() ;\n",
    "c1->Draw() ;"
   ]
  },
  {
   "cell_type": "markdown",
   "metadata": {},
   "source": [
    "Now save the workspace with the data a modelconfig so that you can use RooStats to extract limits\n",
    "\n",
    "Save the generated data as the 'observed data'"
   ]
  },
  {
   "cell_type": "code",
   "execution_count": 10,
   "metadata": {},
   "outputs": [
    {
     "name": "stdout",
     "output_type": "stream",
     "text": [
      "[#1] INFO:ObjectHandling -- RooWorkspace::import(w) importing dataset modelData\n",
      "[#1] INFO:ObjectHandling -- RooWorkSpace::import(w) changing name of dataset from  modelData to observed_data\n"
     ]
    }
   ],
   "source": [
    "w.import(*data,RooFit::Rename(\"observed_data\")) ;"
   ]
  },
  {
   "cell_type": "markdown",
   "metadata": {},
   "source": [
    "Create an empty ModelConfig"
   ]
  },
  {
   "cell_type": "code",
   "execution_count": 11,
   "metadata": {},
   "outputs": [],
   "source": [
    "RooStats::ModelConfig mc(\"ModelConfig\",&w);"
   ]
  },
  {
   "cell_type": "markdown",
   "metadata": {},
   "source": [
    "Define the pdf, the parameter of interest and the observables"
   ]
  },
  {
   "cell_type": "code",
   "execution_count": 12,
   "metadata": {
    "collapsed": true
   },
   "outputs": [],
   "source": [
    "mc.SetPdf(*w.pdf(\"model\"));\n",
    "mc.SetParametersOfInterest(*w.var(\"mu\"));\n",
    "//mc.SetNuisanceParameters(RooArgSet(*w.var(\"mean\"),*w.var(\"width\"),*w.var(\"alpha\")));\n",
    "mc.SetNuisanceParameters(*w.var(\"alpha\"));\n",
    "mc.SetObservables(*w.var(\"mgg\"));"
   ]
  },
  {
   "cell_type": "markdown",
   "metadata": {},
   "source": [
    "Define the current value mu (1) as an hypothesis"
   ]
  },
  {
   "cell_type": "code",
   "execution_count": 13,
   "metadata": {},
   "outputs": [
    {
     "name": "stdout",
     "output_type": "stream",
     "text": [
      "\n",
      "=== Using the following for ModelConfig ===\n",
      "Observables:             RooArgSet:: = (mgg)\n",
      "Parameters of Interest:  RooArgSet:: = (mu)\n",
      "Nuisance Parameters:     RooArgSet:: = (alpha)\n",
      "PDF:                     RooAddPdf::model[ S * sig + Bnom * bkg ] = 0.110271\n",
      "Snapshot:                \n",
      "  1) 0x7f1a20b9fa80 RooRealVar:: mu = 1 +/- 0.459294  L(-3 - 6)  \"mu\"\n",
      "\n"
     ]
    }
   ],
   "source": [
    "w.var(\"mu\")->setVal(1) ;\n",
    "mc.SetSnapshot(*w.var(\"mu\"));\n",
    "\n",
    "mc.Print();"
   ]
  },
  {
   "cell_type": "markdown",
   "metadata": {},
   "source": [
    "import model into the workspace and save to file"
   ]
  },
  {
   "cell_type": "code",
   "execution_count": 14,
   "metadata": {},
   "outputs": [],
   "source": [
    "w.import(mc);\n",
    "\n",
    "w.writeToFile(\"model.root\") ;"
   ]
  }
 ],
 "metadata": {
  "kernelspec": {
   "display_name": "ROOT C++",
   "language": "c++",
   "name": "root"
  },
  "language_info": {
   "codemirror_mode": "text/x-c++src",
   "file_extension": ".C",
   "mimetype": " text/x-c++src",
   "name": "c++"
  }
 },
 "nbformat": 4,
 "nbformat_minor": 2
}
