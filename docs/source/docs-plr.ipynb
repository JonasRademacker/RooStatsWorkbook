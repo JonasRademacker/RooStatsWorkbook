{
 "cells": [
  {
   "cell_type": "markdown",
   "metadata": {},
   "source": [
    "### Profile likelihood ratio calculator\n",
    "\n",
    "using the [RooStats::ProfileLikelihoodCalculator](https://root.cern.ch/doc/v606/classRooStats_1_1ProfileLikelihoodCalculator.html) from the model and data stored in [model.root](ex02_build_Poisson.ipynb)"
   ]
  },
  {
   "cell_type": "markdown",
   "metadata": {},
   "source": [
    "First open the ROOT file"
   ]
  },
  {
   "cell_type": "code",
   "execution_count": 1,
   "metadata": {},
   "outputs": [
    {
     "name": "stdout",
     "output_type": "stream",
     "text": [
      "\n",
      "\u001b[1mRooFit v3.60 -- Developed by Wouter Verkerke and David Kirkby\u001b[0m \n",
      "                Copyright (C) 2000-2013 NIKHEF, University of California & Stanford University\n",
      "                All rights reserved, please read http://roofit.sourceforge.net/license.txt\n",
      "\n"
     ]
    }
   ],
   "source": [
    "TFile* f = TFile::Open(\"model.root\") ;"
   ]
  },
  {
   "cell_type": "markdown",
   "metadata": {},
   "source": [
    "Retrieve the workspace"
   ]
  },
  {
   "cell_type": "code",
   "execution_count": 2,
   "metadata": {},
   "outputs": [
    {
     "name": "stdout",
     "output_type": "stream",
     "text": [
      "\n",
      "RooWorkspace(w) w contents\n",
      "\n",
      "variables\n",
      "---------\n",
      "(B,Nobs_CR,Nobs_SR,S,mu,tau)\n",
      "\n",
      "p.d.f.s\n",
      "-------\n",
      "RooProdPdf::model[ model_SR * model_CR ] = 0.00144134\n",
      "RooPoisson::model_CR[ x=Nobs_CR mean=Nexp_CR ] = 0.0281977\n",
      "RooPoisson::model_SR[ x=Nobs_SR mean=Nexp_SR ] = 0.0511153\n",
      "\n",
      "functions\n",
      "--------\n",
      "RooFormulaVar::Nexp_CR[ actualVars=(tau,B) formula=\"tau*B\" ] = 200\n",
      "RooFormulaVar::Nexp_SR[ actualVars=(mu,S,B) formula=\"mu*S+B\" ] = 30\n",
      "\n",
      "datasets\n",
      "--------\n",
      "RooDataSet::observed_data(Nobs_SR,Nobs_CR)\n",
      "\n",
      "parameter snapshots\n",
      "-------------------\n",
      "ModelConfig__snapshot = (mu=1)\n",
      "\n",
      "named sets\n",
      "----------\n",
      "ModelConfig_NuisParams:(B)\n",
      "ModelConfig_Observables:(Nobs_SR,Nobs_CR)\n",
      "ModelConfig_POI:(mu)\n",
      "ModelConfig__snapshot:(mu)\n",
      "obs:(Nobs_SR,Nobs_CR)\n",
      "\n",
      "generic objects\n",
      "---------------\n",
      "RooStats::ModelConfig::ModelConfig\n",
      "\n"
     ]
    }
   ],
   "source": [
    "RooWorkspace* w = (RooWorkspace*)f->Get(\"w\") ;\n",
    "w->Print() ;"
   ]
  },
  {
   "cell_type": "markdown",
   "metadata": {},
   "source": [
    "Retrieve the ModelConfig and the observed data\n",
    "Together these uniquely define the statistical problem"
   ]
  },
  {
   "cell_type": "code",
   "execution_count": 3,
   "metadata": {
    "collapsed": true
   },
   "outputs": [],
   "source": [
    "RooAbsData* data = w->data(\"observed_data\") ;\n",
    "RooStats::ModelConfig* mc = (RooStats::ModelConfig*) w->obj(\"ModelConfig\") ;"
   ]
  },
  {
   "cell_type": "markdown",
   "metadata": {},
   "source": [
    "Instantiate a Profile Likelihood interval calculator"
   ]
  },
  {
   "cell_type": "code",
   "execution_count": 4,
   "metadata": {
    "collapsed": true
   },
   "outputs": [],
   "source": [
    "RooStats::ProfileLikelihoodCalculator plCalc(*data,*mc);"
   ]
  },
  {
   "cell_type": "markdown",
   "metadata": {},
   "source": [
    "Calculate the 90% C.L. interval\n",
    "\n",
    "**Note** that Profile Likelihood Ratio is always a two-sided interval where the definition of the interval is always uniquely defined by the technique hence we only need to define the CL."
   ]
  },
  {
   "cell_type": "code",
   "execution_count": 5,
   "metadata": {},
   "outputs": [
    {
     "name": "stdout",
     "output_type": "stream",
     "text": [
      "[#1] INFO:Minization -- createNLL: caching constraint set under name CONSTR_OF_PDF_model_FOR_OBS_Nobs_CR:Nobs_SR with 0 entries\n",
      "[#0] PROGRESS:Minization -- ProfileLikelihoodCalcultor::DoGLobalFit - find MLE \n",
      "[#0] PROGRESS:Minization -- ProfileLikelihoodCalcultor::DoMinimizeNLL - using Minuit / Migrad with strategy 1\n",
      "[#1] INFO:Minization -- RooMinimizer::optimizeConst: activating const optimization\n",
      "[#1] INFO:Minization --  The following expressions will be evaluated in cache-and-track mode: (model_SR,model_CR)\n",
      "[#1] INFO:Minization -- \n",
      "  RooFitResult: minimized FCN value: 6.10022, estimated distance to minimum: 3.4662e-09\n",
      "                covariance matrix quality: Full, accurate covariance matrix\n",
      "                Status : MINIMIZE=0 \n",
      "\n",
      "    Floating Parameter    FinalValue +/-  Error   \n",
      "  --------------------  --------------------------\n",
      "                     B    2.0000e+01 +/-  1.41e+00\n",
      "                    mu    4.9998e-01 +/-  5.18e-01\n",
      "\n"
     ]
    }
   ],
   "source": [
    "plCalc.SetConfidenceLevel(0.90);\n",
    "RooStats::LikelihoodInterval* interval = plCalc.GetInterval();"
   ]
  },
  {
   "cell_type": "markdown",
   "metadata": {},
   "source": [
    "Print the result"
   ]
  },
  {
   "cell_type": "code",
   "execution_count": 6,
   "metadata": {},
   "outputs": [
    {
     "name": "stdout",
     "output_type": "stream",
     "text": [
      "RESULT: 90% interval is : [-0.27595, 1.44104] \n"
     ]
    }
   ],
   "source": [
    "RooRealVar* poi = (RooRealVar*) mc->GetParametersOfInterest()->first();\n",
    "double lowerLimit = interval->LowerLimit(*poi);\n",
    "double upperLimit = interval->UpperLimit(*poi);\n",
    "cout << \"RESULT: \" << 100*plCalc.ConfidenceLevel() << \"% interval is : [\"<< lowerLimit << \", \"<< upperLimit <<\"] \"<<endl;"
   ]
  },
  {
   "cell_type": "markdown",
   "metadata": {},
   "source": [
    "Use the visualization tool of the PLC to show how the interval was calculated"
   ]
  },
  {
   "cell_type": "code",
   "execution_count": 7,
   "metadata": {},
   "outputs": [
    {
     "name": "stdout",
     "output_type": "stream",
     "text": [
      "[#1] INFO:Minization -- RooProfileLL::evaluate(nll_model_observed_data_Profile[mu]) Creating instance of MINUIT\n",
      "[#1] INFO:Minization -- RooProfileLL::evaluate(nll_model_observed_data_Profile[mu]) determining minimum likelihood for current configurations w.r.t all observable\n",
      "[#1] INFO:Minization -- RooProfileLL::evaluate(nll_model_observed_data_Profile[mu]) minimum found at (mu=0.50042)\n",
      "......................................................................................................"
     ]
    },
    {
     "name": "stderr",
     "output_type": "stream",
     "text": [
      "Info in <TCanvas::MakeDefCanvas>:  created default TCanvas with name c1\n"
     ]
    },
    {
     "data": {
      "image/png": "[encoded data removed]",
      "text/plain": [
       "<IPython.core.display.Image object>"
      ]
     },
     "metadata": {},
     "output_type": "display_data"
    }
   ],
   "source": [
    "RooStats::LikelihoodIntervalPlot *plot = new RooStats::LikelihoodIntervalPlot(interval);\n",
    "//plot->SetNPoints(50);   // Use this to reduce sampling granularity (trades speed for precision)\n",
    "plot->Draw(\"TF1\"); gPad->Draw();"
   ]
  },
  {
   "cell_type": "code",
   "execution_count": null,
   "metadata": {
    "collapsed": true
   },
   "outputs": [],
   "source": [
    "\n"
   ]
  }
 ],
 "metadata": {
  "kernelspec": {
   "display_name": "ROOT C++",
   "language": "c++",
   "name": "root"
  },
  "language_info": {
   "codemirror_mode": "text/x-c++src",
   "file_extension": ".C",
   "mimetype": " text/x-c++src",
   "name": "c++"
  }
 },
 "nbformat": 4,
 "nbformat_minor": 2
}
