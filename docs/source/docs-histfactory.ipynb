{
 "cells": [
  {
   "cell_type": "markdown",
   "metadata": {},
   "source": [
    "### HistFactory\n",
    "\n",
    "A histfactory model is built as follows\n",
    "\n",
    " * A channel is modeled by a stack of samples (signal, backgrounds)\n",
    " * A measurement is composed of one or more channels"
   ]
  },
  {
   "cell_type": "code",
   "execution_count": 1,
   "metadata": {
    "collapsed": true
   },
   "outputs": [],
   "source": [
    "using namespace RooStats;\n",
    "using namespace HistFactory;"
   ]
  },
  {
   "cell_type": "markdown",
   "metadata": {},
   "source": [
    "#### Create the measurement"
   ]
  },
  {
   "cell_type": "code",
   "execution_count": 2,
   "metadata": {},
   "outputs": [
    {
     "name": "stdout",
     "output_type": "stream",
     "text": [
      "\n",
      "\u001b[1mRooFit v3.60 -- Developed by Wouter Verkerke and David Kirkby\u001b[0m \n",
      "                Copyright (C) 2000-2013 NIKHEF, University of California & Stanford University\n",
      "                All rights reserved, please read http://roofit.sourceforge.net/license.txt\n",
      "\n"
     ]
    }
   ],
   "source": [
    "std::string inputFileName = \"./input/example.root\";\n",
    "HistFactory::Measurement meas(\"meas\", \"meas\");\n",
    "meas.SetOutputFilePrefix( \"./results/example_\" );"
   ]
  },
  {
   "cell_type": "markdown",
   "metadata": {},
   "source": [
    "Define the name of the POI"
   ]
  },
  {
   "cell_type": "code",
   "execution_count": 3,
   "metadata": {
    "collapsed": true
   },
   "outputs": [],
   "source": [
    "meas.SetPOI(\"mu\");"
   ]
  },
  {
   "cell_type": "markdown",
   "metadata": {},
   "source": [
    "Declare constants"
   ]
  },
  {
   "cell_type": "code",
   "execution_count": 4,
   "metadata": {
    "collapsed": true
   },
   "outputs": [],
   "source": [
    "meas.AddConstantParam(\"alpha_syst1\");\n",
    "meas.AddConstantParam(\"Lumi\");"
   ]
  },
  {
   "cell_type": "markdown",
   "metadata": {},
   "source": [
    "Set luminosity and its uncertainty"
   ]
  },
  {
   "cell_type": "code",
   "execution_count": 5,
   "metadata": {
    "collapsed": true
   },
   "outputs": [],
   "source": [
    "meas.SetLumi(1.0);\n",
    "meas.SetLumiRelErr(0.10);"
   ]
  },
  {
   "cell_type": "markdown",
   "metadata": {},
   "source": [
    "...and some technical configuration..."
   ]
  },
  {
   "cell_type": "code",
   "execution_count": 6,
   "metadata": {
    "collapsed": true
   },
   "outputs": [],
   "source": [
    "meas.SetExportOnly(false);\n",
    "meas.SetBinHigh(2);"
   ]
  },
  {
   "cell_type": "markdown",
   "metadata": {},
   "source": [
    "#### Create a channel"
   ]
  },
  {
   "cell_type": "code",
   "execution_count": 7,
   "metadata": {
    "collapsed": true
   },
   "outputs": [],
   "source": [
    "HistFactory::Channel chan(\"channel1\");\n",
    "chan.SetData(\"data\",inputFileName) ;\n",
    "chan.SetStatErrorConfig(0.05, \"Poisson\");"
   ]
  },
  {
   "cell_type": "markdown",
   "metadata": {},
   "source": [
    "Populate this channel with samples\n",
    "\n",
    "**Signal sample** - scaled by a normalization factor $\\mu$ and with a 5% systematic scale uncertainty named `syst1`"
   ]
  },
  {
   "cell_type": "code",
   "execution_count": 8,
   "metadata": {
    "collapsed": true
   },
   "outputs": [],
   "source": [
    "HistFactory::Sample sig( \"signal\", \"signal\", inputFileName ) ;\n",
    "sig.AddOverallSys(\"syst1\",0.95,1.05) ;\n",
    "sig.AddNormFactor(\"mu\",1,0,3 ) ;\n",
    "chan.AddSample(sig) ;"
   ]
  },
  {
   "cell_type": "markdown",
   "metadata": {},
   "source": [
    "**Background sample 1** - with a 5% systematic scale uncertainty named syst2 and with modeling of MC statistical, uncertainties"
   ]
  },
  {
   "cell_type": "code",
   "execution_count": 9,
   "metadata": {
    "collapsed": true
   },
   "outputs": [],
   "source": [
    "HistFactory::Sample background1(\"background1\",\"background1\",inputFileName) ;\n",
    "background1.ActivateStatError(\"background1_statUncert\",inputFileName) ;\n",
    "background1.AddOverallSys(\"syst2\",0.95,1.05) ;\n",
    "chan.AddSample(background1) ;"
   ]
  },
  {
   "cell_type": "markdown",
   "metadata": {},
   "source": [
    "**Background sample 2** - with a 5% systematic scale uncertainty named syst3 - and with modeling of MC statistical uncertainties"
   ]
  },
  {
   "cell_type": "code",
   "execution_count": 10,
   "metadata": {
    "collapsed": true
   },
   "outputs": [],
   "source": [
    "HistFactory::Sample background2( \"background2\", \"background2\", inputFileName );\n",
    "background2.ActivateStatError();\n",
    "background2.AddOverallSys(\"syst3\",0.95,1.05);\n",
    "chan.AddSample( background2) ;"
   ]
  },
  {
   "cell_type": "markdown",
   "metadata": {},
   "source": [
    "Add channel to the measurementa"
   ]
  },
  {
   "cell_type": "code",
   "execution_count": 11,
   "metadata": {
    "collapsed": true
   },
   "outputs": [],
   "source": [
    "meas.AddChannel( chan );"
   ]
  },
  {
   "cell_type": "markdown",
   "metadata": {},
   "source": [
    "Collect all the required templated histograms from the input file"
   ]
  },
  {
   "cell_type": "code",
   "execution_count": 12,
   "metadata": {},
   "outputs": [
    {
     "name": "stdout",
     "output_type": "stream",
     "text": [
      "Getting histogram.  InputFile ./input/example.root HistoPath  HistoName data\n",
      "Opened input file: ./input/example.root: 0x7f5300509d50\n",
      "Collecting Nominal Histogram\n",
      "Getting histogram.  InputFile ./input/example.root HistoPath  HistoName signal\n",
      "Opened input file: ./input/example.root: 0x7f5300612840\n",
      "Collecting Nominal Histogram\n",
      "Getting histogram.  InputFile ./input/example.root HistoPath  HistoName background1\n",
      "Opened input file: ./input/example.root: 0x7f53004782c0\n",
      "Getting histogram.  InputFile ./input/example.root HistoPath  HistoName background1_statUncert\n",
      "Opened input file: ./input/example.root: 0x7f5300643fb0\n",
      "Collecting Nominal Histogram\n",
      "Getting histogram.  InputFile ./input/example.root HistoPath  HistoName background2\n",
      "Opened input file: ./input/example.root: 0x7f5300644bc0\n"
     ]
    }
   ],
   "source": [
    "meas.CollectHistograms();"
   ]
  },
  {
   "cell_type": "markdown",
   "metadata": {},
   "source": [
    "Now build a workspace with a pdf and a modelconfig"
   ]
  },
  {
   "cell_type": "code",
   "execution_count": null,
   "metadata": {},
   "outputs": [
    {
     "name": "stdout",
     "output_type": "stream",
     "text": [
      "Making Model and Measurements (Fast) for measurement: meas\n",
      "using lumi = 1 and lumiError = 0.1 including bins between 0 and 2\n",
      "fixing the following parameters:\n",
      "   alpha_syst1\n",
      "   Lumi\n",
      "Checking if output directory : ./results -  exists\n",
      "Creating the output file: ./results/example__meas.root\n",
      "Creating the table file: ./results/example__results.table\n",
      "Creating the HistoToWorkspaceFactoryFast factory\n",
      "Setting preprocess functions\n",
      "Starting to process channel: channel1\n",
      "\n",
      "\n",
      "-------------------\n",
      "Starting to process channel1 channel with 1 observables\n",
      "lumi str = [1,0,10]\n",
      "lumi Error str = nominalLumi[1,0,2],0.1\n",
      "[#1] INFO:ObjectHandling -- RooWorkspace::import(channel1) importing RooStats::HistFactory::FlexibleInterpVar::signal_channel1_epsilon\n",
      "making normFactor: mu\n",
      "signal_channel1 has no variation histograms \n",
      "processing hist signal\n",
      "[#1] INFO:DataHandling -- RooDataHist::adjustBinning(signal_channel1nominalDHist): fit range of variable obs_x_channel1 expanded to nearest bin boundaries: [1,2] --> [1,2]\n"
     ]
    }
   ],
   "source": [
    "RooWorkspace* w =  MakeModelAndMeasurementFast(meas) ;"
   ]
  },
  {
   "cell_type": "markdown",
   "metadata": {},
   "source": [
    "Make some adjustments to histfactory workspace to conform to naming conventions of this set of example macros"
   ]
  },
  {
   "cell_type": "code",
   "execution_count": null,
   "metadata": {
    "collapsed": true
   },
   "outputs": [],
   "source": [
    "w->SetName(\"w\") ;\n",
    "w->data(\"obsData\")->SetName(\"observed_data\") ;"
   ]
  },
  {
   "cell_type": "markdown",
   "metadata": {},
   "source": [
    "Print resulting workspace and save to file"
   ]
  },
  {
   "cell_type": "code",
   "execution_count": null,
   "metadata": {},
   "outputs": [],
   "source": [
    "w->Print(\"t\") ;\n",
    "\n",
    "w->writeToFile(\"model.root\") ;"
   ]
  },
  {
   "cell_type": "code",
   "execution_count": null,
   "metadata": {
    "collapsed": true
   },
   "outputs": [],
   "source": []
  }
 ],
 "metadata": {
  "kernelspec": {
   "display_name": "ROOT C++",
   "language": "c++",
   "name": "root"
  },
  "language_info": {
   "codemirror_mode": "text/x-c++src",
   "file_extension": ".C",
   "mimetype": " text/x-c++src",
   "name": "c++"
  }
 },
 "nbformat": 4,
 "nbformat_minor": 2
}
