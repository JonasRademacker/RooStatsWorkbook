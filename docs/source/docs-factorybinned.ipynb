{
 "cells": [
  {
   "cell_type": "markdown",
   "metadata": {},
   "source": [
    "# Build workspace using histogram templates\n",
    "\n",
    "Build a binned likelihood model version of the ex11 example\n",
    "\n",
    "* construct a histogram template SH(mgg) with a prediction for the binned signal shape\n",
    "* construct a histogram template BH(mgg) with a prediction for the binned background shape\n",
    "* construct a probability model model(mgg) = SH(mgg) + BH(mgg)\n",
    "\n",
    "This model can be 'seen' in two ways\n",
    "\n",
    "1. an extended probability model like ex11 that happen to have binned shapes, i.e.\n",
    "\n",
    "  * model(m<sub>γγ</sub>) = N<sub>sig</sub>/N<sub>sig</sub>+N<sub>bkg</sub> * pdf<sub>SH</sub>(m<sub>γγ</sub>) +  N<sub>bkg</sub>/N<sub>sig</sub>+N<sub>bkg</sub> * pdf<sub>BH</sub>(m<sub>γγ</sub>)\n",
    "  * $P(N) = N_\\mathrm{sig} + N_\\mathrm{bkg}$\n",
    "  * where pdf_SH,pdf_BH are probability density functions that follow shape of the unit normalized histograms\n",
    "\n",
    "2. A product of Poisson counting experiments for each bin\n",
    "\n",
    "  * model(vec_N) = Product(i=0..n-1) Poisson(N_i | S_i + B_i)\n",
    "\n",
    "  * where N_i i=0...N-1 == vec_N are the observed event counts in each bin and S_i and B_i are the predicted signal and \n",
    "background rate in each bin\n",
    "\n",
    "Both representations are mathematically equivalent, but expression (2) is in practice faster to calculate because it does not require a normalization calculation over pdf_SH and pdf_BH to happen. While for this very simple example it does not make a noticable difference because the normalization does not depend on any model parameters in scenarios where it does it will effectivelt double the calculation time"
   ]
  },
  {
   "cell_type": "markdown",
   "metadata": {},
   "source": [
    "## Construct simulation workspace to generate template histograms"
   ]
  },
  {
   "cell_type": "code",
   "execution_count": 1,
   "metadata": {},
   "outputs": [
    {
     "name": "stdout",
     "output_type": "stream",
     "text": [
      "\n",
      "\u001b[1mRooFit v3.60 -- Developed by Wouter Verkerke and David Kirkby\u001b[0m \n",
      "                Copyright (C) 2000-2013 NIKHEF, University of California & Stanford University\n",
      "                All rights reserved, please read http://roofit.sourceforge.net/license.txt\n",
      "\n"
     ]
    }
   ],
   "source": [
    "RooWorkspace wsim(\"wsim\") ;"
   ]
  },
  {
   "cell_type": "markdown",
   "metadata": {},
   "source": [
    "Generate two distributions, exponential distribution for the background, Gaussian distribution for the signal"
   ]
  },
  {
   "cell_type": "code",
   "execution_count": 2,
   "metadata": {
    "collapsed": true
   },
   "outputs": [],
   "source": [
    "wsim.factory(\"Exponential::bkg(mgg[40,400],alpha[-0.01,-10,0])\") ; \n",
    "wsim.factory(\"Gaussian::sig(mgg,mean[125,80,400],width[3,1,10])\") ;\n",
    "\n",
    "RooDataHist* hist_sig = wsim.pdf(\"sig\")->generateBinned(*wsim.var(\"mgg\"),50) ;\n",
    "RooDataHist* hist_bkg = wsim.pdf(\"bkg\")->generateBinned(*wsim.var(\"mgg\"),10000) ;"
   ]
  },
  {
   "cell_type": "markdown",
   "metadata": {},
   "source": [
    "Mock data distribution with mu=1.5"
   ]
  },
  {
   "cell_type": "code",
   "execution_count": 3,
   "metadata": {
    "collapsed": true
   },
   "outputs": [],
   "source": [
    "wsim.factory(\"expr::S('mu*Snom',mu[1.5],Snom[50])\") ;\n",
    "wsim.factory(\"SUM::model(S*sig,Bnom[10000]*bkg)\") ;"
   ]
  },
  {
   "cell_type": "markdown",
   "metadata": {},
   "source": [
    "Given that the sum is an extended model, no speficiation of the event count is needed"
   ]
  },
  {
   "cell_type": "code",
   "execution_count": 4,
   "metadata": {
    "collapsed": true
   },
   "outputs": [],
   "source": [
    "RooDataHist* hist_data = wsim.pdf(\"model\")->generateBinned(*wsim.var(\"mgg\")) ;"
   ]
  },
  {
   "cell_type": "markdown",
   "metadata": {},
   "source": [
    "### Set up binned likelihood model"
   ]
  },
  {
   "cell_type": "code",
   "execution_count": 5,
   "metadata": {
    "collapsed": true
   },
   "outputs": [],
   "source": [
    "RooWorkspace w(\"w\") ;"
   ]
  },
  {
   "cell_type": "markdown",
   "metadata": {},
   "source": [
    "First Import template and mock data histograms"
   ]
  },
  {
   "cell_type": "code",
   "execution_count": 6,
   "metadata": {},
   "outputs": [
    {
     "name": "stdout",
     "output_type": "stream",
     "text": [
      "[#1] INFO:ObjectHandling -- RooWorkspace::import(w) importing dataset genData\n",
      "[#1] INFO:ObjectHandling -- RooWorkSpace::import(w) changing name of dataset from  genData to template_sig\n",
      "[#1] INFO:ObjectHandling -- RooWorkspace::import(w) importing RooRealVar::mgg\n",
      "[#1] INFO:ObjectHandling -- RooWorkspace::import(w) importing dataset genData\n",
      "[#1] INFO:ObjectHandling -- RooWorkSpace::import(w) changing name of dataset from  genData to template_bkg\n",
      "[#1] INFO:ObjectHandling -- RooWorkspace::import(w) importing dataset genData\n",
      "[#1] INFO:ObjectHandling -- RooWorkSpace::import(w) changing name of dataset from  genData to observed_data\n"
     ]
    }
   ],
   "source": [
    "w.import(*hist_sig,RooFit::Rename(\"template_sig\")) ;\n",
    "w.import(*hist_bkg,RooFit::Rename(\"template_bkg\")) ;\n",
    "w.import(*hist_data,RooFit::Rename(\"observed_data\")) ;"
   ]
  },
  {
   "cell_type": "markdown",
   "metadata": {},
   "source": [
    "Now build signal and background models \n",
    "\n",
    "Note that we build _functions_ here and not pdfs"
   ]
  },
  {
   "cell_type": "code",
   "execution_count": 7,
   "metadata": {},
   "outputs": [
    {
     "name": "stdout",
     "output_type": "stream",
     "text": [
      "[#1] INFO:ObjectHandling -- RooWorkspace::import(w) importing dataset template_sig\n",
      "[#1] INFO:ObjectHandling -- RooWorkspace::import(w) importing dataset template_bkg\n"
     ]
    }
   ],
   "source": [
    "w.factory(\"HistFunc::sig(mgg,template_sig)\") ;\n",
    "w.factory(\"HistFunc::bkg(mgg,template_bkg)\") ;"
   ]
  },
  {
   "cell_type": "markdown",
   "metadata": {},
   "source": [
    "Also not that we don't need to declare mgg here, its definition was imported when we imported the histograms\n",
    "\n",
    "\n",
    "\n",
    "Now construct a 'amplitude sum' probability model, defined asa\n",
    "$$        \n",
    "pdf(x) =\\frac{c_\\mathrm{sig} * \\mathrm{hist}_\\mathrm{sig}(x) +  c_\\mathrm{bkg} * \\mathrm{hist}_\\mathrm{bkg}(x)}{c_\\mathrm{sig} * \\mathrm{SUM}(\\mathrm{hist}_\\mathrm{sig}(x)) +  c_\\mathrm{bkg} * \\mathrm{SUM}(\\mathrm{hist}_\\mathrm{bkg}(x))}\n",
    "$$\n",
    "here $c_\\mathrm{sig}$ and $c_\\mathrm{bkg}$ are coefficients scaling the predictions of the template histograms. If the template histograms encode the nominal event yield, one expects both coefficients to fit to 1 if the data matches the prediction\n",
    " \n",
    "**NOTE**: *If the bin width is not equal to one then the event count of a histogram is not identical to the integral over a histogram. In RooFit the __integral__ over the histogram is taken as the yield prediction, whereas one usually, interprets the histogram event count as the prediction. The simplest way to correct for this is to multiply $c_\\mathrm{i}$ with a constant which is 1/binwidth*\n",
    " \n",
    "In this case we choose $c_\\mathrm{sig} = \\mu$ (as usual) and introduce a Bscale as a nuisance parameter that can freely scale the background"
   ]
  },
  {
   "cell_type": "code",
   "execution_count": 8,
   "metadata": {},
   "outputs": [
    {
     "name": "stdout",
     "output_type": "stream",
     "text": [
      "[#1] INFO:ObjectHandling -- RooWorkSpace::import(w) Recycling existing object binw created with identical factory specification\n"
     ]
    }
   ],
   "source": [
    "w.factory(\"binw[0.277]\") ; // == 1/(400-30)\n",
    "w.factory(\"expr::S('mu*binw',mu[1,-1,6],binw[0.277])\") ;\n",
    "w.factory(\"expr::B('Bscale*binw',Bscale[0,6],binw)\") ;\n",
    "w.factory(\"ASUM::model(S*sig,B*bkg)\") ;"
   ]
  },
  {
   "cell_type": "markdown",
   "metadata": {},
   "source": [
    "Fit the binned probability model to the binned data"
   ]
  },
  {
   "cell_type": "code",
   "execution_count": 9,
   "metadata": {},
   "outputs": [
    {
     "name": "stdout",
     "output_type": "stream",
     "text": [
      "[#1] INFO:Minization -- p.d.f. provides expected number of events, including extended term in likelihood.\n",
      "[#1] INFO:Minization -- createNLL: caching constraint set under name CONSTR_OF_PDF_model_FOR_OBS_mgg with 0 entries\n",
      "[#1] INFO:Minization -- RooMinimizer::optimizeConst: activating const optimization\n",
      "[#1] INFO:Minization --  The following expressions have been identified as constant and will be precalculated and cached: (sig,bkg)\n",
      " **********\n",
      " **    1 **SET PRINT           1\n",
      " **********\n",
      " **********\n",
      " **    2 **SET NOGRAD\n",
      " **********\n",
      " PARAMETER DEFINITIONS:\n",
      "    NO.   NAME         VALUE      STEP SIZE      LIMITS\n",
      "     1 Bscale       3.00000e+00  6.00000e-01    0.00000e+00  6.00000e+00\n",
      "     2 mu           1.00000e+00  7.00000e-01   -1.00000e+00  6.00000e+00\n",
      " **********\n",
      " **    3 **SET ERR         0.5\n",
      " **********\n",
      " **********\n",
      " **    4 **SET PRINT           1\n",
      " **********\n",
      " **********\n",
      " **    5 **SET STR           1\n",
      " **********\n",
      " NOW USING STRATEGY  1: TRY TO BALANCE SPEED AGAINST RELIABILITY\n",
      " **********\n",
      " **    6 **MIGRAD        1000           1\n",
      " **********\n",
      " FIRST CALL TO USER FUNCTION AT NEW START POINT, WITH IFLAG=4.\n",
      " START MIGRAD MINIMIZATION.  STRATEGY  1.  CONVERGENCE WHEN EDM .LT. 1.00e-03\n",
      " FCN=-18731 FROM MIGRAD    STATUS=INITIATE        6 CALLS           7 TOTAL\n",
      "                     EDM= unknown      STRATEGY= 1      NO ERROR MATRIX       \n",
      "  EXT PARAMETER               CURRENT GUESS       STEP         FIRST   \n",
      "  NO.   NAME      VALUE            ERROR          SIZE      DERIVATIVE \n",
      "   1  Bscale       3.00000e+00   6.00000e-01   2.01358e-01   1.98597e+04\n",
      "   2  mu           1.00000e+00   7.00000e-01   2.24553e-01   9.86124e+01\n",
      "                               ERR DEF= 0.5\n",
      " MIGRAD MINIMIZATION HAS CONVERGED.\n",
      " MIGRAD WILL VERIFY CONVERGENCE AND ERROR MATRIX.\n",
      " COVARIANCE MATRIX CALCULATED SUCCESSFULLY\n",
      " FCN=-27643.4 FROM MIGRAD    STATUS=CONVERGED      63 CALLS          64 TOTAL\n",
      "                     EDM=1.90326e-05    STRATEGY= 1      ERROR MATRIX ACCURATE \n",
      "  EXT PARAMETER                                   STEP         FIRST   \n",
      "  NO.   NAME      VALUE            ERROR          SIZE      DERIVATIVE \n",
      "   1  Bscale       1.00258e+00   1.02810e-02   5.15767e-04  -9.00358e-01\n",
      "   2  mu           1.54130e+00   4.86712e-01   1.62486e-02  -1.71092e-02\n",
      "                               ERR DEF= 0.5\n",
      " EXTERNAL ERROR MATRIX.    NDIM=  25    NPAR=  2    ERR DEF=0.5\n",
      "  1.057e-04 -1.035e-03 \n",
      " -1.035e-03  2.386e-01 \n",
      " PARAMETER  CORRELATION COEFFICIENTS  \n",
      "       NO.  GLOBAL      1      2\n",
      "        1  0.20612   1.000 -0.206\n",
      "        2  0.20612  -0.206  1.000\n",
      " **********\n",
      " **    7 **SET ERR         0.5\n",
      " **********\n",
      " **********\n",
      " **    8 **SET PRINT           1\n",
      " **********\n",
      " **********\n",
      " **    9 **HESSE        1000\n",
      " **********\n",
      " COVARIANCE MATRIX CALCULATED SUCCESSFULLY\n",
      " FCN=-27643.4 FROM HESSE     STATUS=OK             10 CALLS          74 TOTAL\n",
      "                     EDM=1.90282e-05    STRATEGY= 1      ERROR MATRIX ACCURATE \n",
      "  EXT PARAMETER                                INTERNAL      INTERNAL  \n",
      "  NO.   NAME      VALUE            ERROR       STEP SIZE       VALUE   \n",
      "   1  Bscale       1.00258e+00   1.02822e-02   1.03153e-04  -7.28574e-01\n",
      "   2  mu           1.54130e+00   4.86745e-01   3.24972e-03  -2.77461e-01\n",
      "                               ERR DEF= 0.5\n",
      " EXTERNAL ERROR MATRIX.    NDIM=  25    NPAR=  2    ERR DEF=0.5\n",
      "  1.057e-04 -1.038e-03 \n",
      " -1.038e-03  2.386e-01 \n",
      " PARAMETER  CORRELATION COEFFICIENTS  \n",
      "       NO.  GLOBAL      1      2\n",
      "        1  0.20664   1.000 -0.207\n",
      "        2  0.20664  -0.207  1.000\n",
      "[#1] INFO:Minization -- RooMinimizer::optimizeConst: deactivating const optimization\n",
      "[#1] INFO:Plotting -- RooAbsPdf::plotOn(model) directly selected PDF components: (bkg)\n",
      "[#1] INFO:Plotting -- RooAbsPdf::plotOn(model) indirectly selected PDF components: ()\n"
     ]
    },
    {
     "data": {
      "image/png": "[encoded data removed]",
      "text/plain": [
       "<IPython.core.display.Image object>"
      ]
     },
     "metadata": {},
     "output_type": "display_data"
    }
   ],
   "source": [
    "w.pdf(\"model\")->fitTo(*hist_data) ;\n",
    "TCanvas* c1 = new TCanvas();\n",
    "RooPlot* frame = w.var(\"mgg\")->frame() ;\n",
    "hist_data->plotOn(frame) ;\n",
    "w.pdf(\"model\")->plotOn(frame) ;\n",
    "w.pdf(\"model\")->plotOn(frame,RooFit::Components(\"bkg\"),RooFit::LineStyle(kDashed)) ;\n",
    "frame->Draw() ;\n",
    "c1->Draw();"
   ]
  },
  {
   "cell_type": "markdown",
   "metadata": {},
   "source": [
    "Now save the workspace with the data a modelconfig so that you can use RooStats to extract limits\n",
    "\n",
    "Create an empty ModelConfig"
   ]
  },
  {
   "cell_type": "code",
   "execution_count": 10,
   "metadata": {
    "collapsed": true
   },
   "outputs": [],
   "source": [
    "RooStats::ModelConfig mc(\"ModelConfig\",&w);"
   ]
  },
  {
   "cell_type": "markdown",
   "metadata": {},
   "source": [
    "Define the pdf, the parameter of interest and the observables"
   ]
  },
  {
   "cell_type": "code",
   "execution_count": 11,
   "metadata": {
    "collapsed": true
   },
   "outputs": [],
   "source": [
    "mc.SetPdf(*w.pdf(\"model\"));\n",
    "mc.SetParametersOfInterest(*w.var(\"mu\"));\n",
    "//mc.SetNuisanceParameters(RooArgSet(*w.var(\"mean\"),*w.var(\"width\"),*w.var(\"alpha\")));\n",
    "mc.SetNuisanceParameters(*w.var(\"Bscale\"));\n",
    "mc.SetObservables(*w.var(\"mgg\"));"
   ]
  },
  {
   "cell_type": "markdown",
   "metadata": {},
   "source": [
    "Define the current value $\\mu=1$ as an hypothesis "
   ]
  },
  {
   "cell_type": "code",
   "execution_count": 12,
   "metadata": {},
   "outputs": [
    {
     "name": "stdout",
     "output_type": "stream",
     "text": [
      "\n",
      "=== Using the following for ModelConfig ===\n",
      "Observables:             RooArgSet:: = (mgg)\n",
      "Parameters of Interest:  RooArgSet:: = (mu)\n",
      "Nuisance Parameters:     RooArgSet:: = (Bscale)\n",
      "PDF:                     RooRealSumPdf::model[ S * sig + B * bkg ] = 2.77715\n",
      "Snapshot:                \n",
      "  1) 0x7fe4dca0cd80 RooRealVar:: mu = 1 +/- 0.486745  L(-1 - 6)  \"mu\"\n",
      "\n"
     ]
    }
   ],
   "source": [
    "w.var(\"mu\")->setVal(1) ;\n",
    "mc.SetSnapshot(*w.var(\"mu\"));\n",
    "\n",
    "mc.Print();"
   ]
  },
  {
   "cell_type": "markdown",
   "metadata": {},
   "source": [
    "import model in the workspace"
   ]
  },
  {
   "cell_type": "code",
   "execution_count": 13,
   "metadata": {},
   "outputs": [],
   "source": [
    "w.import(mc);\n",
    "\n",
    "w.writeToFile(\"model.root\") ; "
   ]
  }
 ],
 "metadata": {
  "kernelspec": {
   "display_name": "ROOT C++",
   "language": "c++",
   "name": "root"
  },
  "language_info": {
   "codemirror_mode": "text/x-c++src",
   "file_extension": ".C",
   "mimetype": " text/x-c++src",
   "name": "c++"
  }
 },
 "nbformat": 4,
 "nbformat_minor": 2
}
