{
 "cells": [
  {
   "cell_type": "markdown",
   "metadata": {},
   "source": [
    "# Exploring Unbinned Workspaces"
   ]
  },
  {
   "cell_type": "code",
   "execution_count": 1,
   "metadata": {},
   "outputs": [
    {
     "name": "stdout",
     "output_type": "stream",
     "text": [
      "Welcome to JupyROOT 6.12/06\n"
     ]
    }
   ],
   "source": [
    "import ROOT\n",
    "%jsroot on"
   ]
  },
  {
   "cell_type": "markdown",
   "metadata": {},
   "source": [
    "Make an probability density function for a distribution in $m_{\\gamma\\gamma}$"
   ]
  },
  {
   "cell_type": "code",
   "execution_count": 2,
   "metadata": {},
   "outputs": [
    {
     "name": "stdout",
     "output_type": "stream",
     "text": [
      "\n",
      "\u001b[1mRooFit v3.60 -- Developed by Wouter Verkerke and David Kirkby\u001b[0m \n",
      "                Copyright (C) 2000-2013 NIKHEF, University of California & Stanford University\n",
      "                All rights reserved, please read http://roofit.sourceforge.net/license.txt\n",
      "\n"
     ]
    }
   ],
   "source": [
    "w = ROOT.RooWorkspace(\"w\")"
   ]
  },
  {
   "cell_type": "markdown",
   "metadata": {},
   "source": [
    "With an exponential distribution for the background and a Gaussian distribution for the signal, the Model is sum of signal and background"
   ]
  },
  {
   "cell_type": "code",
   "execution_count": 3,
   "metadata": {},
   "outputs": [
    {
     "data": {
      "text/plain": [
       "<ROOT.RooAddPdf object (\"model\") at 0x7b24a70>"
      ]
     },
     "execution_count": 3,
     "metadata": {},
     "output_type": "execute_result"
    }
   ],
   "source": [
    "w.factory(\"Exponential::bkg(mgg[40,400],alpha[-0.01,-10,0])\")\n",
    "w.factory(\"Gaussian::sig(mgg,mean[125,80,400],width[3,1,10])\")\n",
    "w.factory(\"SUM::model(fsig[0.02,0,1]*sig,bkg)\")"
   ]
  },
  {
   "cell_type": "markdown",
   "metadata": {},
   "source": [
    "Sample a toy unbinned toy dataset from the model  "
   ]
  },
  {
   "cell_type": "code",
   "execution_count": 4,
   "metadata": {
    "collapsed": true
   },
   "outputs": [],
   "source": [
    "data = w.pdf(\"model\").generate(ROOT.RooArgSet(w.var(\"mgg\")),10000)"
   ]
  },
  {
   "cell_type": "markdown",
   "metadata": {},
   "source": [
    "Fit model to toy data"
   ]
  },
  {
   "cell_type": "code",
   "execution_count": 5,
   "metadata": {},
   "outputs": [
    {
     "name": "stdout",
     "output_type": "stream",
     "text": [
      "[#1] INFO:Minization -- createNLL: caching constraint set under name CONSTR_OF_PDF_model_FOR_OBS_mgg with 0 entries\n",
      "[#1] INFO:Minization -- RooMinimizer::optimizeConst: activating const optimization\n",
      "[#1] INFO:Minization --  The following expressions will be evaluated in cache-and-track mode: (sig,bkg)\n",
      " **********\n",
      " **    1 **SET PRINT           1\n",
      " **********\n",
      " **********\n",
      " **    2 **SET NOGRAD\n",
      " **********\n",
      " PARAMETER DEFINITIONS:\n",
      "    NO.   NAME         VALUE      STEP SIZE      LIMITS\n",
      "     1 alpha       -1.00000e-02  5.00000e-03   -1.00000e+01  0.00000e+00\n",
      "     2 fsig         2.00000e-02  1.00000e-02    0.00000e+00  1.00000e+00\n",
      "     3 mean         1.25000e+02  2.25000e+01    8.00000e+01  4.00000e+02\n",
      "     4 width        3.00000e+00  9.00000e-01    1.00000e+00  1.00000e+01\n",
      " **********\n",
      " **    3 **SET ERR         0.5\n",
      " **********\n",
      " **********\n",
      " **    4 **SET PRINT           1\n",
      " **********\n",
      " **********\n",
      " **    5 **SET STR           1\n",
      " **********\n",
      " NOW USING STRATEGY  1: TRY TO BALANCE SPEED AGAINST RELIABILITY\n",
      " **********\n",
      " **    6 **MIGRAD        2000           1\n",
      " **********\n",
      " FIRST CALL TO USER FUNCTION AT NEW START POINT, WITH IFLAG=4.\n",
      " START MIGRAD MINIMIZATION.  STRATEGY  1.  CONVERGENCE WHEN EDM .LT. 1.00e-03\n",
      " FCN=54801.9 FROM MIGRAD    STATUS=INITIATE       16 CALLS          17 TOTAL\n",
      "                     EDM= unknown      STRATEGY= 1      NO ERROR MATRIX       \n",
      "  EXT PARAMETER               CURRENT GUESS       STEP         FIRST   \n",
      "  NO.   NAME      VALUE            ERROR          SIZE      DERIVATIVE \n",
      "   1  alpha       -1.00000e-02   5.00000e-03   1.63770e-02  -2.31705e+03\n",
      "   2  fsig         2.00000e-02   1.00000e-02   7.39156e-02   6.05703e+01\n",
      "   3  mean         1.25000e+02   2.25000e+01   2.08809e-01   2.32737e+01\n",
      "   4  width        3.00000e+00   9.00000e-01   2.46497e-01  -1.24322e+01\n",
      "                               ERR DEF= 0.5\n",
      " MIGRAD MINIMIZATION HAS CONVERGED.\n",
      " MIGRAD WILL VERIFY CONVERGENCE AND ERROR MATRIX.\n",
      " COVARIANCE MATRIX CALCULATED SUCCESSFULLY\n",
      " FCN=54799.7 FROM MIGRAD    STATUS=CONVERGED      85 CALLS          86 TOTAL\n",
      "                     EDM=5.51113e-05    STRATEGY= 1      ERROR MATRIX ACCURATE \n",
      "  EXT PARAMETER                                   STEP         FIRST   \n",
      "  NO.   NAME      VALUE            ERROR          SIZE      DERIVATIVE \n",
      "   1  alpha       -9.87840e-03   1.27121e-04   6.53683e-05  -4.90812e+00\n",
      "   2  fsig         2.06107e-02   3.68537e-03   3.45928e-03  -2.27381e-01\n",
      "   3  mean         1.24462e+02   8.59450e-01   1.20166e-03  -6.60832e-01\n",
      "   4  width        4.23109e+00   8.58196e-01   2.58810e-02   2.13891e-02\n",
      "                               ERR DEF= 0.5\n",
      " EXTERNAL ERROR MATRIX.    NDIM=  25    NPAR=  4    ERR DEF=0.5\n",
      "  1.616e-08  1.374e-08 -2.794e-06  2.490e-06 \n",
      "  1.374e-08  1.358e-05 -6.215e-04  1.788e-03 \n",
      " -2.794e-06 -6.215e-04  7.387e-01 -2.057e-01 \n",
      "  2.490e-06  1.788e-03 -2.057e-01  7.464e-01 \n",
      " PARAMETER  CORRELATION COEFFICIENTS  \n",
      "       NO.  GLOBAL      1      2      3      4\n",
      "        1  0.03577   1.000  0.029 -0.026  0.023\n",
      "        2  0.56331   0.029  1.000 -0.196  0.561\n",
      "        3  0.28197  -0.026 -0.196  1.000 -0.277\n",
      "        4  0.58674   0.023  0.561 -0.277  1.000\n",
      " **********\n",
      " **    7 **SET ERR         0.5\n",
      " **********\n",
      " **********\n",
      " **    8 **SET PRINT           1\n",
      " **********\n",
      " **********\n",
      " **    9 **HESSE        2000\n",
      " **********\n",
      " COVARIANCE MATRIX CALCULATED SUCCESSFULLY\n",
      " FCN=54799.7 FROM HESSE     STATUS=OK             23 CALLS         109 TOTAL\n",
      "                     EDM=5.63185e-05    STRATEGY= 1      ERROR MATRIX ACCURATE \n",
      "  EXT PARAMETER                                INTERNAL      INTERNAL  \n",
      "  NO.   NAME      VALUE            ERROR       STEP SIZE       VALUE   \n",
      "   1  alpha       -9.87840e-03   1.27123e-04   1.30737e-05   1.50793e+00\n",
      "   2  fsig         2.06107e-02   3.71454e-03   1.38371e-04  -1.28267e+00\n",
      "   3  mean         1.24462e+02   8.67484e-01   4.80665e-05  -8.06855e-01\n",
      "   4  width        4.23109e+00   8.71271e-01   1.03524e-03  -2.85858e-01\n",
      "                               ERR DEF= 0.5\n",
      " EXTERNAL ERROR MATRIX.    NDIM=  25    NPAR=  4    ERR DEF=0.5\n",
      "  1.616e-08  1.402e-08 -2.884e-06  2.643e-06 \n",
      "  1.402e-08  1.380e-05 -6.694e-04  1.863e-03 \n",
      " -2.884e-06 -6.694e-04  7.525e-01 -2.342e-01 \n",
      "  2.643e-06  1.863e-03 -2.342e-01  7.696e-01 \n",
      " PARAMETER  CORRELATION COEFFICIENTS  \n",
      "       NO.  GLOBAL      1      2      3      4\n",
      "        1  0.03621   1.000  0.030 -0.026  0.024\n",
      "        2  0.57272   0.030  1.000 -0.208  0.572\n",
      "        3  0.31075  -0.026 -0.208  1.000 -0.308\n",
      "        4  0.60334   0.024  0.572 -0.308  1.000\n",
      "[#1] INFO:Minization -- RooMinimizer::optimizeConst: deactivating const optimization\n"
     ]
    }
   ],
   "source": [
    "r = w.pdf(\"model\").fitTo(data,ROOT.RooFit.Save()) ;"
   ]
  },
  {
   "cell_type": "markdown",
   "metadata": {},
   "source": [
    "Visualize result"
   ]
  },
  {
   "cell_type": "code",
   "execution_count": 6,
   "metadata": {},
   "outputs": [
    {
     "data": {
      "text/plain": [
       "<ROOT.RooPlot object (\"frame_mgg_811d400\") at 0x811d400>"
      ]
     },
     "execution_count": 6,
     "metadata": {},
     "output_type": "execute_result"
    }
   ],
   "source": [
    "c1 = ROOT.TCanvas()\n",
    "frame = w.var(\"mgg\").frame()\n",
    "data.plotOn(frame)"
   ]
  },
  {
   "cell_type": "markdown",
   "metadata": {},
   "source": [
    "Note that model is probility density function: `int model(mgg) dmgg == 1 ` that makes no prediction on the observed event count.\n",
    "\n",
    "When plotting a probability density function on a frame that already contains a dataset will normalize the pdf projection to the event count of the dataset."
   ]
  },
  {
   "cell_type": "code",
   "execution_count": 7,
   "metadata": {},
   "outputs": [
    {
     "name": "stdout",
     "output_type": "stream",
     "text": [
      "[#1] INFO:Plotting -- RooAbsPdf::plotOn(model) directly selected PDF components: (bkg)\n",
      "[#1] INFO:Plotting -- RooAbsPdf::plotOn(model) indirectly selected PDF components: ()\n"
     ]
    },
    {
     "data": {
      "text/html": [
       "\n",
       "<div id=\"root_plot_1\"\n",
       "     style=\"width: 696px; height: 472px\">\n",
       "</div>\n",
       "\n",
       "<script>\n",
       " requirejs.config({\n",
       "     paths: {\n",
       "       'JSRootCore' : 'https://root.cern.ch/js/notebook//scripts/JSRootCore',\n",
       "     }\n",
       "   });\n",
       " require(['JSRootCore'],\n",
       "     function(Core) {\n",
       "       var obj = Core.JSONR_unref({\"_typename\":\"TCanvas\",\"fUniqueID\":0,\"fBits\":53673992,\"fLineColor\":1,\"fLineStyle\":1,\"fLineWidth\":1,\"fFillColor\":0,\"fFillStyle\":1001,\"fLeftMargin\":0.1,\"fRightMargin\":0.1,\"fBottomMargin\":0.1,\"fTopMargin\":0.1,\"fXfile\":2,\"fYfile\":2,\"fAfile\":1,\"fXstat\":0.99,\"fYstat\":0.99,\"fAstat\":2,\"fFrameFillColor\":0,\"fFrameLineColor\":1,\"fFrameFillStyle\":1001,\"fFrameLineStyle\":1,\"fFrameLineWidth\":1,\"fFrameBorderSize\":1,\"fFrameBorderMode\":0,\"fX1\":-5.00000335276147,\"fY1\":-49.2679180948191,\"fX2\":445.000003352762,\"fY2\":443.411233487405,\"fXtoAbsPixelk\":7.73338840370202,\"fXtoPixelk\":7.73338840370202,\"fXtoPixel\":1.54666664361954,\"fYtoAbsPixelk\":424.800047186661,\"fYtoPixelk\":424.800047186661,\"fYtoPixel\":-0.958027142987858,\"fUtoAbsPixelk\":5e-5,\"fUtoPixelk\":5e-5,\"fUtoPixel\":696,\"fVtoAbsPixelk\":472.00005,\"fVtoPixelk\":472,\"fVtoPixel\":-472,\"fAbsPixeltoXk\":-5.00000335276147,\"fPixeltoXk\":-5.00000335276147,\"fPixeltoX\":0.646551733772303,\"fAbsPixeltoYk\":443.411233487405,\"fPixeltoYk\":-49.2679180948191,\"fPixeltoY\":-1.04381176182675,\"fXlowNDC\":0,\"fYlowNDC\":0,\"fXUpNDC\":0,\"fYUpNDC\":0,\"fWNDC\":1,\"fHNDC\":1,\"fAbsXlowNDC\":0,\"fAbsYlowNDC\":0,\"fAbsWNDC\":1,\"fAbsHNDC\":1,\"fUxmin\":40,\"fUymin\":0,\"fUxmax\":400,\"fUymax\":394.143315392586,\"fTheta\":30,\"fPhi\":30,\"fAspectRatio\":0,\"fNumber\":0,\"fTickx\":0,\"fTicky\":0,\"fLogx\":0,\"fLogy\":0,\"fLogz\":0,\"fPadPaint\":0,\"fCrosshair\":0,\"fCrosshairPos\":0,\"fBorderSize\":2,\"fBorderMode\":0,\"fModified\":false,\"fGridx\":false,\"fGridy\":false,\"fAbsCoord\":false,\"fEditable\":true,\"fFixedAspectRatio\":false,\"fPrimitives\":{\"_typename\":\"TList\",\"name\":\"TList\",\"arr\":[{\"_typename\":\"TFrame\",\"fUniqueID\":0,\"fBits\":50331656,\"fLineColor\":1,\"fLineStyle\":1,\"fLineWidth\":1,\"fFillColor\":0,\"fFillStyle\":1001,\"fX1\":40,\"fY1\":0,\"fX2\":400,\"fY2\":394.143315392586,\"fBorderSize\":1,\"fBorderMode\":0},{\"_typename\":\"TH1D\",\"fUniqueID\":0,\"fBits\":50332168,\"fName\":\"frame_811d400\",\"fTitle\":\"A RooPlot of \\\"mgg\\\"\",\"fLineColor\":602,\"fLineStyle\":1,\"fLineWidth\":1,\"fFillColor\":0,\"fFillStyle\":1001,\"fMarkerColor\":1,\"fMarkerStyle\":1,\"fMarkerSize\":1,\"fNcells\":102,\"fXaxis\":{\"_typename\":\"TAxis\",\"fUniqueID\":0,\"fBits\":50331648,\"fName\":\"xaxis\",\"fTitle\":\"mgg\",\"fNdivisions\":510,\"fAxisColor\":1,\"fLabelColor\":1,\"fLabelFont\":42,\"fLabelOffset\":0.005,\"fLabelSize\":0.035,\"fTickLength\":0.03,\"fTitleOffset\":1,\"fTitleSize\":0.035,\"fTitleColor\":1,\"fTitleFont\":42,\"fNbins\":100,\"fXmin\":40,\"fXmax\":400,\"fXbins\":[],\"fFirst\":0,\"fLast\":0,\"fBits2\":0,\"fTimeDisplay\":false,\"fTimeFormat\":\"\",\"fLabels\":null,\"fModLabs\":null},\"fYaxis\":{\"_typename\":\"TAxis\",\"fUniqueID\":0,\"fBits\":50331648,\"fName\":\"yaxis\",\"fTitle\":\"Events \\/ ( 3.6 )\",\"fNdivisions\":510,\"fAxisColor\":1,\"fLabelColor\":1,\"fLabelFont\":42,\"fLabelOffset\":0.005,\"fLabelSize\":0.035,\"fTickLength\":0.03,\"fTitleOffset\":0,\"fTitleSize\":0.035,\"fTitleColor\":1,\"fTitleFont\":42,\"fNbins\":1,\"fXmin\":0,\"fXmax\":1,\"fXbins\":[],\"fFirst\":0,\"fLast\":0,\"fBits2\":0,\"fTimeDisplay\":false,\"fTimeFormat\":\"\",\"fLabels\":null,\"fModLabs\":null},\"fZaxis\":{\"_typename\":\"TAxis\",\"fUniqueID\":0,\"fBits\":50331648,\"fName\":\"zaxis\",\"fTitle\":\"\",\"fNdivisions\":510,\"fAxisColor\":1,\"fLabelColor\":1,\"fLabelFont\":42,\"fLabelOffset\":0.005,\"fLabelSize\":0.035,\"fTickLength\":0.03,\"fTitleOffset\":1,\"fTitleSize\":0.035,\"fTitleColor\":1,\"fTitleFont\":42,\"fNbins\":1,\"fXmin\":0,\"fXmax\":1,\"fXbins\":[],\"fFirst\":0,\"fLast\":0,\"fBits2\":0,\"fTimeDisplay\":false,\"fTimeFormat\":\"\",\"fLabels\":null,\"fModLabs\":null},\"fBarOffset\":0,\"fBarWidth\":1000,\"fEntries\":1,\"fTsumw\":0,\"fTsumw2\":0,\"fTsumwx\":0,\"fTsumwx2\":0,\"fMaximum\":394.143315392586,\"fMinimum\":-1111,\"fNormFactor\":0,\"fContour\":[],\"fSumw2\":[],\"fOption\":\"\",\"fFunctions\":{\"_typename\":\"TList\",\"name\":\"TList\",\"arr\":[],\"opt\":[]},\"fBufferSize\":0,\"fBuffer\":[],\"fBinStatErrOpt\":0,\"fArray\":[0,394.143315392586,0,0,0,0,0,0,0,0,0,0,0,0,0,0,0,0,0,0,0,0,0,0,0,0,0,0,0,0,0,0,0,0,0,0,0,0,0,0,0,0,0,0,0,0,0,0,0,0,0,0,0,0,0,0,0,0,0,0,0,0,0,0,0,0,0,0,0,0,0,0,0,0,0,0,0,0,0,0,0,0,0,0,0,0,0,0,0,0,0,0,0,0,0,0,0,0,0,0,0,0]},{\"_typename\":\"RooHist\",\"fUniqueID\":0,\"fBits\":50332680,\"fName\":\"h_modelData\",\"fTitle\":\"Histogram of modelData_plot__mgg\",\"fLineColor\":1,\"fLineStyle\":1,\"fLineWidth\":1,\"fFillColor\":0,\"fFillStyle\":1000,\"fMarkerColor\":1,\"fMarkerStyle\":8,\"fMarkerSize\":1,\"fNpoints\":100,\"fX\":[41.8,45.4,49,52.6,56.2,59.8,63.4,67,70.6,74.2,77.8,81.4,85,88.6,92.2,95.8,99.4,103,106.6,110.2,113.8,117.4,121,124.6,128.2,131.8,135.4,139,142.6,146.2,149.8,153.4,157,160.6,164.2,167.8,171.4,175,178.6,182.2,185.8,189.4,193,196.6,200.2,203.8,207.4,211,214.6,218.2,221.8,225.4,229,232.6,236.2,239.8,243.4,247,250.6,254.2,257.8,261.4,265,268.6,272.2,275.8,279.4,283,286.6,290.2,293.8,297.4,301,304.6,308.2,311.8,315.4,319,322.6,326.2,329.8,333.4,337,340.6,344.2,347.8,351.4,355,358.6,362.2,365.8,369.4,373,376.6,380.2,383.8,387.4,391,394.6,398.2],\"fY\":[340,356,322,323,263,279,264,299,273,255,271,259,217,229,226,213,183,193,160,184,183,201,186,242,188,159,137,151,139,147,123,119,125,100,98,96,97,85,100,88,75,78,79,73,82,75,75,69,59,55,67,64,48,40,65,51,50,49,39,45,38,34,31,39,44,28,43,27,37,27,24,26,29,22,30,19,25,26,19,21,22,22,18,15,15,15,15,17,14,9,19,18,15,11,16,7,13,16,13,10],\"fFunctions\":{\"_typename\":\"TList\",\"name\":\"TList\",\"arr\":[],\"opt\":[]},\"fHistogram\":{\"_typename\":\"TH1F\",\"fUniqueID\":0,\"fBits\":50332168,\"fName\":\"h_modelData\",\"fTitle\":\"Histogram of modelData_plot__mgg\",\"fLineColor\":602,\"fLineStyle\":1,\"fLineWidth\":1,\"fFillColor\":0,\"fFillStyle\":1001,\"fMarkerColor\":1,\"fMarkerStyle\":1,\"fMarkerSize\":1,\"fNcells\":102,\"fXaxis\":{\"_typename\":\"TAxis\",\"fUniqueID\":0,\"fBits\":50331648,\"fName\":\"xaxis\",\"fTitle\":\"\",\"fNdivisions\":510,\"fAxisColor\":1,\"fLabelColor\":1,\"fLabelFont\":42,\"fLabelOffset\":0.005,\"fLabelSize\":0.035,\"fTickLength\":0.03,\"fTitleOffset\":1,\"fTitleSize\":0.035,\"fTitleColor\":1,\"fTitleFont\":42,\"fNbins\":100,\"fXmin\":3.99999999999999,\"fXmax\":436,\"fXbins\":[],\"fFirst\":0,\"fLast\":0,\"fBits2\":0,\"fTimeDisplay\":false,\"fTimeFormat\":\"\",\"fLabels\":null,\"fModLabs\":null},\"fYaxis\":{\"_typename\":\"TAxis\",\"fUniqueID\":0,\"fBits\":50331648,\"fName\":\"yaxis\",\"fTitle\":\"\",\"fNdivisions\":510,\"fAxisColor\":1,\"fLabelColor\":1,\"fLabelFont\":42,\"fLabelOffset\":0.005,\"fLabelSize\":0.035,\"fTickLength\":0.03,\"fTitleOffset\":0,\"fTitleSize\":0.035,\"fTitleColor\":1,\"fTitleFont\":42,\"fNbins\":1,\"fXmin\":3.97667658954036,\"fXmax\":412.470191742601,\"fXbins\":[],\"fFirst\":0,\"fLast\":0,\"fBits2\":0,\"fTimeDisplay\":false,\"fTimeFormat\":\"\",\"fLabels\":null,\"fModLabs\":null},\"fZaxis\":{\"_typename\":\"TAxis\",\"fUniqueID\":0,\"fBits\":50331648,\"fName\":\"zaxis\",\"fTitle\":\"\",\"fNdivisions\":510,\"fAxisColor\":1,\"fLabelColor\":1,\"fLabelFont\":42,\"fLabelOffset\":0.005,\"fLabelSize\":0.035,\"fTickLength\":0.03,\"fTitleOffset\":1,\"fTitleSize\":0.035,\"fTitleColor\":1,\"fTitleFont\":42,\"fNbins\":1,\"fXmin\":0,\"fXmax\":1,\"fXbins\":[],\"fFirst\":0,\"fLast\":0,\"fBits2\":0,\"fTimeDisplay\":false,\"fTimeFormat\":\"\",\"fLabels\":null,\"fModLabs\":null},\"fBarOffset\":0,\"fBarWidth\":1000,\"fEntries\":0,\"fTsumw\":0,\"fTsumw2\":0,\"fTsumwx\":0,\"fTsumwx2\":0,\"fMaximum\":412.470191742601,\"fMinimum\":3.97667658954036,\"fNormFactor\":0,\"fContour\":[],\"fSumw2\":[],\"fOption\":\"\",\"fFunctions\":{\"_typename\":\"TList\",\"name\":\"TList\",\"arr\":[],\"opt\":[]},\"fBufferSize\":0,\"fBuffer\":[],\"fBinStatErrOpt\":0,\"fArray\":[0,0,0,0,0,0,0,0,0,0,0,0,0,0,0,0,0,0,0,0,0,0,0,0,0,0,0,0,0,0,0,0,0,0,0,0,0,0,0,0,0,0,0,0,0,0,0,0,0,0,0,0,0,0,0,0,0,0,0,0,0,0,0,0,0,0,0,0,0,0,0,0,0,0,0,0,0,0,0,0,0,0,0,0,0,0,0,0,0,0,0,0,0,0,0,0,0,0,0,0,0,0]},\"fMinimum\":-1111,\"fMaximum\":-1111,\"fEXlow\":[1.8,1.8,1.8,1.8,1.8,1.8,1.8,1.8,1.8,1.8,1.8,1.8,1.8,1.8,1.8,1.8,1.8,1.8,1.8,1.8,1.8,1.8,1.8,1.8,1.8,1.8,1.8,1.8,1.8,1.8,1.8,1.8,1.8,1.8,1.8,1.8,1.8,1.8,1.8,1.8,1.8,1.8,1.8,1.8,1.8,1.8,1.8,1.8,1.8,1.8,1.8,1.8,1.8,1.8,1.8,1.8,1.8,1.8,1.8,1.8,1.8,1.8,1.8,1.8,1.8,1.8,1.8,1.8,1.8,1.8,1.8,1.8,1.8,1.8,1.8,1.8,1.8,1.8,1.8,1.8,1.8,1.8,1.8,1.8,1.8,1.8,1.8,1.8,1.8,1.8,1.8,1.8,1.8,1.8,1.8,1.8,1.8,1.8,1.8,1.8],\"fEXhigh\":[1.8,1.8,1.8,1.8,1.8,1.8,1.8,1.8,1.8,1.8,1.8,1.8,1.8,1.8,1.8,1.8,1.8,1.8,1.8,1.8,1.8,1.8,1.8,1.8,1.8,1.8,1.8,1.8,1.8,1.8,1.8,1.8,1.8,1.8,1.8,1.8,1.8,1.8,1.8,1.8,1.8,1.8,1.8,1.8,1.8,1.8,1.8,1.8,1.8,1.8,1.8,1.8,1.8,1.8,1.8,1.8,1.8,1.8,1.8,1.8,1.8,1.8,1.8,1.8,1.8,1.8,1.8,1.8,1.8,1.8,1.8,1.8,1.8,1.8,1.8,1.8,1.8,1.8,1.8,1.8,1.8,1.8,1.8,1.8,1.8,1.8,1.8,1.8,1.8,1.8,1.8,1.8,1.8,1.8,1.8,1.8,1.8,1.8,1.8,1.8],\"fEYlow\":[17.9458667456967,18.3745860881769,17.4513230710162,17.4791545963652,15.7249807395879,16.2107749670684,15.7557682070089,16.7988438920062,16.0302752548166,15.4765453086705,15.9696690920006,15.6012421881046,14.2394029729837,14.6410039297267,14.5416089564913,14.1030818665102,13.0369863706809,13.4014387744579,12.1589889011722,13.0738719604982,13.0369863706809,13.6862609591111,13.1473440639562,15.0643824162734,13.2204227340122,12.119429464124,11.21537451386,11.7983738762488,11.3004237212059,11.6346610995116,10.6018016555873,10.4201648339208,10.6915146427997,9.98325482288658,9.88257890144722,9.78086674710336,9.83185435575356,9.20137410458447,9.98325482288658,9.36297523850129,8.64090341739966,8.81278816273145,8.86934285748457,8.52438828533727,9.03688356534234,8.64090341739966,8.64090341739966,8.28644443729726,7.65931221775091,7.39357955269438,8.16487252451125,7.97904223084961,6.90397923687425,6.29800017766426,8.04146283816711,7.11793294252879,7.04733682585609,6.97602630329686,6.21810171113267,6.68317934450653,6.13716310988257,5.80212840935486,5.53756532580577,6.21810171113267,6.6079399977078,5.25971089793461,6.53183400521367,5.16377123855587,6.05514266189532,5.16377123855587,4.86461220384528,5.06601492135562,5.35393156485154,4.65450239544497,5.44652245543606,4.32021937465496,4.96633466721007,5.06601492135562,4.32021937465496,4.54580699932335,4.65450239544497,4.65450239544497,4.20288721196007,3.82938009857506,3.82938009857506,3.82938009857506,3.82938009857506,4.08218389934171,3.69650031882412,2.94346103725076,4.32021937465496,4.20288721196007,3.82938009857506,3.26557940095131,3.95780102940381,2.58147045606626,3.5586623304375,3.95780102940381,3.5586623304375,3.10869443936164],\"fEYhigh\":[18.9458667456967,19.3745860881769,18.4513230710162,18.4791545963652,16.724980739588,17.2107749670684,16.7557682070089,17.7988438920062,17.0302752548166,16.4765453086704,16.9696690920006,16.6012421881046,15.2394029729837,15.6410039297267,15.5416089564913,15.1030818665102,14.0369863706809,14.4014387744579,13.1589889011722,14.0738719604982,14.0369863706809,14.6862609591111,14.1473440639562,16.0643824162734,14.2204227340122,13.119429464124,12.21537451386,12.7983738762488,12.300423721206,12.6346610995116,11.6018016555873,11.4201648339208,11.6915146427997,11.0333609411497,10.9331943741007,10.8320074139966,10.8827303945866,10.2557273468233,11.0333609411497,10.4163928307457,9.69877119773849,9.86953088054457,9.92572487310768,9.58304433699421,10.092223353418,9.69877119773849,9.69877119773849,9.34677864012718,8.72456484475691,8.46116562362432,9.22610161104724,9.04169148598145,7.97632992098288,7.37726075879658,9.1036277944182,8.18812173724121,8.1182246064733,8.04763434666193,7.29837245259718,7.75790450041968,7.21848358047952,6.88810053038505,6.62760123878468,7.29837245259718,7.683510071295,6.35444601200602,7.60827827535264,6.2602438465527,7.13755508118677,6.2602438465527,5.96693206711369,6.16432406860527,6.44701964227479,5.76136640411342,6.53804637266794,5.4351961614818,6.06658917312032,6.16432406860527,5.4351961614818,5.65518197118255,5.76136640411342,5.76136640411342,5.32100732238368,4.95873843272062,4.95873843272062,4.95873843272062,4.95873843272062,5.20371938988384,4.83038075568817,4.11020413766764,5.4351961614818,5.32100732238368,4.95873843272062,4.41652052316603,5.08306556401624,3.77028072043409,4.69757337260906,5.08306556401624,4.69757337260906,4.26694976100939],\"_yAxisLabel\":\"Events \\/ ( 3.6 )\",\"_ymin\":0,\"_ymax\":375.374586088177,\"_normValue\":0,\"_nominalBinWidth\":3.6,\"_nSigma\":1,\"_entries\":10000,\"_rawEntries\":-1},{\"_typename\":\"RooCurve\",\"fUniqueID\":0,\"fBits\":50332680,\"fName\":\"model_Norm[mgg]\",\"fTitle\":\"Projection of model\",\"fLineColor\":600,\"fLineStyle\":1,\"fLineWidth\":3,\"fFillColor\":0,\"fFillStyle\":1000,\"fMarkerColor\":1,\"fMarkerStyle\":1,\"fMarkerSize\":1,\"fNpoints\":125,\"fX\":[36.4,36.4,40,43.6,47.2,50.8,54.4,58,61.6,65.2,68.8,72.4,76,79.6,83.2,86.8,90.4,94,97.6,101.2,104.8,108.4,112,113.8,114.7,115.6,116.5,117.4,118.3,119.2,121,121.9,122.8,123.7,124.15,124.6,125.05,125.5,126.4,127.3,128.2,130,130.9,131.8,132.7,133.6,134.5,135.4,137.2,140.8,144.4,148,151.6,155.2,158.8,162.4,166,169.6,173.2,176.8,180.4,184,187.6,191.2,194.8,198.4,202,205.6,209.2,212.8,216.4,220,223.6,227.2,230.8,234.4,238,241.6,245.2,248.8,252.4,256,259.6,263.2,266.8,270.4,274,277.6,281.2,284.8,288.4,292,295.6,299.2,302.8,306.4,310,313.6,317.2,320.8,324.4,328,331.6,335.2,338.8,342.4,346,349.6,353.2,356.8,360.4,364,367.6,371.2,374.8,378.4,382,385.6,389.2,392.8,396.4,400,400,403.6,403.6],\"fY\":[0,358.527493835837,358.527493835837,346.001497765481,333.913126647888,322.247091032368,310.988635640929,300.123520705706,289.638003958411,279.518823249023,269.75317977173,260.328721876922,251.233529448739,242.456098828431,233.98532826446,225.810503870926,217.92128607658,210.307696547646,202.960105689044,195.869238969343,189.027502341341,182.473969238565,176.963270982877,175.870752934107,176.30223565598,177.702528904232,180.306617920511,184.281831789368,189.656530758629,196.251448803031,211.135034666221,217.892662257959,223.002718843514,225.669709925894,225.908747199214,225.368134601813,224.042732782094,221.95393431762,215.695808577233,207.216999033979,197.364936335416,177.071915516533,168.046098759322,160.319573114734,154.001222477905,149.01186564534,145.155924708599,142.189927545563,138.005468043709,132.498034182209,127.830926011844,123.36385008265,119.053832845496,114.894408823213,110.880304080194,107.006441469745,103.267921304911,99.6600150809837,96.1781594946234,92.8179506721574,89.5751385995347,86.4456217468797,83.4254418808504,80.5107790582391,77.6979467944836,74.9833874009769,72.3636674852799,69.8354736085441,67.3956080946522,65.0409849857772,62.768626139242,60.5756574607455,58.4593052691895,56.4168927885083,54.4458367620654,52.5436441853333,50.707909152725,48.9363098145892,47.2266054405197,45.5766335852648,43.9843073536522,42.4476127610711,40.9646061861704,39.5334119125546,38.1522197563648,36.8192827767466,35.5329150663081,34.2914896187727,33.0934362711315,31.9372397176906,30.8214375935026,29.7446186247578,28.7054208437961,27.7025298664811,26.7346772297587,25.8006387872968,24.8992331611766,24.0293202476789,23.1897997752724,22.3796099129841,21.597725927388,20.8431588865156,20.1149544090485,19.4121914572105,18.7339811718332,18.0794657481207,17.4478173506932,16.8382370665347,16.2499538945231,15.6822237702624,15.134328624986,14.605575477338,14.0952955568859,13.6028434582558,13.1275963248189,12.6689530608989,12.2263335715021,11.7991780286091,11.3869461631013,10.9891165814244,10.6051861061269,10.2346691394377,10.2346691394377,10.2346691394377,0],\"fFunctions\":{\"_typename\":\"TList\",\"name\":\"TList\",\"arr\":[],\"opt\":[]},\"fHistogram\":{\"_typename\":\"TH1F\",\"fUniqueID\":0,\"fBits\":50332168,\"fName\":\"model_Norm[mgg]\",\"fTitle\":\"Projection of model\",\"fLineColor\":602,\"fLineStyle\":1,\"fLineWidth\":1,\"fFillColor\":0,\"fFillStyle\":1001,\"fMarkerColor\":1,\"fMarkerStyle\":1,\"fMarkerSize\":1,\"fNcells\":127,\"fXaxis\":{\"_typename\":\"TAxis\",\"fUniqueID\":0,\"fBits\":50331648,\"fName\":\"xaxis\",\"fTitle\":\"\",\"fNdivisions\":510,\"fAxisColor\":1,\"fLabelColor\":1,\"fLabelFont\":42,\"fLabelOffset\":0.005,\"fLabelSize\":0.035,\"fTickLength\":0.03,\"fTitleOffset\":1,\"fTitleSize\":0.035,\"fTitleColor\":1,\"fTitleFont\":42,\"fNbins\":125,\"fXmin\":0,\"fXmax\":440.32,\"fXbins\":[],\"fFirst\":0,\"fLast\":0,\"fBits2\":0,\"fTimeDisplay\":false,\"fTimeFormat\":\"\",\"fLabels\":null,\"fModLabs\":null},\"fYaxis\":{\"_typename\":\"TAxis\",\"fUniqueID\":0,\"fBits\":50331648,\"fName\":\"yaxis\",\"fTitle\":\"\",\"fNdivisions\":510,\"fAxisColor\":1,\"fLabelColor\":1,\"fLabelFont\":42,\"fLabelOffset\":0.005,\"fLabelSize\":0.035,\"fTickLength\":0.03,\"fTitleOffset\":0,\"fTitleSize\":0.035,\"fTitleColor\":1,\"fTitleFont\":42,\"fNbins\":1,\"fXmin\":0,\"fXmax\":394.380243219421,\"fXbins\":[],\"fFirst\":0,\"fLast\":0,\"fBits2\":0,\"fTimeDisplay\":false,\"fTimeFormat\":\"\",\"fLabels\":null,\"fModLabs\":null},\"fZaxis\":{\"_typename\":\"TAxis\",\"fUniqueID\":0,\"fBits\":50331648,\"fName\":\"zaxis\",\"fTitle\":\"\",\"fNdivisions\":510,\"fAxisColor\":1,\"fLabelColor\":1,\"fLabelFont\":42,\"fLabelOffset\":0.005,\"fLabelSize\":0.035,\"fTickLength\":0.03,\"fTitleOffset\":1,\"fTitleSize\":0.035,\"fTitleColor\":1,\"fTitleFont\":42,\"fNbins\":1,\"fXmin\":0,\"fXmax\":1,\"fXbins\":[],\"fFirst\":0,\"fLast\":0,\"fBits2\":0,\"fTimeDisplay\":false,\"fTimeFormat\":\"\",\"fLabels\":null,\"fModLabs\":null},\"fBarOffset\":0,\"fBarWidth\":1000,\"fEntries\":0,\"fTsumw\":0,\"fTsumw2\":0,\"fTsumwx\":0,\"fTsumwx2\":0,\"fMaximum\":394.380243219421,\"fMinimum\":0,\"fNormFactor\":0,\"fContour\":[],\"fSumw2\":[],\"fOption\":\"\",\"fFunctions\":{\"_typename\":\"TList\",\"name\":\"TList\",\"arr\":[],\"opt\":[]},\"fBufferSize\":0,\"fBuffer\":[],\"fBinStatErrOpt\":0,\"fArray\":[0,0,0,0,0,0,0,0,0,0,0,0,0,0,0,0,0,0,0,0,0,0,0,0,0,0,0,0,0,0,0,0,0,0,0,0,0,0,0,0,0,0,0,0,0,0,0,0,0,0,0,0,0,0,0,0,0,0,0,0,0,0,0,0,0,0,0,0,0,0,0,0,0,0,0,0,0,0,0,0,0,0,0,0,0,0,0,0,0,0,0,0,0,0,0,0,0,0,0,0,0,0,0,0,0,0,0,0,0,0,0,0,0,0,0,0,0,0,0,0,0,0,0,0,0,0,0]},\"fMinimum\":-1111,\"fMaximum\":-1111,\"_yAxisLabel\":\"Projection of model\",\"_ymin\":0,\"_ymax\":358.527493835837,\"_normValue\":0},{\"_typename\":\"RooCurve\",\"fUniqueID\":0,\"fBits\":50332680,\"fName\":\"model_Norm[mgg]_Comp[bkg]\",\"fTitle\":\"Projection of model\",\"fLineColor\":600,\"fLineStyle\":2,\"fLineWidth\":3,\"fFillColor\":0,\"fFillStyle\":1000,\"fMarkerColor\":1,\"fMarkerStyle\":1,\"fMarkerSize\":1,\"fNpoints\":106,\"fX\":[36.4,36.4,40,43.6,47.2,50.8,54.4,58,61.6,65.2,68.8,72.4,76,79.6,83.2,86.8,90.4,94,97.6,101.2,104.8,108.4,112,115.6,119.2,122.8,126.4,130,133.6,137.2,140.8,144.4,148,151.6,155.2,158.8,162.4,166,169.6,173.2,176.8,180.4,184,187.6,191.2,194.8,198.4,202,205.6,209.2,212.8,216.4,220,223.6,227.2,230.8,234.4,238,241.6,245.2,248.8,252.4,256,259.6,263.2,266.8,270.4,274,277.6,281.2,284.8,288.4,292,295.6,299.2,302.8,306.4,310,313.6,317.2,320.8,324.4,328,331.6,335.2,338.8,342.4,346,349.6,353.2,356.8,360.4,364,367.6,371.2,374.8,378.4,382,385.6,389.2,392.8,396.4,400,400,403.6,403.6],\"fY\":[0,358.527493835837,358.527493835837,346.001497765481,333.913126647888,322.247091032368,310.988635640929,300.123520705706,289.638003958411,279.518823249023,269.75317977173,260.328721876922,251.233529448739,242.456098828431,233.98532826446,225.810503870926,217.921286076579,210.307696547258,202.960105565231,195.869219849467,189.026070801429,182.422003161535,176.048664061928,169.897992461716,163.962208951313,158.233805912991,152.705538025197,147.370413098624,142.221683232442,137.252836279508,132.457587609766,127.829872161398,123.363836769699,119.053832763956,114.894408822971,110.880304080194,107.006441469745,103.267921304911,99.6600150809837,96.1781594946234,92.8179506721574,89.5751385995347,86.4456217468797,83.4254418808504,80.5107790582391,77.6979467944836,74.9833874009769,72.3636674852799,69.8354736085441,67.3956080946522,65.0409849857772,62.768626139242,60.5756574607455,58.4593052691895,56.4168927885083,54.4458367620654,52.5436441853333,50.707909152725,48.9363098145892,47.2266054405197,45.5766335852648,43.9843073536522,42.4476127610711,40.9646061861704,39.5334119125546,38.1522197563648,36.8192827767466,35.5329150663081,34.2914896187727,33.0934362711315,31.9372397176906,30.8214375935026,29.7446186247578,28.7054208437961,27.7025298664811,26.7346772297587,25.8006387872968,24.8992331611766,24.0293202476789,23.1897997752724,22.3796099129841,21.597725927388,20.8431588865156,20.1149544090485,19.4121914572105,18.7339811718332,18.0794657481207,17.4478173506932,16.8382370665347,16.2499538945231,15.6822237702624,15.134328624986,14.605575477338,14.0952955568859,13.6028434582558,13.1275963248189,12.6689530608989,12.2263335715021,11.7991780286091,11.3869461631013,10.9891165814244,10.6051861061269,10.2346691394377,10.2346691394377,10.2346691394377,0],\"fFunctions\":{\"_typename\":\"TList\",\"name\":\"TList\",\"arr\":[],\"opt\":[]},\"fHistogram\":{\"_typename\":\"TH1F\",\"fUniqueID\":0,\"fBits\":50332168,\"fName\":\"model_Norm[mgg]_Comp[bkg]\",\"fTitle\":\"Projection of model\",\"fLineColor\":602,\"fLineStyle\":1,\"fLineWidth\":1,\"fFillColor\":0,\"fFillStyle\":1001,\"fMarkerColor\":1,\"fMarkerStyle\":1,\"fMarkerSize\":1,\"fNcells\":108,\"fXaxis\":{\"_typename\":\"TAxis\",\"fUniqueID\":0,\"fBits\":50331648,\"fName\":\"xaxis\",\"fTitle\":\"\",\"fNdivisions\":510,\"fAxisColor\":1,\"fLabelColor\":1,\"fLabelFont\":42,\"fLabelOffset\":0.005,\"fLabelSize\":0.035,\"fTickLength\":0.03,\"fTitleOffset\":1,\"fTitleSize\":0.035,\"fTitleColor\":1,\"fTitleFont\":42,\"fNbins\":106,\"fXmin\":0,\"fXmax\":440.32,\"fXbins\":[],\"fFirst\":0,\"fLast\":0,\"fBits2\":0,\"fTimeDisplay\":false,\"fTimeFormat\":\"\",\"fLabels\":null,\"fModLabs\":null},\"fYaxis\":{\"_typename\":\"TAxis\",\"fUniqueID\":0,\"fBits\":50331648,\"fName\":\"yaxis\",\"fTitle\":\"\",\"fNdivisions\":510,\"fAxisColor\":1,\"fLabelColor\":1,\"fLabelFont\":42,\"fLabelOffset\":0.005,\"fLabelSize\":0.035,\"fTickLength\":0.03,\"fTitleOffset\":0,\"fTitleSize\":0.035,\"fTitleColor\":1,\"fTitleFont\":42,\"fNbins\":1,\"fXmin\":0,\"fXmax\":394.380243219421,\"fXbins\":[],\"fFirst\":0,\"fLast\":0,\"fBits2\":0,\"fTimeDisplay\":false,\"fTimeFormat\":\"\",\"fLabels\":null,\"fModLabs\":null},\"fZaxis\":{\"_typename\":\"TAxis\",\"fUniqueID\":0,\"fBits\":50331648,\"fName\":\"zaxis\",\"fTitle\":\"\",\"fNdivisions\":510,\"fAxisColor\":1,\"fLabelColor\":1,\"fLabelFont\":42,\"fLabelOffset\":0.005,\"fLabelSize\":0.035,\"fTickLength\":0.03,\"fTitleOffset\":1,\"fTitleSize\":0.035,\"fTitleColor\":1,\"fTitleFont\":42,\"fNbins\":1,\"fXmin\":0,\"fXmax\":1,\"fXbins\":[],\"fFirst\":0,\"fLast\":0,\"fBits2\":0,\"fTimeDisplay\":false,\"fTimeFormat\":\"\",\"fLabels\":null,\"fModLabs\":null},\"fBarOffset\":0,\"fBarWidth\":1000,\"fEntries\":0,\"fTsumw\":0,\"fTsumw2\":0,\"fTsumwx\":0,\"fTsumwx2\":0,\"fMaximum\":394.380243219421,\"fMinimum\":0,\"fNormFactor\":0,\"fContour\":[],\"fSumw2\":[],\"fOption\":\"\",\"fFunctions\":{\"_typename\":\"TList\",\"name\":\"TList\",\"arr\":[],\"opt\":[]},\"fBufferSize\":0,\"fBuffer\":[],\"fBinStatErrOpt\":0,\"fArray\":[0,0,0,0,0,0,0,0,0,0,0,0,0,0,0,0,0,0,0,0,0,0,0,0,0,0,0,0,0,0,0,0,0,0,0,0,0,0,0,0,0,0,0,0,0,0,0,0,0,0,0,0,0,0,0,0,0,0,0,0,0,0,0,0,0,0,0,0,0,0,0,0,0,0,0,0,0,0,0,0,0,0,0,0,0,0,0,0,0,0,0,0,0,0,0,0,0,0,0,0,0,0,0,0,0,0,0,0]},\"fMinimum\":-1111,\"fMaximum\":-1111,\"_yAxisLabel\":\"Projection of model\",\"_ymin\":0,\"_ymax\":358.527493835837,\"_normValue\":0},{\"$ref\":3},{\"_typename\":\"TPaveText\",\"fUniqueID\":0,\"fBits\":50331657,\"fLineColor\":1,\"fLineStyle\":1,\"fLineWidth\":1,\"fFillColor\":0,\"fFillStyle\":0,\"fX1\":142.762929883561,\"fY1\":410.886061338161,\"fX2\":297.237070116439,\"fY2\":440.947840078771,\"fX1NDC\":0.328362068965517,\"fY1NDC\":0.933983055615829,\"fX2NDC\":0.671637931034483,\"fY2NDC\":0.995000004768372,\"fBorderSize\":0,\"fInit\":1,\"fShadowColor\":1,\"fCornerRadius\":0,\"fOption\":\"blNDC\",\"fName\":\"title\",\"fTextAngle\":0,\"fTextSize\":0,\"fTextAlign\":22,\"fTextColor\":1,\"fTextFont\":42,\"fLabel\":\"\",\"fLongest\":18,\"fMargin\":0.05,\"fLines\":{\"_typename\":\"TList\",\"name\":\"TList\",\"arr\":[{\"_typename\":\"TLatex\",\"fUniqueID\":0,\"fBits\":50331648,\"fName\":\"\",\"fTitle\":\"A RooPlot of \\\"mgg\\\"\",\"fTextAngle\":0,\"fTextSize\":0,\"fTextAlign\":0,\"fTextColor\":0,\"fTextFont\":0,\"fX\":0,\"fY\":0,\"fLineColor\":1,\"fLineStyle\":1,\"fLineWidth\":2,\"fLimitFactorSize\":3,\"fOriginSize\":0.0518644079566002}],\"opt\":[\"\"]}}],\"opt\":[\"\",\"FUNC\",\"p\",\"l\",\"l\",\"AXISSAME\",\"blNDC\"]},\"fExecs\":null,\"fName\":\"c1\",\"fTitle\":\"c1\",\"fNumPaletteColor\":0,\"fNextPaletteColor\":0,\"fDISPLAY\":\"$DISPLAY\",\"fDoubleBuffer\":0,\"fRetained\":true,\"fXsizeUser\":0,\"fYsizeUser\":0,\"fXsizeReal\":20,\"fYsizeReal\":14.28571,\"fWindowTopX\":0,\"fWindowTopY\":0,\"fWindowWidth\":0,\"fWindowHeight\":0,\"fCw\":696,\"fCh\":472,\"fCatt\":{\"_typename\":\"TAttCanvas\",\"fXBetween\":2,\"fYBetween\":2,\"fTitleFromTop\":1.2,\"fXdate\":0.2,\"fYdate\":0.3,\"fAdate\":1},\"kMoveOpaque\":true,\"kResizeOpaque\":true,\"fHighLightColor\":2,\"fBatch\":true,\"kShowEventStatus\":false,\"kAutoExec\":true,\"kMenuBar\":true});\n",
       "       Core.draw(\"root_plot_1\", obj, \"\");\n",
       "     }\n",
       " );\n",
       "</script>\n"
      ],
      "text/plain": [
       "<IPython.core.display.HTML object>"
      ]
     },
     "metadata": {},
     "output_type": "display_data"
    }
   ],
   "source": [
    "w.pdf(\"model\").plotOn(frame)\n",
    "\n",
    "# You can also highlight components of the fit as follows\n",
    "w.pdf(\"model\").plotOn(frame,ROOT.RooFit.Components(\"bkg\"),ROOT.RooFit.LineStyle(ROOT.kDashed))\n",
    "\n",
    "frame.Draw()\n",
    "c1.Draw()"
   ]
  },
  {
   "cell_type": "code",
   "execution_count": null,
   "metadata": {
    "collapsed": true
   },
   "outputs": [],
   "source": []
  }
 ],
 "metadata": {
  "kernelspec": {
   "display_name": "Python 2",
   "language": "python",
   "name": "python2"
  },
  "language_info": {
   "codemirror_mode": {
    "name": "ipython",
    "version": 2
   },
   "file_extension": ".py",
   "mimetype": "text/x-python",
   "name": "python",
   "nbconvert_exporter": "python",
   "pygments_lexer": "ipython2",
   "version": "2.7.13"
  }
 },
 "nbformat": 4,
 "nbformat_minor": 2
}
