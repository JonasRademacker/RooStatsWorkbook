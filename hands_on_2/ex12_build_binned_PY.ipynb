{
 "cells": [
  {
   "cell_type": "markdown",
   "metadata": {},
   "source": [
    "# Build workspace using histogram templates\n",
    "\n",
    "Build a binned likelihood model version of the ex11 example\n",
    " * construct a histogram template SH(mgg) with a prediction for the binned signal shape\n",
    " * construct a histogram template BH(mgg) with a prediction for the binned background shape\n",
    " * construct a probability model model(mgg) = SH(mgg) + BH(mgg)\n",
    "\n",
    "This model can be 'seen' in two ways\n",
    " 1. an extended probability model like ex11 that happen to have binned shapes, i.e.\n",
    "    * model($m_{\\gamma\\gamma}) = N_\\mathrm{sig}/N_\\mathrm{sig}+N_\\mathrm{bkg} * pdf_{\\mathrm{SH}(m_{\\gamma\\gamma})} +  N_\\mathrm{bkg}/N_\\mathrm{sig}+N_\\mathrm{bkg} * pdf_{\\mathrm{BH}(m_{\\gamma\\gamma})} $\n",
    "    * $P(N) = N_\\mathrm{sig} + N_\\mathrm{bkg}$\n",
    "    * where pdf_SH,pdf_BH are probability density functions that follow shape of the unit normalized histograms\n",
    " 2. A product of Poisson counting experiments for each bin\n",
    "    * model(vec_N) = Product(i=0..n-1) Poisson(N_i | S_i + B_i)\n",
    "    * where N_i i=0...N-1 == vec_N are the observed event counts in each bin and S_i and B_i are the predicted signal and background rate in each bin\n",
    "\n",
    "Both representations are mathematically equivalent, but expression (2) is in practice faster to calculate because it does not require a normalization calculation over pdf_SH and pdf_BH to happen. While for this very simple example it does not make a noticable difference because the normalization does not depend on any model parameters in scenarios where it does it will effectivelt double the calculation time"
   ]
  },
  {
   "cell_type": "code",
   "execution_count": 1,
   "metadata": {},
   "outputs": [
    {
     "name": "stdout",
     "output_type": "stream",
     "text": [
      "Welcome to JupyROOT 6.12/06\n"
     ]
    }
   ],
   "source": [
    "import ROOT\n",
    "%jsroot on"
   ]
  },
  {
   "cell_type": "markdown",
   "metadata": {},
   "source": [
    "## Construct simulation workspace to generate template histograms"
   ]
  },
  {
   "cell_type": "code",
   "execution_count": 2,
   "metadata": {},
   "outputs": [
    {
     "name": "stdout",
     "output_type": "stream",
     "text": [
      "\n",
      "\u001b[1mRooFit v3.60 -- Developed by Wouter Verkerke and David Kirkby\u001b[0m \n",
      "                Copyright (C) 2000-2013 NIKHEF, University of California & Stanford University\n",
      "                All rights reserved, please read http://roofit.sourceforge.net/license.txt\n",
      "\n"
     ]
    }
   ],
   "source": [
    "wsim = ROOT.RooWorkspace(\"wsim\")"
   ]
  },
  {
   "cell_type": "markdown",
   "metadata": {},
   "source": [
    "Generate two distributions, exponential distribution for the background, Gaussian distribution for the signal"
   ]
  },
  {
   "cell_type": "code",
   "execution_count": 3,
   "metadata": {},
   "outputs": [],
   "source": [
    "wsim.factory(\"Exponential::bkg(mgg[40,400],alpha[-0.01,-10,0])\")\n",
    "wsim.factory(\"Gaussian::sig(mgg,mean[125,80,400],width[3,1,10])\")\n",
    "\n",
    "hist_sig = wsim.pdf(\"sig\").generateBinned(ROOT.RooArgSet(wsim.var(\"mgg\")),50)\n",
    "hist_bkg = wsim.pdf(\"bkg\").generateBinned(ROOT.RooArgSet(wsim.var(\"mgg\")),10000)"
   ]
  },
  {
   "cell_type": "markdown",
   "metadata": {},
   "source": [
    "Mock data distribution with mu=1.5"
   ]
  },
  {
   "cell_type": "code",
   "execution_count": 4,
   "metadata": {},
   "outputs": [
    {
     "data": {
      "text/plain": [
       "<ROOT.RooAddPdf object (\"model\") at 0x8bd7520>"
      ]
     },
     "execution_count": 4,
     "metadata": {},
     "output_type": "execute_result"
    }
   ],
   "source": [
    "wsim.factory(\"expr::S('mu*Snom',mu[1.5],Snom[50])\") \n",
    "wsim.factory(\"SUM::model(S*sig,Bnom[10000]*bkg)\")"
   ]
  },
  {
   "cell_type": "markdown",
   "metadata": {},
   "source": [
    "Given that the sum is an extended model, no speficiation of the event count is needed"
   ]
  },
  {
   "cell_type": "code",
   "execution_count": 5,
   "metadata": {
    "collapsed": true
   },
   "outputs": [],
   "source": [
    "hist_data = wsim.pdf(\"model\").generateBinned(ROOT.RooArgSet(wsim.var(\"mgg\")))"
   ]
  },
  {
   "cell_type": "markdown",
   "metadata": {},
   "source": [
    "### Set up binned likelihood model"
   ]
  },
  {
   "cell_type": "code",
   "execution_count": 6,
   "metadata": {
    "collapsed": true
   },
   "outputs": [],
   "source": [
    "w = ROOT.RooWorkspace(\"w\")"
   ]
  },
  {
   "cell_type": "markdown",
   "metadata": {},
   "source": [
    "First Import template and mock data histograms"
   ]
  },
  {
   "cell_type": "code",
   "execution_count": 7,
   "metadata": {},
   "outputs": [
    {
     "data": {
      "text/plain": [
       "False"
      ]
     },
     "execution_count": 7,
     "metadata": {},
     "output_type": "execute_result"
    },
    {
     "name": "stdout",
     "output_type": "stream",
     "text": [
      "[#1] INFO:ObjectHandling -- RooWorkspace::import(w) importing dataset genData\n",
      "[#1] INFO:ObjectHandling -- RooWorkSpace::import(w) changing name of dataset from  genData to template_sig\n",
      "[#1] INFO:ObjectHandling -- RooWorkspace::import(w) importing RooRealVar::mgg\n",
      "[#1] INFO:ObjectHandling -- RooWorkspace::import(w) importing dataset genData\n",
      "[#1] INFO:ObjectHandling -- RooWorkSpace::import(w) changing name of dataset from  genData to template_bkg\n",
      "[#1] INFO:ObjectHandling -- RooWorkspace::import(w) importing dataset genData\n",
      "[#1] INFO:ObjectHandling -- RooWorkSpace::import(w) changing name of dataset from  genData to observed_data\n"
     ]
    }
   ],
   "source": [
    "getattr(w,'import')(hist_sig,ROOT.RooFit.Rename(\"template_sig\"))\n",
    "getattr(w,'import')(hist_bkg,ROOT.RooFit.Rename(\"template_bkg\"))\n",
    "getattr(w,'import')(hist_data,ROOT.RooFit.Rename(\"observed_data\"))"
   ]
  },
  {
   "cell_type": "markdown",
   "metadata": {},
   "source": [
    "Now build signal and background models \n",
    "\n",
    "Note that we build _functions_ here and not pdfs"
   ]
  },
  {
   "cell_type": "code",
   "execution_count": 8,
   "metadata": {},
   "outputs": [
    {
     "data": {
      "text/plain": [
       "<ROOT.RooHistFunc object (\"bkg\") at 0x8d0c8b0>"
      ]
     },
     "execution_count": 8,
     "metadata": {},
     "output_type": "execute_result"
    },
    {
     "name": "stdout",
     "output_type": "stream",
     "text": [
      "[#1] INFO:ObjectHandling -- RooWorkspace::import(w) importing dataset template_sig\n",
      "[#1] INFO:ObjectHandling -- RooWorkspace::import(w) importing dataset template_bkg\n"
     ]
    }
   ],
   "source": [
    "w.factory(\"HistFunc::sig(mgg,template_sig)\") \n",
    "w.factory(\"HistFunc::bkg(mgg,template_bkg)\")"
   ]
  },
  {
   "cell_type": "markdown",
   "metadata": {},
   "source": [
    "Also not that we don't need to declare mgg here, its definition was imported when we imported the histograms\n",
    "\n",
    "\n",
    "\n",
    "Now construct a 'amplitude sum' probability model, defined asa\n",
    "$$        \n",
    "pdf(x) =\\frac{c_\\mathrm{sig} * \\mathrm{hist}_\\mathrm{sig}(x) +  c_\\mathrm{bkg} * \\mathrm{hist}_\\mathrm{bkg}(x)}{c_\\mathrm{sig} * \\mathrm{SUM}(\\mathrm{hist}_\\mathrm{sig}(x)) +  c_\\mathrm{bkg} * \\mathrm{SUM}(\\mathrm{hist}_\\mathrm{bkg}(x))}\n",
    "$$\n",
    "here $c_\\mathrm{sig}$ and $c_\\mathrm{bkg}$ are coefficients scaling the predictions of the template histograms. If the template histograms encode the nominal event yield, one expects both coefficients to fit to 1 if the data matches the prediction\n",
    " \n",
    "**NOTE**: *If the bin width is not equal to one then the event count of a histogram is not identical to the integral over a histogram. In RooFit the __integral__ over the histogram is taken as the yield prediction, whereas one usually, interprets the histogram event count as the prediction. The simplest way to correct for this is to multiply $c_\\mathrm{i}$ with a constant which is 1/binwidth*\n",
    " \n",
    "In this case we choose $c_\\mathrm{sig} = \\mu$ (as usual) and introduce a Bscale as a nuisance parameter that can freely scale the background"
   ]
  },
  {
   "cell_type": "code",
   "execution_count": 9,
   "metadata": {},
   "outputs": [
    {
     "data": {
      "text/plain": [
       "<ROOT.RooRealSumPdf object (\"model\") at 0x8d3dcf0>"
      ]
     },
     "execution_count": 9,
     "metadata": {},
     "output_type": "execute_result"
    },
    {
     "name": "stdout",
     "output_type": "stream",
     "text": [
      "[#1] INFO:ObjectHandling -- RooWorkSpace::import(w) Recycling existing object binw created with identical factory specification\n"
     ]
    }
   ],
   "source": [
    "w.factory(\"binw[0.277]\") # == 1/(400-30)\n",
    "w.factory(\"expr::S('mu*binw',mu[1,-1,6],binw[0.277])\") \n",
    "w.factory(\"expr::B('Bscale*binw',Bscale[0,6],binw)\") \n",
    "w.factory(\"ASUM::model(S*sig,B*bkg)\") "
   ]
  },
  {
   "cell_type": "markdown",
   "metadata": {},
   "source": [
    "Fit the binned probability model to the binned data"
   ]
  },
  {
   "cell_type": "code",
   "execution_count": 10,
   "metadata": {},
   "outputs": [
    {
     "name": "stdout",
     "output_type": "stream",
     "text": [
      "[#1] INFO:Minization -- p.d.f. provides expected number of events, including extended term in likelihood.\n",
      "[#1] INFO:Minization -- createNLL: caching constraint set under name CONSTR_OF_PDF_model_FOR_OBS_mgg with 0 entries\n",
      "[#1] INFO:Minization -- RooMinimizer::optimizeConst: activating const optimization\n",
      "[#1] INFO:Minization --  The following expressions have been identified as constant and will be precalculated and cached: (sig,bkg)\n",
      " **********\n",
      " **    1 **SET PRINT           1\n",
      " **********\n",
      " **********\n",
      " **    2 **SET NOGRAD\n",
      " **********\n",
      " PARAMETER DEFINITIONS:\n",
      "    NO.   NAME         VALUE      STEP SIZE      LIMITS\n",
      "     1 Bscale       3.00000e+00  6.00000e-01    0.00000e+00  6.00000e+00\n",
      "     2 mu           1.00000e+00  7.00000e-01   -1.00000e+00  6.00000e+00\n",
      " **********\n",
      " **    3 **SET ERR         0.5\n",
      " **********\n",
      " **********\n",
      " **    4 **SET PRINT           1\n",
      " **********\n",
      " **********\n",
      " **    5 **SET STR           1\n",
      " **********\n",
      " NOW USING STRATEGY  1: TRY TO BALANCE SPEED AGAINST RELIABILITY\n",
      " **********\n",
      " **    6 **MIGRAD        1000           1\n",
      " **********\n",
      " FIRST CALL TO USER FUNCTION AT NEW START POINT, WITH IFLAG=4.\n",
      " START MIGRAD MINIMIZATION.  STRATEGY  1.  CONVERGENCE WHEN EDM .LT. 1.00e-03\n",
      " FCN=-18731 FROM MIGRAD    STATUS=INITIATE        6 CALLS           7 TOTAL\n",
      "                     EDM= unknown      STRATEGY= 1      NO ERROR MATRIX       \n",
      "  EXT PARAMETER               CURRENT GUESS       STEP         FIRST   \n",
      "  NO.   NAME      VALUE            ERROR          SIZE      DERIVATIVE \n",
      "   1  Bscale       3.00000e+00   6.00000e-01   2.01358e-01   1.98597e+04\n",
      "   2  mu           1.00000e+00   7.00000e-01   2.24553e-01   9.86124e+01\n",
      "                               ERR DEF= 0.5\n",
      " MIGRAD MINIMIZATION HAS CONVERGED.\n",
      " MIGRAD WILL VERIFY CONVERGENCE AND ERROR MATRIX.\n",
      " COVARIANCE MATRIX CALCULATED SUCCESSFULLY\n",
      " FCN=-27643.4 FROM MIGRAD    STATUS=CONVERGED      63 CALLS          64 TOTAL\n",
      "                     EDM=1.90326e-05    STRATEGY= 1      ERROR MATRIX ACCURATE \n",
      "  EXT PARAMETER                                   STEP         FIRST   \n",
      "  NO.   NAME      VALUE            ERROR          SIZE      DERIVATIVE \n",
      "   1  Bscale       1.00258e+00   1.02810e-02   5.15767e-04  -9.00358e-01\n",
      "   2  mu           1.54130e+00   4.86712e-01   1.62486e-02  -1.71092e-02\n",
      "                               ERR DEF= 0.5\n",
      " EXTERNAL ERROR MATRIX.    NDIM=  25    NPAR=  2    ERR DEF=0.5\n",
      "  1.057e-04 -1.035e-03 \n",
      " -1.035e-03  2.386e-01 \n",
      " PARAMETER  CORRELATION COEFFICIENTS  \n",
      "       NO.  GLOBAL      1      2\n",
      "        1  0.20612   1.000 -0.206\n",
      "        2  0.20612  -0.206  1.000\n",
      " **********\n",
      " **    7 **SET ERR         0.5\n",
      " **********\n",
      " **********\n",
      " **    8 **SET PRINT           1\n",
      " **********\n",
      " **********\n",
      " **    9 **HESSE        1000\n",
      " **********\n",
      " COVARIANCE MATRIX CALCULATED SUCCESSFULLY\n",
      " FCN=-27643.4 FROM HESSE     STATUS=OK             10 CALLS          74 TOTAL\n",
      "                     EDM=1.90282e-05    STRATEGY= 1      ERROR MATRIX ACCURATE \n",
      "  EXT PARAMETER                                INTERNAL      INTERNAL  \n",
      "  NO.   NAME      VALUE            ERROR       STEP SIZE       VALUE   \n",
      "   1  Bscale       1.00258e+00   1.02822e-02   1.03153e-04  -7.28574e-01\n",
      "   2  mu           1.54130e+00   4.86745e-01   3.24972e-03  -2.77461e-01\n",
      "                               ERR DEF= 0.5\n",
      " EXTERNAL ERROR MATRIX.    NDIM=  25    NPAR=  2    ERR DEF=0.5\n",
      "  1.057e-04 -1.038e-03 \n",
      " -1.038e-03  2.386e-01 \n",
      " PARAMETER  CORRELATION COEFFICIENTS  \n",
      "       NO.  GLOBAL      1      2\n",
      "        1  0.20664   1.000 -0.207\n",
      "        2  0.20664  -0.207  1.000\n",
      "[#1] INFO:Minization -- RooMinimizer::optimizeConst: deactivating const optimization\n",
      "[#1] INFO:Plotting -- RooAbsPdf::plotOn(model) directly selected PDF components: (bkg)\n",
      "[#1] INFO:Plotting -- RooAbsPdf::plotOn(model) indirectly selected PDF components: ()\n"
     ]
    },
    {
     "data": {
      "text/html": [
       "\n",
       "<div id=\"root_plot_1\"\n",
       "     style=\"width: 696px; height: 472px\">\n",
       "</div>\n",
       "\n",
       "<script>\n",
       " requirejs.config({\n",
       "     paths: {\n",
       "       'JSRootCore' : 'https://root.cern.ch/js/notebook//scripts/JSRootCore',\n",
       "     }\n",
       "   });\n",
       " require(['JSRootCore'],\n",
       "     function(Core) {\n",
       "       var obj = Core.JSONR_unref({\"_typename\":\"TCanvas\",\"fUniqueID\":0,\"fBits\":53673992,\"fLineColor\":1,\"fLineStyle\":1,\"fLineWidth\":1,\"fFillColor\":0,\"fFillStyle\":1001,\"fLeftMargin\":0.1,\"fRightMargin\":0.1,\"fBottomMargin\":0.1,\"fTopMargin\":0.1,\"fXfile\":2,\"fYfile\":2,\"fAfile\":1,\"fXstat\":0.99,\"fYstat\":0.99,\"fAstat\":2,\"fFrameFillColor\":0,\"fFrameLineColor\":1,\"fFrameFillStyle\":1001,\"fFrameLineStyle\":1,\"fFrameLineWidth\":1,\"fFrameBorderSize\":1,\"fFrameBorderMode\":0,\"fX1\":-5.00000335276147,\"fY1\":-52.3653863013825,\"fX2\":445.000003352762,\"fY2\":471.288445500241,\"fXtoAbsPixelk\":7.73338840370202,\"fXtoPixelk\":7.73338840370202,\"fXtoPixel\":1.54666664361954,\"fYtoAbsPixelk\":424.800047186661,\"fYtoPixelk\":424.800047186661,\"fYtoPixel\":-0.901358820150501,\"fUtoAbsPixelk\":5e-5,\"fUtoPixelk\":5e-5,\"fUtoPixel\":696,\"fVtoAbsPixelk\":472.00005,\"fVtoPixelk\":472,\"fVtoPixel\":-472,\"fAbsPixeltoXk\":-5.00000335276147,\"fPixeltoXk\":-5.00000335276147,\"fPixeltoX\":0.646551733772303,\"fAbsPixeltoYk\":471.288445500241,\"fPixeltoYk\":-52.3653863013825,\"fPixeltoY\":-1.10943608432547,\"fXlowNDC\":0,\"fYlowNDC\":0,\"fXUpNDC\":0,\"fYUpNDC\":0,\"fWNDC\":1,\"fHNDC\":1,\"fAbsXlowNDC\":0,\"fAbsYlowNDC\":0,\"fAbsWNDC\":1,\"fAbsHNDC\":1,\"fUxmin\":40,\"fUymin\":0,\"fUxmax\":400,\"fUymax\":418.923059198858,\"fTheta\":30,\"fPhi\":30,\"fAspectRatio\":0,\"fNumber\":0,\"fTickx\":0,\"fTicky\":0,\"fLogx\":0,\"fLogy\":0,\"fLogz\":0,\"fPadPaint\":0,\"fCrosshair\":0,\"fCrosshairPos\":0,\"fBorderSize\":2,\"fBorderMode\":0,\"fModified\":false,\"fGridx\":false,\"fGridy\":false,\"fAbsCoord\":false,\"fEditable\":true,\"fFixedAspectRatio\":false,\"fPrimitives\":{\"_typename\":\"TList\",\"name\":\"TList\",\"arr\":[{\"_typename\":\"TFrame\",\"fUniqueID\":0,\"fBits\":50331656,\"fLineColor\":1,\"fLineStyle\":1,\"fLineWidth\":1,\"fFillColor\":0,\"fFillStyle\":1001,\"fX1\":40,\"fY1\":0,\"fX2\":400,\"fY2\":418.923059198858,\"fBorderSize\":1,\"fBorderMode\":0},{\"_typename\":\"TH1D\",\"fUniqueID\":0,\"fBits\":50332168,\"fName\":\"frame_8fa8ff0\",\"fTitle\":\"A RooPlot of \\\"mgg\\\"\",\"fLineColor\":602,\"fLineStyle\":1,\"fLineWidth\":1,\"fFillColor\":0,\"fFillStyle\":1001,\"fMarkerColor\":1,\"fMarkerStyle\":1,\"fMarkerSize\":1,\"fNcells\":102,\"fXaxis\":{\"_typename\":\"TAxis\",\"fUniqueID\":0,\"fBits\":50331648,\"fName\":\"xaxis\",\"fTitle\":\"mgg\",\"fNdivisions\":510,\"fAxisColor\":1,\"fLabelColor\":1,\"fLabelFont\":42,\"fLabelOffset\":0.005,\"fLabelSize\":0.035,\"fTickLength\":0.03,\"fTitleOffset\":1,\"fTitleSize\":0.035,\"fTitleColor\":1,\"fTitleFont\":42,\"fNbins\":100,\"fXmin\":40,\"fXmax\":400,\"fXbins\":[],\"fFirst\":0,\"fLast\":0,\"fBits2\":0,\"fTimeDisplay\":false,\"fTimeFormat\":\"\",\"fLabels\":null,\"fModLabs\":null},\"fYaxis\":{\"_typename\":\"TAxis\",\"fUniqueID\":0,\"fBits\":50331648,\"fName\":\"yaxis\",\"fTitle\":\"Events \\/ ( 3.6 )\",\"fNdivisions\":510,\"fAxisColor\":1,\"fLabelColor\":1,\"fLabelFont\":42,\"fLabelOffset\":0.005,\"fLabelSize\":0.035,\"fTickLength\":0.03,\"fTitleOffset\":0,\"fTitleSize\":0.035,\"fTitleColor\":1,\"fTitleFont\":42,\"fNbins\":1,\"fXmin\":0,\"fXmax\":1,\"fXbins\":[],\"fFirst\":0,\"fLast\":0,\"fBits2\":0,\"fTimeDisplay\":false,\"fTimeFormat\":\"\",\"fLabels\":null,\"fModLabs\":null},\"fZaxis\":{\"_typename\":\"TAxis\",\"fUniqueID\":0,\"fBits\":50331648,\"fName\":\"zaxis\",\"fTitle\":\"\",\"fNdivisions\":510,\"fAxisColor\":1,\"fLabelColor\":1,\"fLabelFont\":42,\"fLabelOffset\":0.005,\"fLabelSize\":0.035,\"fTickLength\":0.03,\"fTitleOffset\":1,\"fTitleSize\":0.035,\"fTitleColor\":1,\"fTitleFont\":42,\"fNbins\":1,\"fXmin\":0,\"fXmax\":1,\"fXbins\":[],\"fFirst\":0,\"fLast\":0,\"fBits2\":0,\"fTimeDisplay\":false,\"fTimeFormat\":\"\",\"fLabels\":null,\"fModLabs\":null},\"fBarOffset\":0,\"fBarWidth\":1000,\"fEntries\":1,\"fTsumw\":0,\"fTsumw2\":0,\"fTsumwx\":0,\"fTsumwx2\":0,\"fMaximum\":418.923059198858,\"fMinimum\":-1111,\"fNormFactor\":0,\"fContour\":[],\"fSumw2\":[],\"fOption\":\"\",\"fFunctions\":{\"_typename\":\"TList\",\"name\":\"TList\",\"arr\":[],\"opt\":[]},\"fBufferSize\":0,\"fBuffer\":[],\"fBinStatErrOpt\":0,\"fArray\":[0,418.923059198858,0,0,0,0,0,0,0,0,0,0,0,0,0,0,0,0,0,0,0,0,0,0,0,0,0,0,0,0,0,0,0,0,0,0,0,0,0,0,0,0,0,0,0,0,0,0,0,0,0,0,0,0,0,0,0,0,0,0,0,0,0,0,0,0,0,0,0,0,0,0,0,0,0,0,0,0,0,0,0,0,0,0,0,0,0,0,0,0,0,0,0,0,0,0,0,0,0,0,0,0]},{\"_typename\":\"RooHist\",\"fUniqueID\":0,\"fBits\":50332680,\"fName\":\"h_genData\",\"fTitle\":\"Histogram of genData_plot__mgg\",\"fLineColor\":1,\"fLineStyle\":1,\"fLineWidth\":1,\"fFillColor\":0,\"fFillStyle\":1000,\"fMarkerColor\":1,\"fMarkerStyle\":8,\"fMarkerSize\":1,\"fNpoints\":100,\"fX\":[41.8,45.4,49,52.6,56.2,59.8,63.4,67,70.6,74.2,77.8,81.4,85,88.6,92.2,95.8,99.4,103,106.6,110.2,113.8,117.4,121,124.6,128.2,131.8,135.4,139,142.6,146.2,149.8,153.4,157,160.6,164.2,167.8,171.4,175,178.6,182.2,185.8,189.4,193,196.6,200.2,203.8,207.4,211,214.6,218.2,221.8,225.4,229,232.6,236.2,239.8,243.4,247,250.6,254.2,257.8,261.4,265,268.6,272.2,275.8,279.4,283,286.6,290.2,293.8,297.4,301,304.6,308.2,311.8,315.4,319,322.6,326.2,329.8,333.4,337,340.6,344.2,347.8,351.4,355,358.6,362.2,365.8,369.4,373,376.6,380.2,383.8,387.4,391,394.6,398.2],\"fY\":[350,379,355,324,309,321,307,253,287,264,247,257,239,230,199,201,193,198,213,170,166,185,194,192,158,181,130,130,132,123,122,116,120,116,129,90,100,90,92,96,84,89,76,78,74,77,70,50,60,52,59,57,55,62,46,51,47,49,36,50,41,35,37,34,34,40,37,28,35,29,31,26,24,27,28,29,30,34,16,19,18,19,21,21,18,12,14,15,10,17,22,8,14,7,12,10,13,10,8,12],\"fFunctions\":{\"_typename\":\"TList\",\"name\":\"TList\",\"arr\":[],\"opt\":[]},\"fHistogram\":{\"_typename\":\"TH1F\",\"fUniqueID\":0,\"fBits\":50332168,\"fName\":\"h_genData\",\"fTitle\":\"Histogram of genData_plot__mgg\",\"fLineColor\":602,\"fLineStyle\":1,\"fLineWidth\":1,\"fFillColor\":0,\"fFillStyle\":1001,\"fMarkerColor\":1,\"fMarkerStyle\":1,\"fMarkerSize\":1,\"fNcells\":102,\"fXaxis\":{\"_typename\":\"TAxis\",\"fUniqueID\":0,\"fBits\":50331648,\"fName\":\"xaxis\",\"fTitle\":\"\",\"fNdivisions\":510,\"fAxisColor\":1,\"fLabelColor\":1,\"fLabelFont\":42,\"fLabelOffset\":0.005,\"fLabelSize\":0.035,\"fTickLength\":0.03,\"fTitleOffset\":1,\"fTitleSize\":0.035,\"fTitleColor\":1,\"fTitleFont\":42,\"fNbins\":100,\"fXmin\":3.99999999999999,\"fXmax\":436,\"fXbins\":[],\"fFirst\":0,\"fLast\":0,\"fBits2\":0,\"fTimeDisplay\":false,\"fTimeFormat\":\"\",\"fLabels\":null,\"fModLabs\":null},\"fYaxis\":{\"_typename\":\"TAxis\",\"fUniqueID\":0,\"fBits\":50331648,\"fName\":\"yaxis\",\"fTitle\":\"\",\"fNdivisions\":510,\"fAxisColor\":1,\"fLabelColor\":1,\"fLabelFont\":42,\"fLabelOffset\":0.005,\"fLabelSize\":0.035,\"fTickLength\":0.03,\"fTitleOffset\":0,\"fTitleSize\":0.035,\"fTitleColor\":1,\"fTitleFont\":42,\"fNbins\":1,\"fXmin\":3.97667658954036,\"fXmax\":438.429923349172,\"fXbins\":[],\"fFirst\":0,\"fLast\":0,\"fBits2\":0,\"fTimeDisplay\":false,\"fTimeFormat\":\"\",\"fLabels\":null,\"fModLabs\":null},\"fZaxis\":{\"_typename\":\"TAxis\",\"fUniqueID\":0,\"fBits\":50331648,\"fName\":\"zaxis\",\"fTitle\":\"\",\"fNdivisions\":510,\"fAxisColor\":1,\"fLabelColor\":1,\"fLabelFont\":42,\"fLabelOffset\":0.005,\"fLabelSize\":0.035,\"fTickLength\":0.03,\"fTitleOffset\":1,\"fTitleSize\":0.035,\"fTitleColor\":1,\"fTitleFont\":42,\"fNbins\":1,\"fXmin\":0,\"fXmax\":1,\"fXbins\":[],\"fFirst\":0,\"fLast\":0,\"fBits2\":0,\"fTimeDisplay\":false,\"fTimeFormat\":\"\",\"fLabels\":null,\"fModLabs\":null},\"fBarOffset\":0,\"fBarWidth\":1000,\"fEntries\":0,\"fTsumw\":0,\"fTsumw2\":0,\"fTsumwx\":0,\"fTsumwx2\":0,\"fMaximum\":438.429923349172,\"fMinimum\":3.97667658954036,\"fNormFactor\":0,\"fContour\":[],\"fSumw2\":[],\"fOption\":\"\",\"fFunctions\":{\"_typename\":\"TList\",\"name\":\"TList\",\"arr\":[],\"opt\":[]},\"fBufferSize\":0,\"fBuffer\":[],\"fBinStatErrOpt\":0,\"fArray\":[0,0,0,0,0,0,0,0,0,0,0,0,0,0,0,0,0,0,0,0,0,0,0,0,0,0,0,0,0,0,0,0,0,0,0,0,0,0,0,0,0,0,0,0,0,0,0,0,0,0,0,0,0,0,0,0,0,0,0,0,0,0,0,0,0,0,0,0,0,0,0,0,0,0,0,0,0,0,0,0,0,0,0,0,0,0,0,0,0,0,0,0,0,0,0,0,0,0,0,0,0,0]},\"fMinimum\":-1111,\"fMaximum\":-1111,\"fEXlow\":[1.8,1.8,1.8,1.8,1.8,1.8,1.8,1.8,1.8,1.8,1.8,1.8,1.8,1.8,1.8,1.8,1.8,1.8,1.8,1.8,1.8,1.8,1.8,1.8,1.8,1.8,1.8,1.8,1.8,1.8,1.8,1.8,1.8,1.8,1.8,1.8,1.8,1.8,1.8,1.8,1.8,1.8,1.8,1.8,1.8,1.8,1.8,1.8,1.8,1.8,1.8,1.8,1.8,1.8,1.8,1.8,1.8,1.8,1.8,1.8,1.8,1.8,1.8,1.8,1.8,1.8,1.8,1.8,1.8,1.8,1.8,1.8,1.8,1.8,1.8,1.8,1.8,1.8,1.8,1.8,1.8,1.8,1.8,1.8,1.8,1.8,1.8,1.8,1.8,1.8,1.8,1.8,1.8,1.8,1.8,1.8,1.8,1.8,1.8,1.8],\"fEXhigh\":[1.8,1.8,1.8,1.8,1.8,1.8,1.8,1.8,1.8,1.8,1.8,1.8,1.8,1.8,1.8,1.8,1.8,1.8,1.8,1.8,1.8,1.8,1.8,1.8,1.8,1.8,1.8,1.8,1.8,1.8,1.8,1.8,1.8,1.8,1.8,1.8,1.8,1.8,1.8,1.8,1.8,1.8,1.8,1.8,1.8,1.8,1.8,1.8,1.8,1.8,1.8,1.8,1.8,1.8,1.8,1.8,1.8,1.8,1.8,1.8,1.8,1.8,1.8,1.8,1.8,1.8,1.8,1.8,1.8,1.8,1.8,1.8,1.8,1.8,1.8,1.8,1.8,1.8,1.8,1.8,1.8,1.8,1.8,1.8,1.8,1.8,1.8,1.8,1.8,1.8,1.8,1.8,1.8,1.8,1.8,1.8,1.8,1.8,1.8,1.8],\"fEYlow\":[18.2149672722129,18.9743420941505,18.3480768249707,17.5069431053691,17.085505395069,17.4234483289349,17.0285481429581,15.4138304628395,16.4484512566783,15.7557682070089,15.2241851935164,15.5390149323455,14.967708298258,14.6739909054935,13.6155942134931,13.6862609591111,13.4014387744579,13.5801278403287,14.1030818665102,12.5479883506999,12.3937969582276,13.1106575888162,13.4373598647664,13.3654246238621,12.0797456254091,12.9629120178363,10.9127122105133,10.9127122105133,11,10.6018016555873,10.556672193748,10.2819293264239,10.4658560997307,10.2819293264239,10.8688170009021,9.46917726632712,9.98325482288658,9.46917726632712,9.57420129928205,9.78086674710336,9.14687261164421,9.4162259826256,8.69857573269304,8.81278816273145,8.58284357448568,8.75586817817742,8.3465663719404,7.04733682585609,7.72431707825595,7.18783570403779,7.65931221775091,7.52761858827319,7.39357955269438,7.8527125906456,6.75758099479102,7.11793294252879,6.83117232107667,6.97602630329686,5.97199579039322,7.04733682585609,6.37689760804177,5.88767477058538,6.05514266189532,5.80212840935486,5.80212840935486,6.29800017766426,6.05514266189532,5.25971089793461,5.88767477058538,5.35393156485154,5.53756532580577,5.06601492135562,4.86461220384528,5.16377123855587,5.25971089793461,5.35393156485154,5.44652245543606,5.80212840935486,3.95780102940381,4.32021937465496,4.20288721196007,4.32021937465496,4.54580699932335,4.54580699932335,4.20288721196007,3.41526599430015,3.69650031882412,3.82938009857506,3.10869443936164,4.08218389934171,4.65450239544497,2.76838605646272,3.69650031882412,2.58147045606626,3.41526599430015,3.10869443936164,3.5586623304375,3.10869443936164,2.76838605646272,3.41526599430015],\"fEYhigh\":[19.2149672722129,19.9743420941505,19.3480768249707,18.5069431053691,18.085505395069,18.4234483289349,18.0285481429581,16.4138304628395,17.4484512566783,16.7557682070089,16.2241851935164,16.5390149323454,15.967708298258,15.6739909054935,14.6155942134931,14.6862609591111,14.4014387744579,14.5801278403287,15.1030818665102,13.5479883506999,13.3937969582276,14.1106575888162,14.4373598647664,14.3654246238621,13.0797456254091,13.9629120178363,11.9127122105133,11.9127122105133,12,11.6018016555873,11.556672193748,11.2819293264239,11.4658560997306,11.2819293264239,11.8688170009021,10.5219972584965,11.0333609411497,10.5219972584965,10.626443289669,10.8320074139966,10.2015488233739,10.4693422563414,9.7560610979592,9.86953088054457,9.6411014957652,9.81297860268175,9.40646758331697,8.1182246064733,8.78902310673288,8.25734576290841,8.72456484475691,8.5940072411441,8.46116562362432,8.91636535507314,7.83148891411209,8.18812173724121,7.90428920652069,8.04763434666193,7.0555452840609,8.1182246064733,7.45518517410131,6.97240965830357,7.13755508118677,6.88810053038505,6.88810053038505,7.37726075879658,7.13755508118677,6.35444601200602,6.97240965830357,6.44701964227479,6.62760123878468,6.16432406860527,5.96693206711369,6.2602438465527,6.35444601200602,6.44701964227479,6.53804637266794,6.88810053038505,5.08306556401624,5.4351961614818,5.32100732238368,5.4351961614818,5.65518197118255,5.65518197118255,5.32100732238368,4.55981905739127,4.83038075568817,4.95873843272062,4.26694976100939,5.20371938988384,5.76136640411342,3.94514151986907,4.83038075568817,3.77028072043409,4.55981905739127,4.26694976100939,4.69757337260906,4.26694976100939,3.94514151986907,4.55981905739127],\"_yAxisLabel\":\"Events \\/ ( 3.6 )\",\"_ymin\":0,\"_ymax\":398.97434209415,\"_normValue\":0,\"_nominalBinWidth\":3.6,\"_nSigma\":1,\"_entries\":10075,\"_rawEntries\":-1},{\"_typename\":\"RooCurve\",\"fUniqueID\":0,\"fBits\":50332680,\"fName\":\"model_Norm[mgg]\",\"fTitle\":\"Projection of model\",\"fLineColor\":600,\"fLineStyle\":1,\"fLineWidth\":3,\"fFillColor\":0,\"fFillStyle\":1000,\"fMarkerColor\":1,\"fMarkerStyle\":1,\"fMarkerSize\":1,\"fNpoints\":207,\"fX\":[38.2089552238806,38.2089552238806,40,40.00000367236,43.59999632764,43.60000367236,47.19999632764,47.20000367236,50.79999632764,50.80000367236,54.39999632764,54.40000367236,57.99999632764,58.00000367236,61.59999632764,61.60000367236,65.19999632764,65.20000367236,68.79999632764,68.80000367236,72.39999632764,72.40000367236,75.99999632764,76.00000367236,79.59999632764,79.60000367236,83.19999632764,83.20000367236,86.79999632764,86.80000367236,90.39999632764,90.40000367236,93.99999632764,94.00000367236,97.59999632764,97.60000367236,101.19999632764,101.20000367236,104.79999632764,104.80000367236,108.39999632764,108.40000367236,111.99999632764,112.00000367236,115.59999632764,115.60000367236,119.19999632764,119.20000367236,122.79999632764,122.80000367236,126.39999632764,126.40000367236,129.99999632764,130.00000367236,133.59999632764,133.60000367236,137.19999632764,137.20000367236,140.79999632764,140.80000367236,144.39999632764,144.40000367236,147.99999632764,148.00000367236,151.59999632764,151.60000367236,155.19999632764,155.20000367236,158.79999632764,158.80000367236,162.39999632764,162.40000367236,165.99999632764,166.00000367236,169.59999632764,169.60000367236,173.19999632764,173.20000367236,176.79999632764,176.80000367236,180.39999632764,180.40000367236,183.99999632764,184.00000367236,187.59999632764,187.60000367236,191.19999632764,191.20000367236,194.79999632764,194.80000367236,198.39999632764,198.40000367236,201.99999632764,202.00000367236,205.59999632764,205.60000367236,209.19999632764,209.20000367236,212.79999632764,212.80000367236,216.39999632764,216.40000367236,219.99999632764,220.00000367236,223.59999632764,223.60000367236,227.19999632764,227.20000367236,230.79999632764,230.80000367236,234.39999632764,234.40000367236,237.99999632764,238.00000367236,241.59999632764,241.60000367236,245.19999632764,245.20000367236,248.79999632764,248.80000367236,252.39999632764,252.40000367236,255.99999632764,256.00000367236,259.59999632764,259.60000367236,263.19999632764,263.20000367236,266.79999632764,266.80000367236,270.39999632764,270.40000367236,273.99999632764,274.00000367236,277.59999632764,277.60000367236,281.19999632764,281.20000367236,284.79999632764,284.80000367236,288.39999632764,288.40000367236,291.99999632764,292.00000367236,295.59999632764,295.60000367236,299.19999632764,299.20000367236,302.79999632764,302.80000367236,306.39999632764,306.40000367236,309.99999632764,310.00000367236,313.59999632764,313.60000367236,317.19999632764,317.20000367236,320.79999632764,320.80000367236,324.39999632764,324.40000367236,327.99999632764,328.00000367236,331.59999632764,331.60000367236,335.19999632764,335.20000367236,338.79999632764,338.80000367236,342.39999632764,342.40000367236,345.99999632764,346.00000367236,349.59999632764,349.60000367236,353.19999632764,353.20000367236,356.79999632764,356.80000367236,360.39999632764,360.40000367236,363.99999632764,364.00000367236,367.59999632764,367.60000367236,371.19999632764,371.20000367236,374.79999632764,374.80000367236,378.39999632764,378.40000367236,381.99999632764,382.00000367236,385.59999632764,385.60000367236,389.19999632764,389.20000367236,392.79999632764,392.80000367236,396.39999632764,396.40000367236,399.99999632764,400.00000367236,400,401.791044776119,401.791044776119],\"fY\":[0,0,0,375.930351978419,375.930351978419,304.943503599515,304.943503599515,362.932760021718,362.932760021718,315.941466024416,315.941466024416,325.939613683416,325.939613683416,332.938317044717,332.938317044717,293.945541174615,293.945541174615,290.946096876914,290.946096876914,264.950912963513,264.950912963513,256.952394836313,256.952394836313,268.950172027113,268.950172027113,222.958692795711,222.958692795711,221.958878029811,221.958878029811,220.959063263911,220.959063263911,232.956840454712,232.956840454712,200.96276794591,200.96276794591,195.96369411641,195.96369411641,187.965175989209,187.965175989209,194.96387935051,194.96387935051,166.969065905308,166.969065905308,180.966472627909,180.966472627909,163.969621607608,163.969621607608,165.342683084909,165.342683084909,199.858930521471,199.858930521471,176.952526906179,176.952526906179,150.584096281378,150.584096281378,149.972214885007,149.972214885007,160.970177309908,160.970177309908,123.977030971606,123.977030971606,115.978512844406,115.978512844406,136.974622928307,136.974622928307,136.974622928307,136.974622928307,103.980735653605,103.980735653605,106.980179951305,106.980179951305,115.978512844406,115.978512844406,106.980179951305,106.980179951305,98.9816618241049,98.9816618241049,93.9825879946046,93.9825879946046,97.9818470582048,97.9818470582048,97.9818470582048,97.9818470582048,85.9840698674043,85.9840698674043,111.979253780806,111.979253780806,84.9842551015042,84.9842551015042,82.9846255697041,82.9846255697041,72.9864779107036,72.9864779107036,63.9881450176032,63.9881450176032,56.9894416563028,56.9894416563028,54.9898121245027,54.9898121245027,49.9907382950025,49.9907382950025,59.988885954003,59.988885954003,48.9909235291024,48.9909235291024,59.988885954003,59.988885954003,57.9892564222029,57.9892564222029,54.9898121245027,54.9898121245027,53.9899973586027,53.9899973586027,44.9916644655022,44.9916644655022,36.9931463383018,36.9931463383018,57.9892564222029,57.9892564222029,57.9892564222029,57.9892564222029,40.992405401902,40.992405401902,41.9922201678021,41.9922201678021,42.9920349337021,42.9920349337021,35.9933315724018,35.9933315724018,45.9914792314023,45.9914792314023,37.9929611042019,37.9929611042019,39.992590636002,39.992590636002,31.9940725088016,31.9940725088016,31.9940725088016,31.9940725088016,37.9929611042019,37.9929611042019,30.9942577429015,30.9942577429015,26.9949986793013,26.9949986793013,29.9944429770015,29.9944429770015,32.9938872747016,32.9938872747016,27.9948134452014,27.9948134452014,29.9944429770015,29.9944429770015,24.9953691475012,24.9953691475012,16.9968510203008,16.9968510203008,25.9951839134013,25.9951839134013,24.9953691475012,24.9953691475012,16.9968510203008,16.9968510203008,23.9955543816012,23.9955543816012,11.9977771908006,11.9977771908006,11.9977771908006,11.9977771908006,16.9968510203008,16.9968510203008,17.9966657862009,17.9966657862009,19.996295318001,19.996295318001,16.9968510203008,16.9968510203008,15.9970362544008,15.9970362544008,15.9970362544008,15.9970362544008,12.9975919567006,12.9975919567006,9.99814765900049,9.99814765900049,13.9974067226007,13.9974067226007,14.9972214885007,14.9972214885007,8.99833289310045,8.99833289310045,9.99814765900049,9.99814765900049,5.9988885954003,5.9988885954003,16.9968510203008,16.9968510203008,10.9979624249005,10.9979624249005,6.99870336130035,6.99870336130035,9.99814765900049,9.99814765900049,0,0,0,0],\"fFunctions\":{\"_typename\":\"TList\",\"name\":\"TList\",\"arr\":[],\"opt\":[]},\"fHistogram\":{\"_typename\":\"TH1F\",\"fUniqueID\":0,\"fBits\":50332168,\"fName\":\"model_Norm[mgg]\",\"fTitle\":\"Projection of model\",\"fLineColor\":602,\"fLineStyle\":1,\"fLineWidth\":1,\"fFillColor\":0,\"fFillStyle\":1001,\"fMarkerColor\":1,\"fMarkerStyle\":1,\"fMarkerSize\":1,\"fNcells\":209,\"fXaxis\":{\"_typename\":\"TAxis\",\"fUniqueID\":0,\"fBits\":50331648,\"fName\":\"xaxis\",\"fTitle\":\"\",\"fNdivisions\":510,\"fAxisColor\":1,\"fLabelColor\":1,\"fLabelFont\":42,\"fLabelOffset\":0.005,\"fLabelSize\":0.035,\"fTickLength\":0.03,\"fTitleOffset\":1,\"fTitleSize\":0.035,\"fTitleColor\":1,\"fTitleFont\":42,\"fNbins\":207,\"fXmin\":1.85074626865671,\"fXmax\":438.149253731343,\"fXbins\":[],\"fFirst\":0,\"fLast\":0,\"fBits2\":0,\"fTimeDisplay\":false,\"fTimeFormat\":\"\",\"fLabels\":null,\"fModLabs\":null},\"fYaxis\":{\"_typename\":\"TAxis\",\"fUniqueID\":0,\"fBits\":50331648,\"fName\":\"yaxis\",\"fTitle\":\"\",\"fNdivisions\":510,\"fAxisColor\":1,\"fLabelColor\":1,\"fLabelFont\":42,\"fLabelOffset\":0.005,\"fLabelSize\":0.035,\"fTickLength\":0.03,\"fTitleOffset\":0,\"fTitleSize\":0.035,\"fTitleColor\":1,\"fTitleFont\":42,\"fNbins\":1,\"fXmin\":0,\"fXmax\":413.52338717626,\"fXbins\":[],\"fFirst\":0,\"fLast\":0,\"fBits2\":0,\"fTimeDisplay\":false,\"fTimeFormat\":\"\",\"fLabels\":null,\"fModLabs\":null},\"fZaxis\":{\"_typename\":\"TAxis\",\"fUniqueID\":0,\"fBits\":50331648,\"fName\":\"zaxis\",\"fTitle\":\"\",\"fNdivisions\":510,\"fAxisColor\":1,\"fLabelColor\":1,\"fLabelFont\":42,\"fLabelOffset\":0.005,\"fLabelSize\":0.035,\"fTickLength\":0.03,\"fTitleOffset\":1,\"fTitleSize\":0.035,\"fTitleColor\":1,\"fTitleFont\":42,\"fNbins\":1,\"fXmin\":0,\"fXmax\":1,\"fXbins\":[],\"fFirst\":0,\"fLast\":0,\"fBits2\":0,\"fTimeDisplay\":false,\"fTimeFormat\":\"\",\"fLabels\":null,\"fModLabs\":null},\"fBarOffset\":0,\"fBarWidth\":1000,\"fEntries\":0,\"fTsumw\":0,\"fTsumw2\":0,\"fTsumwx\":0,\"fTsumwx2\":0,\"fMaximum\":413.52338717626,\"fMinimum\":0,\"fNormFactor\":0,\"fContour\":[],\"fSumw2\":[],\"fOption\":\"\",\"fFunctions\":{\"_typename\":\"TList\",\"name\":\"TList\",\"arr\":[],\"opt\":[]},\"fBufferSize\":0,\"fBuffer\":[],\"fBinStatErrOpt\":0,\"fArray\":[0,0,0,0,0,0,0,0,0,0,0,0,0,0,0,0,0,0,0,0,0,0,0,0,0,0,0,0,0,0,0,0,0,0,0,0,0,0,0,0,0,0,0,0,0,0,0,0,0,0,0,0,0,0,0,0,0,0,0,0,0,0,0,0,0,0,0,0,0,0,0,0,0,0,0,0,0,0,0,0,0,0,0,0,0,0,0,0,0,0,0,0,0,0,0,0,0,0,0,0,0,0,0,0,0,0,0,0,0,0,0,0,0,0,0,0,0,0,0,0,0,0,0,0,0,0,0,0,0,0,0,0,0,0,0,0,0,0,0,0,0,0,0,0,0,0,0,0,0,0,0,0,0,0,0,0,0,0,0,0,0,0,0,0,0,0,0,0,0,0,0,0,0,0,0,0,0,0,0,0,0,0,0,0,0,0,0,0,0,0,0,0,0,0,0,0,0,0,0,0,0,0,0,0,0,0,0,0,0]},\"fMinimum\":-1111,\"fMaximum\":-1111,\"_yAxisLabel\":\"Projection of model\",\"_ymin\":0,\"_ymax\":375.930351978419,\"_normValue\":0},{\"_typename\":\"RooCurve\",\"fUniqueID\":0,\"fBits\":50332680,\"fName\":\"model_Norm[mgg]_Comp[bkg]\",\"fTitle\":\"Projection of model\",\"fLineColor\":600,\"fLineStyle\":2,\"fLineWidth\":3,\"fFillColor\":0,\"fFillStyle\":1000,\"fMarkerColor\":1,\"fMarkerStyle\":1,\"fMarkerSize\":1,\"fNpoints\":207,\"fX\":[38.2089552238806,38.2089552238806,40,40.00000367236,43.59999632764,43.60000367236,47.19999632764,47.20000367236,50.79999632764,50.80000367236,54.39999632764,54.40000367236,57.99999632764,58.00000367236,61.59999632764,61.60000367236,65.19999632764,65.20000367236,68.79999632764,68.80000367236,72.39999632764,72.40000367236,75.99999632764,76.00000367236,79.59999632764,79.60000367236,83.19999632764,83.20000367236,86.79999632764,86.80000367236,90.39999632764,90.40000367236,93.99999632764,94.00000367236,97.59999632764,97.60000367236,101.19999632764,101.20000367236,104.79999632764,104.80000367236,108.39999632764,108.40000367236,111.99999632764,112.00000367236,115.59999632764,115.60000367236,119.19999632764,119.20000367236,122.79999632764,122.80000367236,126.39999632764,126.40000367236,129.99999632764,130.00000367236,133.59999632764,133.60000367236,137.19999632764,137.20000367236,140.79999632764,140.80000367236,144.39999632764,144.40000367236,147.99999632764,148.00000367236,151.59999632764,151.60000367236,155.19999632764,155.20000367236,158.79999632764,158.80000367236,162.39999632764,162.40000367236,165.99999632764,166.00000367236,169.59999632764,169.60000367236,173.19999632764,173.20000367236,176.79999632764,176.80000367236,180.39999632764,180.40000367236,183.99999632764,184.00000367236,187.59999632764,187.60000367236,191.19999632764,191.20000367236,194.79999632764,194.80000367236,198.39999632764,198.40000367236,201.99999632764,202.00000367236,205.59999632764,205.60000367236,209.19999632764,209.20000367236,212.79999632764,212.80000367236,216.39999632764,216.40000367236,219.99999632764,220.00000367236,223.59999632764,223.60000367236,227.19999632764,227.20000367236,230.79999632764,230.80000367236,234.39999632764,234.40000367236,237.99999632764,238.00000367236,241.59999632764,241.60000367236,245.19999632764,245.20000367236,248.79999632764,248.80000367236,252.39999632764,252.40000367236,255.99999632764,256.00000367236,259.59999632764,259.60000367236,263.19999632764,263.20000367236,266.79999632764,266.80000367236,270.39999632764,270.40000367236,273.99999632764,274.00000367236,277.59999632764,277.60000367236,281.19999632764,281.20000367236,284.79999632764,284.80000367236,288.39999632764,288.40000367236,291.99999632764,292.00000367236,295.59999632764,295.60000367236,299.19999632764,299.20000367236,302.79999632764,302.80000367236,306.39999632764,306.40000367236,309.99999632764,310.00000367236,313.59999632764,313.60000367236,317.19999632764,317.20000367236,320.79999632764,320.80000367236,324.39999632764,324.40000367236,327.99999632764,328.00000367236,331.59999632764,331.60000367236,335.19999632764,335.20000367236,338.79999632764,338.80000367236,342.39999632764,342.40000367236,345.99999632764,346.00000367236,349.59999632764,349.60000367236,353.19999632764,353.20000367236,356.79999632764,356.80000367236,360.39999632764,360.40000367236,363.99999632764,364.00000367236,367.59999632764,367.60000367236,371.19999632764,371.20000367236,374.79999632764,374.80000367236,378.39999632764,378.40000367236,381.99999632764,382.00000367236,385.59999632764,385.60000367236,389.19999632764,389.20000367236,392.79999632764,392.80000367236,396.39999632764,396.40000367236,399.99999632764,400.00000367236,400,401.791044776119,401.791044776119],\"fY\":[0,0,0,375.930351978419,375.930351978419,304.943503599515,304.943503599515,362.932760021718,362.932760021718,315.941466024416,315.941466024416,325.939613683416,325.939613683416,332.938317044717,332.938317044717,293.945541174615,293.945541174615,290.946096876914,290.946096876914,264.950912963513,264.950912963513,256.952394836313,256.952394836313,268.950172027113,268.950172027113,222.958692795711,222.958692795711,221.958878029811,221.958878029811,220.959063263911,220.959063263911,232.956840454712,232.956840454712,200.96276794591,200.96276794591,195.96369411641,195.96369411641,187.965175989209,187.965175989209,194.96387935051,194.96387935051,166.969065905308,166.969065905308,180.966472627909,180.966472627909,163.969621607608,163.969621607608,149.972214885007,149.972214885007,162.969806841708,162.969806841708,156.970918246308,156.970918246308,145.972955821407,145.972955821407,149.972214885007,149.972214885007,160.970177309908,160.970177309908,123.977030971606,123.977030971606,115.978512844406,115.978512844406,136.974622928307,136.974622928307,136.974622928307,136.974622928307,103.980735653605,103.980735653605,106.980179951305,106.980179951305,115.978512844406,115.978512844406,106.980179951305,106.980179951305,98.9816618241049,98.9816618241049,93.9825879946046,93.9825879946046,97.9818470582048,97.9818470582048,97.9818470582048,97.9818470582048,85.9840698674043,85.9840698674043,111.979253780806,111.979253780806,84.9842551015042,84.9842551015042,82.9846255697041,82.9846255697041,72.9864779107036,72.9864779107036,63.9881450176032,63.9881450176032,56.9894416563028,56.9894416563028,54.9898121245027,54.9898121245027,49.9907382950025,49.9907382950025,59.988885954003,59.988885954003,48.9909235291024,48.9909235291024,59.988885954003,59.988885954003,57.9892564222029,57.9892564222029,54.9898121245027,54.9898121245027,53.9899973586027,53.9899973586027,44.9916644655022,44.9916644655022,36.9931463383018,36.9931463383018,57.9892564222029,57.9892564222029,57.9892564222029,57.9892564222029,40.992405401902,40.992405401902,41.9922201678021,41.9922201678021,42.9920349337021,42.9920349337021,35.9933315724018,35.9933315724018,45.9914792314023,45.9914792314023,37.9929611042019,37.9929611042019,39.992590636002,39.992590636002,31.9940725088016,31.9940725088016,31.9940725088016,31.9940725088016,37.9929611042019,37.9929611042019,30.9942577429015,30.9942577429015,26.9949986793013,26.9949986793013,29.9944429770015,29.9944429770015,32.9938872747016,32.9938872747016,27.9948134452014,27.9948134452014,29.9944429770015,29.9944429770015,24.9953691475012,24.9953691475012,16.9968510203008,16.9968510203008,25.9951839134013,25.9951839134013,24.9953691475012,24.9953691475012,16.9968510203008,16.9968510203008,23.9955543816012,23.9955543816012,11.9977771908006,11.9977771908006,11.9977771908006,11.9977771908006,16.9968510203008,16.9968510203008,17.9966657862009,17.9966657862009,19.996295318001,19.996295318001,16.9968510203008,16.9968510203008,15.9970362544008,15.9970362544008,15.9970362544008,15.9970362544008,12.9975919567006,12.9975919567006,9.99814765900049,9.99814765900049,13.9974067226007,13.9974067226007,14.9972214885007,14.9972214885007,8.99833289310045,8.99833289310045,9.99814765900049,9.99814765900049,5.9988885954003,5.9988885954003,16.9968510203008,16.9968510203008,10.9979624249005,10.9979624249005,6.99870336130035,6.99870336130035,9.99814765900049,9.99814765900049,0,0,0,0],\"fFunctions\":{\"_typename\":\"TList\",\"name\":\"TList\",\"arr\":[],\"opt\":[]},\"fHistogram\":{\"_typename\":\"TH1F\",\"fUniqueID\":0,\"fBits\":50332168,\"fName\":\"model_Norm[mgg]_Comp[bkg]\",\"fTitle\":\"Projection of model\",\"fLineColor\":602,\"fLineStyle\":1,\"fLineWidth\":1,\"fFillColor\":0,\"fFillStyle\":1001,\"fMarkerColor\":1,\"fMarkerStyle\":1,\"fMarkerSize\":1,\"fNcells\":209,\"fXaxis\":{\"_typename\":\"TAxis\",\"fUniqueID\":0,\"fBits\":50331648,\"fName\":\"xaxis\",\"fTitle\":\"\",\"fNdivisions\":510,\"fAxisColor\":1,\"fLabelColor\":1,\"fLabelFont\":42,\"fLabelOffset\":0.005,\"fLabelSize\":0.035,\"fTickLength\":0.03,\"fTitleOffset\":1,\"fTitleSize\":0.035,\"fTitleColor\":1,\"fTitleFont\":42,\"fNbins\":207,\"fXmin\":1.85074626865671,\"fXmax\":438.149253731343,\"fXbins\":[],\"fFirst\":0,\"fLast\":0,\"fBits2\":0,\"fTimeDisplay\":false,\"fTimeFormat\":\"\",\"fLabels\":null,\"fModLabs\":null},\"fYaxis\":{\"_typename\":\"TAxis\",\"fUniqueID\":0,\"fBits\":50331648,\"fName\":\"yaxis\",\"fTitle\":\"\",\"fNdivisions\":510,\"fAxisColor\":1,\"fLabelColor\":1,\"fLabelFont\":42,\"fLabelOffset\":0.005,\"fLabelSize\":0.035,\"fTickLength\":0.03,\"fTitleOffset\":0,\"fTitleSize\":0.035,\"fTitleColor\":1,\"fTitleFont\":42,\"fNbins\":1,\"fXmin\":0,\"fXmax\":413.52338717626,\"fXbins\":[],\"fFirst\":0,\"fLast\":0,\"fBits2\":0,\"fTimeDisplay\":false,\"fTimeFormat\":\"\",\"fLabels\":null,\"fModLabs\":null},\"fZaxis\":{\"_typename\":\"TAxis\",\"fUniqueID\":0,\"fBits\":50331648,\"fName\":\"zaxis\",\"fTitle\":\"\",\"fNdivisions\":510,\"fAxisColor\":1,\"fLabelColor\":1,\"fLabelFont\":42,\"fLabelOffset\":0.005,\"fLabelSize\":0.035,\"fTickLength\":0.03,\"fTitleOffset\":1,\"fTitleSize\":0.035,\"fTitleColor\":1,\"fTitleFont\":42,\"fNbins\":1,\"fXmin\":0,\"fXmax\":1,\"fXbins\":[],\"fFirst\":0,\"fLast\":0,\"fBits2\":0,\"fTimeDisplay\":false,\"fTimeFormat\":\"\",\"fLabels\":null,\"fModLabs\":null},\"fBarOffset\":0,\"fBarWidth\":1000,\"fEntries\":0,\"fTsumw\":0,\"fTsumw2\":0,\"fTsumwx\":0,\"fTsumwx2\":0,\"fMaximum\":413.52338717626,\"fMinimum\":0,\"fNormFactor\":0,\"fContour\":[],\"fSumw2\":[],\"fOption\":\"\",\"fFunctions\":{\"_typename\":\"TList\",\"name\":\"TList\",\"arr\":[],\"opt\":[]},\"fBufferSize\":0,\"fBuffer\":[],\"fBinStatErrOpt\":0,\"fArray\":[0,0,0,0,0,0,0,0,0,0,0,0,0,0,0,0,0,0,0,0,0,0,0,0,0,0,0,0,0,0,0,0,0,0,0,0,0,0,0,0,0,0,0,0,0,0,0,0,0,0,0,0,0,0,0,0,0,0,0,0,0,0,0,0,0,0,0,0,0,0,0,0,0,0,0,0,0,0,0,0,0,0,0,0,0,0,0,0,0,0,0,0,0,0,0,0,0,0,0,0,0,0,0,0,0,0,0,0,0,0,0,0,0,0,0,0,0,0,0,0,0,0,0,0,0,0,0,0,0,0,0,0,0,0,0,0,0,0,0,0,0,0,0,0,0,0,0,0,0,0,0,0,0,0,0,0,0,0,0,0,0,0,0,0,0,0,0,0,0,0,0,0,0,0,0,0,0,0,0,0,0,0,0,0,0,0,0,0,0,0,0,0,0,0,0,0,0,0,0,0,0,0,0,0,0,0,0,0,0]},\"fMinimum\":-1111,\"fMaximum\":-1111,\"_yAxisLabel\":\"Projection of model\",\"_ymin\":0,\"_ymax\":375.930351978419,\"_normValue\":0},{\"$ref\":3},{\"_typename\":\"TPaveText\",\"fUniqueID\":0,\"fBits\":50331657,\"fLineColor\":1,\"fLineStyle\":1,\"fLineWidth\":1,\"fFillColor\":0,\"fFillStyle\":0,\"fX1\":142.762929883561,\"fY1\":436.718419609635,\"fX2\":297.237070116439,\"fY2\":468.670178838208,\"fX1NDC\":0.328362068965517,\"fY1NDC\":0.933983055615829,\"fX2NDC\":0.671637931034483,\"fY2NDC\":0.995000004768372,\"fBorderSize\":0,\"fInit\":1,\"fShadowColor\":1,\"fCornerRadius\":0,\"fOption\":\"blNDC\",\"fName\":\"title\",\"fTextAngle\":0,\"fTextSize\":0,\"fTextAlign\":22,\"fTextColor\":1,\"fTextFont\":42,\"fLabel\":\"\",\"fLongest\":18,\"fMargin\":0.05,\"fLines\":{\"_typename\":\"TList\",\"name\":\"TList\",\"arr\":[{\"_typename\":\"TLatex\",\"fUniqueID\":0,\"fBits\":50331648,\"fName\":\"\",\"fTitle\":\"A RooPlot of \\\"mgg\\\"\",\"fTextAngle\":0,\"fTextSize\":0,\"fTextAlign\":0,\"fTextColor\":0,\"fTextFont\":0,\"fX\":0,\"fY\":0,\"fLineColor\":1,\"fLineStyle\":1,\"fLineWidth\":2,\"fLimitFactorSize\":3,\"fOriginSize\":0.0518644079566002}],\"opt\":[\"\"]}}],\"opt\":[\"\",\"FUNC\",\"p\",\"l\",\"l\",\"AXISSAME\",\"blNDC\"]},\"fExecs\":null,\"fName\":\"c1\",\"fTitle\":\"c1\",\"fNumPaletteColor\":0,\"fNextPaletteColor\":0,\"fDISPLAY\":\"$DISPLAY\",\"fDoubleBuffer\":0,\"fRetained\":true,\"fXsizeUser\":0,\"fYsizeUser\":0,\"fXsizeReal\":20,\"fYsizeReal\":14.28571,\"fWindowTopX\":0,\"fWindowTopY\":0,\"fWindowWidth\":0,\"fWindowHeight\":0,\"fCw\":696,\"fCh\":472,\"fCatt\":{\"_typename\":\"TAttCanvas\",\"fXBetween\":2,\"fYBetween\":2,\"fTitleFromTop\":1.2,\"fXdate\":0.2,\"fYdate\":0.3,\"fAdate\":1},\"kMoveOpaque\":true,\"kResizeOpaque\":true,\"fHighLightColor\":2,\"fBatch\":true,\"kShowEventStatus\":false,\"kAutoExec\":true,\"kMenuBar\":true});\n",
       "       Core.draw(\"root_plot_1\", obj, \"\");\n",
       "     }\n",
       " );\n",
       "</script>\n"
      ],
      "text/plain": [
       "<IPython.core.display.HTML object>"
      ]
     },
     "metadata": {},
     "output_type": "display_data"
    }
   ],
   "source": [
    "w.pdf(\"model\").fitTo(hist_data)\n",
    "c1 = ROOT.TCanvas()\n",
    "frame = w.var(\"mgg\").frame()\n",
    "hist_data.plotOn(frame)\n",
    "w.pdf(\"model\").plotOn(frame)\n",
    "w.pdf(\"model\").plotOn(frame,ROOT.RooFit.Components(\"bkg\"),ROOT.RooFit.LineStyle(ROOT.kDashed)) \n",
    "frame.Draw()\n",
    "c1.Draw()"
   ]
  },
  {
   "cell_type": "markdown",
   "metadata": {},
   "source": [
    "Now save the workspace with the data a modelconfig so that you can use RooStats to extract limits\n",
    "\n",
    "Create an empty ModelConfig"
   ]
  },
  {
   "cell_type": "code",
   "execution_count": 11,
   "metadata": {
    "collapsed": true
   },
   "outputs": [],
   "source": [
    "mc = ROOT.RooStats.ModelConfig(\"ModelConfig\",w)"
   ]
  },
  {
   "cell_type": "markdown",
   "metadata": {},
   "source": [
    "Define the pdf, the parameter of interest and the observables"
   ]
  },
  {
   "cell_type": "code",
   "execution_count": 12,
   "metadata": {
    "collapsed": true
   },
   "outputs": [],
   "source": [
    "mc.SetPdf(w.pdf(\"model\"))\n",
    "mc.SetParametersOfInterest(ROOT.RooArgSet(w.var(\"mu\")))\n",
    "#mc.SetNuisanceParameters(RooArgSet(*w.var(\"mean\"),*w.var(\"width\"),*w.var(\"alpha\")));\n",
    "mc.SetNuisanceParameters(ROOT.RooArgSet(w.var(\"Bscale\")))\n",
    "mc.SetObservables(ROOT.RooArgSet(w.var(\"mgg\")))"
   ]
  },
  {
   "cell_type": "markdown",
   "metadata": {},
   "source": [
    "Define the current value $\\mu=1$ as an hypothesis "
   ]
  },
  {
   "cell_type": "code",
   "execution_count": 13,
   "metadata": {},
   "outputs": [
    {
     "name": "stdout",
     "output_type": "stream",
     "text": [
      "\n",
      "=== Using the following for ModelConfig ===\n",
      "Observables:             RooArgSet:: = (mgg)\n",
      "Parameters of Interest:  RooArgSet:: = (mu)\n",
      "Nuisance Parameters:     RooArgSet:: = (Bscale)\n",
      "PDF:                     RooRealSumPdf::model[ S * sig + B * bkg ] = 2.77715\n",
      "Snapshot:                \n",
      "  1) 0x9454470 RooRealVar:: mu = 1 +/- 0.486745  L(-1 - 6)  \"mu\"\n",
      "\n"
     ]
    }
   ],
   "source": [
    "w.var(\"mu\").setVal(1)\n",
    "mc.SetSnapshot(ROOT.RooArgSet(w.var(\"mu\")))\n",
    "\n",
    "mc.Print()"
   ]
  },
  {
   "cell_type": "markdown",
   "metadata": {},
   "source": [
    "import model in the workspace"
   ]
  },
  {
   "cell_type": "code",
   "execution_count": 14,
   "metadata": {},
   "outputs": [
    {
     "data": {
      "text/plain": [
       "False"
      ]
     },
     "execution_count": 14,
     "metadata": {},
     "output_type": "execute_result"
    }
   ],
   "source": [
    "getattr(w,'import')(mc)\n",
    "w.writeToFile(\"../workspaces/model.root\")"
   ]
  }
 ],
 "metadata": {
  "kernelspec": {
   "display_name": "Python 2",
   "language": "python",
   "name": "python2"
  },
  "language_info": {
   "codemirror_mode": {
    "name": "ipython",
    "version": 2
   },
   "file_extension": ".py",
   "mimetype": "text/x-python",
   "name": "python",
   "nbconvert_exporter": "python",
   "pygments_lexer": "ipython2",
   "version": "2.7.13"
  }
 },
 "nbformat": 4,
 "nbformat_minor": 2
}
