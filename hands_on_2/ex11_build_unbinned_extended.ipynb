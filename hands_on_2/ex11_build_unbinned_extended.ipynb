{
 "cells": [
  {
   "cell_type": "markdown",
   "metadata": {},
   "source": [
    "# Extended Unbinned Workspaces\n",
    "\n",
    "Make an extended probability density function for a distribution in $m_{\\gamma\\gamma}$\n",
    "\n",
    "An extended probability density model is a product of a probability density function $f(x)$ in a continuous observable $x$ and a Poisson model modeling the observed event count $P(N_\\mathrm{obs}|N_\\mathrm{exp})$\n",
    "\n",
    "For composite pdfs (a sum of 2 of more components) the conceptual expression \n",
    "$$\n",
    "\\mathrm{model}(x,N) = N_\\mathrm{sig}*\\mathrm{sig}(x) + N_\\mathrm{bkg}*\\mathrm{bkg}(x)\n",
    "$$\n",
    "\n",
    "can be elegantly rewritten in the producy of a  probability density function and Poisson\n",
    "\n",
    "$$\n",
    "f_\\mathrm{sig} = N_\\mathrm{sig} / (N_\\mathrm{sig} + N_\\mathrm{bkg})\n",
    "$$\n",
    "$$\n",
    "E   = N_\\mathrm{sig} + N_\\mathrm{bkg}\n",
    "$$\n",
    "$$\n",
    "\\mathrm{model}(x) = f_\\mathrm{sig} * \\mathrm{sig}(x) + (1-f_\\mathrm{sig}) * \\mathrm{bkg}(x) \n",
    "$$\n",
    "$$\n",
    "P(N|E)   = \\mathrm{Poisson}(N|E)\n",
    "$$"
   ]
  },
  {
   "cell_type": "code",
   "execution_count": 1,
   "metadata": {
    "collapsed": true
   },
   "outputs": [],
   "source": [
    "%jsroot"
   ]
  },
  {
   "cell_type": "code",
   "execution_count": 2,
   "metadata": {},
   "outputs": [
    {
     "name": "stdout",
     "output_type": "stream",
     "text": [
      "\n",
      "\u001b[1mRooFit v3.60 -- Developed by Wouter Verkerke and David Kirkby\u001b[0m \n",
      "                Copyright (C) 2000-2013 NIKHEF, University of California & Stanford University\n",
      "                All rights reserved, please read http://roofit.sourceforge.net/license.txt\n",
      "\n"
     ]
    }
   ],
   "source": [
    "RooWorkspace w(\"w\") ;"
   ]
  },
  {
   "cell_type": "markdown",
   "metadata": {},
   "source": [
    "Exponential distribution for the background and Gaussian distribution for the signal"
   ]
  },
  {
   "cell_type": "code",
   "execution_count": 3,
   "metadata": {},
   "outputs": [],
   "source": [
    "w.factory(\"Exponential::bkg(mgg[40,400],alpha[-0.01,-10,0])\") ; \n",
    "w.factory(\"Gaussian::sig(mgg,mean[125,80,400],width[3,1,10])\") ;"
   ]
  },
  {
   "cell_type": "markdown",
   "metadata": {},
   "source": [
    "Fix signal shape for now"
   ]
  },
  {
   "cell_type": "code",
   "execution_count": 4,
   "metadata": {
    "collapsed": true
   },
   "outputs": [],
   "source": [
    "w.var(\"mean\")->setConstant(true) ;\n",
    "w.var(\"width\")->setConstant(true) ;"
   ]
  },
  {
   "cell_type": "markdown",
   "metadata": {},
   "source": [
    "Model is sum of signal and background\n",
    "$$\n",
    "S = \\mu * S_\\mathrm{nom}[200]\n",
    "$$\n",
    "$$\n",
    "B = B_\\mathrm{nom}[10000]\n",
    "$$"
   ]
  },
  {
   "cell_type": "code",
   "execution_count": 5,
   "metadata": {},
   "outputs": [],
   "source": [
    "w.factory(\"expr::S('mu*Snom',mu[1,-3,6],Snom[50])\") ;\n",
    "w.factory(\"SUM::model(S*sig,Bnom[10000]*bkg)\") ;"
   ]
  },
  {
   "cell_type": "markdown",
   "metadata": {},
   "source": [
    "Sample a toy unbinned toy dataset from the model If no event count is given, the predicted count of the model is taken (in this case S+B)"
   ]
  },
  {
   "cell_type": "code",
   "execution_count": 6,
   "metadata": {},
   "outputs": [],
   "source": [
    "RooDataSet* data = w.pdf(\"model\")->generate(*w.var(\"mgg\")) ;"
   ]
  },
  {
   "cell_type": "markdown",
   "metadata": {},
   "source": [
    "Fit model to toy data - the extended option forces the inclusion of the Poisson term in the likelihood construction"
   ]
  },
  {
   "cell_type": "code",
   "execution_count": 7,
   "metadata": {},
   "outputs": [
    {
     "name": "stdout",
     "output_type": "stream",
     "text": [
      "[#1] INFO:Minization -- createNLL: caching constraint set under name CONSTR_OF_PDF_model_FOR_OBS_mgg with 0 entries\n",
      "[#1] INFO:Minization -- RooMinimizer::optimizeConst: activating const optimization\n",
      "[#1] INFO:Minization --  The following expressions have been identified as constant and will be precalculated and cached: (sig)\n",
      "[#1] INFO:Minization --  The following expressions will be evaluated in cache-and-track mode: (bkg)\n",
      " **********\n",
      " **    1 **SET PRINT           1\n",
      " **********\n",
      " **********\n",
      " **    2 **SET NOGRAD\n",
      " **********\n",
      " PARAMETER DEFINITIONS:\n",
      "    NO.   NAME         VALUE      STEP SIZE      LIMITS\n",
      "     1 alpha       -1.00000e-02  5.00000e-03   -1.00000e+01  0.00000e+00\n",
      "     2 mu           1.00000e+00  9.00000e-01   -3.00000e+00  6.00000e+00\n",
      " **********\n",
      " **    3 **SET ERR         0.5\n",
      " **********\n",
      " **********\n",
      " **    4 **SET PRINT           1\n",
      " **********\n",
      " **********\n",
      " **    5 **SET STR           1\n",
      " **********\n",
      " NOW USING STRATEGY  1: TRY TO BALANCE SPEED AGAINST RELIABILITY\n",
      " **********\n",
      " **    6 **MIGRAD        1000           1\n",
      " **********\n",
      " FIRST CALL TO USER FUNCTION AT NEW START POINT, WITH IFLAG=4.\n",
      " START MIGRAD MINIMIZATION.  STRATEGY  1.  CONVERGENCE WHEN EDM .LT. 1.00e-03\n",
      " FCN=-27531.8 FROM MIGRAD    STATUS=INITIATE       10 CALLS          11 TOTAL\n",
      "                     EDM= unknown      STRATEGY= 1      NO ERROR MATRIX       \n",
      "  EXT PARAMETER               CURRENT GUESS       STEP         FIRST   \n",
      "  NO.   NAME      VALUE            ERROR          SIZE      DERIVATIVE \n",
      "   1  alpha       -1.00000e-02   5.00000e-03   1.63770e-02  -1.52597e+01\n",
      "   2  mu           1.00000e+00   9.00000e-01   2.02684e-01  -2.10238e+00\n",
      "                               ERR DEF= 0.5\n",
      " MIGRAD MINIMIZATION HAS CONVERGED.\n",
      " MIGRAD WILL VERIFY CONVERGENCE AND ERROR MATRIX.\n",
      " COVARIANCE MATRIX CALCULATED SUCCESSFULLY\n",
      " FCN=-27531.8 FROM MIGRAD    STATUS=CONVERGED      27 CALLS          28 TOTAL\n",
      "                     EDM=9.49644e-06    STRATEGY= 1      ERROR MATRIX ACCURATE \n",
      "  EXT PARAMETER                                   STEP         FIRST   \n",
      "  NO.   NAME      VALUE            ERROR          SIZE      DERIVATIVE \n",
      "   1  alpha       -9.99923e-03   1.26457e-04   4.58294e-05  -6.74097e+00\n",
      "   2  mu           1.09775e+00   4.59302e-01   1.16765e-02  -1.41907e-02\n",
      "                               ERR DEF= 0.5\n",
      " EXTERNAL ERROR MATRIX.    NDIM=  25    NPAR=  2    ERR DEF=0.5\n",
      "  1.599e-08  7.395e-07 \n",
      "  7.395e-07  2.117e-01 \n",
      " PARAMETER  CORRELATION COEFFICIENTS  \n",
      "       NO.  GLOBAL      1      2\n",
      "        1  0.01271   1.000  0.013\n",
      "        2  0.01271   0.013  1.000\n",
      " **********\n",
      " **    7 **SET ERR         0.5\n",
      " **********\n",
      " **********\n",
      " **    8 **SET PRINT           1\n",
      " **********\n",
      " **********\n",
      " **    9 **HESSE        1000\n",
      " **********\n",
      " COVARIANCE MATRIX CALCULATED SUCCESSFULLY\n",
      " FCN=-27531.8 FROM HESSE     STATUS=OK             10 CALLS          38 TOTAL\n",
      "                     EDM=9.49203e-06    STRATEGY= 1      ERROR MATRIX ACCURATE \n",
      "  EXT PARAMETER                                INTERNAL      INTERNAL  \n",
      "  NO.   NAME      VALUE            ERROR       STEP SIZE       VALUE   \n",
      "   1  alpha       -9.99923e-03   1.26456e-04   9.16588e-06   1.50754e+00\n",
      "   2  mu           1.09775e+00   4.59294e-01   4.67062e-04  -8.95073e-02\n",
      "                               ERR DEF= 0.5\n",
      " EXTERNAL ERROR MATRIX.    NDIM=  25    NPAR=  2    ERR DEF=0.5\n",
      "  1.599e-08  7.372e-07 \n",
      "  7.372e-07  2.117e-01 \n",
      " PARAMETER  CORRELATION COEFFICIENTS  \n",
      "       NO.  GLOBAL      1      2\n",
      "        1  0.01267   1.000  0.013\n",
      "        2  0.01267   0.013  1.000\n",
      "[#1] INFO:Minization -- RooMinimizer::optimizeConst: deactivating const optimization\n"
     ]
    }
   ],
   "source": [
    "RooFitResult* r = w.pdf(\"model\")->fitTo(*data,RooFit::Save(),RooFit::Extended()) ;"
   ]
  },
  {
   "cell_type": "markdown",
   "metadata": {},
   "source": [
    "Visualize result"
   ]
  },
  {
   "cell_type": "code",
   "execution_count": 8,
   "metadata": {},
   "outputs": [],
   "source": [
    "TCanvas* c1 = new TCanvas();\n",
    "RooPlot* frame = w.var(\"mgg\")->frame() ;\n",
    "data->plotOn(frame) ;"
   ]
  },
  {
   "cell_type": "markdown",
   "metadata": {},
   "source": [
    "When plotting an extended pdf you can choose to follow intrinsic prediction for the event count, rather than normalizing the plot to the observed data\n",
    "\n",
    "To do so request a normalization scale factor 1.0 w.r.t the intrinsic expecation"
   ]
  },
  {
   "cell_type": "code",
   "execution_count": 9,
   "metadata": {
    "collapsed": true
   },
   "outputs": [],
   "source": [
    "w.pdf(\"model\")->plotOn(frame,RooFit::Normalization(1.0,RooAbsReal::RelativeExpected)) ;"
   ]
  },
  {
   "cell_type": "markdown",
   "metadata": {},
   "source": [
    "You can also highlight components of the fit as follows"
   ]
  },
  {
   "cell_type": "code",
   "execution_count": 10,
   "metadata": {},
   "outputs": [
    {
     "data": {
      "text/html": [
       "\n",
       "<div id=\"root_plot_1\"\n",
       "     style=\"width: 696px; height: 472px\">\n",
       "</div>\n",
       "\n",
       "<script>\n",
       " requirejs.config({\n",
       "     paths: {\n",
       "       'JSRootCore' : 'https://root.cern.ch/js/notebook//scripts/JSRootCore',\n",
       "     }\n",
       "   });\n",
       " require(['JSRootCore'],\n",
       "     function(Core) {\n",
       "       var obj = Core.JSONR_unref({\"_typename\":\"TCanvas\",\"fUniqueID\":0,\"fBits\":53673992,\"fLineColor\":1,\"fLineStyle\":1,\"fLineWidth\":1,\"fFillColor\":0,\"fFillStyle\":1001,\"fLeftMargin\":0.1,\"fRightMargin\":0.1,\"fBottomMargin\":0.1,\"fTopMargin\":0.1,\"fXfile\":2,\"fYfile\":2,\"fAfile\":1,\"fXstat\":0.99,\"fYstat\":0.99,\"fAstat\":2,\"fFrameFillColor\":0,\"fFrameLineColor\":1,\"fFrameFillStyle\":1001,\"fFrameLineStyle\":1,\"fFrameLineWidth\":1,\"fFrameBorderSize\":1,\"fFrameBorderMode\":0,\"fX1\":-5.00000335276147,\"fY1\":-50.3455789283119,\"fX2\":445.000003352762,\"fY2\":453.110180346504,\"fXtoAbsPixelk\":7.73338840370202,\"fXtoPixelk\":7.73338840370202,\"fXtoPixel\":1.54666664361954,\"fYtoAbsPixelk\":424.800047186661,\"fYtoPixelk\":424.800047186661,\"fYtoPixel\":-0.937520310980006,\"fUtoAbsPixelk\":5e-5,\"fUtoPixelk\":5e-5,\"fUtoPixel\":696,\"fVtoAbsPixelk\":472.00005,\"fVtoPixelk\":472,\"fVtoPixel\":-472,\"fAbsPixeltoXk\":-5.00000335276147,\"fPixeltoXk\":-5.00000335276147,\"fPixeltoX\":0.646551733772303,\"fAbsPixeltoYk\":453.110180346504,\"fPixeltoYk\":-50.3455789283119,\"fPixeltoY\":-1.06664355778563,\"fXlowNDC\":0,\"fYlowNDC\":0,\"fXUpNDC\":0,\"fYUpNDC\":0,\"fWNDC\":1,\"fHNDC\":1,\"fAbsXlowNDC\":0,\"fAbsYlowNDC\":0,\"fAbsWNDC\":1,\"fAbsHNDC\":1,\"fUxmin\":40,\"fUymin\":0,\"fUxmax\":400,\"fUymax\":402.764601418192,\"fTheta\":30,\"fPhi\":30,\"fAspectRatio\":0,\"fNumber\":0,\"fTickx\":0,\"fTicky\":0,\"fLogx\":0,\"fLogy\":0,\"fLogz\":0,\"fPadPaint\":0,\"fCrosshair\":0,\"fCrosshairPos\":0,\"fBorderSize\":2,\"fBorderMode\":0,\"fModified\":false,\"fGridx\":false,\"fGridy\":false,\"fAbsCoord\":false,\"fEditable\":true,\"fFixedAspectRatio\":false,\"fPrimitives\":{\"_typename\":\"TList\",\"name\":\"TList\",\"arr\":[{\"_typename\":\"TFrame\",\"fUniqueID\":0,\"fBits\":50331656,\"fLineColor\":1,\"fLineStyle\":1,\"fLineWidth\":1,\"fFillColor\":0,\"fFillStyle\":1001,\"fX1\":40,\"fY1\":0,\"fX2\":400,\"fY2\":402.764601418192,\"fBorderSize\":1,\"fBorderMode\":0},{\"_typename\":\"TH1D\",\"fUniqueID\":0,\"fBits\":50332168,\"fName\":\"frame_7fd1a0b68b30\",\"fTitle\":\"A RooPlot of \\\"mgg\\\"\",\"fLineColor\":602,\"fLineStyle\":1,\"fLineWidth\":1,\"fFillColor\":0,\"fFillStyle\":1001,\"fMarkerColor\":1,\"fMarkerStyle\":1,\"fMarkerSize\":1,\"fNcells\":102,\"fXaxis\":{\"_typename\":\"TAxis\",\"fUniqueID\":0,\"fBits\":50331648,\"fName\":\"xaxis\",\"fTitle\":\"mgg\",\"fNdivisions\":510,\"fAxisColor\":1,\"fLabelColor\":1,\"fLabelFont\":42,\"fLabelOffset\":0.005,\"fLabelSize\":0.035,\"fTickLength\":0.03,\"fTitleOffset\":1,\"fTitleSize\":0.035,\"fTitleColor\":1,\"fTitleFont\":42,\"fNbins\":100,\"fXmin\":40,\"fXmax\":400,\"fXbins\":[],\"fFirst\":0,\"fLast\":0,\"fBits2\":0,\"fTimeDisplay\":false,\"fTimeFormat\":\"\",\"fLabels\":null,\"fModLabs\":null},\"fYaxis\":{\"_typename\":\"TAxis\",\"fUniqueID\":0,\"fBits\":50331648,\"fName\":\"yaxis\",\"fTitle\":\"Events \\/ ( 3.6 )\",\"fNdivisions\":510,\"fAxisColor\":1,\"fLabelColor\":1,\"fLabelFont\":42,\"fLabelOffset\":0.005,\"fLabelSize\":0.035,\"fTickLength\":0.03,\"fTitleOffset\":0,\"fTitleSize\":0.035,\"fTitleColor\":1,\"fTitleFont\":42,\"fNbins\":1,\"fXmin\":0,\"fXmax\":1,\"fXbins\":[],\"fFirst\":0,\"fLast\":0,\"fBits2\":0,\"fTimeDisplay\":false,\"fTimeFormat\":\"\",\"fLabels\":null,\"fModLabs\":null},\"fZaxis\":{\"_typename\":\"TAxis\",\"fUniqueID\":0,\"fBits\":50331648,\"fName\":\"zaxis\",\"fTitle\":\"\",\"fNdivisions\":510,\"fAxisColor\":1,\"fLabelColor\":1,\"fLabelFont\":42,\"fLabelOffset\":0.005,\"fLabelSize\":0.035,\"fTickLength\":0.03,\"fTitleOffset\":1,\"fTitleSize\":0.035,\"fTitleColor\":1,\"fTitleFont\":42,\"fNbins\":1,\"fXmin\":0,\"fXmax\":1,\"fXbins\":[],\"fFirst\":0,\"fLast\":0,\"fBits2\":0,\"fTimeDisplay\":false,\"fTimeFormat\":\"\",\"fLabels\":null,\"fModLabs\":null},\"fBarOffset\":0,\"fBarWidth\":1000,\"fEntries\":1,\"fTsumw\":0,\"fTsumw2\":0,\"fTsumwx\":0,\"fTsumwx2\":0,\"fMaximum\":402.764601418192,\"fMinimum\":-1111,\"fNormFactor\":0,\"fContour\":[],\"fSumw2\":[],\"fOption\":\"\",\"fFunctions\":{\"_typename\":\"TList\",\"name\":\"TList\",\"arr\":[],\"opt\":[]},\"fBufferSize\":0,\"fBuffer\":[],\"fBinStatErrOpt\":0,\"fArray\":[0,402.764601418192,0,0,0,0,0,0,0,0,0,0,0,0,0,0,0,0,0,0,0,0,0,0,0,0,0,0,0,0,0,0,0,0,0,0,0,0,0,0,0,0,0,0,0,0,0,0,0,0,0,0,0,0,0,0,0,0,0,0,0,0,0,0,0,0,0,0,0,0,0,0,0,0,0,0,0,0,0,0,0,0,0,0,0,0,0,0,0,0,0,0,0,0,0,0,0,0,0,0,0,0]},{\"_typename\":\"RooHist\",\"fUniqueID\":0,\"fBits\":50332680,\"fName\":\"h_modelData\",\"fTitle\":\"Histogram of modelData_plot__mgg\",\"fLineColor\":1,\"fLineStyle\":1,\"fLineWidth\":1,\"fFillColor\":0,\"fFillStyle\":1000,\"fMarkerColor\":1,\"fMarkerStyle\":8,\"fMarkerSize\":1,\"fNpoints\":100,\"fX\":[41.8,45.4,49,52.6,56.2,59.8,63.4,67,70.6,74.2,77.8,81.4,85,88.6,92.2,95.8,99.4,103,106.6,110.2,113.8,117.4,121,124.6,128.2,131.8,135.4,139,142.6,146.2,149.8,153.4,157,160.6,164.2,167.8,171.4,175,178.6,182.2,185.8,189.4,193,196.6,200.2,203.8,207.4,211,214.6,218.2,221.8,225.4,229,232.6,236.2,239.8,243.4,247,250.6,254.2,257.8,261.4,265,268.6,272.2,275.8,279.4,283,286.6,290.2,293.8,297.4,301,304.6,308.2,311.8,315.4,319,322.6,326.2,329.8,333.4,337,340.6,344.2,347.8,351.4,355,358.6,362.2,365.8,369.4,373,376.6,380.2,383.8,387.4,391,394.6,398.2],\"fY\":[364,363,330,326,283,287,271,299,284,261,266,266,219,242,218,219,196,192,166,181,192,197,161,195,163,149,142,148,146,143,115,124,117,107,105,96,96,83,96,96,78,88,82,81,83,70,75,74,55,59,64,61,47,42,58,50,48,50,36,45,34,38,36,43,44,32,43,30,36,31,25,29,29,21,32,15,26,27,19,18,22,22,16,14,13,13,14,14,16,13,17,18,16,10,16,7,13,16,13,9],\"fFunctions\":{\"_typename\":\"TList\",\"name\":\"TList\",\"arr\":[],\"opt\":[]},\"fHistogram\":{\"_typename\":\"TH1F\",\"fUniqueID\":0,\"fBits\":50332168,\"fName\":\"h_modelData\",\"fTitle\":\"Histogram of modelData_plot__mgg\",\"fLineColor\":602,\"fLineStyle\":1,\"fLineWidth\":1,\"fFillColor\":0,\"fFillStyle\":1001,\"fMarkerColor\":1,\"fMarkerStyle\":1,\"fMarkerSize\":1,\"fNcells\":102,\"fXaxis\":{\"_typename\":\"TAxis\",\"fUniqueID\":0,\"fBits\":50331648,\"fName\":\"xaxis\",\"fTitle\":\"\",\"fNdivisions\":510,\"fAxisColor\":1,\"fLabelColor\":1,\"fLabelFont\":42,\"fLabelOffset\":0.005,\"fLabelSize\":0.035,\"fTickLength\":0.03,\"fTitleOffset\":1,\"fTitleSize\":0.035,\"fTitleColor\":1,\"fTitleFont\":42,\"fNbins\":100,\"fXmin\":3.99999999999999,\"fXmax\":436,\"fXbins\":[],\"fFirst\":0,\"fLast\":0,\"fBits2\":0,\"fTimeDisplay\":false,\"fTimeFormat\":\"\",\"fLabels\":null,\"fModLabs\":null},\"fYaxis\":{\"_typename\":\"TAxis\",\"fUniqueID\":0,\"fBits\":50331648,\"fName\":\"yaxis\",\"fTitle\":\"\",\"fNdivisions\":510,\"fAxisColor\":1,\"fLabelColor\":1,\"fLabelFont\":42,\"fLabelOffset\":0.005,\"fLabelSize\":0.035,\"fTickLength\":0.03,\"fTitleOffset\":0,\"fTitleSize\":0.035,\"fTitleColor\":1,\"fTitleFont\":42,\"fNbins\":1,\"fXmin\":3.97667658954036,\"fXmax\":421.502015197998,\"fXbins\":[],\"fFirst\":0,\"fLast\":0,\"fBits2\":0,\"fTimeDisplay\":false,\"fTimeFormat\":\"\",\"fLabels\":null,\"fModLabs\":null},\"fZaxis\":{\"_typename\":\"TAxis\",\"fUniqueID\":0,\"fBits\":50331648,\"fName\":\"zaxis\",\"fTitle\":\"\",\"fNdivisions\":510,\"fAxisColor\":1,\"fLabelColor\":1,\"fLabelFont\":42,\"fLabelOffset\":0.005,\"fLabelSize\":0.035,\"fTickLength\":0.03,\"fTitleOffset\":1,\"fTitleSize\":0.035,\"fTitleColor\":1,\"fTitleFont\":42,\"fNbins\":1,\"fXmin\":0,\"fXmax\":1,\"fXbins\":[],\"fFirst\":0,\"fLast\":0,\"fBits2\":0,\"fTimeDisplay\":false,\"fTimeFormat\":\"\",\"fLabels\":null,\"fModLabs\":null},\"fBarOffset\":0,\"fBarWidth\":1000,\"fEntries\":0,\"fTsumw\":0,\"fTsumw2\":0,\"fTsumwx\":0,\"fTsumwx2\":0,\"fMaximum\":421.502015197998,\"fMinimum\":3.97667658954036,\"fNormFactor\":0,\"fContour\":[],\"fSumw2\":[],\"fOption\":\"\",\"fFunctions\":{\"_typename\":\"TList\",\"name\":\"TList\",\"arr\":[],\"opt\":[]},\"fBufferSize\":0,\"fBuffer\":[],\"fBinStatErrOpt\":0,\"fArray\":[0,0,0,0,0,0,0,0,0,0,0,0,0,0,0,0,0,0,0,0,0,0,0,0,0,0,0,0,0,0,0,0,0,0,0,0,0,0,0,0,0,0,0,0,0,0,0,0,0,0,0,0,0,0,0,0,0,0,0,0,0,0,0,0,0,0,0,0,0,0,0,0,0,0,0,0,0,0,0,0,0,0,0,0,0,0,0,0,0,0,0,0,0,0,0,0,0,0,0,0,0,0]},\"fMinimum\":-1111,\"fMaximum\":-1111,\"fEXlow\":[1.8,1.8,1.8,1.8,1.8,1.8,1.8,1.8,1.8,1.8,1.8,1.8,1.8,1.8,1.8,1.8,1.8,1.8,1.8,1.8,1.8,1.8,1.8,1.8,1.8,1.8,1.8,1.8,1.8,1.8,1.8,1.8,1.8,1.8,1.8,1.8,1.8,1.8,1.8,1.8,1.8,1.8,1.8,1.8,1.8,1.8,1.8,1.8,1.8,1.8,1.8,1.8,1.8,1.8,1.8,1.8,1.8,1.8,1.8,1.8,1.8,1.8,1.8,1.8,1.8,1.8,1.8,1.8,1.8,1.8,1.8,1.8,1.8,1.8,1.8,1.8,1.8,1.8,1.8,1.8,1.8,1.8,1.8,1.8,1.8,1.8,1.8,1.8,1.8,1.8,1.8,1.8,1.8,1.8,1.8,1.8,1.8,1.8,1.8,1.8],\"fEXhigh\":[1.8,1.8,1.8,1.8,1.8,1.8,1.8,1.8,1.8,1.8,1.8,1.8,1.8,1.8,1.8,1.8,1.8,1.8,1.8,1.8,1.8,1.8,1.8,1.8,1.8,1.8,1.8,1.8,1.8,1.8,1.8,1.8,1.8,1.8,1.8,1.8,1.8,1.8,1.8,1.8,1.8,1.8,1.8,1.8,1.8,1.8,1.8,1.8,1.8,1.8,1.8,1.8,1.8,1.8,1.8,1.8,1.8,1.8,1.8,1.8,1.8,1.8,1.8,1.8,1.8,1.8,1.8,1.8,1.8,1.8,1.8,1.8,1.8,1.8,1.8,1.8,1.8,1.8,1.8,1.8,1.8,1.8,1.8,1.8,1.8,1.8,1.8,1.8,1.8,1.8,1.8,1.8,1.8,1.8,1.8,1.8,1.8,1.8,1.8,1.8],\"fEYlow\":[18.5853346839923,18.5591185525459,17.6727818453862,17.5623918681885,16.3300326797068,16.4484512566783,15.9696690920006,16.7988438920062,16.3597153000874,15.6632298752446,15.8171688720807,15.8171688720807,14.3070928949608,15.0643824162734,14.2732867026942,14.3070928949608,13.5089257261219,13.3654246238621,12.3937969582276,12.9629120178363,13.3654246238621,13.5445719051881,12.1984250992003,13.4731886124821,12.2769323391806,11.7167917228706,11.4268604418766,11.6757956618859,11.5933866224478,11.4687092035858,10.2354552767919,10.646748404804,10.3282039138539,9.85615758860399,9.75914226434159,9.78086674710336,9.78086674710336,9.09204441411644,9.78086674710336,9.78086674710336,8.81278816273145,9.36297523850129,9.03688356534234,8.98138393604158,9.09204441411644,8.3465663719404,8.64090341739966,8.58284357448568,7.39357955269438,7.65931221775091,7.97904223084961,7.78877941552809,6.83117232107667,6.45483071102782,7.59375090101779,7.04733682585609,6.90397923687425,7.04733682585609,5.97199579039322,6.68317934450653,5.80212840935486,6.13716310988257,5.97199579039322,6.53183400521367,6.6079399977078,5.62713531718605,6.53183400521367,5.44652245543606,5.97199579039322,5.53756532580577,4.96633466721007,5.35393156485154,5.35393156485154,4.54580699932335,5.62713531718605,3.82938009857506,5.06601492135562,5.16377123855587,4.32021937465496,4.20288721196007,4.65450239544497,4.65450239544497,3.95780102940381,3.69650031882412,3.5586623304375,3.5586623304375,3.69650031882412,3.69650031882412,3.95780102940381,3.5586623304375,4.08218389934171,4.20288721196007,3.95780102940381,3.10869443936164,3.95780102940381,2.58147045606626,3.5586623304375,3.95780102940381,3.5586623304375,2.94346103725076],\"fEYhigh\":[19.5853346839923,19.5591185525459,18.6727818453862,18.5623918681885,17.3300326797068,17.4484512566783,16.9696690920006,17.7988438920062,17.3597153000874,16.6632298752446,16.8171688720807,16.8171688720807,15.3070928949608,16.0643824162734,15.2732867026942,15.3070928949608,14.5089257261219,14.3654246238621,13.3937969582276,13.9629120178363,14.3654246238621,14.5445719051881,13.1984250992003,14.4731886124821,13.2769323391806,12.7167917228706,12.4268604418766,12.6757956618859,12.5933866224478,12.4687092035858,11.2354552767919,11.646748404804,11.3282039138539,10.856157588604,10.7591422643416,10.8320074139966,10.8320074139966,10.147049415507,10.8320074139966,10.8320074139966,9.86953088054457,10.4163928307457,10.092223353418,10.0370646922952,10.147049415507,9.40646758331697,9.69877119773849,9.6411014957652,8.46116562362432,8.72456484475691,9.04169148598145,8.85295233843901,7.90428920652069,7.53218018651548,8.65956419816109,8.1182246064733,7.97632992098288,8.1182246064733,7.0555452840609,7.75790450041968,6.88810053038505,7.21848358047952,7.0555452840609,7.60827827535264,7.683510071295,6.71575340007623,7.60827827535264,6.53804637266794,7.0555452840609,6.62760123878468,6.06658917312032,6.44701964227479,6.44701964227479,5.65518197118255,6.71575340007623,4.95873843272062,6.16432406860527,6.2602438465527,5.4351961614818,5.32100732238368,5.76136640411342,5.76136640411342,5.08306556401624,4.83038075568817,4.69757337260906,4.69757337260906,4.83038075568817,4.83038075568817,5.08306556401624,4.69757337260906,5.20371938988384,5.32100732238368,5.08306556401624,4.26694976100939,5.08306556401624,3.77028072043409,4.69757337260906,5.08306556401624,4.69757337260906,4.11020413766764],\"_yAxisLabel\":\"Events \\/ ( 3.6 )\",\"_ymin\":0,\"_ymax\":383.585334683992,\"_normValue\":0,\"_nominalBinWidth\":3.6,\"_nSigma\":1,\"_entries\":10050,\"_rawEntries\":-1},{\"_typename\":\"RooCurve\",\"fUniqueID\":0,\"fBits\":50332680,\"fName\":\"model_Norm[mgg]\",\"fTitle\":\"Projection of model\",\"fLineColor\":600,\"fLineStyle\":1,\"fLineWidth\":3,\"fFillColor\":0,\"fFillStyle\":1000,\"fMarkerColor\":1,\"fMarkerStyle\":1,\"fMarkerSize\":1,\"fNpoints\":115,\"fX\":[36.4,36.4,40,43.6,47.2,50.8,54.4,58,61.6,65.2,68.8,72.4,76,79.6,83.2,86.8,90.4,94,97.6,101.2,104.8,108.4,112,115.6,117.4,118.3,119.2,120.1,121,122.8,123.7,124.6,125.5,126.4,130,130.9,131.8,133.6,137.2,140.8,144.4,148,151.6,155.2,158.8,162.4,166,169.6,173.2,176.8,180.4,184,187.6,191.2,194.8,198.4,202,205.6,209.2,212.8,216.4,220,223.6,227.2,230.8,234.4,238,241.6,245.2,248.8,252.4,256,259.6,263.2,266.8,270.4,274,277.6,281.2,284.8,288.4,292,295.6,299.2,302.8,306.4,310,313.6,317.2,320.8,324.4,328,331.6,335.2,338.8,342.4,346,349.6,353.2,356.8,360.4,364,367.6,371.2,374.8,378.4,382,385.6,389.2,392.8,396.4,400,400,403.6,403.6],\"fY\":[0,370.087191177801,370.087191177801,357.002008385385,344.379478753609,332.203244242204,320.457525182571,309.12709982828,298.197284628599,287.653915199493,277.48332796744,267.672342462249,258.208244235975,249.078768385746,240.272083659196,231.776777121865,223.581839366724,215.676650246648,208.050965111338,200.694901530871,193.59892649242,186.753849929287,180.15298131265,173.975125427131,171.742954802293,171.322348450372,171.691126301444,173.05750466225,175.449134380009,181.790866350489,184.182574636827,184.869067194187,183.316268739767,179.557600685635,157.028763984347,152.927738616351,149.805847900769,145.58788244294,140.03070756497,135.073164663239,130.297355131941,125.690428013946,121.246388163264,116.959476349355,112.824136991983,108.835010939719,104.986928524792,101.274902863517,97.6941233935874,94.2399496398792,90.9079052006716,87.6936719465006,84.5930844241217,81.6021244583331,78.716915944662,75.933719826166,73.2489292478394,70.6590648823464,68.1607704210218,65.7508082242958,63.4260551259085,61.1834983854737,59.0202317841478,56.9334518583456,54.9204542666192,52.9786302849943,51.1054634262204,49.2985261785544,47.5554768598516,45.8740565828857,44.2520863279673,42.6874641190645,41.1781622997688,39.7222249055741,38.3177651290638,36.9629628747221,35.6560624001993,34.3953700409756,33.179252015473,32.0061323077727,30.8744906251935,29.7828604280833,28.7298270292719,27.7140257607219,26.7341402050001,25.7889004892801,24.8770816396633,23.9975019936861,23.1490216689566,22.3305410859354,21.5409995429462,20.7793738415709,20.0446769606452,19.3359567771386,18.6522948322604,17.9928051411921,17.3566330449044,16.74295410257,16.1509730231387,15.5799226346868,15.0290628902093,14.4976799085631,13.98508504932,13.4906140203296,13.0136260168374,12.5535028910395,12.109648351001,11.6814871878966,11.2684645305751,10.8700451264796,10.4857126479922,10.1149690233046,10.1149690233046,10.1149690233046,0],\"fFunctions\":{\"_typename\":\"TList\",\"name\":\"TList\",\"arr\":[],\"opt\":[]},\"fHistogram\":{\"_typename\":\"TH1F\",\"fUniqueID\":0,\"fBits\":50332168,\"fName\":\"model_Norm[mgg]\",\"fTitle\":\"Projection of model\",\"fLineColor\":602,\"fLineStyle\":1,\"fLineWidth\":1,\"fFillColor\":0,\"fFillStyle\":1001,\"fMarkerColor\":1,\"fMarkerStyle\":1,\"fMarkerSize\":1,\"fNcells\":117,\"fXaxis\":{\"_typename\":\"TAxis\",\"fUniqueID\":0,\"fBits\":50331648,\"fName\":\"xaxis\",\"fTitle\":\"\",\"fNdivisions\":510,\"fAxisColor\":1,\"fLabelColor\":1,\"fLabelFont\":42,\"fLabelOffset\":0.005,\"fLabelSize\":0.035,\"fTickLength\":0.03,\"fTitleOffset\":1,\"fTitleSize\":0.035,\"fTitleColor\":1,\"fTitleFont\":42,\"fNbins\":115,\"fXmin\":0,\"fXmax\":440.32,\"fXbins\":[],\"fFirst\":0,\"fLast\":0,\"fBits2\":0,\"fTimeDisplay\":false,\"fTimeFormat\":\"\",\"fLabels\":null,\"fModLabs\":null},\"fYaxis\":{\"_typename\":\"TAxis\",\"fUniqueID\":0,\"fBits\":50331648,\"fName\":\"yaxis\",\"fTitle\":\"\",\"fNdivisions\":510,\"fAxisColor\":1,\"fLabelColor\":1,\"fLabelFont\":42,\"fLabelOffset\":0.005,\"fLabelSize\":0.035,\"fTickLength\":0.03,\"fTitleOffset\":0,\"fTitleSize\":0.035,\"fTitleColor\":1,\"fTitleFont\":42,\"fNbins\":1,\"fXmin\":0,\"fXmax\":407.095910295581,\"fXbins\":[],\"fFirst\":0,\"fLast\":0,\"fBits2\":0,\"fTimeDisplay\":false,\"fTimeFormat\":\"\",\"fLabels\":null,\"fModLabs\":null},\"fZaxis\":{\"_typename\":\"TAxis\",\"fUniqueID\":0,\"fBits\":50331648,\"fName\":\"zaxis\",\"fTitle\":\"\",\"fNdivisions\":510,\"fAxisColor\":1,\"fLabelColor\":1,\"fLabelFont\":42,\"fLabelOffset\":0.005,\"fLabelSize\":0.035,\"fTickLength\":0.03,\"fTitleOffset\":1,\"fTitleSize\":0.035,\"fTitleColor\":1,\"fTitleFont\":42,\"fNbins\":1,\"fXmin\":0,\"fXmax\":1,\"fXbins\":[],\"fFirst\":0,\"fLast\":0,\"fBits2\":0,\"fTimeDisplay\":false,\"fTimeFormat\":\"\",\"fLabels\":null,\"fModLabs\":null},\"fBarOffset\":0,\"fBarWidth\":1000,\"fEntries\":0,\"fTsumw\":0,\"fTsumw2\":0,\"fTsumwx\":0,\"fTsumwx2\":0,\"fMaximum\":407.095910295581,\"fMinimum\":0,\"fNormFactor\":0,\"fContour\":[],\"fSumw2\":[],\"fOption\":\"\",\"fFunctions\":{\"_typename\":\"TList\",\"name\":\"TList\",\"arr\":[],\"opt\":[]},\"fBufferSize\":0,\"fBuffer\":[],\"fBinStatErrOpt\":0,\"fArray\":[0,0,0,0,0,0,0,0,0,0,0,0,0,0,0,0,0,0,0,0,0,0,0,0,0,0,0,0,0,0,0,0,0,0,0,0,0,0,0,0,0,0,0,0,0,0,0,0,0,0,0,0,0,0,0,0,0,0,0,0,0,0,0,0,0,0,0,0,0,0,0,0,0,0,0,0,0,0,0,0,0,0,0,0,0,0,0,0,0,0,0,0,0,0,0,0,0,0,0,0,0,0,0,0,0,0,0,0,0,0,0,0,0,0,0,0,0]},\"fMinimum\":-1111,\"fMaximum\":-1111,\"_yAxisLabel\":\"Projection of model\",\"_ymin\":0,\"_ymax\":370.087191177801,\"_normValue\":0},{\"_typename\":\"RooCurve\",\"fUniqueID\":0,\"fBits\":50332680,\"fName\":\"model_Norm[mgg]_Comp[bkg]\",\"fTitle\":\"Projection of model\",\"fLineColor\":600,\"fLineStyle\":2,\"fLineWidth\":3,\"fFillColor\":0,\"fFillStyle\":1000,\"fMarkerColor\":1,\"fMarkerStyle\":1,\"fMarkerSize\":1,\"fNpoints\":106,\"fX\":[36.4,36.4,40,43.6,47.2,50.8,54.4,58,61.6,65.2,68.8,72.4,76,79.6,83.2,86.8,90.4,94,97.6,101.2,104.8,108.4,112,115.6,119.2,122.8,126.4,130,133.6,137.2,140.8,144.4,148,151.6,155.2,158.8,162.4,166,169.6,173.2,176.8,180.4,184,187.6,191.2,194.8,198.4,202,205.6,209.2,212.8,216.4,220,223.6,227.2,230.8,234.4,238,241.6,245.2,248.8,252.4,256,259.6,263.2,266.8,270.4,274,277.6,281.2,284.8,288.4,292,295.6,299.2,302.8,306.4,310,313.6,317.2,320.8,324.4,328,331.6,335.2,338.8,342.4,346,349.6,353.2,356.8,360.4,364,367.6,371.2,374.8,378.4,382,385.6,389.2,392.8,396.4,400,400,403.6,403.6],\"fY\":[0,370.087191177801,370.087191177801,357.002008385385,344.379478753609,332.203244242204,320.457525182571,309.12709982828,298.197284628599,287.653915199493,277.48332796744,267.672342462249,258.208244235975,249.078768385746,240.272083659196,231.776777121865,223.581839366724,215.676650246648,208.050965111338,200.69490153087,193.598926488665,186.753844027266,180.150783330931,173.78118722959,167.636801109267,161.709662214592,155.992089329555,150.476672823104,145.156265046713,140.023971071459,135.073139752604,130.297355110116,125.690428013941,121.246388163264,116.959476349355,112.824136991983,108.835010939719,104.986928524792,101.274902863517,97.6941233935874,94.2399496398792,90.9079052006716,87.6936719465006,84.5930844241217,81.6021244583331,78.716915944662,75.933719826166,73.2489292478394,70.6590648823464,68.1607704210218,65.7508082242958,63.4260551259085,61.1834983854737,59.0202317841478,56.9334518583456,54.9204542666192,52.9786302849943,51.1054634262204,49.2985261785544,47.5554768598516,45.8740565828857,44.2520863279673,42.6874641190645,41.1781622997688,39.7222249055741,38.3177651290638,36.9629628747221,35.6560624001993,34.3953700409756,33.179252015473,32.0061323077727,30.8744906251935,29.7828604280833,28.7298270292719,27.7140257607219,26.7341402050001,25.7889004892801,24.8770816396633,23.9975019936861,23.1490216689566,22.3305410859354,21.5409995429462,20.7793738415709,20.0446769606452,19.3359567771386,18.6522948322604,17.9928051411921,17.3566330449044,16.74295410257,16.1509730231387,15.5799226346868,15.0290628902093,14.4976799085631,13.98508504932,13.4906140203296,13.0136260168374,12.5535028910395,12.109648351001,11.6814871878966,11.2684645305751,10.8700451264796,10.4857126479922,10.1149690233046,10.1149690233046,10.1149690233046,0],\"fFunctions\":{\"_typename\":\"TList\",\"name\":\"TList\",\"arr\":[],\"opt\":[]},\"fHistogram\":{\"_typename\":\"TH1F\",\"fUniqueID\":0,\"fBits\":50332168,\"fName\":\"model_Norm[mgg]_Comp[bkg]\",\"fTitle\":\"Projection of model\",\"fLineColor\":602,\"fLineStyle\":1,\"fLineWidth\":1,\"fFillColor\":0,\"fFillStyle\":1001,\"fMarkerColor\":1,\"fMarkerStyle\":1,\"fMarkerSize\":1,\"fNcells\":108,\"fXaxis\":{\"_typename\":\"TAxis\",\"fUniqueID\":0,\"fBits\":50331648,\"fName\":\"xaxis\",\"fTitle\":\"\",\"fNdivisions\":510,\"fAxisColor\":1,\"fLabelColor\":1,\"fLabelFont\":42,\"fLabelOffset\":0.005,\"fLabelSize\":0.035,\"fTickLength\":0.03,\"fTitleOffset\":1,\"fTitleSize\":0.035,\"fTitleColor\":1,\"fTitleFont\":42,\"fNbins\":106,\"fXmin\":0,\"fXmax\":440.32,\"fXbins\":[],\"fFirst\":0,\"fLast\":0,\"fBits2\":0,\"fTimeDisplay\":false,\"fTimeFormat\":\"\",\"fLabels\":null,\"fModLabs\":null},\"fYaxis\":{\"_typename\":\"TAxis\",\"fUniqueID\":0,\"fBits\":50331648,\"fName\":\"yaxis\",\"fTitle\":\"\",\"fNdivisions\":510,\"fAxisColor\":1,\"fLabelColor\":1,\"fLabelFont\":42,\"fLabelOffset\":0.005,\"fLabelSize\":0.035,\"fTickLength\":0.03,\"fTitleOffset\":0,\"fTitleSize\":0.035,\"fTitleColor\":1,\"fTitleFont\":42,\"fNbins\":1,\"fXmin\":0,\"fXmax\":407.095910295581,\"fXbins\":[],\"fFirst\":0,\"fLast\":0,\"fBits2\":0,\"fTimeDisplay\":false,\"fTimeFormat\":\"\",\"fLabels\":null,\"fModLabs\":null},\"fZaxis\":{\"_typename\":\"TAxis\",\"fUniqueID\":0,\"fBits\":50331648,\"fName\":\"zaxis\",\"fTitle\":\"\",\"fNdivisions\":510,\"fAxisColor\":1,\"fLabelColor\":1,\"fLabelFont\":42,\"fLabelOffset\":0.005,\"fLabelSize\":0.035,\"fTickLength\":0.03,\"fTitleOffset\":1,\"fTitleSize\":0.035,\"fTitleColor\":1,\"fTitleFont\":42,\"fNbins\":1,\"fXmin\":0,\"fXmax\":1,\"fXbins\":[],\"fFirst\":0,\"fLast\":0,\"fBits2\":0,\"fTimeDisplay\":false,\"fTimeFormat\":\"\",\"fLabels\":null,\"fModLabs\":null},\"fBarOffset\":0,\"fBarWidth\":1000,\"fEntries\":0,\"fTsumw\":0,\"fTsumw2\":0,\"fTsumwx\":0,\"fTsumwx2\":0,\"fMaximum\":407.095910295581,\"fMinimum\":0,\"fNormFactor\":0,\"fContour\":[],\"fSumw2\":[],\"fOption\":\"\",\"fFunctions\":{\"_typename\":\"TList\",\"name\":\"TList\",\"arr\":[],\"opt\":[]},\"fBufferSize\":0,\"fBuffer\":[],\"fBinStatErrOpt\":0,\"fArray\":[0,0,0,0,0,0,0,0,0,0,0,0,0,0,0,0,0,0,0,0,0,0,0,0,0,0,0,0,0,0,0,0,0,0,0,0,0,0,0,0,0,0,0,0,0,0,0,0,0,0,0,0,0,0,0,0,0,0,0,0,0,0,0,0,0,0,0,0,0,0,0,0,0,0,0,0,0,0,0,0,0,0,0,0,0,0,0,0,0,0,0,0,0,0,0,0,0,0,0,0,0,0,0,0,0,0,0,0]},\"fMinimum\":-1111,\"fMaximum\":-1111,\"_yAxisLabel\":\"Projection of model\",\"_ymin\":0,\"_ymax\":370.087191177801,\"_normValue\":0},{\"$ref\":3},{\"_typename\":\"TPaveText\",\"fUniqueID\":0,\"fBits\":50331657,\"fLineColor\":1,\"fLineStyle\":1,\"fLineWidth\":1,\"fFillColor\":0,\"fFillStyle\":0,\"fX1\":142.762929883561,\"fY1\":419.873569486568,\"fX2\":297.237070116439,\"fY2\":450.592903950794,\"fX1NDC\":0.328362068965517,\"fY1NDC\":0.933983055615829,\"fX2NDC\":0.671637931034483,\"fY2NDC\":0.995000004768372,\"fBorderSize\":0,\"fInit\":1,\"fShadowColor\":1,\"fCornerRadius\":0,\"fOption\":\"blNDC\",\"fName\":\"title\",\"fTextAngle\":0,\"fTextSize\":0,\"fTextAlign\":22,\"fTextColor\":1,\"fTextFont\":42,\"fLabel\":\"\",\"fLongest\":18,\"fMargin\":0.05,\"fLines\":{\"_typename\":\"TList\",\"name\":\"TList\",\"arr\":[{\"_typename\":\"TLatex\",\"fUniqueID\":0,\"fBits\":50331648,\"fName\":\"\",\"fTitle\":\"A RooPlot of \\\"mgg\\\"\",\"fTextAngle\":0,\"fTextSize\":0,\"fTextAlign\":0,\"fTextColor\":0,\"fTextFont\":0,\"fX\":0,\"fY\":0,\"fLineColor\":1,\"fLineStyle\":1,\"fLineWidth\":2,\"fLimitFactorSize\":3,\"fOriginSize\":0.0518644079566002}],\"opt\":[\"\"]}}],\"opt\":[\"\",\"FUNC\",\"p\",\"l\",\"l\",\"AXISSAME\",\"blNDC\"]},\"fExecs\":null,\"fName\":\"c1\",\"fTitle\":\"c1\",\"fNumPaletteColor\":0,\"fNextPaletteColor\":0,\"fDISPLAY\":\"$DISPLAY\",\"fDoubleBuffer\":0,\"fRetained\":true,\"fXsizeUser\":0,\"fYsizeUser\":0,\"fXsizeReal\":20,\"fYsizeReal\":14.28571,\"fWindowTopX\":0,\"fWindowTopY\":0,\"fWindowWidth\":0,\"fWindowHeight\":0,\"fCw\":696,\"fCh\":472,\"fCatt\":{\"_typename\":\"TAttCanvas\",\"fXBetween\":2,\"fYBetween\":2,\"fTitleFromTop\":1.2,\"fXdate\":0.2,\"fYdate\":0.3,\"fAdate\":1},\"kMoveOpaque\":true,\"kResizeOpaque\":true,\"fHighLightColor\":2,\"fBatch\":true,\"kShowEventStatus\":false,\"kAutoExec\":true,\"kMenuBar\":true});\n",
       "       Core.draw(\"root_plot_1\", obj, \"\");\n",
       "     }\n",
       " );\n",
       "</script>\n"
      ],
      "text/plain": [
       "<IPython.core.display.HTML object>"
      ]
     },
     "metadata": {},
     "output_type": "display_data"
    },
    {
     "name": "stdout",
     "output_type": "stream",
     "text": [
      "[#1] INFO:Plotting -- RooAbsPdf::plotOn(model) directly selected PDF components: (bkg)\n",
      "[#1] INFO:Plotting -- RooAbsPdf::plotOn(model) indirectly selected PDF components: ()\n"
     ]
    }
   ],
   "source": [
    "w.pdf(\"model\")->plotOn(frame,RooFit::Normalization(1.0,RooAbsReal::RelativeExpected),RooFit::Components(\"bkg\"),RooFit::LineStyle(kDashed)) ;\n",
    "frame->Draw() ;\n",
    "c1->Draw() ;"
   ]
  },
  {
   "cell_type": "markdown",
   "metadata": {},
   "source": [
    "Now save the workspace with the data a modelconfig so that you can use RooStats to extract limits\n",
    "\n",
    "Save the generated data as the 'observed data'"
   ]
  },
  {
   "cell_type": "code",
   "execution_count": 11,
   "metadata": {},
   "outputs": [
    {
     "name": "stdout",
     "output_type": "stream",
     "text": [
      "[#1] INFO:ObjectHandling -- RooWorkspace::import(w) importing dataset modelData\n",
      "[#1] INFO:ObjectHandling -- RooWorkSpace::import(w) changing name of dataset from  modelData to observed_data\n"
     ]
    }
   ],
   "source": [
    "w.import(*data,RooFit::Rename(\"observed_data\")) ;"
   ]
  },
  {
   "cell_type": "markdown",
   "metadata": {},
   "source": [
    "Create an empty ModelConfig"
   ]
  },
  {
   "cell_type": "code",
   "execution_count": 12,
   "metadata": {},
   "outputs": [],
   "source": [
    "RooStats::ModelConfig mc(\"ModelConfig\",&w);"
   ]
  },
  {
   "cell_type": "markdown",
   "metadata": {},
   "source": [
    "Define the pdf, the parameter of interest and the observables"
   ]
  },
  {
   "cell_type": "code",
   "execution_count": 13,
   "metadata": {
    "collapsed": true
   },
   "outputs": [],
   "source": [
    "mc.SetPdf(*w.pdf(\"model\"));\n",
    "mc.SetParametersOfInterest(*w.var(\"mu\"));\n",
    "//mc.SetNuisanceParameters(RooArgSet(*w.var(\"mean\"),*w.var(\"width\"),*w.var(\"alpha\")));\n",
    "mc.SetNuisanceParameters(*w.var(\"alpha\"));\n",
    "mc.SetObservables(*w.var(\"mgg\"));"
   ]
  },
  {
   "cell_type": "markdown",
   "metadata": {},
   "source": [
    "Define the current value mu (1) as an hypothesis"
   ]
  },
  {
   "cell_type": "code",
   "execution_count": 14,
   "metadata": {},
   "outputs": [
    {
     "name": "stdout",
     "output_type": "stream",
     "text": [
      "\n",
      "=== Using the following for ModelConfig ===\n",
      "Observables:             RooArgSet:: = (mgg)\n",
      "Parameters of Interest:  RooArgSet:: = (mu)\n",
      "Nuisance Parameters:     RooArgSet:: = (alpha)\n",
      "PDF:                     RooAddPdf::model[ S * sig + Bnom * bkg ] = 0.110271\n",
      "Snapshot:                \n",
      "  1) 0x7fd1a0c34e40 RooRealVar:: mu = 1 +/- 0.459294  L(-3 - 6)  \"mu\"\n",
      "\n"
     ]
    }
   ],
   "source": [
    "w.var(\"mu\")->setVal(1) ;\n",
    "mc.SetSnapshot(*w.var(\"mu\"));\n",
    "\n",
    "mc.Print();"
   ]
  },
  {
   "cell_type": "markdown",
   "metadata": {},
   "source": [
    "import model into the workspace and save to file"
   ]
  },
  {
   "cell_type": "code",
   "execution_count": 15,
   "metadata": {},
   "outputs": [],
   "source": [
    "w.import(mc);\n",
    "\n",
    "w.writeToFile(\"../workspaces/model.root\") ;"
   ]
  }
 ],
 "metadata": {
  "kernelspec": {
   "display_name": "ROOT C++",
   "language": "c++",
   "name": "root"
  },
  "language_info": {
   "codemirror_mode": "text/x-c++src",
   "file_extension": ".C",
   "mimetype": " text/x-c++src",
   "name": "c++"
  }
 },
 "nbformat": 4,
 "nbformat_minor": 2
}
