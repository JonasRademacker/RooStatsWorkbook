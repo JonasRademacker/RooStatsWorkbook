{
 "cells": [
  {
   "cell_type": "markdown",
   "metadata": {},
   "source": [
    "# An Exploration of the Poisson Distribution\n",
    "\n",
    "Straightforward exploration of the Poisson distribution using RooFit.\n",
    "\n",
    "We begin by constructing an empy workspace that will contain the model."
   ]
  },
  {
   "cell_type": "code",
   "execution_count": 1,
   "metadata": {
    "collapsed": true
   },
   "outputs": [],
   "source": [
    "%jsroot on"
   ]
  },
  {
   "cell_type": "code",
   "execution_count": 2,
   "metadata": {},
   "outputs": [
    {
     "name": "stdout",
     "output_type": "stream",
     "text": [
      "\n",
      "\u001b[1mRooFit v3.60 -- Developed by Wouter Verkerke and David Kirkby\u001b[0m \n",
      "                Copyright (C) 2000-2013 NIKHEF, University of California & Stanford University\n",
      "                All rights reserved, please read http://roofit.sourceforge.net/license.txt\n",
      "\n"
     ]
    }
   ],
   "source": [
    "RooWorkspace w(\"w\") ;"
   ]
  },
  {
   "cell_type": "markdown",
   "metadata": {},
   "source": [
    "## Construct a single Poisson model\n",
    "\n",
    "Construct expression for expected event count Nexp = mu * S + B, with S and B fixed"
   ]
  },
  {
   "cell_type": "code",
   "execution_count": 3,
   "metadata": {
    "collapsed": true
   },
   "outputs": [],
   "source": [
    "w.factory(\"expr::Nexp('mu*S+B',mu[1,-1,10],S[10],B[20])\") ;"
   ]
  },
  {
   "cell_type": "markdown",
   "metadata": {},
   "source": [
    "Construct Poisson probability model for Nobs given Nexp"
   ]
  },
  {
   "cell_type": "code",
   "execution_count": 4,
   "metadata": {
    "collapsed": true
   },
   "outputs": [],
   "source": [
    "w.factory(\"Poisson::model(Nobs[0,100],Nexp)\") ;"
   ]
  },
  {
   "cell_type": "markdown",
   "metadata": {},
   "source": [
    "### Plot model(Nobs)\n",
    "\n",
    "Make empty plot frame in Nobs"
   ]
  },
  {
   "cell_type": "code",
   "execution_count": 5,
   "metadata": {
    "collapsed": true
   },
   "outputs": [],
   "source": [
    "RooPlot* frame = w.var(\"Nobs\")->frame() ;"
   ]
  },
  {
   "cell_type": "markdown",
   "metadata": {},
   "source": [
    "Plot distribution of model on the frame.\n",
    "\n",
    "Given that model is discrete in Nobs, enhance precision of adaptive sampling of plot projection machinery to correctly map jumps in probability at integer values (the plotting machinery generically expects continuous functions) and draw the plot frame on the canvas."
   ]
  },
  {
   "cell_type": "code",
   "execution_count": 6,
   "metadata": {},
   "outputs": [
    {
     "data": {
      "text/html": [
       "\n",
       "<div id=\"root_plot_1\"\n",
       "     style=\"width: 696px; height: 472px\">\n",
       "</div>\n",
       "\n",
       "<script>\n",
       " requirejs.config({\n",
       "     paths: {\n",
       "       'JSRootCore' : 'https://root.cern.ch/js/notebook//scripts/JSRootCore',\n",
       "     }\n",
       "   });\n",
       " require(['JSRootCore'],\n",
       "     function(Core) {\n",
       "       var obj = Core.JSONR_unref({\"_typename\":\"TCanvas\",\"fUniqueID\":0,\"fBits\":36896776,\"fLineColor\":1,\"fLineStyle\":1,\"fLineWidth\":1,\"fFillColor\":0,\"fFillStyle\":1001,\"fLeftMargin\":0.1,\"fRightMargin\":0.1,\"fBottomMargin\":0.1,\"fTopMargin\":0.1,\"fXfile\":2,\"fYfile\":2,\"fAfile\":1,\"fXstat\":0.99,\"fYstat\":0.99,\"fAstat\":2,\"fFrameFillColor\":0,\"fFrameLineColor\":1,\"fFrameFillStyle\":1001,\"fFrameLineStyle\":1,\"fFrameLineWidth\":1,\"fFrameBorderSize\":1,\"fFrameBorderMode\":0,\"fX1\":-12.5000009313226,\"fY1\":-0.0095332823096813,\"fX2\":112.500000931323,\"fY2\":0.0857995351048527,\"fXtoAbsPixelk\":69.6000541484835,\"fXtoPixelk\":69.6000541484835,\"fXtoPixel\":5.56799991703033,\"fYtoAbsPixelk\":424.800047186661,\"fYtoPixelk\":424.800047186661,\"fYtoPixel\":-4951.0757449621,\"fUtoAbsPixelk\":5e-5,\"fUtoPixelk\":5e-5,\"fUtoPixel\":696,\"fVtoAbsPixelk\":472.00005,\"fVtoPixelk\":472,\"fVtoPixel\":-472,\"fAbsPixeltoXk\":-12.5000009313226,\"fPixeltoXk\":-12.5000009313226,\"fPixeltoX\":0.17959770382564,\"fAbsPixeltoYk\":0.0857995351048527,\"fPixeltoYk\":-0.0095332823096813,\"fPixeltoY\":-2.0197630808164e-4,\"fXlowNDC\":0,\"fYlowNDC\":0,\"fXUpNDC\":0,\"fYUpNDC\":0,\"fWNDC\":1,\"fHNDC\":1,\"fAbsXlowNDC\":0,\"fAbsYlowNDC\":0,\"fAbsWNDC\":1,\"fAbsHNDC\":1,\"fUxmin\":0,\"fUymin\":0,\"fUxmax\":100,\"fUymax\":0.0762662527951714,\"fTheta\":30,\"fPhi\":30,\"fAspectRatio\":0,\"fNumber\":0,\"fTickx\":0,\"fTicky\":0,\"fLogx\":0,\"fLogy\":0,\"fLogz\":0,\"fPadPaint\":0,\"fCrosshair\":0,\"fCrosshairPos\":0,\"fBorderSize\":2,\"fBorderMode\":0,\"fModified\":false,\"fGridx\":false,\"fGridy\":false,\"fAbsCoord\":false,\"fEditable\":true,\"fFixedAspectRatio\":false,\"fPrimitives\":{\"_typename\":\"TList\",\"name\":\"TList\",\"arr\":[{\"_typename\":\"TFrame\",\"fUniqueID\":0,\"fBits\":50331656,\"fLineColor\":1,\"fLineStyle\":1,\"fLineWidth\":1,\"fFillColor\":0,\"fFillStyle\":1001,\"fX1\":0,\"fY1\":0,\"fX2\":100,\"fY2\":0.0762662527951714,\"fBorderSize\":1,\"fBorderMode\":0},{\"_typename\":\"TH1D\",\"fUniqueID\":0,\"fBits\":50332168,\"fName\":\"frame_7fe66c8048f0\",\"fTitle\":\"A RooPlot of \\\"Nobs\\\"\",\"fLineColor\":602,\"fLineStyle\":1,\"fLineWidth\":1,\"fFillColor\":0,\"fFillStyle\":1001,\"fMarkerColor\":1,\"fMarkerStyle\":1,\"fMarkerSize\":1,\"fNcells\":102,\"fXaxis\":{\"_typename\":\"TAxis\",\"fUniqueID\":0,\"fBits\":50331648,\"fName\":\"xaxis\",\"fTitle\":\"Nobs\",\"fNdivisions\":510,\"fAxisColor\":1,\"fLabelColor\":1,\"fLabelFont\":42,\"fLabelOffset\":0.005,\"fLabelSize\":0.035,\"fTickLength\":0.03,\"fTitleOffset\":1,\"fTitleSize\":0.035,\"fTitleColor\":1,\"fTitleFont\":42,\"fNbins\":100,\"fXmin\":0,\"fXmax\":100,\"fXbins\":[],\"fFirst\":0,\"fLast\":0,\"fBits2\":0,\"fTimeDisplay\":false,\"fTimeFormat\":\"\",\"fLabels\":null,\"fModLabs\":null},\"fYaxis\":{\"_typename\":\"TAxis\",\"fUniqueID\":0,\"fBits\":50331648,\"fName\":\"yaxis\",\"fTitle\":\"Projection of model\",\"fNdivisions\":510,\"fAxisColor\":1,\"fLabelColor\":1,\"fLabelFont\":42,\"fLabelOffset\":0.005,\"fLabelSize\":0.035,\"fTickLength\":0.03,\"fTitleOffset\":0,\"fTitleSize\":0.035,\"fTitleColor\":1,\"fTitleFont\":42,\"fNbins\":1,\"fXmin\":0,\"fXmax\":1,\"fXbins\":[],\"fFirst\":0,\"fLast\":0,\"fBits2\":0,\"fTimeDisplay\":false,\"fTimeFormat\":\"\",\"fLabels\":null,\"fModLabs\":null},\"fZaxis\":{\"_typename\":\"TAxis\",\"fUniqueID\":0,\"fBits\":50331648,\"fName\":\"zaxis\",\"fTitle\":\"\",\"fNdivisions\":510,\"fAxisColor\":1,\"fLabelColor\":1,\"fLabelFont\":42,\"fLabelOffset\":0.005,\"fLabelSize\":0.035,\"fTickLength\":0.03,\"fTitleOffset\":1,\"fTitleSize\":0.035,\"fTitleColor\":1,\"fTitleFont\":42,\"fNbins\":1,\"fXmin\":0,\"fXmax\":1,\"fXbins\":[],\"fFirst\":0,\"fLast\":0,\"fBits2\":0,\"fTimeDisplay\":false,\"fTimeFormat\":\"\",\"fLabels\":null,\"fModLabs\":null},\"fBarOffset\":0,\"fBarWidth\":1000,\"fEntries\":1,\"fTsumw\":0,\"fTsumw2\":0,\"fTsumwx\":0,\"fTsumwx2\":0,\"fMaximum\":0.0762662527951714,\"fMinimum\":-1111,\"fNormFactor\":0,\"fContour\":[],\"fSumw2\":[],\"fOption\":\"\",\"fFunctions\":{\"_typename\":\"TList\",\"name\":\"TList\",\"arr\":[],\"opt\":[]},\"fBufferSize\":0,\"fBuffer\":[],\"fBinStatErrOpt\":0,\"fArray\":[0,0.0762662527951714,0,0,0,0,0,0,0,0,0,0,0,0,0,0,0,0,0,0,0,0,0,0,0,0,0,0,0,0,0,0,0,0,0,0,0,0,0,0,0,0,0,0,0,0,0,0,0,0,0,0,0,0,0,0,0,0,0,0,0,0,0,0,0,0,0,0,0,0,0,0,0,0,0,0,0,0,0,0,0,0,0,0,0,0,0,0,0,0,0,0,0,0,0,0,0,0,0,0,0,0]},{\"_typename\":\"RooCurve\",\"fUniqueID\":0,\"fBits\":50332680,\"fName\":\"model_Norm[Nobs]\",\"fTitle\":\"Projection of model\",\"fLineColor\":600,\"fLineStyle\":1,\"fLineWidth\":3,\"fFillColor\":0,\"fFillStyle\":1000,\"fMarkerColor\":1,\"fMarkerStyle\":1,\"fMarkerSize\":1,\"fNpoints\":364,\"fX\":[-1,-1,0,1,2,3,4,5,6,7,8,9,10,10.5,10.75,10.875,10.9375,10.96875,10.984375,11,11.5,11.75,11.875,11.9375,11.96875,11.984375,12,12.5,12.75,12.875,12.9375,12.96875,12.984375,13,13.5,13.75,13.875,13.9375,13.96875,13.984375,14,14.5,14.75,14.875,14.9375,14.96875,14.984375,15,15.5,15.75,15.875,15.9375,15.96875,15.984375,16,16.5,16.75,16.875,16.9375,16.96875,16.984375,17,17.5,17.75,17.875,17.9375,17.96875,17.984375,18,18.5,18.75,18.875,18.9375,18.96875,18.984375,19,19.5,19.75,19.875,19.9375,19.96875,19.984375,20,20.5,20.75,20.875,20.9375,20.96875,20.984375,21,21.5,21.75,21.875,21.9375,21.96875,21.984375,22,22.5,22.75,22.875,22.9375,22.96875,22.984375,23,23.5,23.75,23.875,23.9375,23.96875,23.984375,24,24.5,24.75,24.875,24.9375,24.96875,24.984375,25,25.5,25.75,25.875,25.9375,25.96875,25.984375,26,26.5,26.75,26.875,26.9375,26.96875,26.984375,27,27.5,27.75,27.875,27.9375,27.96875,27.984375,28,28.5,28.75,28.875,28.9375,28.96875,28.984375,29,30,30.5,30.75,30.875,30.9375,30.96875,30.984375,31,31.5,31.75,31.875,31.9375,31.96875,31.984375,32,32.5,32.75,32.875,32.9375,32.96875,32.984375,33,33.5,33.75,33.875,33.9375,33.96875,33.984375,34,34.5,34.75,34.875,34.9375,34.96875,34.984375,35,35.5,35.75,35.875,35.9375,35.96875,35.984375,36,36.5,36.75,36.875,36.9375,36.96875,36.984375,37,37.5,37.75,37.875,37.9375,37.96875,37.984375,38,38.5,38.75,38.875,38.9375,38.96875,38.984375,39,39.5,39.75,39.875,39.9375,39.96875,39.984375,40,40.5,40.75,40.875,40.9375,40.96875,40.984375,41,41.5,41.75,41.875,41.9375,41.96875,41.984375,42,42.5,42.75,42.875,42.9375,42.96875,42.984375,43,43.5,43.75,43.875,43.9375,43.96875,43.984375,44,44.5,44.75,44.875,44.9375,44.96875,44.984375,45,45.5,45.75,45.875,45.9375,45.96875,45.984375,46,46.5,46.75,46.875,46.9375,46.96875,46.984375,47,47.5,47.75,47.875,47.9375,47.96875,47.984375,48,48.5,48.75,48.875,48.9375,48.96875,48.984375,49,49.5,49.75,49.875,49.9375,49.96875,49.984375,50,50.5,50.75,50.875,50.9375,50.96875,50.984375,51,51.5,51.75,51.875,51.9375,51.96875,51.984375,52,52.5,52.75,52.875,52.9375,52.96875,52.984375,53,53.5,53.75,53.875,53.9375,53.96875,53.984375,54,55,56,57,58,59,60,61,62,63,64,65,66,67,68,69,70,71,72,73,74,75,76,77,78,79,80,81,82,83,84,85,86,87,88,89,90,91,92,93,94,95,96,97,98,99,100,100,101,101],\"fY\":[0,9.35762296884017e-14,9.35762296884017e-14,2.80728689065205e-12,4.21093033597809e-11,4.21093033597808e-10,3.15819775198357e-9,1.89491865119014e-8,9.47459325595069e-8,4.06053996683601e-7,1.5227024875635e-6,5.07567495854501e-6,1.5227024875635e-5,1.5227024875635e-5,1.5227024875635e-5,1.5227024875635e-5,1.5227024875635e-5,1.5227024875635e-5,1.5227024875635e-5,4.15282496608229e-5,4.15282496608229e-5,4.15282496608229e-5,4.15282496608229e-5,4.15282496608229e-5,4.15282496608229e-5,4.15282496608229e-5,1.03820624152057e-4,1.03820624152057e-4,1.03820624152057e-4,1.03820624152057e-4,1.03820624152057e-4,1.03820624152057e-4,1.03820624152057e-4,2.39586055735517e-4,2.39586055735517e-4,2.39586055735517e-4,2.39586055735517e-4,2.39586055735517e-4,2.39586055735517e-4,2.39586055735517e-4,5.13398690861821e-4,5.13398690861821e-4,5.13398690861821e-4,5.13398690861821e-4,5.13398690861821e-4,5.13398690861821e-4,5.13398690861821e-4,0.00102679738172364,0.00102679738172364,0.00102679738172364,0.00102679738172364,0.00102679738172364,0.00102679738172364,0.00102679738172364,0.00192524509073182,0.00192524509073182,0.00192524509073182,0.00192524509073182,0.00192524509073182,0.00192524509073182,0.00192524509073182,0.00339749133658558,0.00339749133658558,0.00339749133658558,0.00339749133658558,0.00339749133658558,0.00339749133658558,0.00339749133658558,0.00566248556097596,0.00566248556097596,0.00566248556097596,0.00566248556097596,0.00566248556097596,0.00566248556097596,0.00566248556097596,0.0089407666752252,0.0089407666752252,0.0089407666752252,0.0089407666752252,0.0089407666752252,0.0089407666752252,0.0089407666752252,0.0134111500128378,0.0134111500128378,0.0134111500128378,0.0134111500128378,0.0134111500128378,0.0134111500128378,0.0134111500128378,0.0191587857326255,0.0191587857326255,0.0191587857326255,0.0191587857326255,0.0191587857326255,0.0191587857326255,0.0191587857326255,0.0261256169081257,0.0261256169081257,0.0261256169081257,0.0261256169081257,0.0261256169081257,0.0261256169081257,0.0261256169081257,0.034076891619294,0.034076891619294,0.034076891619294,0.034076891619294,0.034076891619294,0.034076891619294,0.034076891619294,0.0425961145241177,0.0425961145241177,0.0425961145241177,0.0425961145241177,0.0425961145241177,0.0425961145241177,0.0425961145241177,0.0511153374289415,0.0511153374289415,0.0511153374289415,0.0511153374289415,0.0511153374289415,0.0511153374289415,0.0511153374289415,0.0589792354949325,0.0589792354949325,0.0589792354949325,0.0589792354949325,0.0589792354949325,0.0589792354949325,0.0589792354949325,0.065532483883259,0.065532483883259,0.065532483883259,0.065532483883259,0.065532483883259,0.065532483883259,0.065532483883259,0.0702133755892053,0.0702133755892053,0.0702133755892053,0.0702133755892053,0.0702133755892053,0.0702133755892053,0.0702133755892053,0.0726345264715918,0.0726345264715918,0.0726345264715918,0.0726345264715918,0.0726345264715918,0.0726345264715918,0.0726345264715918,0.0726345264715918,0.0702914772305727,0.0702914772305727,0.0702914772305727,0.0702914772305727,0.0702914772305727,0.0702914772305727,0.0702914772305727,0.0658982599036624,0.0658982599036624,0.0658982599036624,0.0658982599036624,0.0658982599036624,0.0658982599036624,0.0658982599036624,0.0599075090033283,0.0599075090033283,0.0599075090033283,0.0599075090033283,0.0599075090033283,0.0599075090033283,0.0599075090033283,0.052859566767644,0.052859566767644,0.052859566767644,0.052859566767644,0.052859566767644,0.052859566767644,0.052859566767644,0.0453082000865522,0.0453082000865522,0.0453082000865522,0.0453082000865522,0.0453082000865522,0.0453082000865522,0.0453082000865522,0.0377568334054592,0.0377568334054592,0.0377568334054592,0.0377568334054592,0.0377568334054592,0.0377568334054592,0.0377568334054592,0.03061364870713,0.03061364870713,0.03061364870713,0.03061364870713,0.03061364870713,0.03061364870713,0.03061364870713,0.0241686700319442,0.0241686700319442,0.0241686700319442,0.0241686700319442,0.0241686700319442,0.0241686700319442,0.0241686700319442,0.018591284639957,0.018591284639957,0.018591284639957,0.018591284639957,0.018591284639957,0.018591284639957,0.018591284639957,0.0139434634799679,0.0139434634799679,0.0139434634799679,0.0139434634799679,0.0139434634799679,0.0139434634799679,0.0139434634799679,0.010202534253635,0.010202534253635,0.010202534253635,0.010202534253635,0.010202534253635,0.010202534253635,0.010202534253635,0.0072875244668823,0.0072875244668823,0.0072875244668823,0.0072875244668823,0.0072875244668823,0.0072875244668823,0.0072875244668823,0.00508431939549911,0.00508431939549911,0.00508431939549911,0.00508431939549911,0.00508431939549911,0.00508431939549911,0.00508431939549911,0.00346658140602223,0.00346658140602223,0.00346658140602223,0.00346658140602223,0.00346658140602223,0.00346658140602223,0.00346658140602223,0.00231105427068137,0.00231105427068137,0.00231105427068137,0.00231105427068137,0.00231105427068137,0.00231105427068137,0.00231105427068137,0.00150720930696616,0.00150720930696616,0.00150720930696616,0.00150720930696616,0.00150720930696616,0.00150720930696616,0.00150720930696616,9.62048493808173e-4,9.62048493808173e-4,9.62048493808173e-4,9.62048493808173e-4,9.62048493808173e-4,9.62048493808173e-4,9.62048493808173e-4,6.01280308630115e-4,6.01280308630115e-4,6.01280308630115e-4,6.01280308630115e-4,6.01280308630115e-4,6.01280308630115e-4,6.01280308630115e-4,3.68130801202121e-4,3.68130801202121e-4,3.68130801202121e-4,3.68130801202121e-4,3.68130801202121e-4,3.68130801202121e-4,3.68130801202121e-4,2.20878480721268e-4,2.20878480721268e-4,2.20878480721268e-4,2.20878480721268e-4,2.20878480721268e-4,2.20878480721268e-4,2.20878480721268e-4,1.29928518071333e-4,1.29928518071333e-4,1.29928518071333e-4,1.29928518071333e-4,1.29928518071333e-4,1.29928518071333e-4,1.29928518071333e-4,7.49587604257683e-5,7.49587604257683e-5,7.49587604257683e-5,7.49587604257683e-5,7.49587604257683e-5,7.49587604257683e-5,7.49587604257683e-5,4.24294870334529e-5,4.24294870334529e-5,4.24294870334529e-5,4.24294870334529e-5,4.24294870334529e-5,4.24294870334529e-5,4.24294870334529e-5,2.35719372408077e-5,1.28574203131675e-5,6.88790373919709e-6,3.62521249431429e-6,1.87510991085217e-6,9.53445717382495e-7,4.76722858691219e-7,2.34453864930114e-7,1.13445418514574e-7,5.40216278640837e-8,2.53226380612887e-8,1.16873714129025e-8,5.31244155131931e-9,2.37870517223246e-9,1.04942875245551e-9,4.56273370632821e-10,1.95545730271224e-10,8.2624956452627e-11,3.44270651885932e-11,1.41481089816139e-11,5.7357198574113e-12,2.29428794296448e-12,9.05639977485958e-13,3.52846744475043e-13,1.35710286336558e-13,5.15355517733813e-14,1.93258319150156e-14,7.15771552407984e-15,2.61867641124863e-15,9.46509546234542e-16,3.38039123655195e-16,1.19307925995951e-16,4.16190439520757e-17,1.43513944662322e-17,4.89252084076134e-18,1.64916432834658e-18,5.49721442782163e-19,1.81226849268832e-19,5.90957117180962e-20,1.90631328122907e-20,6.08397855711413e-21,1.92125638645713e-21,6.00392620767808e-22,1.85688439412721e-22,5.68433998202252e-23,1.7225272672795e-23,5.16758180183854e-24,5.16758180183854e-24,5.16758180183854e-24,0],\"fFunctions\":{\"_typename\":\"TList\",\"name\":\"TList\",\"arr\":[],\"opt\":[]},\"fHistogram\":{\"_typename\":\"TH1F\",\"fUniqueID\":0,\"fBits\":50332168,\"fName\":\"model_Norm[Nobs]\",\"fTitle\":\"Projection of model\",\"fLineColor\":602,\"fLineStyle\":1,\"fLineWidth\":1,\"fFillColor\":0,\"fFillStyle\":1001,\"fMarkerColor\":1,\"fMarkerStyle\":1,\"fMarkerSize\":1,\"fNcells\":366,\"fXaxis\":{\"_typename\":\"TAxis\",\"fUniqueID\":0,\"fBits\":50331648,\"fName\":\"xaxis\",\"fTitle\":\"\",\"fNdivisions\":510,\"fAxisColor\":1,\"fLabelColor\":1,\"fLabelFont\":42,\"fLabelOffset\":0.005,\"fLabelSize\":0.035,\"fTickLength\":0.03,\"fTitleOffset\":1,\"fTitleSize\":0.035,\"fTitleColor\":1,\"fTitleFont\":42,\"fNbins\":364,\"fXmin\":-11.2,\"fXmax\":111.2,\"fXbins\":[],\"fFirst\":0,\"fLast\":0,\"fBits2\":0,\"fTimeDisplay\":false,\"fTimeFormat\":\"\",\"fLabels\":null,\"fModLabs\":null},\"fYaxis\":{\"_typename\":\"TAxis\",\"fUniqueID\":0,\"fBits\":50331648,\"fName\":\"yaxis\",\"fTitle\":\"\",\"fNdivisions\":510,\"fAxisColor\":1,\"fLabelColor\":1,\"fLabelFont\":42,\"fLabelOffset\":0.005,\"fLabelSize\":0.035,\"fTickLength\":0.03,\"fTitleOffset\":0,\"fTitleSize\":0.035,\"fTitleColor\":1,\"fTitleFont\":42,\"fNbins\":1,\"fXmin\":0,\"fXmax\":0.079897979118751,\"fXbins\":[],\"fFirst\":0,\"fLast\":0,\"fBits2\":0,\"fTimeDisplay\":false,\"fTimeFormat\":\"\",\"fLabels\":null,\"fModLabs\":null},\"fZaxis\":{\"_typename\":\"TAxis\",\"fUniqueID\":0,\"fBits\":50331648,\"fName\":\"zaxis\",\"fTitle\":\"\",\"fNdivisions\":510,\"fAxisColor\":1,\"fLabelColor\":1,\"fLabelFont\":42,\"fLabelOffset\":0.005,\"fLabelSize\":0.035,\"fTickLength\":0.03,\"fTitleOffset\":1,\"fTitleSize\":0.035,\"fTitleColor\":1,\"fTitleFont\":42,\"fNbins\":1,\"fXmin\":0,\"fXmax\":1,\"fXbins\":[],\"fFirst\":0,\"fLast\":0,\"fBits2\":0,\"fTimeDisplay\":false,\"fTimeFormat\":\"\",\"fLabels\":null,\"fModLabs\":null},\"fBarOffset\":0,\"fBarWidth\":1000,\"fEntries\":0,\"fTsumw\":0,\"fTsumw2\":0,\"fTsumwx\":0,\"fTsumwx2\":0,\"fMaximum\":0.079897979118751,\"fMinimum\":0,\"fNormFactor\":0,\"fContour\":[],\"fSumw2\":[],\"fOption\":\"\",\"fFunctions\":{\"_typename\":\"TList\",\"name\":\"TList\",\"arr\":[],\"opt\":[]},\"fBufferSize\":0,\"fBuffer\":[],\"fBinStatErrOpt\":0,\"fArray\":[0,0,0,0,0,0,0,0,0,0,0,0,0,0,0,0,0,0,0,0,0,0,0,0,0,0,0,0,0,0,0,0,0,0,0,0,0,0,0,0,0,0,0,0,0,0,0,0,0,0,0,0,0,0,0,0,0,0,0,0,0,0,0,0,0,0,0,0,0,0,0,0,0,0,0,0,0,0,0,0,0,0,0,0,0,0,0,0,0,0,0,0,0,0,0,0,0,0,0,0,0,0,0,0,0,0,0,0,0,0,0,0,0,0,0,0,0,0,0,0,0,0,0,0,0,0,0,0,0,0,0,0,0,0,0,0,0,0,0,0,0,0,0,0,0,0,0,0,0,0,0,0,0,0,0,0,0,0,0,0,0,0,0,0,0,0,0,0,0,0,0,0,0,0,0,0,0,0,0,0,0,0,0,0,0,0,0,0,0,0,0,0,0,0,0,0,0,0,0,0,0,0,0,0,0,0,0,0,0,0,0,0,0,0,0,0,0,0,0,0,0,0,0,0,0,0,0,0,0,0,0,0,0,0,0,0,0,0,0,0,0,0,0,0,0,0,0,0,0,0,0,0,0,0,0,0,0,0,0,0,0,0,0,0,0,0,0,0,0,0,0,0,0,0,0,0,0,0,0,0,0,0,0,0,0,0,0,0,0,0,0,0,0,0,0,0,0,0,0,0,0,0,0,0,0,0,0,0,0,0,0,0,0,0,0,0,0,0,0,0,0,0,0,0,0,0,0,0,0,0,0,0,0,0,0,0,0,0,0,0,0,0,0,0,0,0,0,0,0,0,0,0,0,0,0,0,0,0,0,0,0,0,0,0,0,0]},\"fMinimum\":-1111,\"fMaximum\":-1111,\"_yAxisLabel\":\"Projection of model\",\"_ymin\":0,\"_ymax\":0.0726345264715918,\"_normValue\":0},{\"$ref\":3},{\"_typename\":\"TPaveText\",\"fUniqueID\":0,\"fBits\":50331657,\"fLineColor\":1,\"fLineStyle\":1,\"fLineWidth\":1,\"fFillColor\":0,\"fFillStyle\":0,\"fX1\":27.7370686337737,\"fY1\":0.0800795664364316,\"fX2\":72.2629313662263,\"fY2\":0.0853228714723623,\"fX1NDC\":0.321896551724138,\"fY1NDC\":0.940000003948808,\"fX2NDC\":0.678103448275862,\"fY2NDC\":0.995000004768372,\"fBorderSize\":0,\"fInit\":1,\"fShadowColor\":1,\"fCornerRadius\":0,\"fOption\":\"blNDC\",\"fName\":\"title\",\"fTextAngle\":0,\"fTextSize\":0,\"fTextAlign\":22,\"fTextColor\":1,\"fTextFont\":42,\"fLabel\":\"\",\"fLongest\":19,\"fMargin\":0.05,\"fLines\":{\"_typename\":\"TList\",\"name\":\"TList\",\"arr\":[{\"_typename\":\"TLatex\",\"fUniqueID\":0,\"fBits\":50331648,\"fName\":\"\",\"fTitle\":\"A RooPlot of \\\"Nobs\\\"\",\"fTextAngle\":0,\"fTextSize\":0,\"fTextAlign\":0,\"fTextColor\":0,\"fTextFont\":0,\"fX\":0,\"fY\":0,\"fLineColor\":1,\"fLineStyle\":1,\"fLineWidth\":2,\"fLimitFactorSize\":3,\"fOriginSize\":0.0467500016093254}],\"opt\":[\"\"]}}],\"opt\":[\"\",\"FUNC\",\"l\",\"AXISSAME\",\"blNDC\"]},\"fExecs\":null,\"fName\":\"c1\",\"fTitle\":\"c1\",\"fNumPaletteColor\":0,\"fNextPaletteColor\":0,\"fDISPLAY\":\"$DISPLAY\",\"fDoubleBuffer\":0,\"fRetained\":true,\"fXsizeUser\":0,\"fYsizeUser\":0,\"fXsizeReal\":20,\"fYsizeReal\":14.28571,\"fWindowTopX\":0,\"fWindowTopY\":0,\"fWindowWidth\":0,\"fWindowHeight\":0,\"fCw\":696,\"fCh\":472,\"fCatt\":{\"_typename\":\"TAttCanvas\",\"fXBetween\":2,\"fYBetween\":2,\"fTitleFromTop\":1.2,\"fXdate\":0.2,\"fYdate\":0.3,\"fAdate\":1},\"kMoveOpaque\":true,\"kResizeOpaque\":true,\"fHighLightColor\":2,\"fBatch\":true,\"kShowEventStatus\":false,\"kAutoExec\":true,\"kMenuBar\":true});\n",
       "       Core.draw(\"root_plot_1\", obj, \"\");\n",
       "     }\n",
       " );\n",
       "</script>\n"
      ],
      "text/plain": [
       "<IPython.core.display.HTML object>"
      ]
     },
     "metadata": {},
     "output_type": "display_data"
    }
   ],
   "source": [
    "TCanvas c;\n",
    "w.pdf(\"model\")->plotOn(frame,RooFit::Precision(1e-4)) ;\n",
    "frame->Draw() ;\n",
    "c.Draw();"
   ]
  },
  {
   "cell_type": "markdown",
   "metadata": {},
   "source": [
    "## Construct a dataset containing a single observed event count\n",
    "\n",
    "Construct an empty dataset for observable Nobs"
   ]
  },
  {
   "cell_type": "code",
   "execution_count": 7,
   "metadata": {
    "collapsed": true
   },
   "outputs": [],
   "source": [
    "RooDataSet d(\"d\",\"d\",*w.var(\"Nobs\")) ;"
   ]
  },
  {
   "cell_type": "markdown",
   "metadata": {},
   "source": [
    "Set Nobs to desired observed event count"
   ]
  },
  {
   "cell_type": "code",
   "execution_count": 8,
   "metadata": {
    "collapsed": true
   },
   "outputs": [],
   "source": [
    "w.var(\"Nobs\")->setVal(25) ;"
   ]
  },
  {
   "cell_type": "markdown",
   "metadata": {},
   "source": [
    "Add observation of 25 events to dataset"
   ]
  },
  {
   "cell_type": "code",
   "execution_count": 9,
   "metadata": {
    "collapsed": true
   },
   "outputs": [],
   "source": [
    "d.add(*w.var(\"Nobs\")) ;"
   ]
  },
  {
   "cell_type": "markdown",
   "metadata": {},
   "source": [
    "## Fit model to observed data (one step method )\n",
    "\n",
    "Perform ML fit of model to data (one-step method)"
   ]
  },
  {
   "cell_type": "code",
   "execution_count": 10,
   "metadata": {},
   "outputs": [
    {
     "name": "stdout",
     "output_type": "stream",
     "text": [
      "[#1] INFO:Minization -- createNLL: caching constraint set under name CONSTR_OF_PDF_model_FOR_OBS_Nobs with 0 entries\n",
      "[#1] INFO:Minization -- RooMinimizer::optimizeConst: activating const optimization\n",
      " **********\n",
      " **    1 **SET PRINT           1\n",
      " **********\n",
      " **********\n",
      " **    2 **SET NOGRAD\n",
      " **********\n",
      " PARAMETER DEFINITIONS:\n",
      "    NO.   NAME         VALUE      STEP SIZE      LIMITS\n",
      "     1 mu           1.00000e+00  1.00000e+00   -1.00000e+00  1.00000e+01\n",
      " **********\n",
      " **    3 **SET ERR         0.5\n",
      " **********\n",
      " **********\n",
      " **    4 **SET PRINT           1\n",
      " **********\n",
      " **********\n",
      " **    5 **SET STR           1\n",
      " **********\n",
      " NOW USING STRATEGY  1: TRY TO BALANCE SPEED AGAINST RELIABILITY\n",
      " **********\n",
      " **    6 **MIGRAD         500           1\n",
      " **********\n",
      " FIRST CALL TO USER FUNCTION AT NEW START POINT, WITH IFLAG=4.\n",
      " START MIGRAD MINIMIZATION.  STRATEGY  1.  CONVERGENCE WHEN EDM .LT. 1.00e-03\n",
      " FCN=2.97367 FROM MIGRAD    STATUS=INITIATE        4 CALLS           5 TOTAL\n",
      "                     EDM= unknown      STRATEGY= 1      NO ERROR MATRIX       \n",
      "  EXT PARAMETER               CURRENT GUESS       STEP         FIRST   \n",
      "  NO.   NAME      VALUE            ERROR          SIZE      DERIVATIVE \n",
      "   1  mu           1.00000e+00   1.00000e+00   2.43190e-01   7.07107e+00\n",
      "                               ERR DEF= 0.5\n",
      " MIGRAD MINIMIZATION HAS CONVERGED.\n",
      " MIGRAD WILL VERIFY CONVERGENCE AND ERROR MATRIX.\n",
      " COVARIANCE MATRIX CALCULATED SUCCESSFULLY\n",
      " FCN=2.53171 FROM MIGRAD    STATUS=CONVERGED      15 CALLS          16 TOTAL\n",
      "                     EDM=3.72419e-09    STRATEGY= 1      ERROR MATRIX ACCURATE \n",
      "  EXT PARAMETER                                   STEP         FIRST   \n",
      "  NO.   NAME      VALUE            ERROR          SIZE      DERIVATIVE \n",
      "   1  mu           5.00031e-01   4.98543e-01   1.59282e-04   4.60738e-04\n",
      "                               ERR DEF= 0.5\n",
      " EXTERNAL ERROR MATRIX.    NDIM=  25    NPAR=  1    ERR DEF=0.5\n",
      "  2.500e-01 \n",
      " **********\n",
      " **    7 **SET ERR         0.5\n",
      " **********\n",
      " **********\n",
      " **    8 **SET PRINT           1\n",
      " **********\n",
      " **********\n",
      " **    9 **HESSE         500\n",
      " **********\n",
      " COVARIANCE MATRIX CALCULATED SUCCESSFULLY\n",
      " FCN=2.53171 FROM HESSE     STATUS=OK              5 CALLS          21 TOTAL\n",
      "                     EDM=3.72415e-09    STRATEGY= 1      ERROR MATRIX ACCURATE \n",
      "  EXT PARAMETER                                INTERNAL      INTERNAL  \n",
      "  NO.   NAME      VALUE            ERROR       STEP SIZE       VALUE   \n",
      "   1  mu           5.00031e-01   4.98543e-01   3.18564e-05  -8.14332e-01\n",
      "                               ERR DEF= 0.5\n",
      " EXTERNAL ERROR MATRIX.    NDIM=  25    NPAR=  1    ERR DEF=0.5\n",
      "  2.500e-01 \n",
      "[#1] INFO:Minization -- RooMinimizer::optimizeConst: deactivating const optimization\n"
     ]
    }
   ],
   "source": [
    "w.pdf(\"model\")->fitTo(d) ;"
   ]
  },
  {
   "cell_type": "markdown",
   "metadata": {},
   "source": [
    "## Construct -log Likelihood L(mu) from model and data\n",
    "\n",
    "Construct $-\\log(\\mathcal{L})$ function"
   ]
  },
  {
   "cell_type": "code",
   "execution_count": 11,
   "metadata": {},
   "outputs": [
    {
     "name": "stdout",
     "output_type": "stream",
     "text": [
      "[#1] INFO:Minization -- createNLL picked up cached consraints from workspace with 0 entries\n"
     ]
    }
   ],
   "source": [
    "RooAbsReal* nll = w.pdf(\"model\")->createNLL(d) ;"
   ]
  },
  {
   "cell_type": "markdown",
   "metadata": {},
   "source": [
    "Plot $-\\log\\mathcal{L}(\\mu)$ in the range [-1,10]"
   ]
  },
  {
   "cell_type": "code",
   "execution_count": 12,
   "metadata": {},
   "outputs": [
    {
     "data": {
      "text/html": [
       "\n",
       "<div id=\"root_plot_2\"\n",
       "     style=\"width: 696px; height: 472px\">\n",
       "</div>\n",
       "\n",
       "<script>\n",
       " requirejs.config({\n",
       "     paths: {\n",
       "       'JSRootCore' : 'https://root.cern.ch/js/notebook//scripts/JSRootCore',\n",
       "     }\n",
       "   });\n",
       " require(['JSRootCore'],\n",
       "     function(Core) {\n",
       "       var obj = Core.JSONR_unref({\"_typename\":\"TCanvas\",\"fUniqueID\":0,\"fBits\":36896776,\"fLineColor\":1,\"fLineStyle\":1,\"fLineWidth\":1,\"fFillColor\":0,\"fFillStyle\":1001,\"fLeftMargin\":0.1,\"fRightMargin\":0.1,\"fBottomMargin\":0.1,\"fTopMargin\":0.1,\"fXfile\":2,\"fYfile\":2,\"fAfile\":1,\"fXstat\":0.99,\"fYstat\":0.99,\"fAstat\":2,\"fFrameFillColor\":0,\"fFrameLineColor\":1,\"fFrameFillStyle\":1001,\"fFrameLineStyle\":1,\"fFrameLineWidth\":1,\"fFrameBorderSize\":1,\"fFrameBorderMode\":0,\"fX1\":-2.37500010244549,\"fY1\":-7.18408512289691,\"fX2\":11.3750001024455,\"fY2\":64.6567618240238,\"fXtoAbsPixelk\":120.218235212396,\"fXtoPixelk\":120.218235212396,\"fXtoPixel\":50.6181810639121,\"fYtoAbsPixelk\":424.800047186661,\"fYtoPixelk\":424.800047186661,\"fYtoPixel\":-6.57007844504861,\"fUtoAbsPixelk\":5e-5,\"fUtoPixelk\":5e-5,\"fUtoPixel\":696,\"fVtoAbsPixelk\":472.00005,\"fVtoPixelk\":472,\"fVtoPixel\":-472,\"fAbsPixeltoXk\":-2.37500010244549,\"fPixeltoXk\":-2.37500010244549,\"fPixeltoX\":0.0197557474208204,\"fAbsPixeltoYk\":64.6567618240238,\"fPixeltoYk\":-7.18408512289691,\"fPixeltoY\":-0.152205184209578,\"fXlowNDC\":0,\"fYlowNDC\":0,\"fXUpNDC\":0,\"fYUpNDC\":0,\"fWNDC\":1,\"fHNDC\":1,\"fAbsXlowNDC\":0,\"fAbsYlowNDC\":0,\"fAbsWNDC\":1,\"fAbsHNDC\":1,\"fUxmin\":-1,\"fUymin\":0,\"fUxmax\":10,\"fUymax\":57.4726767011269,\"fTheta\":30,\"fPhi\":30,\"fAspectRatio\":0,\"fNumber\":0,\"fTickx\":0,\"fTicky\":0,\"fLogx\":0,\"fLogy\":0,\"fLogz\":0,\"fPadPaint\":0,\"fCrosshair\":0,\"fCrosshairPos\":0,\"fBorderSize\":2,\"fBorderMode\":0,\"fModified\":false,\"fGridx\":false,\"fGridy\":false,\"fAbsCoord\":false,\"fEditable\":true,\"fFixedAspectRatio\":false,\"fPrimitives\":{\"_typename\":\"TList\",\"name\":\"TList\",\"arr\":[{\"_typename\":\"TFrame\",\"fUniqueID\":0,\"fBits\":50331656,\"fLineColor\":1,\"fLineStyle\":1,\"fLineWidth\":1,\"fFillColor\":0,\"fFillStyle\":1001,\"fX1\":-1,\"fY1\":0,\"fX2\":10,\"fY2\":57.4726767011269,\"fBorderSize\":1,\"fBorderMode\":0},{\"_typename\":\"TH1D\",\"fUniqueID\":0,\"fBits\":50332168,\"fName\":\"frame_7fe66cc6db50\",\"fTitle\":\"A RooPlot of \\\"mu\\\"\",\"fLineColor\":602,\"fLineStyle\":1,\"fLineWidth\":1,\"fFillColor\":0,\"fFillStyle\":1001,\"fMarkerColor\":1,\"fMarkerStyle\":1,\"fMarkerSize\":1,\"fNcells\":102,\"fXaxis\":{\"_typename\":\"TAxis\",\"fUniqueID\":0,\"fBits\":50331648,\"fName\":\"xaxis\",\"fTitle\":\"mu\",\"fNdivisions\":510,\"fAxisColor\":1,\"fLabelColor\":1,\"fLabelFont\":42,\"fLabelOffset\":0.005,\"fLabelSize\":0.035,\"fTickLength\":0.03,\"fTitleOffset\":1,\"fTitleSize\":0.035,\"fTitleColor\":1,\"fTitleFont\":42,\"fNbins\":100,\"fXmin\":-1,\"fXmax\":10,\"fXbins\":[],\"fFirst\":0,\"fLast\":0,\"fBits2\":0,\"fTimeDisplay\":false,\"fTimeFormat\":\"\",\"fLabels\":null,\"fModLabs\":null},\"fYaxis\":{\"_typename\":\"TAxis\",\"fUniqueID\":0,\"fBits\":50331648,\"fName\":\"yaxis\",\"fTitle\":\"Projection of -log(likelihood)\",\"fNdivisions\":510,\"fAxisColor\":1,\"fLabelColor\":1,\"fLabelFont\":42,\"fLabelOffset\":0.005,\"fLabelSize\":0.035,\"fTickLength\":0.03,\"fTitleOffset\":0,\"fTitleSize\":0.035,\"fTitleColor\":1,\"fTitleFont\":42,\"fNbins\":1,\"fXmin\":0,\"fXmax\":1,\"fXbins\":[],\"fFirst\":0,\"fLast\":0,\"fBits2\":0,\"fTimeDisplay\":false,\"fTimeFormat\":\"\",\"fLabels\":null,\"fModLabs\":null},\"fZaxis\":{\"_typename\":\"TAxis\",\"fUniqueID\":0,\"fBits\":50331648,\"fName\":\"zaxis\",\"fTitle\":\"\",\"fNdivisions\":510,\"fAxisColor\":1,\"fLabelColor\":1,\"fLabelFont\":42,\"fLabelOffset\":0.005,\"fLabelSize\":0.035,\"fTickLength\":0.03,\"fTitleOffset\":1,\"fTitleSize\":0.035,\"fTitleColor\":1,\"fTitleFont\":42,\"fNbins\":1,\"fXmin\":0,\"fXmax\":1,\"fXbins\":[],\"fFirst\":0,\"fLast\":0,\"fBits2\":0,\"fTimeDisplay\":false,\"fTimeFormat\":\"\",\"fLabels\":null,\"fModLabs\":null},\"fBarOffset\":0,\"fBarWidth\":1000,\"fEntries\":1,\"fTsumw\":0,\"fTsumw2\":0,\"fTsumwx\":0,\"fTsumwx2\":0,\"fMaximum\":57.4726767011269,\"fMinimum\":-1111,\"fNormFactor\":0,\"fContour\":[],\"fSumw2\":[],\"fOption\":\"\",\"fFunctions\":{\"_typename\":\"TList\",\"name\":\"TList\",\"arr\":[],\"opt\":[]},\"fBufferSize\":0,\"fBuffer\":[],\"fBinStatErrOpt\":0,\"fArray\":[0,57.4726767011269,0,0,0,0,0,0,0,0,0,0,0,0,0,0,0,0,0,0,0,0,0,0,0,0,0,0,0,0,0,0,0,0,0,0,0,0,0,0,0,0,0,0,0,0,0,0,0,0,0,0,0,0,0,0,0,0,0,0,0,0,0,0,0,0,0,0,0,0,0,0,0,0,0,0,0,0,0,0,0,0,0,0,0,0,0,0,0,0,0,0,0,0,0,0,0,0,0,0,0,0]},{\"_typename\":\"RooCurve\",\"fUniqueID\":0,\"fBits\":50332680,\"fName\":\"nll_model_d_Norm[mu]\",\"fTitle\":\"Projection of -log(likelihood)\",\"fLineColor\":600,\"fLineStyle\":1,\"fLineWidth\":3,\"fFillColor\":0,\"fFillStyle\":1000,\"fMarkerColor\":1,\"fMarkerStyle\":1,\"fMarkerSize\":1,\"fNpoints\":106,\"fX\":[-1.11,-1.11,-1,-0.89,-0.78,-0.67,-0.56,-0.45,-0.34,-0.23,-0.12,-0.01,0.1,0.21,0.32,0.43,0.54,0.65,0.76,0.87,0.98,1.09,1.2,1.31,1.42,1.53,1.64,1.75,1.86,1.97,2.08,2.19,2.3,2.41,2.52,2.63,2.74,2.85,2.96,3.07,3.18,3.29,3.4,3.51,3.62,3.73,3.84,3.95,4.06,4.17,4.28,4.39,4.5,4.61,4.72,4.83,4.94,5.05,5.16,5.27,5.38,5.49,5.6,5.71,5.82,5.93,6.04,6.15,6.26,6.37,6.48,6.59,6.7,6.81,6.92,7.03,7.14,7.25,7.36,7.47,7.58,7.69,7.8,7.91,8.02,8.13,8.24,8.35,8.46,8.57,8.68,8.79,8.9,9.01,9.12,9.23,9.34,9.45,9.56,9.67,9.78,9.89,10,10,10.11,10.11],\"fY\":[0,10.4389778981294,10.4389778981294,8.92997751502331,7.66770642950025,6.60950434228781,5.72290005843165,4.9826046248505,4.36853783891807,3.86448923348593,3.45718347708291,3.13561192971935,2.89054427989495,2.71416500988785,2.59979825617391,2.54169646431794,2.53487587236825,2.5749868981761,2.6582109049029,2.78117715384113,2.94089538519655,3.13470062538804,3.36020765298735,3.61527316340508,3.89796412126653,4.20653112449924,4.53938585691315,4.89508189857138,5.27229831121088,5.6698255306519,6.08655318772761,6.52145954977819,6.97360233064138,7.44211066166015,7.92617805202441,8.42505619567027,8.93804950543506,9.46451027432826,10.0038343794963,10.5554574574053,11.1188514894634,11.6935217461413,12.2790040449275,12.8748622833355,13.4806862127634,14.0960894222373,14.7207075028065,15.3541963633237,15.9962306662165,16.6465023472933,17.3047191764684,17.9706033067074,18.6438897472636,19.3243246859942,20.0116635767775,20.7056689052941,21.4061075537599,22.1127477065994,22.8253552773943,23.5436898932758,24.2675005433557,24.9965210757499,25.7304658023122,26.4690255278346,27.2118643476113,27.9586175434376,28.7088908490836,29.4622612559916,30.2182794006343,30.9764734350397,31.7363541521694,32.4974210367328,33.2591688522542,34.0210943613701,34.782702804975,35.5435138273215,36.3030666156029,37.0609241106598,37.8166762290183,38.5699421076101,39.3203714369952,40.0676449856926,40.8114744386732,41.5516016799464,42.2877976458295,43.019860865222,43.7476157889142,44.470910993923,45.18961733273,45.9036260821959,46.6128471334818,47.317207252785,48.016648433174,48.7111263501382,49.4006089274878,50.085075015692,50.7645131814035,51.4389206045522,52.1083020777964,52.7726691021302,53.4320390719054,54.0864345423246,54.7358825725018,54.7358825725018,54.7358825725018,0],\"fFunctions\":{\"_typename\":\"TList\",\"name\":\"TList\",\"arr\":[],\"opt\":[]},\"fHistogram\":{\"_typename\":\"TH1F\",\"fUniqueID\":0,\"fBits\":50332168,\"fName\":\"nll_model_d_Norm[mu]\",\"fTitle\":\"Projection of -log(likelihood)\",\"fLineColor\":602,\"fLineStyle\":1,\"fLineWidth\":1,\"fFillColor\":0,\"fFillStyle\":1001,\"fMarkerColor\":1,\"fMarkerStyle\":1,\"fMarkerSize\":1,\"fNcells\":108,\"fXaxis\":{\"_typename\":\"TAxis\",\"fUniqueID\":0,\"fBits\":50331648,\"fName\":\"xaxis\",\"fTitle\":\"\",\"fNdivisions\":510,\"fAxisColor\":1,\"fLabelColor\":1,\"fLabelFont\":42,\"fLabelOffset\":0.005,\"fLabelSize\":0.035,\"fTickLength\":0.03,\"fTitleOffset\":1,\"fTitleSize\":0.035,\"fTitleColor\":1,\"fTitleFont\":42,\"fNbins\":106,\"fXmin\":-2.232,\"fXmax\":11.232,\"fXbins\":[],\"fFirst\":0,\"fLast\":0,\"fBits2\":0,\"fTimeDisplay\":false,\"fTimeFormat\":\"\",\"fLabels\":null,\"fModLabs\":null},\"fYaxis\":{\"_typename\":\"TAxis\",\"fUniqueID\":0,\"fBits\":50331648,\"fName\":\"yaxis\",\"fTitle\":\"\",\"fNdivisions\":510,\"fAxisColor\":1,\"fLabelColor\":1,\"fLabelFont\":42,\"fLabelOffset\":0.005,\"fLabelSize\":0.035,\"fTickLength\":0.03,\"fTitleOffset\":0,\"fTitleSize\":0.035,\"fTitleColor\":1,\"fTitleFont\":42,\"fNbins\":1,\"fXmin\":0,\"fXmax\":60.209470829752,\"fXbins\":[],\"fFirst\":0,\"fLast\":0,\"fBits2\":0,\"fTimeDisplay\":false,\"fTimeFormat\":\"\",\"fLabels\":null,\"fModLabs\":null},\"fZaxis\":{\"_typename\":\"TAxis\",\"fUniqueID\":0,\"fBits\":50331648,\"fName\":\"zaxis\",\"fTitle\":\"\",\"fNdivisions\":510,\"fAxisColor\":1,\"fLabelColor\":1,\"fLabelFont\":42,\"fLabelOffset\":0.005,\"fLabelSize\":0.035,\"fTickLength\":0.03,\"fTitleOffset\":1,\"fTitleSize\":0.035,\"fTitleColor\":1,\"fTitleFont\":42,\"fNbins\":1,\"fXmin\":0,\"fXmax\":1,\"fXbins\":[],\"fFirst\":0,\"fLast\":0,\"fBits2\":0,\"fTimeDisplay\":false,\"fTimeFormat\":\"\",\"fLabels\":null,\"fModLabs\":null},\"fBarOffset\":0,\"fBarWidth\":1000,\"fEntries\":0,\"fTsumw\":0,\"fTsumw2\":0,\"fTsumwx\":0,\"fTsumwx2\":0,\"fMaximum\":60.209470829752,\"fMinimum\":0,\"fNormFactor\":0,\"fContour\":[],\"fSumw2\":[],\"fOption\":\"\",\"fFunctions\":{\"_typename\":\"TList\",\"name\":\"TList\",\"arr\":[],\"opt\":[]},\"fBufferSize\":0,\"fBuffer\":[],\"fBinStatErrOpt\":0,\"fArray\":[0,0,0,0,0,0,0,0,0,0,0,0,0,0,0,0,0,0,0,0,0,0,0,0,0,0,0,0,0,0,0,0,0,0,0,0,0,0,0,0,0,0,0,0,0,0,0,0,0,0,0,0,0,0,0,0,0,0,0,0,0,0,0,0,0,0,0,0,0,0,0,0,0,0,0,0,0,0,0,0,0,0,0,0,0,0,0,0,0,0,0,0,0,0,0,0,0,0,0,0,0,0,0,0,0,0,0,0]},\"fMinimum\":-1111,\"fMaximum\":-1111,\"_yAxisLabel\":\"Projection of -log(likelihood)\",\"_ymin\":0,\"_ymax\":54.7358825725018,\"_normValue\":0},{\"$ref\":3},{\"_typename\":\"TPaveText\",\"fUniqueID\":0,\"fBits\":50331657,\"fLineColor\":1,\"fLineStyle\":1,\"fLineWidth\":1,\"fFillColor\":0,\"fFillStyle\":0,\"fX1\":2.28814651876495,\"fY1\":60.3463112908942,\"fX2\":6.71185348123505,\"fY2\":64.297557931853,\"fX1NDC\":0.339137931034483,\"fY1NDC\":0.940000003948808,\"fX2NDC\":0.660862068965517,\"fY2NDC\":0.995000004768372,\"fBorderSize\":0,\"fInit\":1,\"fShadowColor\":1,\"fCornerRadius\":0,\"fOption\":\"blNDC\",\"fName\":\"title\",\"fTextAngle\":0,\"fTextSize\":0,\"fTextAlign\":22,\"fTextColor\":1,\"fTextFont\":42,\"fLabel\":\"\",\"fLongest\":17,\"fMargin\":0.05,\"fLines\":{\"_typename\":\"TList\",\"name\":\"TList\",\"arr\":[{\"_typename\":\"TLatex\",\"fUniqueID\":0,\"fBits\":50331648,\"fName\":\"\",\"fTitle\":\"A RooPlot of \\\"mu\\\"\",\"fTextAngle\":0,\"fTextSize\":0,\"fTextAlign\":0,\"fTextColor\":0,\"fTextFont\":0,\"fX\":0,\"fY\":0,\"fLineColor\":1,\"fLineStyle\":1,\"fLineWidth\":2,\"fLimitFactorSize\":3,\"fOriginSize\":0.0467500016093254}],\"opt\":[\"\"]}}],\"opt\":[\"\",\"FUNC\",\"l\",\"AXISSAME\",\"blNDC\"]},\"fExecs\":null,\"fName\":\"c1\",\"fTitle\":\"c1\",\"fNumPaletteColor\":0,\"fNextPaletteColor\":0,\"fDISPLAY\":\"$DISPLAY\",\"fDoubleBuffer\":0,\"fRetained\":true,\"fXsizeUser\":0,\"fYsizeUser\":0,\"fXsizeReal\":20,\"fYsizeReal\":14.28571,\"fWindowTopX\":0,\"fWindowTopY\":0,\"fWindowWidth\":0,\"fWindowHeight\":0,\"fCw\":696,\"fCh\":472,\"fCatt\":{\"_typename\":\"TAttCanvas\",\"fXBetween\":2,\"fYBetween\":2,\"fTitleFromTop\":1.2,\"fXdate\":0.2,\"fYdate\":0.3,\"fAdate\":1},\"kMoveOpaque\":true,\"kResizeOpaque\":true,\"fHighLightColor\":2,\"fBatch\":true,\"kShowEventStatus\":false,\"kAutoExec\":true,\"kMenuBar\":true});\n",
       "       Core.draw(\"root_plot_2\", obj, \"\");\n",
       "     }\n",
       " );\n",
       "</script>\n"
      ],
      "text/plain": [
       "<IPython.core.display.HTML object>"
      ]
     },
     "metadata": {},
     "output_type": "display_data"
    }
   ],
   "source": [
    "RooPlot* frame2 = w.var(\"mu\")->frame(-1,10) ;\n",
    "nll->plotOn(frame2) ;\n",
    "frame2->Draw() ;\n",
    "c.Draw();"
   ]
  },
  {
   "cell_type": "markdown",
   "metadata": {},
   "source": [
    "Construct the (profile) likelihood ratio $\\lambda = -\\log \\mathcal{L}(\\mu) / \\mathcal{L}(\\hat{\\mu})$"
   ]
  },
  {
   "cell_type": "code",
   "execution_count": 13,
   "metadata": {
    "collapsed": true
   },
   "outputs": [],
   "source": [
    "RooAbsReal* lambda = nll->createProfile(*w.var(\"mu\")) ;"
   ]
  },
  {
   "cell_type": "markdown",
   "metadata": {},
   "source": [
    "Plot the likelihood ratio on the same (with a red line color to distinguish) "
   ]
  },
  {
   "cell_type": "code",
   "execution_count": 14,
   "metadata": {},
   "outputs": [
    {
     "data": {
      "text/html": [
       "\n",
       "<div id=\"root_plot_3\"\n",
       "     style=\"width: 696px; height: 472px\">\n",
       "</div>\n",
       "\n",
       "<script>\n",
       " requirejs.config({\n",
       "     paths: {\n",
       "       'JSRootCore' : 'https://root.cern.ch/js/notebook//scripts/JSRootCore',\n",
       "     }\n",
       "   });\n",
       " require(['JSRootCore'],\n",
       "     function(Core) {\n",
       "       var obj = Core.JSONR_unref({\"_typename\":\"TCanvas\",\"fUniqueID\":0,\"fBits\":36896776,\"fLineColor\":1,\"fLineStyle\":1,\"fLineWidth\":1,\"fFillColor\":0,\"fFillStyle\":1001,\"fLeftMargin\":0.1,\"fRightMargin\":0.1,\"fBottomMargin\":0.1,\"fTopMargin\":0.1,\"fXfile\":2,\"fYfile\":2,\"fAfile\":1,\"fXstat\":0.99,\"fYstat\":0.99,\"fAstat\":2,\"fFrameFillColor\":0,\"fFrameLineColor\":1,\"fFrameFillStyle\":1001,\"fFrameLineStyle\":1,\"fFrameLineWidth\":1,\"fFrameBorderSize\":1,\"fFrameBorderMode\":0,\"fX1\":-2.37500010244549,\"fY1\":-7.18408512289691,\"fX2\":11.3750001024455,\"fY2\":64.6567618240238,\"fXtoAbsPixelk\":120.218235212396,\"fXtoPixelk\":120.218235212396,\"fXtoPixel\":50.6181810639121,\"fYtoAbsPixelk\":424.800047186661,\"fYtoPixelk\":424.800047186661,\"fYtoPixel\":-6.57007844504861,\"fUtoAbsPixelk\":5e-5,\"fUtoPixelk\":5e-5,\"fUtoPixel\":696,\"fVtoAbsPixelk\":472.00005,\"fVtoPixelk\":472,\"fVtoPixel\":-472,\"fAbsPixeltoXk\":-2.37500010244549,\"fPixeltoXk\":-2.37500010244549,\"fPixeltoX\":0.0197557474208204,\"fAbsPixeltoYk\":64.6567618240238,\"fPixeltoYk\":-7.18408512289691,\"fPixeltoY\":-0.152205184209578,\"fXlowNDC\":0,\"fYlowNDC\":0,\"fXUpNDC\":0,\"fYUpNDC\":0,\"fWNDC\":1,\"fHNDC\":1,\"fAbsXlowNDC\":0,\"fAbsYlowNDC\":0,\"fAbsWNDC\":1,\"fAbsHNDC\":1,\"fUxmin\":-1,\"fUymin\":0,\"fUxmax\":10,\"fUymax\":57.4726767011269,\"fTheta\":30,\"fPhi\":30,\"fAspectRatio\":0,\"fNumber\":0,\"fTickx\":0,\"fTicky\":0,\"fLogx\":0,\"fLogy\":0,\"fLogz\":0,\"fPadPaint\":0,\"fCrosshair\":0,\"fCrosshairPos\":0,\"fBorderSize\":2,\"fBorderMode\":0,\"fModified\":false,\"fGridx\":false,\"fGridy\":false,\"fAbsCoord\":false,\"fEditable\":true,\"fFixedAspectRatio\":false,\"fPrimitives\":{\"_typename\":\"TList\",\"name\":\"TList\",\"arr\":[{\"_typename\":\"TFrame\",\"fUniqueID\":0,\"fBits\":50331656,\"fLineColor\":1,\"fLineStyle\":1,\"fLineWidth\":1,\"fFillColor\":0,\"fFillStyle\":1001,\"fX1\":-1,\"fY1\":0,\"fX2\":10,\"fY2\":57.4726767011269,\"fBorderSize\":1,\"fBorderMode\":0},{\"_typename\":\"TH1D\",\"fUniqueID\":0,\"fBits\":50332168,\"fName\":\"frame_7fe66cc6db50\",\"fTitle\":\"A RooPlot of \\\"mu\\\"\",\"fLineColor\":602,\"fLineStyle\":1,\"fLineWidth\":1,\"fFillColor\":0,\"fFillStyle\":1001,\"fMarkerColor\":1,\"fMarkerStyle\":1,\"fMarkerSize\":1,\"fNcells\":102,\"fXaxis\":{\"_typename\":\"TAxis\",\"fUniqueID\":0,\"fBits\":50331648,\"fName\":\"xaxis\",\"fTitle\":\"mu\",\"fNdivisions\":510,\"fAxisColor\":1,\"fLabelColor\":1,\"fLabelFont\":42,\"fLabelOffset\":0.005,\"fLabelSize\":0.035,\"fTickLength\":0.03,\"fTitleOffset\":1,\"fTitleSize\":0.035,\"fTitleColor\":1,\"fTitleFont\":42,\"fNbins\":100,\"fXmin\":-1,\"fXmax\":10,\"fXbins\":[],\"fFirst\":0,\"fLast\":0,\"fBits2\":0,\"fTimeDisplay\":false,\"fTimeFormat\":\"\",\"fLabels\":null,\"fModLabs\":null},\"fYaxis\":{\"_typename\":\"TAxis\",\"fUniqueID\":0,\"fBits\":50331648,\"fName\":\"yaxis\",\"fTitle\":\"Projection of -log(likelihood)\",\"fNdivisions\":510,\"fAxisColor\":1,\"fLabelColor\":1,\"fLabelFont\":42,\"fLabelOffset\":0.005,\"fLabelSize\":0.035,\"fTickLength\":0.03,\"fTitleOffset\":0,\"fTitleSize\":0.035,\"fTitleColor\":1,\"fTitleFont\":42,\"fNbins\":1,\"fXmin\":0,\"fXmax\":1,\"fXbins\":[],\"fFirst\":0,\"fLast\":0,\"fBits2\":0,\"fTimeDisplay\":false,\"fTimeFormat\":\"\",\"fLabels\":null,\"fModLabs\":null},\"fZaxis\":{\"_typename\":\"TAxis\",\"fUniqueID\":0,\"fBits\":50331648,\"fName\":\"zaxis\",\"fTitle\":\"\",\"fNdivisions\":510,\"fAxisColor\":1,\"fLabelColor\":1,\"fLabelFont\":42,\"fLabelOffset\":0.005,\"fLabelSize\":0.035,\"fTickLength\":0.03,\"fTitleOffset\":1,\"fTitleSize\":0.035,\"fTitleColor\":1,\"fTitleFont\":42,\"fNbins\":1,\"fXmin\":0,\"fXmax\":1,\"fXbins\":[],\"fFirst\":0,\"fLast\":0,\"fBits2\":0,\"fTimeDisplay\":false,\"fTimeFormat\":\"\",\"fLabels\":null,\"fModLabs\":null},\"fBarOffset\":0,\"fBarWidth\":1000,\"fEntries\":1,\"fTsumw\":0,\"fTsumw2\":0,\"fTsumwx\":0,\"fTsumwx2\":0,\"fMaximum\":57.4726767011269,\"fMinimum\":-1111,\"fNormFactor\":0,\"fContour\":[],\"fSumw2\":[],\"fOption\":\"\",\"fFunctions\":{\"_typename\":\"TList\",\"name\":\"TList\",\"arr\":[],\"opt\":[]},\"fBufferSize\":0,\"fBuffer\":[],\"fBinStatErrOpt\":0,\"fArray\":[0,57.4726767011269,0,0,0,0,0,0,0,0,0,0,0,0,0,0,0,0,0,0,0,0,0,0,0,0,0,0,0,0,0,0,0,0,0,0,0,0,0,0,0,0,0,0,0,0,0,0,0,0,0,0,0,0,0,0,0,0,0,0,0,0,0,0,0,0,0,0,0,0,0,0,0,0,0,0,0,0,0,0,0,0,0,0,0,0,0,0,0,0,0,0,0,0,0,0,0,0,0,0,0,0]},{\"_typename\":\"RooCurve\",\"fUniqueID\":0,\"fBits\":50332680,\"fName\":\"nll_model_d_Norm[mu]\",\"fTitle\":\"Projection of -log(likelihood)\",\"fLineColor\":600,\"fLineStyle\":1,\"fLineWidth\":3,\"fFillColor\":0,\"fFillStyle\":1000,\"fMarkerColor\":1,\"fMarkerStyle\":1,\"fMarkerSize\":1,\"fNpoints\":106,\"fX\":[-1.11,-1.11,-1,-0.89,-0.78,-0.67,-0.56,-0.45,-0.34,-0.23,-0.12,-0.01,0.1,0.21,0.32,0.43,0.54,0.65,0.76,0.87,0.98,1.09,1.2,1.31,1.42,1.53,1.64,1.75,1.86,1.97,2.08,2.19,2.3,2.41,2.52,2.63,2.74,2.85,2.96,3.07,3.18,3.29,3.4,3.51,3.62,3.73,3.84,3.95,4.06,4.17,4.28,4.39,4.5,4.61,4.72,4.83,4.94,5.05,5.16,5.27,5.38,5.49,5.6,5.71,5.82,5.93,6.04,6.15,6.26,6.37,6.48,6.59,6.7,6.81,6.92,7.03,7.14,7.25,7.36,7.47,7.58,7.69,7.8,7.91,8.02,8.13,8.24,8.35,8.46,8.57,8.68,8.79,8.9,9.01,9.12,9.23,9.34,9.45,9.56,9.67,9.78,9.89,10,10,10.11,10.11],\"fY\":[0,10.4389778981294,10.4389778981294,8.92997751502331,7.66770642950025,6.60950434228781,5.72290005843165,4.9826046248505,4.36853783891807,3.86448923348593,3.45718347708291,3.13561192971935,2.89054427989495,2.71416500988785,2.59979825617391,2.54169646431794,2.53487587236825,2.5749868981761,2.6582109049029,2.78117715384113,2.94089538519655,3.13470062538804,3.36020765298735,3.61527316340508,3.89796412126653,4.20653112449924,4.53938585691315,4.89508189857138,5.27229831121088,5.6698255306519,6.08655318772761,6.52145954977819,6.97360233064138,7.44211066166015,7.92617805202441,8.42505619567027,8.93804950543506,9.46451027432826,10.0038343794963,10.5554574574053,11.1188514894634,11.6935217461413,12.2790040449275,12.8748622833355,13.4806862127634,14.0960894222373,14.7207075028065,15.3541963633237,15.9962306662165,16.6465023472933,17.3047191764684,17.9706033067074,18.6438897472636,19.3243246859942,20.0116635767775,20.7056689052941,21.4061075537599,22.1127477065994,22.8253552773943,23.5436898932758,24.2675005433557,24.9965210757499,25.7304658023122,26.4690255278346,27.2118643476113,27.9586175434376,28.7088908490836,29.4622612559916,30.2182794006343,30.9764734350397,31.7363541521694,32.4974210367328,33.2591688522542,34.0210943613701,34.782702804975,35.5435138273215,36.3030666156029,37.0609241106598,37.8166762290183,38.5699421076101,39.3203714369952,40.0676449856926,40.8114744386732,41.5516016799464,42.2877976458295,43.019860865222,43.7476157889142,44.470910993923,45.18961733273,45.9036260821959,46.6128471334818,47.317207252785,48.016648433174,48.7111263501382,49.4006089274878,50.085075015692,50.7645131814035,51.4389206045522,52.1083020777964,52.7726691021302,53.4320390719054,54.0864345423246,54.7358825725018,54.7358825725018,54.7358825725018,0],\"fFunctions\":{\"_typename\":\"TList\",\"name\":\"TList\",\"arr\":[],\"opt\":[]},\"fHistogram\":{\"_typename\":\"TH1F\",\"fUniqueID\":0,\"fBits\":50332168,\"fName\":\"nll_model_d_Norm[mu]\",\"fTitle\":\"Projection of -log(likelihood)\",\"fLineColor\":602,\"fLineStyle\":1,\"fLineWidth\":1,\"fFillColor\":0,\"fFillStyle\":1001,\"fMarkerColor\":1,\"fMarkerStyle\":1,\"fMarkerSize\":1,\"fNcells\":108,\"fXaxis\":{\"_typename\":\"TAxis\",\"fUniqueID\":0,\"fBits\":50331648,\"fName\":\"xaxis\",\"fTitle\":\"\",\"fNdivisions\":510,\"fAxisColor\":1,\"fLabelColor\":1,\"fLabelFont\":42,\"fLabelOffset\":0.005,\"fLabelSize\":0.035,\"fTickLength\":0.03,\"fTitleOffset\":1,\"fTitleSize\":0.035,\"fTitleColor\":1,\"fTitleFont\":42,\"fNbins\":106,\"fXmin\":-2.232,\"fXmax\":11.232,\"fXbins\":[],\"fFirst\":0,\"fLast\":0,\"fBits2\":0,\"fTimeDisplay\":false,\"fTimeFormat\":\"\",\"fLabels\":null,\"fModLabs\":null},\"fYaxis\":{\"_typename\":\"TAxis\",\"fUniqueID\":0,\"fBits\":50331648,\"fName\":\"yaxis\",\"fTitle\":\"\",\"fNdivisions\":510,\"fAxisColor\":1,\"fLabelColor\":1,\"fLabelFont\":42,\"fLabelOffset\":0.005,\"fLabelSize\":0.035,\"fTickLength\":0.03,\"fTitleOffset\":0,\"fTitleSize\":0.035,\"fTitleColor\":1,\"fTitleFont\":42,\"fNbins\":1,\"fXmin\":0,\"fXmax\":60.209470829752,\"fXbins\":[],\"fFirst\":0,\"fLast\":0,\"fBits2\":0,\"fTimeDisplay\":false,\"fTimeFormat\":\"\",\"fLabels\":null,\"fModLabs\":null},\"fZaxis\":{\"_typename\":\"TAxis\",\"fUniqueID\":0,\"fBits\":50331648,\"fName\":\"zaxis\",\"fTitle\":\"\",\"fNdivisions\":510,\"fAxisColor\":1,\"fLabelColor\":1,\"fLabelFont\":42,\"fLabelOffset\":0.005,\"fLabelSize\":0.035,\"fTickLength\":0.03,\"fTitleOffset\":1,\"fTitleSize\":0.035,\"fTitleColor\":1,\"fTitleFont\":42,\"fNbins\":1,\"fXmin\":0,\"fXmax\":1,\"fXbins\":[],\"fFirst\":0,\"fLast\":0,\"fBits2\":0,\"fTimeDisplay\":false,\"fTimeFormat\":\"\",\"fLabels\":null,\"fModLabs\":null},\"fBarOffset\":0,\"fBarWidth\":1000,\"fEntries\":0,\"fTsumw\":0,\"fTsumw2\":0,\"fTsumwx\":0,\"fTsumwx2\":0,\"fMaximum\":60.209470829752,\"fMinimum\":0,\"fNormFactor\":0,\"fContour\":[],\"fSumw2\":[],\"fOption\":\"\",\"fFunctions\":{\"_typename\":\"TList\",\"name\":\"TList\",\"arr\":[],\"opt\":[]},\"fBufferSize\":0,\"fBuffer\":[],\"fBinStatErrOpt\":0,\"fArray\":[0,0,0,0,0,0,0,0,0,0,0,0,0,0,0,0,0,0,0,0,0,0,0,0,0,0,0,0,0,0,0,0,0,0,0,0,0,0,0,0,0,0,0,0,0,0,0,0,0,0,0,0,0,0,0,0,0,0,0,0,0,0,0,0,0,0,0,0,0,0,0,0,0,0,0,0,0,0,0,0,0,0,0,0,0,0,0,0,0,0,0,0,0,0,0,0,0,0,0,0,0,0,0,0,0,0,0,0]},\"fMinimum\":-1111,\"fMaximum\":-1111,\"_yAxisLabel\":\"Projection of -log(likelihood)\",\"_ymin\":0,\"_ymax\":54.7358825725018,\"_normValue\":0},{\"_typename\":\"RooCurve\",\"fUniqueID\":0,\"fBits\":50332680,\"fName\":\"nll_model_d_Profile[mu]_Norm[mu]\",\"fTitle\":\"Projection of Profile of -log(likelihood)\",\"fLineColor\":632,\"fLineStyle\":1,\"fLineWidth\":3,\"fFillColor\":0,\"fFillStyle\":1000,\"fMarkerColor\":1,\"fMarkerStyle\":1,\"fMarkerSize\":1,\"fNpoints\":106,\"fX\":[-1.11,-1.11,-1,-0.89,-0.78,-0.67,-0.56,-0.45,-0.34,-0.23,-0.12,-0.01,0.1,0.21,0.32,0.43,0.54,0.65,0.76,0.87,0.98,1.09,1.2,1.31,1.42,1.53,1.64,1.75,1.86,1.97,2.08,2.19,2.3,2.41,2.52,2.63,2.74,2.85,2.96,3.07,3.18,3.29,3.4,3.51,3.62,3.73,3.84,3.95,4.06,4.17,4.28,4.39,4.5,4.61,4.72,4.83,4.94,5.05,5.16,5.27,5.38,5.49,5.6,5.71,5.82,5.93,6.04,6.15,6.26,6.37,6.48,6.59,6.7,6.81,6.92,7.03,7.14,7.25,7.36,7.47,7.58,7.69,7.8,7.91,8.02,8.13,8.24,8.35,8.46,8.57,8.68,8.79,8.9,9.01,9.12,9.23,9.34,9.45,9.56,9.67,9.78,9.89,10,10,10.11,10.11],\"fY\":[0,7.90726829685388,7.90726829685388,6.39826791374782,5.13599682822476,4.07779474101232,3.19119045715615,2.45089502357501,1.83682823764258,1.33277963221044,0.92547387580742,0.603902328443851,0.358834678619452,0.182455408612356,0.0680886548984105,0.00998686304244956,0.00316627109275203,0.0432772969006052,0.126501303627407,0.24946755256564,0.409185783921053,0.602991024112541,0.828498051711854,1.08356356212958,1.36625451999104,1.67482152322375,2.00767625563766,2.36337229729589,2.74058870993539,3.1381159293764,3.55484358645211,3.9897499485027,4.44189272936588,4.91040106038466,5.39446845074891,5.89334659439478,6.40633990415956,6.93280067305277,7.47212477822076,8.02374785612983,8.58714188818786,9.16181214486578,9.74729444365201,10.34315268206,10.9489766114879,11.5643798209619,12.188997901531,12.8224867620482,13.464521064941,14.1147927460178,14.7730095751929,15.4388937054319,16.1121801459881,16.7926150847187,17.479953975502,18.1739593040186,18.8743979524844,19.5810381053239,20.2936456761188,21.0119802920003,21.7357909420802,22.4648114744744,23.1987562010367,23.9373159265592,24.6801547463358,25.4269079421621,26.1771812478081,26.9305516547161,27.6865697993588,28.4447638337642,29.2046445508939,29.9657114354573,30.7274592509787,31.4893847600946,32.2509932036996,33.011804226046,33.7713570143274,34.5292145093843,35.2849666277428,36.0382325063346,36.7886618357197,37.5359353844171,38.2797648373977,39.0198920786709,39.7560880445541,40.4881512639465,41.2159061876387,41.9392013926476,42.6579077314545,43.3719164809204,44.0811375322063,44.7854976515095,45.4849388318985,46.1794167488627,46.8688993262123,47.5533654144165,48.232803580128,48.9072110032767,49.5765924765209,50.2409595008547,50.9003294706299,51.5547249410492,52.2041729712263,52.2041729712263,52.2041729712263,0],\"fFunctions\":{\"_typename\":\"TList\",\"name\":\"TList\",\"arr\":[],\"opt\":[]},\"fHistogram\":{\"_typename\":\"TH1F\",\"fUniqueID\":0,\"fBits\":50332168,\"fName\":\"nll_model_d_Profile[mu]_Norm[mu]\",\"fTitle\":\"Projection of Profile of -log(likelihood)\",\"fLineColor\":602,\"fLineStyle\":1,\"fLineWidth\":1,\"fFillColor\":0,\"fFillStyle\":1001,\"fMarkerColor\":1,\"fMarkerStyle\":1,\"fMarkerSize\":1,\"fNcells\":108,\"fXaxis\":{\"_typename\":\"TAxis\",\"fUniqueID\":0,\"fBits\":50331648,\"fName\":\"xaxis\",\"fTitle\":\"\",\"fNdivisions\":510,\"fAxisColor\":1,\"fLabelColor\":1,\"fLabelFont\":42,\"fLabelOffset\":0.005,\"fLabelSize\":0.035,\"fTickLength\":0.03,\"fTitleOffset\":1,\"fTitleSize\":0.035,\"fTitleColor\":1,\"fTitleFont\":42,\"fNbins\":106,\"fXmin\":-2.232,\"fXmax\":11.232,\"fXbins\":[],\"fFirst\":0,\"fLast\":0,\"fBits2\":0,\"fTimeDisplay\":false,\"fTimeFormat\":\"\",\"fLabels\":null,\"fModLabs\":null},\"fYaxis\":{\"_typename\":\"TAxis\",\"fUniqueID\":0,\"fBits\":50331648,\"fName\":\"yaxis\",\"fTitle\":\"\",\"fNdivisions\":510,\"fAxisColor\":1,\"fLabelColor\":1,\"fLabelFont\":42,\"fLabelOffset\":0.005,\"fLabelSize\":0.035,\"fTickLength\":0.03,\"fTitleOffset\":0,\"fTitleSize\":0.035,\"fTitleColor\":1,\"fTitleFont\":42,\"fNbins\":1,\"fXmin\":0,\"fXmax\":57.4245902683489,\"fXbins\":[],\"fFirst\":0,\"fLast\":0,\"fBits2\":0,\"fTimeDisplay\":false,\"fTimeFormat\":\"\",\"fLabels\":null,\"fModLabs\":null},\"fZaxis\":{\"_typename\":\"TAxis\",\"fUniqueID\":0,\"fBits\":50331648,\"fName\":\"zaxis\",\"fTitle\":\"\",\"fNdivisions\":510,\"fAxisColor\":1,\"fLabelColor\":1,\"fLabelFont\":42,\"fLabelOffset\":0.005,\"fLabelSize\":0.035,\"fTickLength\":0.03,\"fTitleOffset\":1,\"fTitleSize\":0.035,\"fTitleColor\":1,\"fTitleFont\":42,\"fNbins\":1,\"fXmin\":0,\"fXmax\":1,\"fXbins\":[],\"fFirst\":0,\"fLast\":0,\"fBits2\":0,\"fTimeDisplay\":false,\"fTimeFormat\":\"\",\"fLabels\":null,\"fModLabs\":null},\"fBarOffset\":0,\"fBarWidth\":1000,\"fEntries\":0,\"fTsumw\":0,\"fTsumw2\":0,\"fTsumwx\":0,\"fTsumwx2\":0,\"fMaximum\":57.4245902683489,\"fMinimum\":0,\"fNormFactor\":0,\"fContour\":[],\"fSumw2\":[],\"fOption\":\"\",\"fFunctions\":{\"_typename\":\"TList\",\"name\":\"TList\",\"arr\":[],\"opt\":[]},\"fBufferSize\":0,\"fBuffer\":[],\"fBinStatErrOpt\":0,\"fArray\":[0,0,0,0,0,0,0,0,0,0,0,0,0,0,0,0,0,0,0,0,0,0,0,0,0,0,0,0,0,0,0,0,0,0,0,0,0,0,0,0,0,0,0,0,0,0,0,0,0,0,0,0,0,0,0,0,0,0,0,0,0,0,0,0,0,0,0,0,0,0,0,0,0,0,0,0,0,0,0,0,0,0,0,0,0,0,0,0,0,0,0,0,0,0,0,0,0,0,0,0,0,0,0,0,0,0,0,0]},\"fMinimum\":-1111,\"fMaximum\":-1111,\"_yAxisLabel\":\"Projection of Profile of -log(likelihood)\",\"_ymin\":0,\"_ymax\":52.2041729712263,\"_normValue\":0},{\"$ref\":3},{\"_typename\":\"TPaveText\",\"fUniqueID\":0,\"fBits\":50331657,\"fLineColor\":1,\"fLineStyle\":1,\"fLineWidth\":1,\"fFillColor\":0,\"fFillStyle\":0,\"fX1\":2.28814651876495,\"fY1\":60.3463112908942,\"fX2\":6.71185348123505,\"fY2\":64.297557931853,\"fX1NDC\":0.339137931034483,\"fY1NDC\":0.940000003948808,\"fX2NDC\":0.660862068965517,\"fY2NDC\":0.995000004768372,\"fBorderSize\":0,\"fInit\":1,\"fShadowColor\":1,\"fCornerRadius\":0,\"fOption\":\"blNDC\",\"fName\":\"title\",\"fTextAngle\":0,\"fTextSize\":0,\"fTextAlign\":22,\"fTextColor\":1,\"fTextFont\":42,\"fLabel\":\"\",\"fLongest\":17,\"fMargin\":0.05,\"fLines\":{\"_typename\":\"TList\",\"name\":\"TList\",\"arr\":[{\"_typename\":\"TLatex\",\"fUniqueID\":0,\"fBits\":50331648,\"fName\":\"\",\"fTitle\":\"A RooPlot of \\\"mu\\\"\",\"fTextAngle\":0,\"fTextSize\":0,\"fTextAlign\":0,\"fTextColor\":0,\"fTextFont\":0,\"fX\":0,\"fY\":0,\"fLineColor\":1,\"fLineStyle\":1,\"fLineWidth\":2,\"fLimitFactorSize\":3,\"fOriginSize\":0.0467500016093254}],\"opt\":[\"\"]}}],\"opt\":[\"\",\"FUNC\",\"l\",\"l\",\"AXISSAME\",\"blNDC\"]},\"fExecs\":null,\"fName\":\"c1\",\"fTitle\":\"c1\",\"fNumPaletteColor\":0,\"fNextPaletteColor\":0,\"fDISPLAY\":\"$DISPLAY\",\"fDoubleBuffer\":0,\"fRetained\":true,\"fXsizeUser\":0,\"fYsizeUser\":0,\"fXsizeReal\":20,\"fYsizeReal\":14.28571,\"fWindowTopX\":0,\"fWindowTopY\":0,\"fWindowWidth\":0,\"fWindowHeight\":0,\"fCw\":696,\"fCh\":472,\"fCatt\":{\"_typename\":\"TAttCanvas\",\"fXBetween\":2,\"fYBetween\":2,\"fTitleFromTop\":1.2,\"fXdate\":0.2,\"fYdate\":0.3,\"fAdate\":1},\"kMoveOpaque\":true,\"kResizeOpaque\":true,\"fHighLightColor\":2,\"fBatch\":true,\"kShowEventStatus\":false,\"kAutoExec\":true,\"kMenuBar\":true});\n",
       "       Core.draw(\"root_plot_3\", obj, \"\");\n",
       "     }\n",
       " );\n",
       "</script>\n"
      ],
      "text/plain": [
       "<IPython.core.display.HTML object>"
      ]
     },
     "metadata": {},
     "output_type": "display_data"
    },
    {
     "name": "stdout",
     "output_type": "stream",
     "text": [
      "[#1] INFO:Minization -- RooProfileLL::evaluate(nll_model_d_Profile[mu]) Creating instance of MINUIT\n",
      "[#1] INFO:Minization -- RooProfileLL::evaluate(nll_model_d_Profile[mu]) determining minimum likelihood for current configurations w.r.t all observable\n",
      "[#1] INFO:Minization -- RooProfileLL::evaluate(nll_model_d_Profile[mu]) minimum found at (mu=0.5)\n",
      ".........................................................................................................................................................................................................."
     ]
    }
   ],
   "source": [
    "lambda->plotOn(frame2,RooFit::LineColor(kRed)) ;\n",
    "frame2->Draw() ;\n",
    "c.Draw();"
   ]
  },
  {
   "cell_type": "code",
   "execution_count": null,
   "metadata": {
    "collapsed": true
   },
   "outputs": [],
   "source": []
  }
 ],
 "metadata": {
  "kernelspec": {
   "display_name": "ROOT C++",
   "language": "c++",
   "name": "root"
  },
  "language_info": {
   "codemirror_mode": "text/x-c++src",
   "file_extension": ".C",
   "mimetype": " text/x-c++src",
   "name": "c++"
  }
 },
 "nbformat": 4,
 "nbformat_minor": 2
}
