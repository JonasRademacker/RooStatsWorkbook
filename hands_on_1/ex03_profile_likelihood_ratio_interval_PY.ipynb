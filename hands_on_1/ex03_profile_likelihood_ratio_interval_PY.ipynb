{
 "cells": [
  {
   "cell_type": "markdown",
   "metadata": {},
   "source": [
    "# Construct a profile likelihood ratio interval \n",
    "\n",
    "using the [RooStats::ProfileLikelihoodCalculator](https://root.cern.ch/doc/v606/classRooStats_1_1ProfileLikelihoodCalculator.html) from the model and data stored in [model.root](ex02_build_Poisson_PY.ipynb)"
   ]
  },
  {
   "cell_type": "code",
   "execution_count": 1,
   "metadata": {},
   "outputs": [
    {
     "name": "stdout",
     "output_type": "stream",
     "text": [
      "Welcome to JupyROOT 6.12/06\n"
     ]
    }
   ],
   "source": [
    "import ROOT\n",
    "%jsroot on"
   ]
  },
  {
   "cell_type": "markdown",
   "metadata": {},
   "source": [
    "First open the ROOT file"
   ]
  },
  {
   "cell_type": "code",
   "execution_count": 2,
   "metadata": {},
   "outputs": [
    {
     "name": "stdout",
     "output_type": "stream",
     "text": [
      "\n",
      "\u001b[1mRooFit v3.60 -- Developed by Wouter Verkerke and David Kirkby\u001b[0m \n",
      "                Copyright (C) 2000-2013 NIKHEF, University of California & Stanford University\n",
      "                All rights reserved, please read http://roofit.sourceforge.net/license.txt\n",
      "\n"
     ]
    }
   ],
   "source": [
    "f = ROOT.TFile.Open(\"../workspaces/model.root\")"
   ]
  },
  {
   "cell_type": "markdown",
   "metadata": {},
   "source": [
    "Retrieve the workspace"
   ]
  },
  {
   "cell_type": "code",
   "execution_count": 3,
   "metadata": {},
   "outputs": [
    {
     "name": "stdout",
     "output_type": "stream",
     "text": [
      "\n",
      "RooWorkspace(w) w contents\n",
      "\n",
      "variables\n",
      "---------\n",
      "(B,Nobs,S,mu)\n",
      "\n",
      "p.d.f.s\n",
      "-------\n",
      "RooPoisson::model[ x=Nobs mean=Nexp ] = 0.0511153\n",
      "\n",
      "functions\n",
      "--------\n",
      "RooFormulaVar::Nexp[ actualVars=(mu,S,B) formula=\"mu*S+B\" ] = 30\n",
      "\n",
      "datasets\n",
      "--------\n",
      "RooDataSet::observed_data(Nobs)\n",
      "\n",
      "parameter snapshots\n",
      "-------------------\n",
      "ModelConfig__snapshot = (mu=1)\n",
      "\n",
      "named sets\n",
      "----------\n",
      "ModelConfig_Observables:(Nobs)\n",
      "ModelConfig_POI:(mu)\n",
      "ModelConfig__snapshot:(mu)\n",
      "\n",
      "generic objects\n",
      "---------------\n",
      "RooStats::ModelConfig::ModelConfig\n",
      "\n"
     ]
    }
   ],
   "source": [
    "w = f.Get(\"w\")\n",
    "w.Print()"
   ]
  },
  {
   "cell_type": "markdown",
   "metadata": {},
   "source": [
    "Retrieve the ModelConfig and the observed data\n",
    "Together these uniquely define the statistical problem"
   ]
  },
  {
   "cell_type": "code",
   "execution_count": 4,
   "metadata": {
    "collapsed": true
   },
   "outputs": [],
   "source": [
    "data = w.data(\"observed_data\")\n",
    "mc = w.obj(\"ModelConfig\") ;"
   ]
  },
  {
   "cell_type": "markdown",
   "metadata": {},
   "source": [
    "Instantiate a Profile Likelihood interval calculator"
   ]
  },
  {
   "cell_type": "code",
   "execution_count": 5,
   "metadata": {
    "collapsed": true
   },
   "outputs": [],
   "source": [
    "plCalc = ROOT.RooStats.ProfileLikelihoodCalculator( data, mc)"
   ]
  },
  {
   "cell_type": "markdown",
   "metadata": {},
   "source": [
    "Calculate the 90% C.L. interval\n",
    "\n",
    "**Note** that Profile Likelihood Ratio is always a two-sided interval where the definition of the interval is always uniquely defined by the technique hence we only need to define the CL."
   ]
  },
  {
   "cell_type": "code",
   "execution_count": 6,
   "metadata": {},
   "outputs": [
    {
     "name": "stdout",
     "output_type": "stream",
     "text": [
      "[#1] INFO:Minization -- createNLL: caching constraint set under name CONSTR_OF_PDF_model_FOR_OBS_Nobs with 0 entries\n",
      "[#0] PROGRESS:Minization -- ProfileLikelihoodCalcultor::DoGLobalFit - find MLE \n",
      "[#0] PROGRESS:Minization -- ProfileLikelihoodCalcultor::DoMinimizeNLL - using Minuit / Migrad with strategy 1\n",
      "[#1] INFO:Minization -- RooMinimizer::optimizeConst: activating const optimization\n",
      "[#1] INFO:Minization -- \n",
      "  RooFitResult: minimized FCN value: 2.53171, estimated distance to minimum: 3.72419e-09\n",
      "                covariance matrix quality: Full, accurate covariance matrix\n",
      "                Status : MINIMIZE=0 \n",
      "\n",
      "    Floating Parameter    FinalValue +/-  Error   \n",
      "  --------------------  --------------------------\n",
      "                    mu    5.0003e-01 +/-  4.99e-01\n",
      "\n"
     ]
    }
   ],
   "source": [
    "plCalc.SetConfidenceLevel(0.90)\n",
    "interval = plCalc.GetInterval()"
   ]
  },
  {
   "cell_type": "markdown",
   "metadata": {},
   "source": [
    "Print the result"
   ]
  },
  {
   "cell_type": "code",
   "execution_count": 7,
   "metadata": {},
   "outputs": [
    {
     "name": "stdout",
     "output_type": "stream",
     "text": [
      "RESULT: 90.0% interval is : [-0.234824574237,1.41497791787]\n"
     ]
    }
   ],
   "source": [
    "poi = mc.GetParametersOfInterest().first()\n",
    "lowerLimit = interval.LowerLimit(poi)\n",
    "upperLimit = interval.UpperLimit(poi)\n",
    "print \"RESULT: {}% interval is : [{},{}]\".format(100*plCalc.ConfidenceLevel(), lowerLimit, upperLimit)"
   ]
  },
  {
   "cell_type": "markdown",
   "metadata": {},
   "source": [
    "Use the visualization tool of the PLC to show how the interval was calculated"
   ]
  },
  {
   "cell_type": "code",
   "execution_count": 8,
   "metadata": {},
   "outputs": [
    {
     "name": "stdout",
     "output_type": "stream",
     "text": [
      "[#1] INFO:Minization -- RooProfileLL::evaluate(nll_model_observed_data_Profile[mu]) Creating instance of MINUIT\n",
      "[#1] INFO:Minization -- RooProfileLL::evaluate(nll_model_observed_data_Profile[mu]) determining minimum likelihood for current configurations w.r.t all observable\n",
      "[#1] INFO:Minization -- RooProfileLL::evaluate(nll_model_observed_data_Profile[mu]) minimum found at (mu=0.5)\n",
      "......................................................................................................"
     ]
    },
    {
     "data": {
      "text/html": [
       "\n",
       "<div id=\"root_plot_1\"\n",
       "     style=\"width: 696px; height: 472px\">\n",
       "</div>\n",
       "\n",
       "<script>\n",
       " requirejs.config({\n",
       "     paths: {\n",
       "       'JSRootCore' : 'https://root.cern.ch/js/notebook//scripts/JSRootCore',\n",
       "     }\n",
       "   });\n",
       " require(['JSRootCore'],\n",
       "     function(Core) {\n",
       "       var obj = Core.JSONR_unref({\"_typename\":\"TCanvas\",\"fUniqueID\":0,\"fBits\":53673992,\"fLineColor\":1,\"fLineStyle\":1,\"fLineWidth\":1,\"fFillColor\":0,\"fFillStyle\":1001,\"fLeftMargin\":0.1,\"fRightMargin\":0.1,\"fBottomMargin\":0.1,\"fTopMargin\":0.1,\"fXfile\":2,\"fYfile\":2,\"fAfile\":1,\"fXstat\":0.99,\"fYstat\":0.99,\"fAstat\":2,\"fFrameFillColor\":0,\"fFrameLineColor\":1,\"fFrameFillStyle\":1001,\"fFrameLineStyle\":1,\"fFrameLineWidth\":1,\"fFrameBorderSize\":1,\"fFrameBorderMode\":0,\"fX1\":-1.50809758910362,\"fY1\":-1.03619104221231,\"fX2\":3.57287799908284,\"fY2\":9.32571876229282,\"fXtoAbsPixelk\":206.581621550271,\"fXtoPixelk\":206.581621550271,\"fXtoPixel\":136.981567401787,\"fYtoAbsPixelk\":424.800047186661,\"fYtoPixelk\":424.800047186661,\"fYtoPixel\":-45.5514484207134,\"fUtoAbsPixelk\":5e-5,\"fUtoPixelk\":5e-5,\"fUtoPixel\":696,\"fVtoAbsPixelk\":472.00005,\"fVtoPixelk\":472,\"fVtoPixel\":-472,\"fAbsPixeltoXk\":-1.50809758910362,\"fPixeltoXk\":-1.50809758910362,\"fPixeltoX\":0.0073002522818771,\"fAbsPixeltoYk\":9.32571876229282,\"fPixeltoYk\":-1.03619104221231,\"fPixeltoY\":-0.0219531987383583,\"fXlowNDC\":0,\"fYlowNDC\":0,\"fXUpNDC\":0,\"fYUpNDC\":0,\"fWNDC\":1,\"fHNDC\":1,\"fAbsXlowNDC\":0,\"fAbsYlowNDC\":0,\"fAbsWNDC\":1,\"fAbsHNDC\":1,\"fUxmin\":-1,\"fUymin\":0,\"fUxmax\":3.06478040997921,\"fUymax\":8.28952772008051,\"fTheta\":30,\"fPhi\":30,\"fAspectRatio\":0,\"fNumber\":0,\"fTickx\":0,\"fTicky\":0,\"fLogx\":0,\"fLogy\":0,\"fLogz\":0,\"fPadPaint\":0,\"fCrosshair\":0,\"fCrosshairPos\":0,\"fBorderSize\":2,\"fBorderMode\":0,\"fModified\":false,\"fGridx\":false,\"fGridy\":false,\"fAbsCoord\":false,\"fEditable\":true,\"fFixedAspectRatio\":false,\"fPrimitives\":{\"_typename\":\"TList\",\"name\":\"TList\",\"arr\":[{\"_typename\":\"TFrame\",\"fUniqueID\":0,\"fBits\":50331656,\"fLineColor\":1,\"fLineStyle\":1,\"fLineWidth\":1,\"fFillColor\":0,\"fFillStyle\":1001,\"fX1\":-1,\"fY1\":0,\"fX2\":3.06478040997921,\"fY2\":8.28952772008051,\"fBorderSize\":1,\"fBorderMode\":0},{\"_typename\":\"TF1\",\"fUniqueID\":0,\"fBits\":50331656,\"fName\":\"_PLL_mu\",\"fTitle\":\"\",\"fLineColor\":600,\"fLineStyle\":1,\"fLineWidth\":2,\"fFillColor\":19,\"fFillStyle\":0,\"fMarkerColor\":1,\"fMarkerStyle\":1,\"fMarkerSize\":1,\"fXmin\":-1,\"fXmax\":3.06478040997921,\"fNpar\":0,\"fNdim\":1,\"fNpx\":100,\"fType\":4,\"fNpfits\":0,\"fNDF\":0,\"fChisquare\":0,\"fMinimum\":-1111,\"fMaximum\":-1111,\"fParErrors\":[],\"fParMin\":[],\"fParMax\":[],\"fSave\":[7.90726829685386,7.31766114294637,6.76622539464485,6.25014314090146,5.76689743282516,5.31423089463241,4.8901112136494,4.49270218139443,4.12033924755527,3.77150876837229,3.44483029905585,3.13904140964367,2.85298460470219,2.58559600648511,2.33589552372884,2.10297827802493,1.88600709953665,1.68420593589853,1.49685404411308,1.32328085640944,1.16286142834247,1.01501239165105,0.879188346163154,0.754878634804427,0.641604453910567,0.538916257859903,0.446391422771335,0.36363213884195,0.290263504988722,0.225931802930553,0.170302930806095,0.123060978951983,0.0839069326347115,0.0525574883936244,0.0287439722607346,0.0122113495131373,0.00271731681819887,3.1468680013802e-5,0.00393453100689811,0.014217655416914,0.0306817685954925,0.0531369716303871,0.0814019847870142,0.115303633660687,0.154676373059523,0.199361845341677,0.249208470257393,0.304071063637338,0.363810482526084,0.428293294590155,0.497391469834774,0.570982092847025,0.648947093946788,0.731172997773847,0.817550687971625,0.907975186746583,1.00234544818863,1.10056416433462,1.20253758304354,1.30817533683049,1.41739028187748,1.5300983465036,1.64621838843532,1.76567206027052,1.88838368257851,2.01428012412124,2.14329068872231,2.27534700834487,2.41038294197494,2.54833447993516,2.68913965328314,2.83273844797363,2.97907272348669,3.12808613564633,3.27972406337299,3.43393353913182,3.59066318285523,3.74986313913344,3.91148501748103,4.07548183550045,4.24180796477547,4.41041907933888,4.58127210656862,4.75432518037647,4.92953759656196,5.1068697702125,5.28628319503805,5.4677404045361,5.65120493488872,5.83664128949998,6.02401490508742,6.21329211924646,6.40444013941176,6.59742701314381,6.79222159967354,6.98879354264126,7.1871132439706,7.38715183882082,7.58888117156455,7.79227377274088,7.99730283693638,-1,3.06478040997921],\"fNormalized\":false,\"fNormIntegral\":0,\"fFormula\":null,\"fParams\":{\"_typename\":\"TF1Parameters\",\"fParameters\":[],\"fParNames\":[]},\"fComposition_ptr\":null},{\"_typename\":\"TLine\",\"fUniqueID\":0,\"fBits\":50331656,\"fLineColor\":416,\"fLineStyle\":1,\"fLineWidth\":1,\"fX1\":-1,\"fY1\":1.35277172704771,\"fX2\":3.06478040997921,\"fY2\":1.35277172704771},{\"_typename\":\"TLine\",\"fUniqueID\":0,\"fBits\":50331656,\"fLineColor\":416,\"fLineStyle\":1,\"fLineWidth\":1,\"fX1\":-0.234824574237199,\"fY1\":0,\"fX2\":-0.234824574237199,\"fY2\":1.35277172704771},{\"_typename\":\"TLine\",\"fUniqueID\":0,\"fBits\":50331656,\"fLineColor\":416,\"fLineStyle\":1,\"fLineWidth\":1,\"fX1\":1.41497791787101,\"fY1\":0,\"fX2\":1.41497791787101,\"fY2\":1.35277172704771}],\"opt\":[\"\",\"\",\"\",\"\",\"\"]},\"fExecs\":null,\"fName\":\"c1\",\"fTitle\":\"c1\",\"fNumPaletteColor\":0,\"fNextPaletteColor\":0,\"fDISPLAY\":\"$DISPLAY\",\"fDoubleBuffer\":0,\"fRetained\":true,\"fXsizeUser\":0,\"fYsizeUser\":0,\"fXsizeReal\":20,\"fYsizeReal\":14.28571,\"fWindowTopX\":0,\"fWindowTopY\":0,\"fWindowWidth\":0,\"fWindowHeight\":0,\"fCw\":696,\"fCh\":472,\"fCatt\":{\"_typename\":\"TAttCanvas\",\"fXBetween\":2,\"fYBetween\":2,\"fTitleFromTop\":1.2,\"fXdate\":0.2,\"fYdate\":0.3,\"fAdate\":1},\"kMoveOpaque\":true,\"kResizeOpaque\":true,\"fHighLightColor\":2,\"fBatch\":true,\"kShowEventStatus\":false,\"kAutoExec\":true,\"kMenuBar\":true});\n",
       "       Core.draw(\"root_plot_1\", obj, \"\");\n",
       "     }\n",
       " );\n",
       "</script>\n"
      ],
      "text/plain": [
       "<IPython.core.display.HTML object>"
      ]
     },
     "metadata": {},
     "output_type": "display_data"
    }
   ],
   "source": [
    "c = ROOT.TCanvas()\n",
    "plot = ROOT.RooStats.LikelihoodIntervalPlot(interval)\n",
    "#plot.SetNPoints(50);   // Use this to reduce sampling granularity (trades speed for precision)\n",
    "plot.Draw(\"TF1\")\n",
    "c.Draw()"
   ]
  },
  {
   "cell_type": "code",
   "execution_count": null,
   "metadata": {
    "collapsed": true
   },
   "outputs": [],
   "source": []
  }
 ],
 "metadata": {
  "kernelspec": {
   "display_name": "Python 2",
   "language": "python",
   "name": "python2"
  },
  "language_info": {
   "codemirror_mode": {
    "name": "ipython",
    "version": 2
   },
   "file_extension": ".py",
   "mimetype": "text/x-python",
   "name": "python",
   "nbconvert_exporter": "python",
   "pygments_lexer": "ipython2",
   "version": "2.7.13"
  }
 },
 "nbformat": 4,
 "nbformat_minor": 2
}
