{
 "cells": [
  {
   "cell_type": "markdown",
   "metadata": {},
   "source": [
    "# Building a Workspace\n",
    "\n",
    " * Build a model Poisson (N | $\\mu$ S + B )  with S=10, B=20 constant\n",
    " * Generate an observed dataset N=25\n",
    " * Construct a unique statistical problem definition (RooStats::ModelConfig) that specifies\n",
    " * model = model\n",
    " * observable = N\n",
    " * parameter of interest = $\\mu$\n",
    " * Store everything in a root file for later use\n",
    "\n",
    "Straightforward exploration of the Poisson distribution using RooFit"
   ]
  },
  {
   "cell_type": "code",
   "execution_count": 1,
   "metadata": {},
   "outputs": [
    {
     "name": "stdout",
     "output_type": "stream",
     "text": [
      "Welcome to JupyROOT 6.12/06\n"
     ]
    }
   ],
   "source": [
    "import ROOT"
   ]
  },
  {
   "cell_type": "markdown",
   "metadata": {},
   "source": [
    "Construct an empy workspace that will contain the model"
   ]
  },
  {
   "cell_type": "code",
   "execution_count": 2,
   "metadata": {},
   "outputs": [
    {
     "name": "stdout",
     "output_type": "stream",
     "text": [
      "\n",
      "\u001b[1mRooFit v3.60 -- Developed by Wouter Verkerke and David Kirkby\u001b[0m \n",
      "                Copyright (C) 2000-2013 NIKHEF, University of California & Stanford University\n",
      "                All rights reserved, please read http://roofit.sourceforge.net/license.txt\n",
      "\n"
     ]
    }
   ],
   "source": [
    "w  = ROOT.RooWorkspace(\"w\")"
   ]
  },
  {
   "cell_type": "markdown",
   "metadata": {},
   "source": [
    "## Construct a single Poisson model\n",
    "\n",
    "Construct expression for expected event count Nexp = mu * S + B, with S and B fixed"
   ]
  },
  {
   "cell_type": "code",
   "execution_count": 3,
   "metadata": {},
   "outputs": [
    {
     "data": {
      "text/plain": [
       "<ROOT.RooFormulaVar object (\"Nexp\") at 0x74ed480>"
      ]
     },
     "execution_count": 3,
     "metadata": {},
     "output_type": "execute_result"
    }
   ],
   "source": [
    "w.factory(\"expr::Nexp('mu*S+B',mu[1,-1,10],S[10],B[20])\") "
   ]
  },
  {
   "cell_type": "markdown",
   "metadata": {},
   "source": [
    "Construct Poisson probability model for Nobs given Nexp"
   ]
  },
  {
   "cell_type": "code",
   "execution_count": 4,
   "metadata": {},
   "outputs": [
    {
     "data": {
      "text/plain": [
       "<ROOT.RooPoisson object (\"model\") at 0x7809620>"
      ]
     },
     "execution_count": 4,
     "metadata": {},
     "output_type": "execute_result"
    }
   ],
   "source": [
    "w.factory(\"Poisson::model(Nobs[0,100],Nexp)\")"
   ]
  },
  {
   "cell_type": "markdown",
   "metadata": {},
   "source": [
    "## Construct a dataset containing a single observed event count\n",
    "\n",
    "Construct an empty dataset for observable Nobs"
   ]
  },
  {
   "cell_type": "code",
   "execution_count": 5,
   "metadata": {},
   "outputs": [],
   "source": [
    "d = ROOT.RooDataSet(\"d\",\"d\",ROOT.RooArgSet(w.var(\"Nobs\")))"
   ]
  },
  {
   "cell_type": "markdown",
   "metadata": {},
   "source": [
    "Set Nobs to desired observed event count"
   ]
  },
  {
   "cell_type": "code",
   "execution_count": 6,
   "metadata": {
    "collapsed": true
   },
   "outputs": [],
   "source": [
    "w.var(\"Nobs\").setVal(25)"
   ]
  },
  {
   "cell_type": "markdown",
   "metadata": {},
   "source": [
    "Add observation of 25 events to dataset"
   ]
  },
  {
   "cell_type": "code",
   "execution_count": 7,
   "metadata": {},
   "outputs": [
    {
     "data": {
      "text/plain": [
       "False"
      ]
     },
     "execution_count": 7,
     "metadata": {},
     "output_type": "execute_result"
    },
    {
     "name": "stdout",
     "output_type": "stream",
     "text": [
      "[#1] INFO:ObjectHandling -- RooWorkspace::import(w) importing dataset d\n",
      "[#1] INFO:ObjectHandling -- RooWorkSpace::import(w) changing name of dataset from  d to observed_data\n"
     ]
    }
   ],
   "source": [
    "d.add(ROOT.RooArgSet(w.var(\"Nobs\")))\n",
    "getattr(w,'import')(d,ROOT.RooFit.Rename(\"observed_data\"))"
   ]
  },
  {
   "cell_type": "markdown",
   "metadata": {},
   "source": [
    "## Construct a unique statistical interpretatation of the model to be used by RooStats\n",
    "\n",
    "Create an empty ModelConfig"
   ]
  },
  {
   "cell_type": "code",
   "execution_count": 8,
   "metadata": {},
   "outputs": [],
   "source": [
    "mc = ROOT.RooStats.ModelConfig(\"ModelConfig\",w)"
   ]
  },
  {
   "cell_type": "markdown",
   "metadata": {},
   "source": [
    "Define the pdf, the parameter of interest and the observables"
   ]
  },
  {
   "cell_type": "code",
   "execution_count": 9,
   "metadata": {},
   "outputs": [],
   "source": [
    "mc.SetPdf(w.pdf(\"model\"))\n",
    "mc.SetParametersOfInterest(ROOT.RooArgSet(w.var(\"mu\")))\n",
    "mc.SetObservables(ROOT.RooArgSet(w.var(\"Nobs\")))"
   ]
  },
  {
   "cell_type": "markdown",
   "metadata": {},
   "source": [
    "Define the current value $\\mu$=1 as an hypothesis"
   ]
  },
  {
   "cell_type": "code",
   "execution_count": 10,
   "metadata": {},
   "outputs": [
    {
     "name": "stdout",
     "output_type": "stream",
     "text": [
      "\n",
      "=== Using the following for ModelConfig ===\n",
      "Observables:             RooArgSet:: = (Nobs)\n",
      "Parameters of Interest:  RooArgSet:: = (mu)\n",
      "PDF:                     RooPoisson::model[ x=Nobs mean=Nexp ] = 0.0511153\n",
      "Snapshot:                \n",
      "  1) 0x7c5e930 RooRealVar:: mu = 1  L(-1 - 10)  \"mu\"\n",
      "\n"
     ]
    }
   ],
   "source": [
    "mc.SetSnapshot(ROOT.RooArgSet(w.var(\"mu\")))\n",
    "mc.Print()"
   ]
  },
  {
   "cell_type": "markdown",
   "metadata": {},
   "source": [
    "import model in the workspace "
   ]
  },
  {
   "cell_type": "code",
   "execution_count": 11,
   "metadata": {},
   "outputs": [
    {
     "data": {
      "text/plain": [
       "False"
      ]
     },
     "execution_count": 11,
     "metadata": {},
     "output_type": "execute_result"
    }
   ],
   "source": [
    "getattr(w,'import')(mc)\n",
    "w.writeToFile(\"../workspaces/model.root\")"
   ]
  }
 ],
 "metadata": {
  "kernelspec": {
   "display_name": "Python 2",
   "language": "python",
   "name": "python2"
  },
  "language_info": {
   "codemirror_mode": {
    "name": "ipython",
    "version": 2
   },
   "file_extension": ".py",
   "mimetype": "text/x-python",
   "name": "python",
   "nbconvert_exporter": "python",
   "pygments_lexer": "ipython2",
   "version": "2.7.13"
  }
 },
 "nbformat": 4,
 "nbformat_minor": 2
}
