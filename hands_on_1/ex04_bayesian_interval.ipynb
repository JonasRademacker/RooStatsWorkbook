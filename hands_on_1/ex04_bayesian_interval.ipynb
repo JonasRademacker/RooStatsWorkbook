{
 "cells": [
  {
   "cell_type": "markdown",
   "metadata": {},
   "source": [
    "# Construct a Bayesian interval \n",
    "\n",
    "using the [RooStats::BayesianCalculator](hhttps://root.cern.ch/doc/v608/classRooStats_1_1BayesianCalculator.html) from the model and data stored in [model.root](ex02_build_Poisson.ipynb)"
   ]
  },
  {
   "cell_type": "code",
   "execution_count": 1,
   "metadata": {
    "collapsed": true
   },
   "outputs": [],
   "source": [
    "%jsroot"
   ]
  },
  {
   "cell_type": "markdown",
   "metadata": {},
   "source": [
    "Open the ROOT file"
   ]
  },
  {
   "cell_type": "code",
   "execution_count": 2,
   "metadata": {},
   "outputs": [
    {
     "name": "stdout",
     "output_type": "stream",
     "text": [
      "\n",
      "\u001b[1mRooFit v3.60 -- Developed by Wouter Verkerke and David Kirkby\u001b[0m \n",
      "                Copyright (C) 2000-2013 NIKHEF, University of California & Stanford University\n",
      "                All rights reserved, please read http://roofit.sourceforge.net/license.txt\n",
      "\n"
     ]
    }
   ],
   "source": [
    "TFile* f = TFile::Open(\"../workspaces/model.root\") ;"
   ]
  },
  {
   "cell_type": "markdown",
   "metadata": {},
   "source": [
    "Retrieve the workspace"
   ]
  },
  {
   "cell_type": "code",
   "execution_count": 3,
   "metadata": {},
   "outputs": [
    {
     "name": "stdout",
     "output_type": "stream",
     "text": [
      "\n",
      "RooWorkspace(w) w contents\n",
      "\n",
      "variables\n",
      "---------\n",
      "(B,Nobs,S,mu)\n",
      "\n",
      "p.d.f.s\n",
      "-------\n",
      "RooPoisson::model[ x=Nobs mean=Nexp ] = 0.0511153\n",
      "\n",
      "functions\n",
      "--------\n",
      "RooFormulaVar::Nexp[ actualVars=(mu,S,B) formula=\"mu*S+B\" ] = 30\n",
      "\n",
      "datasets\n",
      "--------\n",
      "RooDataSet::observed_data(Nobs)\n",
      "\n",
      "parameter snapshots\n",
      "-------------------\n",
      "ModelConfig__snapshot = (mu=1)\n",
      "\n",
      "named sets\n",
      "----------\n",
      "ModelConfig_Observables:(Nobs)\n",
      "ModelConfig_POI:(mu)\n",
      "ModelConfig__snapshot:(mu)\n",
      "\n",
      "generic objects\n",
      "---------------\n",
      "RooStats::ModelConfig::ModelConfig\n",
      "\n"
     ]
    }
   ],
   "source": [
    "RooWorkspace* w = (RooWorkspace*) f->Get(\"w\") ;\n",
    "w->Print() ;"
   ]
  },
  {
   "cell_type": "markdown",
   "metadata": {},
   "source": [
    "Retrieve the ModelConfig and the observed data. Together these uniquely define the statistical problem"
   ]
  },
  {
   "cell_type": "code",
   "execution_count": 4,
   "metadata": {
    "collapsed": true
   },
   "outputs": [],
   "source": [
    "RooAbsData* data = w->data(\"observed_data\") ;\n",
    "RooStats::ModelConfig* mc = (RooStats::ModelConfig*) w->obj(\"ModelConfig\") ;"
   ]
  },
  {
   "cell_type": "markdown",
   "metadata": {},
   "source": [
    "Instantiate a Bayesian interval calculator"
   ]
  },
  {
   "cell_type": "code",
   "execution_count": 5,
   "metadata": {
    "collapsed": true
   },
   "outputs": [],
   "source": [
    "RooStats::BayesianCalculator bayesianCalc(*data,*mc);"
   ]
  },
  {
   "cell_type": "markdown",
   "metadata": {},
   "source": [
    "## Statistical configuration of Bayesian interval calculation\n",
    "\n",
    "Calculate the 90% C.L. central interval"
   ]
  },
  {
   "cell_type": "code",
   "execution_count": 6,
   "metadata": {
    "collapsed": true
   },
   "outputs": [],
   "source": [
    "bayesianCalc.SetConfidenceLevel(0.90);"
   ]
  },
  {
   "cell_type": "markdown",
   "metadata": {},
   "source": [
    "Choose central interval"
   ]
  },
  {
   "cell_type": "code",
   "execution_count": 7,
   "metadata": {
    "collapsed": true
   },
   "outputs": [],
   "source": [
    "bayesianCalc.SetLeftSideTailFraction(0.5);\n",
    "//bayesianCalc.SetLeftSideTailFraction(0);  // alternative for upper limit\n",
    "//bayesianCalc.SetShortestInterval();       // alternative for shortest intervals"
   ]
  },
  {
   "cell_type": "markdown",
   "metadata": {},
   "source": [
    "Optionally introduce a prior pdf on $\\mu$"
   ]
  },
  {
   "cell_type": "code",
   "execution_count": 8,
   "metadata": {
    "collapsed": true
   },
   "outputs": [],
   "source": [
    "bool use_prior=false ;\n",
    "if (use_prior) {\n",
    "    w->factory(\"EXPR::prior('1/sqrt(mu)',mu)\") ;\n",
    "    bayesianCalc.SetPriorPdf(*w->pdf(\"prior\")); \n",
    "}"
   ]
  },
  {
   "cell_type": "markdown",
   "metadata": {},
   "source": [
    "## Technical parameter of Bayesian calculator\n",
    "\n",
    "Choose best numeric integration algorithm"
   ]
  },
  {
   "cell_type": "code",
   "execution_count": 9,
   "metadata": {
    "collapsed": true
   },
   "outputs": [],
   "source": [
    "RooAbsReal::defaultIntegratorConfig()->method1D().setLabel(\"RooAdaptiveGaussKronrodIntegrator1D\");"
   ]
  },
  {
   "cell_type": "markdown",
   "metadata": {},
   "source": [
    "Select number of scan points"
   ]
  },
  {
   "cell_type": "code",
   "execution_count": 10,
   "metadata": {
    "collapsed": true
   },
   "outputs": [],
   "source": [
    "bayesianCalc.SetScanOfPosterior(500);"
   ]
  },
  {
   "cell_type": "markdown",
   "metadata": {},
   "source": [
    "Calculate interval"
   ]
  },
  {
   "cell_type": "code",
   "execution_count": 11,
   "metadata": {},
   "outputs": [
    {
     "name": "stdout",
     "output_type": "stream",
     "text": [
      "[#1] INFO:Minization -- createNLL: caching constraint set under name CONSTR_OF_PDF_model_FOR_OBS_Nobs with 0 entries\n",
      "[#1] INFO:Eval -- BayesianCalculator::GetPosteriorFunction :  nll value 2.97367 poi value = 1\n",
      "[#1] INFO:Eval -- BayesianCalculator::GetPosteriorFunction : minimum of NLL vs POI for POI =  0.500023 min NLL = 2.53171\n",
      "[#1] INFO:Minization -- createNLL picked up cached consraints from workspace with 0 entries\n",
      "[#1] INFO:Eval -- BayesianCalculator - scan posterior function in nbins = 500\n",
      "[#1] INFO:Eval -- BayesianCalculator::GetInterval - found a valid interval : [-0.178229 , 1.49173 ]\n"
     ]
    }
   ],
   "source": [
    "RooStats::SimpleInterval* interval = bayesianCalc.GetInterval();"
   ]
  },
  {
   "cell_type": "markdown",
   "metadata": {},
   "source": [
    "Print the result"
   ]
  },
  {
   "cell_type": "code",
   "execution_count": 12,
   "metadata": {},
   "outputs": [
    {
     "name": "stdout",
     "output_type": "stream",
     "text": [
      "RESULT: 90% interval is : [-0.178229, 1.49173] \n"
     ]
    }
   ],
   "source": [
    "RooRealVar* poi = (RooRealVar*) mc->GetParametersOfInterest()->first();\n",
    "double lowerLimit = interval->LowerLimit();\n",
    "double upperLimit = interval->UpperLimit();\n",
    "cout << \"RESULT: \" << 100*bayesianCalc.ConfidenceLevel() << \"% interval is : [\"<< lowerLimit << \", \"<< upperLimit <<\"] \"<<endl;"
   ]
  },
  {
   "cell_type": "markdown",
   "metadata": {},
   "source": [
    "Use the visualization tool of the Bayesian calculator to show how the interval was calculated"
   ]
  },
  {
   "cell_type": "code",
   "execution_count": 13,
   "metadata": {},
   "outputs": [
    {
     "data": {
      "text/html": [
       "\n",
       "<div id=\"root_plot_1\"\n",
       "     style=\"width: 696px; height: 472px\">\n",
       "</div>\n",
       "\n",
       "<script>\n",
       " requirejs.config({\n",
       "     paths: {\n",
       "       'JSRootCore' : 'https://root.cern.ch/js/notebook//scripts/JSRootCore',\n",
       "     }\n",
       "   });\n",
       " require(['JSRootCore'],\n",
       "     function(Core) {\n",
       "       var obj = Core.JSONR_unref({\"_typename\":\"TCanvas\",\"fUniqueID\":0,\"fBits\":53673992,\"fLineColor\":1,\"fLineStyle\":1,\"fLineWidth\":1,\"fFillColor\":0,\"fFillStyle\":1001,\"fLeftMargin\":0.1,\"fRightMargin\":0.1,\"fBottomMargin\":0.1,\"fTopMargin\":0.1,\"fXfile\":2,\"fYfile\":2,\"fAfile\":1,\"fXstat\":0.99,\"fYstat\":0.99,\"fAstat\":2,\"fFrameFillColor\":0,\"fFrameLineColor\":1,\"fFrameFillStyle\":1001,\"fFrameLineStyle\":1,\"fFrameLineWidth\":1,\"fFrameBorderSize\":1,\"fFrameBorderMode\":0,\"fX1\":-2.37500010244549,\"fY1\":-0.131207649033351,\"fX2\":11.3750001024455,\"fY2\":1.1808687630943,\"fXtoAbsPixelk\":120.218235212396,\"fXtoPixelk\":120.218235212396,\"fXtoPixel\":50.6181810639121,\"fYtoAbsPixelk\":424.800047186661,\"fYtoPixelk\":424.800047186661,\"fYtoPixel\":-359.735146243966,\"fUtoAbsPixelk\":5e-5,\"fUtoPixelk\":5e-5,\"fUtoPixel\":696,\"fVtoAbsPixelk\":472.00005,\"fVtoPixelk\":472,\"fVtoPixel\":-472,\"fAbsPixeltoXk\":-2.37500010244549,\"fPixeltoXk\":-2.37500010244549,\"fPixeltoX\":0.0197557474208204,\"fAbsPixeltoYk\":1.1808687630943,\"fPixeltoYk\":-0.131207649033351,\"fPixeltoY\":-0.00277982290705012,\"fXlowNDC\":0,\"fYlowNDC\":0,\"fXUpNDC\":0,\"fYUpNDC\":0,\"fWNDC\":1,\"fHNDC\":1,\"fAbsXlowNDC\":0,\"fAbsYlowNDC\":0,\"fAbsWNDC\":1,\"fAbsHNDC\":1,\"fUxmin\":-1,\"fUymin\":0,\"fUxmax\":10,\"fUymax\":1.04966111406095,\"fTheta\":30,\"fPhi\":30,\"fAspectRatio\":0,\"fNumber\":0,\"fTickx\":0,\"fTicky\":0,\"fLogx\":0,\"fLogy\":0,\"fLogz\":0,\"fPadPaint\":0,\"fCrosshair\":0,\"fCrosshairPos\":0,\"fBorderSize\":2,\"fBorderMode\":0,\"fModified\":false,\"fGridx\":false,\"fGridy\":false,\"fAbsCoord\":false,\"fEditable\":true,\"fFixedAspectRatio\":false,\"fPrimitives\":{\"_typename\":\"TList\",\"name\":\"TList\",\"arr\":[{\"_typename\":\"TFrame\",\"fUniqueID\":0,\"fBits\":50331656,\"fLineColor\":1,\"fLineStyle\":1,\"fLineWidth\":1,\"fFillColor\":0,\"fFillStyle\":1001,\"fX1\":-1,\"fY1\":0,\"fX2\":10,\"fY2\":1.04966111406095,\"fBorderSize\":1,\"fBorderMode\":0},{\"_typename\":\"TH1D\",\"fUniqueID\":0,\"fBits\":50332168,\"fName\":\"frame_7f460d8585e0\",\"fTitle\":\"Posterior probability of parameter \\\"mu\\\"\",\"fLineColor\":602,\"fLineStyle\":1,\"fLineWidth\":1,\"fFillColor\":0,\"fFillStyle\":1001,\"fMarkerColor\":1,\"fMarkerStyle\":1,\"fMarkerSize\":1,\"fNcells\":102,\"fXaxis\":{\"_typename\":\"TAxis\",\"fUniqueID\":0,\"fBits\":50331648,\"fName\":\"xaxis\",\"fTitle\":\"mu\",\"fNdivisions\":510,\"fAxisColor\":1,\"fLabelColor\":1,\"fLabelFont\":42,\"fLabelOffset\":0.005,\"fLabelSize\":0.035,\"fTickLength\":0.03,\"fTitleOffset\":1,\"fTitleSize\":0.035,\"fTitleColor\":1,\"fTitleFont\":42,\"fNbins\":100,\"fXmin\":-1,\"fXmax\":10,\"fXbins\":[],\"fFirst\":0,\"fLast\":0,\"fBits2\":0,\"fTimeDisplay\":false,\"fTimeFormat\":\"\",\"fLabels\":null,\"fModLabs\":null},\"fYaxis\":{\"_typename\":\"TAxis\",\"fUniqueID\":0,\"fBits\":50331648,\"fName\":\"yaxis\",\"fTitle\":\"posterior function\",\"fNdivisions\":510,\"fAxisColor\":1,\"fLabelColor\":1,\"fLabelFont\":42,\"fLabelOffset\":0.005,\"fLabelSize\":0.035,\"fTickLength\":0.03,\"fTitleOffset\":0,\"fTitleSize\":0.035,\"fTitleColor\":1,\"fTitleFont\":42,\"fNbins\":1,\"fXmin\":0,\"fXmax\":1,\"fXbins\":[],\"fFirst\":0,\"fLast\":0,\"fBits2\":0,\"fTimeDisplay\":false,\"fTimeFormat\":\"\",\"fLabels\":null,\"fModLabs\":null},\"fZaxis\":{\"_typename\":\"TAxis\",\"fUniqueID\":0,\"fBits\":50331648,\"fName\":\"zaxis\",\"fTitle\":\"\",\"fNdivisions\":510,\"fAxisColor\":1,\"fLabelColor\":1,\"fLabelFont\":42,\"fLabelOffset\":0.005,\"fLabelSize\":0.035,\"fTickLength\":0.03,\"fTitleOffset\":1,\"fTitleSize\":0.035,\"fTitleColor\":1,\"fTitleFont\":42,\"fNbins\":1,\"fXmin\":0,\"fXmax\":1,\"fXbins\":[],\"fFirst\":0,\"fLast\":0,\"fBits2\":0,\"fTimeDisplay\":false,\"fTimeFormat\":\"\",\"fLabels\":null,\"fModLabs\":null},\"fBarOffset\":0,\"fBarWidth\":1000,\"fEntries\":1,\"fTsumw\":0,\"fTsumw2\":0,\"fTsumwx\":0,\"fTsumwx2\":0,\"fMaximum\":1.04966111406095,\"fMinimum\":-1111,\"fNormFactor\":0,\"fContour\":[],\"fSumw2\":[],\"fOption\":\"\",\"fFunctions\":{\"_typename\":\"TList\",\"name\":\"TList\",\"arr\":[],\"opt\":[]},\"fBufferSize\":0,\"fBuffer\":[],\"fBinStatErrOpt\":0,\"fArray\":[0,1.04966111406095,0,0,0,0,0,0,0,0,0,0,0,0,0,0,0,0,0,0,0,0,0,0,0,0,0,0,0,0,0,0,0,0,0,0,0,0,0,0,0,0,0,0,0,0,0,0,0,0,0,0,0,0,0,0,0,0,0,0,0,0,0,0,0,0,0,0,0,0,0,0,0,0,0,0,0,0,0,0,0,0,0,0,0,0,0,0,0,0,0,0,0,0,0,0,0,0,0,0,0,0]},{\"_typename\":\"RooCurve\",\"fUniqueID\":0,\"fBits\":50332680,\"fName\":\"likelihood_times_prior_model_approx_Norm[mu]\",\"fTitle\":\"Projection of exp(-@0+2.531710)_approx\",\"fLineColor\":600,\"fLineStyle\":1,\"fLineWidth\":3,\"fFillColor\":920,\"fFillStyle\":1000,\"fMarkerColor\":1,\"fMarkerStyle\":1,\"fMarkerSize\":1,\"fNpoints\":104,\"fX\":[-0.178229054648302,-0.178229054648302,-0.161529479942312,-0.144829905236322,-0.128130330530332,-0.111430755824341,-0.0947311811183512,-0.078031606412361,-0.0613320317063707,-0.0446324570003805,-0.0279328822943903,-0.0112333075884001,0.00546626711759013,0.0221658418235803,0.0388654165295706,0.0555649912355608,0.072264565941551,0.0889641406475412,0.105663715353531,0.122363290059522,0.139062864765512,0.155762439471502,0.172462014177492,0.189161588883483,0.205861163589473,0.222560738295463,0.239260313001453,0.255959887707443,0.272659462413434,0.289359037119424,0.306058611825414,0.322758186531404,0.339457761237394,0.356157335943385,0.372856910649375,0.389556485355365,0.406256060061355,0.422955634767345,0.439655209473336,0.456354784179326,0.473054358885316,0.489753933591306,0.506453508297297,0.523153083003287,0.539852657709277,0.556552232415267,0.573251807121258,0.589951381827248,0.606650956533238,0.623350531239228,0.640050105945218,0.656749680651209,0.673449255357199,0.690148830063189,0.706848404769179,0.723547979475169,0.74024755418116,0.75694712888715,0.77364670359314,0.79034627829913,0.807045853005121,0.823745427711111,0.840445002417101,0.857144577123091,0.873844151829081,0.890543726535072,0.907243301241062,0.923942875947052,0.940642450653042,0.957342025359032,0.974041600065022,0.990741174771013,1.007440749477,1.02414032418299,1.04083989888898,1.05753947359497,1.07423904830096,1.09093862300695,1.10763819771294,1.12433777241893,1.14103734712492,1.15773692183092,1.17443649653691,1.1911360712429,1.20783564594889,1.22453522065488,1.24123479536087,1.25793437006686,1.27463394477285,1.29133351947884,1.30803309418483,1.32473266889082,1.34143224359681,1.3581318183028,1.37483139300879,1.39153096771478,1.40823054242077,1.42493011712676,1.44162969183275,1.45832926653874,1.47502884124473,1.49172841595072,1.49172841595072,1.49172841595072],\"fY\":[0,0.323225932632786,0.343525794437658,0.364428552216524,0.385858180208114,0.407679121714873,0.429860234837994,0.452414813324205,0.475293427702228,0.498367024800152,0.521597386790904,0.544949750492994,0.568349325484116,0.59171474133026,0.615004076038896,0.63816764392583,0.661045394018775,0.683646858983553,0.705930245942728,0.727853850409346,0.749155855738192,0.769933899635125,0.790163903122843,0.809808238175365,0.828571762460449,0.846553623582093,0.863788865621888,0.880247092471567,0.895643518696574,0.910021629264892,0.923501201447198,0.93606129878887,0.947463684024343,0.957653790281541,0.966849848267854,0.97504150489034,0.982061874990439,0.987735961900671,0.992380570465506,0.995995943771093,0.998498183462381,0.999591191187226,0.999677251486623,0.998766242106594,0.996855988114648,0.993548686181321,0.989307978576511,0.98415167791916,0.978097875016537,0.970830003997428,0.962693633940537,0.953761603895616,0.944057663315318,0.933375154078602,0.921922847114928,0.909820794519697,0.897096087189677,0.883634316152486,0.869539129773579,0.854953442375141,0.839905470336452,0.824350098006893,0.808324407929747,0.791969152837725,0.775311746952168,0.758351628004455,0.741098985048952,0.723669623587437,0.706088634180835,0.688376412056373,0.670552344840992,0.65268887572024,0.634807707077578,0.616930385575511,0.599113188826305,0.581373935464163,0.563729816768334,0.546198357692002,0.528861539206359,0.511707518485906,0.494738192766169,0.477966877904515,0.461481180016322,0.445270025687779,0.429309654521824,0.413609308306272,0.398247435733032,0.383235229909843,0.368517771018463,0.354100597832738,0.340043334197596,0.326392403214384,0.31306048937374,0.300049950140298,0.287396433504409,0.275187134719855,0.263304505263608,0.251748317433201,0.24052876989482,0.229773462742146,0.219339200684043,0.209223779194544,0.209223779194544,0],\"fFunctions\":{\"_typename\":\"TList\",\"name\":\"TList\",\"arr\":[],\"opt\":[]},\"fHistogram\":{\"_typename\":\"TH1F\",\"fUniqueID\":0,\"fBits\":50332168,\"fName\":\"likelihood_times_prior_model_approx_Norm[mu]\",\"fTitle\":\"Projection of exp(-@0+2.531710)_approx\",\"fLineColor\":602,\"fLineStyle\":1,\"fLineWidth\":1,\"fFillColor\":0,\"fFillStyle\":1001,\"fMarkerColor\":1,\"fMarkerStyle\":1,\"fMarkerSize\":1,\"fNcells\":106,\"fXaxis\":{\"_typename\":\"TAxis\",\"fUniqueID\":0,\"fBits\":50331648,\"fName\":\"xaxis\",\"fTitle\":\"\",\"fNdivisions\":510,\"fAxisColor\":1,\"fLabelColor\":1,\"fLabelFont\":42,\"fLabelOffset\":0.005,\"fLabelSize\":0.035,\"fTickLength\":0.03,\"fTitleOffset\":1,\"fTitleSize\":0.035,\"fTitleColor\":1,\"fTitleFont\":42,\"fNbins\":104,\"fXmin\":-0.345224801708204,\"fXmax\":1.65872416301062,\"fXbins\":[],\"fFirst\":0,\"fLast\":0,\"fBits2\":0,\"fTimeDisplay\":false,\"fTimeFormat\":\"\",\"fLabels\":null,\"fModLabs\":null},\"fYaxis\":{\"_typename\":\"TAxis\",\"fUniqueID\":0,\"fBits\":50331648,\"fName\":\"yaxis\",\"fTitle\":\"\",\"fNdivisions\":510,\"fAxisColor\":1,\"fLabelColor\":1,\"fLabelFont\":42,\"fLabelOffset\":0.005,\"fLabelSize\":0.035,\"fTickLength\":0.03,\"fTitleOffset\":0,\"fTitleSize\":0.035,\"fTitleColor\":1,\"fTitleFont\":42,\"fNbins\":1,\"fXmin\":0,\"fXmax\":1.09964497663529,\"fXbins\":[],\"fFirst\":0,\"fLast\":0,\"fBits2\":0,\"fTimeDisplay\":false,\"fTimeFormat\":\"\",\"fLabels\":null,\"fModLabs\":null},\"fZaxis\":{\"_typename\":\"TAxis\",\"fUniqueID\":0,\"fBits\":50331648,\"fName\":\"zaxis\",\"fTitle\":\"\",\"fNdivisions\":510,\"fAxisColor\":1,\"fLabelColor\":1,\"fLabelFont\":42,\"fLabelOffset\":0.005,\"fLabelSize\":0.035,\"fTickLength\":0.03,\"fTitleOffset\":1,\"fTitleSize\":0.035,\"fTitleColor\":1,\"fTitleFont\":42,\"fNbins\":1,\"fXmin\":0,\"fXmax\":1,\"fXbins\":[],\"fFirst\":0,\"fLast\":0,\"fBits2\":0,\"fTimeDisplay\":false,\"fTimeFormat\":\"\",\"fLabels\":null,\"fModLabs\":null},\"fBarOffset\":0,\"fBarWidth\":1000,\"fEntries\":0,\"fTsumw\":0,\"fTsumw2\":0,\"fTsumwx\":0,\"fTsumwx2\":0,\"fMaximum\":1.09964497663529,\"fMinimum\":0,\"fNormFactor\":0,\"fContour\":[],\"fSumw2\":[],\"fOption\":\"\",\"fFunctions\":{\"_typename\":\"TList\",\"name\":\"TList\",\"arr\":[],\"opt\":[]},\"fBufferSize\":0,\"fBuffer\":[],\"fBinStatErrOpt\":0,\"fArray\":[0,0,0,0,0,0,0,0,0,0,0,0,0,0,0,0,0,0,0,0,0,0,0,0,0,0,0,0,0,0,0,0,0,0,0,0,0,0,0,0,0,0,0,0,0,0,0,0,0,0,0,0,0,0,0,0,0,0,0,0,0,0,0,0,0,0,0,0,0,0,0,0,0,0,0,0,0,0,0,0,0,0,0,0,0,0,0,0,0,0,0,0,0,0,0,0,0,0,0,0,0,0,0,0,0,0]},\"fMinimum\":-1111,\"fMaximum\":-1111,\"_yAxisLabel\":\"Projection of exp(-@0+2.531710)_approx\",\"_ymin\":0,\"_ymax\":0.999677251486623,\"_normValue\":0},{\"_typename\":\"RooCurve\",\"fUniqueID\":0,\"fBits\":50332680,\"fName\":\"likelihood_times_prior_model_approx_Norm[mu]\",\"fTitle\":\"Projection of exp(-@0+2.531710)_approx\",\"fLineColor\":600,\"fLineStyle\":1,\"fLineWidth\":3,\"fFillColor\":0,\"fFillStyle\":1000,\"fMarkerColor\":1,\"fMarkerStyle\":1,\"fMarkerSize\":1,\"fNpoints\":136,\"fX\":[-1.11,-1.11,-1,-0.89,-0.78,-0.725,-0.67,-0.615,-0.56,-0.505,-0.45,-0.395,-0.34,-0.285,-0.23,-0.175,-0.12,-0.065,-0.01,0.1,0.155,0.21,0.2375,0.265,0.2925,0.32,0.3475,0.375,0.4025,0.43,0.4575,0.485,0.5125,0.54,0.5675,0.595,0.6225,0.65,0.6775,0.705,0.76,0.815,0.87,0.98,1.09,1.145,1.2,1.255,1.31,1.365,1.42,1.475,1.53,1.585,1.64,1.695,1.75,1.805,1.86,1.97,2.08,2.19,2.3,2.41,2.52,2.63,2.74,2.85,2.96,3.07,3.18,3.29,3.4,3.51,3.62,3.73,3.84,3.95,4.06,4.17,4.28,4.39,4.5,4.61,4.72,4.83,4.94,5.05,5.16,5.27,5.38,5.49,5.6,5.71,5.82,5.93,6.04,6.15,6.26,6.37,6.48,6.59,6.7,6.81,6.92,7.03,7.14,7.25,7.36,7.47,7.58,7.69,7.8,7.91,8.02,8.13,8.24,8.35,8.46,8.57,8.68,8.79,8.9,9.01,9.12,9.23,9.34,9.45,9.56,9.67,9.78,9.89,10,10,10.11,10.11],\"fY\":[0,3.68058782267353e-4,3.68058782267353e-4,0.00166443839121384,0.00588118839499547,0.0102654757083038,0.0169447988917537,0.0270076103431889,0.0411229031499543,0.0606850640466734,0.086216420634846,0.119089390709721,0.15932202046932,0.20779817030322,0.263743237722879,0.327130903497495,0.396343714975701,0.47025840999766,0.546674384076059,0.698490095612756,0.76899529367187,0.833222129842143,0.862039110943031,0.888581761134009,0.912678062323997,0.934178022960828,0.952483924340203,0.967941774154275,0.980482856829009,0.990063234839634,0.996167541223845,0.999304120992758,0.999508866318815,0.996839133721407,0.990922180605953,0.982336378823525,0.971200166199357,0.957646182869644,0.941466452591443,0.923215993639039,0.881173352166826,0.832496316495845,0.779215874657343,0.664191089712448,0.547172797878923,0.490750649131279,0.436704876002503,0.385860910710918,0.33838764451231,0.294845826508773,0.255060598401267,0.219356945586459,0.187341687323134,0.159156118693781,0.134300445680635,0.11278948444681,0.0941023839426049,0.0781784605648877,0.064532370606234,0.0433644399096818,0.0285858571780575,0.0185043479575722,0.011773637810659,0.00736953504962651,0.004541635670245,0.00275773332516198,0.00165105713980236,9.75266028608539e-4,5.68718838019093e-4,3.27590089784717e-4,1.86488405546697e-4,1.04972542065682e-4,5.84526200869091e-5,3.22126191429913e-5,1.75760001778444e-5,9.49847382524728e-6,5.08610878133388e-6,2.6993856083155e-6,1.42047296734061e-6,7.41350475345695e-7,3.83851846017439e-7,1.97230388508701e-7,1.00593343721151e-7,5.09401365907466e-8,2.56184362977244e-8,1.2798230659601e-8,6.3526260791559e-9,3.13374297995864e-9,1.53667433651443e-9,7.49226411326018e-10,3.63300593394976e-10,1.75249389125812e-10,8.412176340769e-11,4.01935119408769e-11,1.91225213426979e-11,9.06221500979184e-12,4.27951748823556e-12,2.01469911151203e-12,9.45966346861006e-13,4.43196376605693e-13,2.07292790915362e-13,9.68405060976243e-14,4.52099657014474e-14,2.11025109029237e-14,9.853075007187e-15,4.6042167463646e-15,2.15420076339119e-15,1.0096081489648e-15,4.74169780786439e-16,2.2325164011798e-16,1.0541134173349e-16,4.99287349739554e-17,2.37306446287928e-17,1.13207802145462e-17,5.4218876409868e-18,2.60747105893928e-18,1.25938799533827e-18,6.10993278902749e-19,2.97787343737685e-19,1.458196917807e-19,7.17472710229629e-20,3.54736334244514e-20,1.76255317719428e-20,8.80104621720931e-21,4.41667886385173e-21,2.22759368353688e-21,1.12917104099207e-21,5.75265473506608e-22,2.94550408273965e-22,1.51575390725852e-22,7.83913163164224e-23,4.07443707700575e-23,2.12821705617779e-23,2.12821705617779e-23,2.12821705617779e-23,0],\"fFunctions\":{\"_typename\":\"TList\",\"name\":\"TList\",\"arr\":[],\"opt\":[]},\"fHistogram\":{\"_typename\":\"TH1F\",\"fUniqueID\":0,\"fBits\":50332168,\"fName\":\"likelihood_times_prior_model_approx_Norm[mu]\",\"fTitle\":\"Projection of exp(-@0+2.531710)_approx\",\"fLineColor\":602,\"fLineStyle\":1,\"fLineWidth\":1,\"fFillColor\":0,\"fFillStyle\":1001,\"fMarkerColor\":1,\"fMarkerStyle\":1,\"fMarkerSize\":1,\"fNcells\":138,\"fXaxis\":{\"_typename\":\"TAxis\",\"fUniqueID\":0,\"fBits\":50331648,\"fName\":\"xaxis\",\"fTitle\":\"\",\"fNdivisions\":510,\"fAxisColor\":1,\"fLabelColor\":1,\"fLabelFont\":42,\"fLabelOffset\":0.005,\"fLabelSize\":0.035,\"fTickLength\":0.03,\"fTitleOffset\":1,\"fTitleSize\":0.035,\"fTitleColor\":1,\"fTitleFont\":42,\"fNbins\":136,\"fXmin\":-2.232,\"fXmax\":11.232,\"fXbins\":[],\"fFirst\":0,\"fLast\":0,\"fBits2\":0,\"fTimeDisplay\":false,\"fTimeFormat\":\"\",\"fLabels\":null,\"fModLabs\":null},\"fYaxis\":{\"_typename\":\"TAxis\",\"fUniqueID\":0,\"fBits\":50331648,\"fName\":\"yaxis\",\"fTitle\":\"\",\"fNdivisions\":510,\"fAxisColor\":1,\"fLabelColor\":1,\"fLabelFont\":42,\"fLabelOffset\":0.005,\"fLabelSize\":0.035,\"fTickLength\":0.03,\"fTitleOffset\":0,\"fTitleSize\":0.035,\"fTitleColor\":1,\"fTitleFont\":42,\"fNbins\":1,\"fXmin\":0,\"fXmax\":1.0994597529507,\"fXbins\":[],\"fFirst\":0,\"fLast\":0,\"fBits2\":0,\"fTimeDisplay\":false,\"fTimeFormat\":\"\",\"fLabels\":null,\"fModLabs\":null},\"fZaxis\":{\"_typename\":\"TAxis\",\"fUniqueID\":0,\"fBits\":50331648,\"fName\":\"zaxis\",\"fTitle\":\"\",\"fNdivisions\":510,\"fAxisColor\":1,\"fLabelColor\":1,\"fLabelFont\":42,\"fLabelOffset\":0.005,\"fLabelSize\":0.035,\"fTickLength\":0.03,\"fTitleOffset\":1,\"fTitleSize\":0.035,\"fTitleColor\":1,\"fTitleFont\":42,\"fNbins\":1,\"fXmin\":0,\"fXmax\":1,\"fXbins\":[],\"fFirst\":0,\"fLast\":0,\"fBits2\":0,\"fTimeDisplay\":false,\"fTimeFormat\":\"\",\"fLabels\":null,\"fModLabs\":null},\"fBarOffset\":0,\"fBarWidth\":1000,\"fEntries\":0,\"fTsumw\":0,\"fTsumw2\":0,\"fTsumwx\":0,\"fTsumwx2\":0,\"fMaximum\":1.0994597529507,\"fMinimum\":0,\"fNormFactor\":0,\"fContour\":[],\"fSumw2\":[],\"fOption\":\"\",\"fFunctions\":{\"_typename\":\"TList\",\"name\":\"TList\",\"arr\":[],\"opt\":[]},\"fBufferSize\":0,\"fBuffer\":[],\"fBinStatErrOpt\":0,\"fArray\":[0,0,0,0,0,0,0,0,0,0,0,0,0,0,0,0,0,0,0,0,0,0,0,0,0,0,0,0,0,0,0,0,0,0,0,0,0,0,0,0,0,0,0,0,0,0,0,0,0,0,0,0,0,0,0,0,0,0,0,0,0,0,0,0,0,0,0,0,0,0,0,0,0,0,0,0,0,0,0,0,0,0,0,0,0,0,0,0,0,0,0,0,0,0,0,0,0,0,0,0,0,0,0,0,0,0,0,0,0,0,0,0,0,0,0,0,0,0,0,0,0,0,0,0,0,0,0,0,0,0,0,0,0,0,0,0,0,0]},\"fMinimum\":-1111,\"fMaximum\":-1111,\"_yAxisLabel\":\"Projection of exp(-@0+2.531710)_approx\",\"_ymin\":0,\"_ymax\":0.999508866318815,\"_normValue\":0},{\"$ref\":3},{\"_typename\":\"TPaveText\",\"fUniqueID\":0,\"fBits\":50331657,\"fLineColor\":1,\"fLineStyle\":1,\"fLineWidth\":1,\"fFillColor\":0,\"fFillStyle\":0,\"fX1\":-0.0924210454439041,\"fY1\":1.09424948756709,\"fX2\":9.09242104544391,\"fY2\":1.17430838729013,\"fX1NDC\":0.166005747126437,\"fY1NDC\":0.933983055615829,\"fX2NDC\":0.833994252873563,\"fY2NDC\":0.995000004768372,\"fBorderSize\":0,\"fInit\":1,\"fShadowColor\":1,\"fCornerRadius\":0,\"fOption\":\"blNDC\",\"fName\":\"title\",\"fTextAngle\":0,\"fTextSize\":0,\"fTextAlign\":22,\"fTextColor\":1,\"fTextFont\":42,\"fLabel\":\"\",\"fLongest\":39,\"fMargin\":0.05,\"fLines\":{\"_typename\":\"TList\",\"name\":\"TList\",\"arr\":[{\"_typename\":\"TLatex\",\"fUniqueID\":0,\"fBits\":50331648,\"fName\":\"\",\"fTitle\":\"Posterior probability of parameter \\\"mu\\\"\",\"fTextAngle\":0,\"fTextSize\":0,\"fTextAlign\":0,\"fTextColor\":0,\"fTextFont\":0,\"fX\":0,\"fY\":0,\"fLineColor\":1,\"fLineStyle\":1,\"fLineWidth\":2,\"fLimitFactorSize\":3,\"fOriginSize\":0.0518644079566002}],\"opt\":[\"\"]}}],\"opt\":[\"\",\"FUNC\",\"f\",\"l\",\"AXISSAME\",\"blNDC\"]},\"fExecs\":null,\"fName\":\"c1\",\"fTitle\":\"c1\",\"fNumPaletteColor\":0,\"fNextPaletteColor\":0,\"fDISPLAY\":\"$DISPLAY\",\"fDoubleBuffer\":0,\"fRetained\":true,\"fXsizeUser\":0,\"fYsizeUser\":0,\"fXsizeReal\":20,\"fYsizeReal\":14.28571,\"fWindowTopX\":0,\"fWindowTopY\":0,\"fWindowWidth\":0,\"fWindowHeight\":0,\"fCw\":696,\"fCh\":472,\"fCatt\":{\"_typename\":\"TAttCanvas\",\"fXBetween\":2,\"fYBetween\":2,\"fTitleFromTop\":1.2,\"fXdate\":0.2,\"fYdate\":0.3,\"fAdate\":1},\"kMoveOpaque\":true,\"kResizeOpaque\":true,\"fHighLightColor\":2,\"fBatch\":true,\"kShowEventStatus\":false,\"kAutoExec\":true,\"kMenuBar\":true});\n",
       "       Core.draw(\"root_plot_1\", obj, \"\");\n",
       "     }\n",
       " );\n",
       "</script>\n"
      ],
      "text/plain": [
       "<IPython.core.display.HTML object>"
      ]
     },
     "metadata": {},
     "output_type": "display_data"
    }
   ],
   "source": [
    "TCanvas* c = new TCanvas();\n",
    "RooPlot* plot = bayesianCalc.GetPosteriorPlot();\n",
    "plot->Draw() ; \n",
    "c->Draw();"
   ]
  },
  {
   "cell_type": "code",
   "execution_count": null,
   "metadata": {
    "collapsed": true
   },
   "outputs": [],
   "source": []
  }
 ],
 "metadata": {
  "kernelspec": {
   "display_name": "ROOT C++",
   "language": "c++",
   "name": "root"
  },
  "language_info": {
   "codemirror_mode": "text/x-c++src",
   "file_extension": ".C",
   "mimetype": " text/x-c++src",
   "name": "c++"
  }
 },
 "nbformat": 4,
 "nbformat_minor": 2
}
