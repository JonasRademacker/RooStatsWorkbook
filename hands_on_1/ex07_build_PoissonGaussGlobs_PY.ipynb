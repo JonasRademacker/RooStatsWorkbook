{
 "cells": [
  {
   "cell_type": "markdown",
   "metadata": {},
   "source": [
    "# Systematic Errors and Gaussian Subsidiary measurements\n",
    "\n",
    "Build a model Poisson$(N_\\mathrm{SR} | \\mu * S + (B_\\mathrm{nom}+\\alpha_B*B_\\mathrm{systerr}) ) * \\mathrm{Gaussian} ( 0 | \\alpha_B, 1)$ representing a signal region SR that includes an uncertain background component $B$ that is known with a systematic uncertainty $B = B_\\mathrm{nom} \\pm B_\\mathrm{systerr}$\n",
    "\n",
    "The constant $B$ from previous exercises is replaced by a response function $B(\\alpha_B) = B_\\mathrm{nom} + \\alpha_B * B_\\mathrm{systerr}$ where $B_\\mathrm{nom}$ is known nominal value of $B$ and $B_\\mathrm{systerr}$ is the associated systematic uncertainty. \n",
    "    \n",
    "The response function $B(\\alpha_B)$ is defined such that if nuisance parameter $\\alpha_B$ is measured with unit Gaussian uncertainty the uncertainty on $B$ is modelled as Gaussian centered at $B_\\mathrm{nom}$ with a error of $B_\\mathrm{systerr}$.\n",
    "\n",
    "A subdiary Gaussian measurement is included that measured $\\alpha_B$ according to a unit Gaussian distribuion. Since the observed value of the systematic uncertainty is by construction zero, that observable is included as a Global Observable in the model."
   ]
  },
  {
   "cell_type": "code",
   "execution_count": 1,
   "metadata": {},
   "outputs": [
    {
     "name": "stdout",
     "output_type": "stream",
     "text": [
      "Welcome to JupyROOT 6.12/06\n"
     ]
    }
   ],
   "source": [
    "import ROOT\n",
    "%jsroot on"
   ]
  },
  {
   "cell_type": "markdown",
   "metadata": {},
   "source": [
    "## Build Model\n",
    "\n",
    "Construct an empy workspace that will contain the model"
   ]
  },
  {
   "cell_type": "code",
   "execution_count": 2,
   "metadata": {},
   "outputs": [
    {
     "name": "stdout",
     "output_type": "stream",
     "text": [
      "\n",
      "\u001b[1mRooFit v3.60 -- Developed by Wouter Verkerke and David Kirkby\u001b[0m \n",
      "                Copyright (C) 2000-2013 NIKHEF, University of California & Stanford University\n",
      "                All rights reserved, please read http://roofit.sourceforge.net/license.txt\n",
      "\n"
     ]
    }
   ],
   "source": [
    "w = ROOT.RooWorkspace(\"w\")"
   ]
  },
  {
   "cell_type": "markdown",
   "metadata": {},
   "source": [
    "### Construct a Poisson signal region model\n",
    "\n",
    "Construct the response function for the background $B = B_\\mathrm{nom} + \\alpha_B * B_\\mathrm{systerr}$"
   ]
  },
  {
   "cell_type": "code",
   "execution_count": 3,
   "metadata": {},
   "outputs": [
    {
     "data": {
      "text/plain": [
       "<ROOT.RooFormulaVar object (\"B\") at 0x3f8a4d0>"
      ]
     },
     "execution_count": 3,
     "metadata": {},
     "output_type": "execute_result"
    }
   ],
   "source": [
    "w.factory(\"expr::B('B_nom+alpha_B*B_systerr',B_nom[20],alpha_B[-5,5],B_systerr[4])\") "
   ]
  },
  {
   "cell_type": "markdown",
   "metadata": {},
   "source": [
    "Construct expression for expected event count `Nexp_SR` = $\\mu * S + B$, with $S$ fixed and $B$ previously defined"
   ]
  },
  {
   "cell_type": "code",
   "execution_count": 4,
   "metadata": {},
   "outputs": [
    {
     "data": {
      "text/plain": [
       "<ROOT.RooFormulaVar object (\"Nexp_SR\") at 0x82d7de0>"
      ]
     },
     "execution_count": 4,
     "metadata": {},
     "output_type": "execute_result"
    }
   ],
   "source": [
    "w.factory(\"expr::Nexp_SR('mu*S+B',mu[1,-1,10],S[10],B)\")"
   ]
  },
  {
   "cell_type": "markdown",
   "metadata": {},
   "source": [
    "Construct Poisson probability model for Nobs_SR given Nexp_SR"
   ]
  },
  {
   "cell_type": "code",
   "execution_count": 5,
   "metadata": {},
   "outputs": [
    {
     "data": {
      "text/plain": [
       "<ROOT.RooPoisson object (\"model_SR\") at 0x83bae00>"
      ]
     },
     "execution_count": 5,
     "metadata": {},
     "output_type": "execute_result"
    }
   ],
   "source": [
    "w.factory(\"Poisson::model_SR(Nobs_SR[0,100],Nexp_SR)\")"
   ]
  },
  {
   "cell_type": "markdown",
   "metadata": {},
   "source": [
    "### Construct a Gaussian subsidiary measurement\n",
    "\n",
    "Construct expression for expected event count Nexp_CR $= \\tau * B$, with $\\tau$ fixed. The factor $\\tau$ expresses the ratio of the CR size w.r.t. the SR size."
   ]
  },
  {
   "cell_type": "code",
   "execution_count": 6,
   "metadata": {},
   "outputs": [
    {
     "data": {
      "text/plain": [
       "<ROOT.RooGaussian object (\"model_alphaB\") at 0x83cea20>"
      ]
     },
     "execution_count": 6,
     "metadata": {},
     "output_type": "execute_result"
    }
   ],
   "source": [
    "w.factory(\"Gaussian::model_alphaB(alphaB_nom[0],alpha_B,1)\")"
   ]
  },
  {
   "cell_type": "markdown",
   "metadata": {},
   "source": [
    "### Construct a joint model for the SR and CR"
   ]
  },
  {
   "cell_type": "code",
   "execution_count": 7,
   "metadata": {},
   "outputs": [
    {
     "data": {
      "text/plain": [
       "<ROOT.RooProdPdf object (\"model\") at 0x83f7b60>"
      ]
     },
     "execution_count": 7,
     "metadata": {},
     "output_type": "execute_result"
    }
   ],
   "source": [
    "w.factory(\"PROD::model(model_SR,model_alphaB)\")"
   ]
  },
  {
   "cell_type": "markdown",
   "metadata": {},
   "source": [
    "### Construct a dataset containing a single observed event count\n",
    "\n",
    "Construct an empty dataset for observable Nobs"
   ]
  },
  {
   "cell_type": "code",
   "execution_count": 8,
   "metadata": {
    "collapsed": true
   },
   "outputs": [],
   "source": [
    "d = ROOT.RooDataSet(\"d\",\"d\",ROOT.RooArgSet(w.var(\"Nobs_SR\")))"
   ]
  },
  {
   "cell_type": "markdown",
   "metadata": {},
   "source": [
    "Set Nobs to desired observed event count"
   ]
  },
  {
   "cell_type": "code",
   "execution_count": 9,
   "metadata": {
    "collapsed": true
   },
   "outputs": [],
   "source": [
    "w.var(\"Nobs_SR\").setVal(25)"
   ]
  },
  {
   "cell_type": "markdown",
   "metadata": {},
   "source": [
    "Add observation of 25 events to dataset"
   ]
  },
  {
   "cell_type": "code",
   "execution_count": 10,
   "metadata": {},
   "outputs": [
    {
     "data": {
      "text/plain": [
       "False"
      ]
     },
     "execution_count": 10,
     "metadata": {},
     "output_type": "execute_result"
    },
    {
     "name": "stdout",
     "output_type": "stream",
     "text": [
      "[#1] INFO:ObjectHandling -- RooWorkspace::import(w) importing dataset d\n",
      "[#1] INFO:ObjectHandling -- RooWorkSpace::import(w) changing name of dataset from  d to observed_data\n"
     ]
    }
   ],
   "source": [
    "d.add(ROOT.RooArgSet(w.var(\"Nobs_SR\")))\n",
    "getattr(w,'import')(d,ROOT.RooFit.Rename(\"observed_data\"))"
   ]
  },
  {
   "cell_type": "markdown",
   "metadata": {},
   "source": [
    "## Construct a unique statistical interpretatation of the model to be used by RooStats\n",
    "\n",
    "Create an empty ModelConfig"
   ]
  },
  {
   "cell_type": "code",
   "execution_count": 11,
   "metadata": {},
   "outputs": [],
   "source": [
    "mc = ROOT.RooStats.ModelConfig(\"ModelConfig\",w)"
   ]
  },
  {
   "cell_type": "markdown",
   "metadata": {},
   "source": [
    "Define the pdf, the parameter of interest and the observables"
   ]
  },
  {
   "cell_type": "code",
   "execution_count": 12,
   "metadata": {},
   "outputs": [],
   "source": [
    "mc.SetPdf(w.pdf(\"model\"))\n",
    "mc.SetParametersOfInterest(ROOT.RooArgSet(w.var(\"mu\")))\n",
    "mc.SetNuisanceParameters(ROOT.RooArgSet(w.var(\"alpha_B\")))\n",
    "mc.SetObservables(ROOT.RooArgSet(w.var(\"Nobs_SR\")))\n",
    "mc.SetGlobalObservables(ROOT.RooArgSet(w.var(\"alphaB_nom\")))"
   ]
  },
  {
   "cell_type": "markdown",
   "metadata": {},
   "source": [
    "Define the current value $\\mu = 1$ as an hypothesis"
   ]
  },
  {
   "cell_type": "code",
   "execution_count": 13,
   "metadata": {},
   "outputs": [
    {
     "name": "stdout",
     "output_type": "stream",
     "text": [
      "\n",
      "=== Using the following for ModelConfig ===\n",
      "Observables:             RooArgSet:: = (Nobs_SR)\n",
      "Parameters of Interest:  RooArgSet:: = (mu)\n",
      "Nuisance Parameters:     RooArgSet:: = (alpha_B)\n",
      "Global Observables:      RooArgSet:: = (alphaB_nom)\n",
      "PDF:                     RooProdPdf::model[ model_SR * model_alphaB ] = 0.0511153\n",
      "Snapshot:                \n",
      "  1) 0x8861e30 RooRealVar:: mu = 1  L(-1 - 10)  \"mu\"\n",
      "\n"
     ]
    }
   ],
   "source": [
    "mc.SetSnapshot(ROOT.RooArgSet(w.var(\"mu\")))\n",
    "\n",
    "mc.Print()"
   ]
  },
  {
   "cell_type": "markdown",
   "metadata": {},
   "source": [
    "import model in the workspace"
   ]
  },
  {
   "cell_type": "code",
   "execution_count": 14,
   "metadata": {},
   "outputs": [
    {
     "data": {
      "text/plain": [
       "False"
      ]
     },
     "execution_count": 14,
     "metadata": {},
     "output_type": "execute_result"
    }
   ],
   "source": [
    "getattr(w,'import')(mc)\n",
    "\n",
    "w.writeToFile(\"../workspaces/model.root\")"
   ]
  },
  {
   "cell_type": "markdown",
   "metadata": {},
   "source": [
    "## Fit model to the data \n",
    "\n",
    "*NB: Global Observables that occur in the model must be explicitly identified when using the pdf*"
   ]
  },
  {
   "cell_type": "code",
   "execution_count": 15,
   "metadata": {},
   "outputs": [
    {
     "data": {
      "text/plain": [
       "<ROOT.RooFitResult object at 0x(nil)>"
      ]
     },
     "execution_count": 15,
     "metadata": {},
     "output_type": "execute_result"
    },
    {
     "name": "stdout",
     "output_type": "stream",
     "text": [
      "[#1] INFO:Minization -- createNLL: caching constraint set under name CONSTR_OF_PDF_model_FOR_OBS_Nobs_SR with 1 entries\n",
      "[#1] INFO:Minization --  Including the following contraint terms in minimization: (model_alphaB)\n",
      "[#1] INFO:Minization -- The following global observables have been defined: (alphaB_nom)\n",
      "[#1] INFO:Fitting -- RooAddition::defaultErrorLevel(nll_model_d_with_constr) Summation contains a RooNLLVar, using its error level\n",
      "[#1] INFO:Minization -- RooMinimizer::optimizeConst: activating const optimization\n",
      "[#1] INFO:Minization --  The following expressions will be evaluated in cache-and-track mode: (model_SR)\n",
      " **********\n",
      " **    1 **SET PRINT           1\n",
      " **********\n",
      " **********\n",
      " **    2 **SET NOGRAD\n",
      " **********\n",
      " PARAMETER DEFINITIONS:\n",
      "    NO.   NAME         VALUE      STEP SIZE      LIMITS\n",
      "     1 alpha_B      0.00000e+00  1.00000e+00   -5.00000e+00  5.00000e+00\n",
      "     2 mu           1.00000e+00  1.00000e+00   -1.00000e+00  1.00000e+01\n",
      " **********\n",
      " **    3 **SET ERR         0.5\n",
      " **********\n",
      " **********\n",
      " **    4 **SET PRINT           1\n",
      " **********\n",
      " **********\n",
      " **    5 **SET STR           1\n",
      " **********\n",
      " NOW USING STRATEGY  1: TRY TO BALANCE SPEED AGAINST RELIABILITY\n",
      " **********\n",
      " **    6 **MIGRAD        1000           1\n",
      " **********\n",
      " FIRST CALL TO USER FUNCTION AT NEW START POINT, WITH IFLAG=4.\n",
      " START MIGRAD MINIMIZATION.  STRATEGY  1.  CONVERGENCE WHEN EDM .LT. 1.00e-03\n",
      " FCN=3.89261 FROM MIGRAD    STATUS=INITIATE        8 CALLS           9 TOTAL\n",
      "                     EDM= unknown      STRATEGY= 1      NO ERROR MATRIX       \n",
      "  EXT PARAMETER               CURRENT GUESS       STEP         FIRST   \n",
      "  NO.   NAME      VALUE            ERROR          SIZE      DERIVATIVE \n",
      "   1  alpha_B      0.00000e+00   1.00000e+00   2.01358e-01   3.33333e+00\n",
      "   2  mu           1.00000e+00   1.00000e+00   2.43190e-01   7.07107e+00\n",
      "                               ERR DEF= 0.5\n",
      " MIGRAD MINIMIZATION HAS CONVERGED.\n",
      " MIGRAD WILL VERIFY CONVERGENCE AND ERROR MATRIX.\n",
      " COVARIANCE MATRIX CALCULATED SUCCESSFULLY\n",
      " FCN=3.45065 FROM MIGRAD    STATUS=CONVERGED      35 CALLS          36 TOTAL\n",
      "                     EDM=3.06241e-07    STRATEGY= 1      ERROR MATRIX ACCURATE \n",
      "  EXT PARAMETER                                   STEP         FIRST   \n",
      "  NO.   NAME      VALUE            ERROR          SIZE      DERIVATIVE \n",
      "   1  alpha_B     -4.84824e-04   9.93139e-01   2.14551e-04  -3.49165e-03\n",
      "   2  mu           5.00060e-01   6.37104e-01   1.81770e-04  -2.01493e-03\n",
      "                               ERR DEF= 0.5\n",
      " EXTERNAL ERROR MATRIX.    NDIM=  25    NPAR=  2    ERR DEF=0.5\n",
      "  9.996e-01 -3.997e-01 \n",
      " -3.997e-01  4.098e-01 \n",
      " PARAMETER  CORRELATION COEFFICIENTS  \n",
      "       NO.  GLOBAL      1      2\n",
      "        1  0.62451   1.000 -0.625\n",
      "        2  0.62451  -0.625  1.000\n",
      " **********\n",
      " **    7 **SET ERR         0.5\n",
      " **********\n",
      " **********\n",
      " **    8 **SET PRINT           1\n",
      " **********\n",
      " **********\n",
      " **    9 **HESSE        1000\n",
      " **********\n",
      " COVARIANCE MATRIX CALCULATED SUCCESSFULLY\n",
      " FCN=3.45065 FROM HESSE     STATUS=OK             10 CALLS          46 TOTAL\n",
      "                     EDM=3.06266e-07    STRATEGY= 1      ERROR MATRIX ACCURATE \n",
      "  EXT PARAMETER                                INTERNAL      INTERNAL  \n",
      "  NO.   NAME      VALUE            ERROR       STEP SIZE       VALUE   \n",
      "   1  alpha_B     -4.84824e-04   9.93314e-01   4.29103e-05  -9.69648e-05\n",
      "   2  mu           5.00060e-01   6.37217e-01   3.63540e-05  -8.14324e-01\n",
      "                               ERR DEF= 0.5\n",
      " EXTERNAL ERROR MATRIX.    NDIM=  25    NPAR=  2    ERR DEF=0.5\n",
      "  9.999e-01 -4.000e-01 \n",
      " -4.000e-01  4.100e-01 \n",
      " PARAMETER  CORRELATION COEFFICIENTS  \n",
      "       NO.  GLOBAL      1      2\n",
      "        1  0.62468   1.000 -0.625\n",
      "        2  0.62468  -0.625  1.000\n",
      "[#1] INFO:Minization -- RooMinimizer::optimizeConst: deactivating const optimization\n"
     ]
    }
   ],
   "source": [
    "w.pdf(\"model\").fitTo(d,ROOT.RooFit.GlobalObservables(ROOT.RooArgSet(w.var(\"alphaB_nom\"))))"
   ]
  },
  {
   "cell_type": "code",
   "execution_count": null,
   "metadata": {
    "collapsed": true
   },
   "outputs": [],
   "source": []
  }
 ],
 "metadata": {
  "kernelspec": {
   "display_name": "Python 2",
   "language": "python",
   "name": "python2"
  },
  "language_info": {
   "codemirror_mode": {
    "name": "ipython",
    "version": 2
   },
   "file_extension": ".py",
   "mimetype": "text/x-python",
   "name": "python",
   "nbconvert_exporter": "python",
   "pygments_lexer": "ipython2",
   "version": "2.7.13"
  }
 },
 "nbformat": 4,
 "nbformat_minor": 2
}
