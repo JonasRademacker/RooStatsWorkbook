{
 "cells": [
  {
   "cell_type": "markdown",
   "metadata": {},
   "source": [
    "# Working with Global Observables\n",
    "\n",
    "A model with Poisson($N_\\mathrm{SR} | \\mu \\times$S + B ) $\\times$ Poisson($N_\\mathrm{CR} | \\tau\\times$B)  with $N_\\mathrm{CR}$=200, $S$=10, tau=10 constant\n",
    "\n",
    "This will represent a signal region SR and a control region CR (that measures only the bkg)\n",
    "\n",
    "The constant parameter tau represents the sideband scale factor\n",
    "\n",
    "In this model a different technical approach is taken to describing the measured event count in the control region $N_\\mathrm{CR}$. Here it is described as a *Global Observable*, which hides it as an explicit member of the dataset, but retains it as an implicit member of the data that is defined in the model, rather than in the data.\n",
    "\n",
    " * Generate an observed dataset $N_\\mathrm{SR}=25(N_\\mathrm{CR}=200$ is not part of the data, but is implicityly defined in the model)\n",
    " * Construct a unique statistical problem definition (RooStats::ModelConfig) that specifies\n",
    "   * model = model\n",
    "   * observable = $N_\\mathrm{SR}$\n",
    "   * global observable = $N_\\mathrm{SR}$\n",
    "   * parameter of interest = $\\mu$\n",
    "   * nuisance parameter = $B$\n",
    " * Store everything in a root file for later use\n",
    " \n",
    "The concept of global observables is mostly useful for measurements where the observed value is always the same (unlike the $N_\\mathrm{CR}$ of this example, which could genuinely be different in every measurement). It is commonly used in the description of subsidiary measurements that represent systematic uncertainties, where the observed value is by construction always exactly zero (for additive uncertainties) or one (for multiplicative uncertainties)"
   ]
  },
  {
   "cell_type": "code",
   "execution_count": 1,
   "metadata": {
    "collapsed": true
   },
   "outputs": [],
   "source": [
    "%jsroot"
   ]
  },
  {
   "cell_type": "markdown",
   "metadata": {},
   "source": [
    "Construct an empy workspace that will contain the model"
   ]
  },
  {
   "cell_type": "code",
   "execution_count": 2,
   "metadata": {},
   "outputs": [
    {
     "name": "stdout",
     "output_type": "stream",
     "text": [
      "\n",
      "\u001b[1mRooFit v3.60 -- Developed by Wouter Verkerke and David Kirkby\u001b[0m \n",
      "                Copyright (C) 2000-2013 NIKHEF, University of California & Stanford University\n",
      "                All rights reserved, please read http://roofit.sourceforge.net/license.txt\n",
      "\n"
     ]
    }
   ],
   "source": [
    "RooWorkspace w(\"w\") ;"
   ]
  },
  {
   "cell_type": "markdown",
   "metadata": {},
   "source": [
    "## Construct a Poisson signal region model\n",
    "\n",
    "Construct expression for expected event count $N^{\\exp}_\\mathrm{SR} = \\mu \\times S + B$, with $S$ fixed and $B$ floating"
   ]
  },
  {
   "cell_type": "code",
   "execution_count": 3,
   "metadata": {
    "collapsed": true
   },
   "outputs": [],
   "source": [
    "w.factory(\"expr::Nexp_SR('mu*S+B',mu[1,-1,10],S[10],B[20,0,200])\") ;"
   ]
  },
  {
   "cell_type": "markdown",
   "metadata": {},
   "source": [
    "Construct Poisson probability model for $N^\\mathrm{obs}_\\mathrm{SR}$ given $N^\\mathrm{exp}_\\mathrm{SR}$"
   ]
  },
  {
   "cell_type": "code",
   "execution_count": 4,
   "metadata": {
    "collapsed": true
   },
   "outputs": [],
   "source": [
    "w.factory(\"Poisson::model_SR(Nobs_SR[0,100],Nexp_SR)\") ;"
   ]
  },
  {
   "cell_type": "markdown",
   "metadata": {},
   "source": [
    "## Construct a Poisson control region model \n",
    "\n",
    "Construct expression for expected event count $N^\\mathrm{exp}_\\mathrm{CR} = \\tau \\times B$, with $\\tau$ fixed. The factor $\\tau$ expresses the ratio of the CR size w.r.t. the SR size"
   ]
  },
  {
   "cell_type": "code",
   "execution_count": 5,
   "metadata": {
    "collapsed": true
   },
   "outputs": [],
   "source": [
    "w.factory(\"expr::Nexp_CR('tau*B',tau[10],B)\") ;"
   ]
  },
  {
   "cell_type": "markdown",
   "metadata": {},
   "source": [
    "Construct Poisson probability model for $N_\\mathrm{obs}$ given $N_\\mathrm{exp}$\n",
    "\n",
    "*NB: If we treat Nobs_CR as a global observable, we make it constant in model.*\n",
    "*This is implicitly done here by not not specifying a range, but just a single value* `x[lo,hi]` $\\rightarrow $ `x[val]`"
   ]
  },
  {
   "cell_type": "code",
   "execution_count": 6,
   "metadata": {
    "collapsed": true
   },
   "outputs": [],
   "source": [
    "w.factory(\"Poisson::model_CR(Nobs_CR[200],Nexp_CR)\") ;"
   ]
  },
  {
   "cell_type": "markdown",
   "metadata": {},
   "source": [
    "## Construct a joint model for the SR and CR"
   ]
  },
  {
   "cell_type": "code",
   "execution_count": 7,
   "metadata": {
    "collapsed": true
   },
   "outputs": [],
   "source": [
    "w.factory(\"PROD::model(model_SR,model_CR)\") ;"
   ]
  },
  {
   "cell_type": "markdown",
   "metadata": {},
   "source": [
    "## Construct a dataset containing a single observed event count"
   ]
  },
  {
   "cell_type": "markdown",
   "metadata": {},
   "source": [
    "Construct an empty dataset for observable Nobs"
   ]
  },
  {
   "cell_type": "code",
   "execution_count": 8,
   "metadata": {
    "collapsed": true
   },
   "outputs": [],
   "source": [
    "RooDataSet d(\"d\",\"d\",*w.var(\"Nobs_SR\")) ;"
   ]
  },
  {
   "cell_type": "markdown",
   "metadata": {},
   "source": [
    "Set Nobs to desired observed event count"
   ]
  },
  {
   "cell_type": "code",
   "execution_count": 9,
   "metadata": {
    "collapsed": true
   },
   "outputs": [],
   "source": [
    "w.var(\"Nobs_SR\")->setVal(25) ;"
   ]
  },
  {
   "cell_type": "markdown",
   "metadata": {},
   "source": [
    "Add observation of 25 events to dataset"
   ]
  },
  {
   "cell_type": "code",
   "execution_count": 10,
   "metadata": {},
   "outputs": [
    {
     "name": "stdout",
     "output_type": "stream",
     "text": [
      "[#1] INFO:ObjectHandling -- RooWorkspace::import(w) importing dataset d\n",
      "[#1] INFO:ObjectHandling -- RooWorkSpace::import(w) changing name of dataset from  d to observed_data\n"
     ]
    }
   ],
   "source": [
    "d.add(*w.var(\"Nobs_SR\")) ;\n",
    "w.import(d,RooFit::Rename(\"observed_data\")) ;"
   ]
  },
  {
   "cell_type": "markdown",
   "metadata": {},
   "source": [
    "*NB: When treating Nobs_CR as a global observable, it does _not_ appear in the dataset it is implicitly part of the observed data (as *global observable*) but not _explicitly_ part of the dataset anymore"
   ]
  },
  {
   "cell_type": "markdown",
   "metadata": {},
   "source": [
    "## Construct a unique statistical interpretatation of the model to be used by RooStats\n",
    "\n",
    "Create an empty ModelConfig"
   ]
  },
  {
   "cell_type": "code",
   "execution_count": 11,
   "metadata": {
    "collapsed": true
   },
   "outputs": [],
   "source": [
    "RooStats::ModelConfig mc(\"ModelConfig\",&w);"
   ]
  },
  {
   "cell_type": "markdown",
   "metadata": {},
   "source": [
    "Define the pdf, the parameter of interest and the observables"
   ]
  },
  {
   "cell_type": "code",
   "execution_count": 12,
   "metadata": {
    "scrolled": true
   },
   "outputs": [],
   "source": [
    "mc.SetPdf(*w.pdf(\"model\"));\n",
    "mc.SetParametersOfInterest(*w.var(\"mu\"));\n",
    "mc.SetNuisanceParameters(*w.var(\"B\"));\n",
    "mc.SetObservables(*w.var(\"Nobs_SR\"));\n",
    "mc.SetGlobalObservables(*w.var(\"Nobs_CR\"));"
   ]
  },
  {
   "cell_type": "markdown",
   "metadata": {},
   "source": [
    "Define the current value $\\mu=1$ as an hypothesis "
   ]
  },
  {
   "cell_type": "code",
   "execution_count": 13,
   "metadata": {},
   "outputs": [
    {
     "name": "stdout",
     "output_type": "stream",
     "text": [
      "\n",
      "=== Using the following for ModelConfig ===\n",
      "Observables:             RooArgSet:: = (Nobs_SR)\n",
      "Parameters of Interest:  RooArgSet:: = (mu)\n",
      "Nuisance Parameters:     RooArgSet:: = (B)\n",
      "Global Observables:      RooArgSet:: = (Nobs_CR)\n",
      "PDF:                     RooProdPdf::model[ model_SR * model_CR ] = 0.00144134\n",
      "Snapshot:                \n",
      "  1) 0x7f3fe895c900 RooRealVar:: mu = 1  L(-1 - 10)  \"mu\"\n",
      "\n"
     ]
    }
   ],
   "source": [
    "mc.SetSnapshot(*w.var(\"mu\"));\n",
    "mc.Print();"
   ]
  },
  {
   "cell_type": "markdown",
   "metadata": {},
   "source": [
    "import model in the workspace"
   ]
  },
  {
   "cell_type": "code",
   "execution_count": 14,
   "metadata": {},
   "outputs": [
    {
     "name": "stdout",
     "output_type": "stream",
     "text": [
      "[#1] INFO:Minization -- createNLL: caching constraint set under name CONSTR_OF_PDF_model_FOR_OBS_Nobs_SR with 1 entries\n",
      "[#1] INFO:Minization --  Including the following contraint terms in minimization: (model_CR)\n",
      "[#1] INFO:Minization -- The following global observables have been defined: (Nobs_CR)\n",
      "[#1] INFO:Fitting -- RooAddition::defaultErrorLevel(nll_model_d_with_constr) Summation contains a RooNLLVar, using its error level\n",
      "[#1] INFO:Minization -- RooMinimizer::optimizeConst: activating const optimization\n",
      "[#1] INFO:Minization --  The following expressions will be evaluated in cache-and-track mode: (model_SR)\n",
      " **********\n",
      " **    1 **SET PRINT           1\n",
      " **********\n",
      " **********\n",
      " **    2 **SET NOGRAD\n",
      " **********\n",
      " PARAMETER DEFINITIONS:\n",
      "    NO.   NAME         VALUE      STEP SIZE      LIMITS\n",
      "     1 B            2.00000e+01  1.00000e+01    0.00000e+00  2.00000e+02\n",
      "     2 mu           1.00000e+00  1.00000e+00   -1.00000e+00  1.00000e+01\n",
      " **********\n",
      " **    3 **SET ERR         0.5\n",
      " **********\n",
      " **********\n",
      " **    4 **SET PRINT           1\n",
      " **********\n",
      " **********\n",
      " **    5 **SET STR           1\n",
      " **********\n",
      " NOW USING STRATEGY  1: TRY TO BALANCE SPEED AGAINST RELIABILITY\n",
      " **********\n",
      " **    6 **MIGRAD        1000           1\n",
      " **********\n",
      " FIRST CALL TO USER FUNCTION AT NEW START POINT, WITH IFLAG=4.\n",
      " START MIGRAD MINIMIZATION.  STRATEGY  1.  CONVERGENCE WHEN EDM .LT. 1.00e-03\n",
      " FCN=6.54218 FROM MIGRAD    STATUS=INITIATE        8 CALLS           9 TOTAL\n",
      "                     EDM= unknown      STRATEGY= 1      NO ERROR MATRIX       \n",
      "  EXT PARAMETER               CURRENT GUESS       STEP         FIRST   \n",
      "  NO.   NAME      VALUE            ERROR          SIZE      DERIVATIVE \n",
      "   1  B            2.00000e+01   1.00000e+01   1.72186e-01   9.99998e+00\n",
      "   2  mu           1.00000e+00   1.00000e+00   2.43190e-01   7.07107e+00\n",
      "                               ERR DEF= 0.5\n",
      " MIGRAD MINIMIZATION HAS CONVERGED.\n",
      " MIGRAD WILL VERIFY CONVERGENCE AND ERROR MATRIX.\n",
      " COVARIANCE MATRIX CALCULATED SUCCESSFULLY\n",
      " FCN=6.10025 FROM MIGRAD    STATUS=CONVERGED      30 CALLS          31 TOTAL\n",
      "                     EDM=4.42151e-05    STRATEGY= 1      ERROR MATRIX ACCURATE \n",
      "  EXT PARAMETER                                   STEP         FIRST   \n",
      "  NO.   NAME      VALUE            ERROR          SIZE      DERIVATIVE \n",
      "   1  B            2.00006e+01   1.41399e+00   4.00961e-05   9.77185e-02\n",
      "   2  mu           5.03259e-01   5.18341e-01   2.33132e-04   5.00996e-02\n",
      "                               ERR DEF= 0.5\n",
      " EXTERNAL ERROR MATRIX.    NDIM=  25    NPAR=  2    ERR DEF=0.5\n",
      "  2.000e+00 -1.997e-01 \n",
      " -1.997e-01  2.704e-01 \n",
      " PARAMETER  CORRELATION COEFFICIENTS  \n",
      "       NO.  GLOBAL      1      2\n",
      "        1  0.27162   1.000 -0.272\n",
      "        2  0.27162  -0.272  1.000\n",
      " **********\n",
      " **    7 **SET ERR         0.5\n",
      " **********\n",
      " **********\n",
      " **    8 **SET PRINT           1\n",
      " **********\n",
      " **********\n",
      " **    9 **HESSE        1000\n",
      " **********\n",
      " COVARIANCE MATRIX CALCULATED SUCCESSFULLY\n",
      " FCN=6.10025 FROM HESSE     STATUS=OK             10 CALLS          41 TOTAL\n",
      "                     EDM=4.42147e-05    STRATEGY= 1      ERROR MATRIX ACCURATE \n",
      "  EXT PARAMETER                                INTERNAL      INTERNAL  \n",
      "  NO.   NAME      VALUE            ERROR       STEP SIZE       VALUE   \n",
      "   1  B            2.00006e+01   1.41402e+00   8.01922e-06  -9.27285e-01\n",
      "   2  mu           5.03259e-01   5.18350e-01   4.66265e-05  -8.13477e-01\n",
      "                               ERR DEF= 0.5\n",
      " EXTERNAL ERROR MATRIX.    NDIM=  25    NPAR=  2    ERR DEF=0.5\n",
      "  2.000e+00 -1.998e-01 \n",
      " -1.998e-01  2.704e-01 \n",
      " PARAMETER  CORRELATION COEFFICIENTS  \n",
      "       NO.  GLOBAL      1      2\n",
      "        1  0.27169   1.000 -0.272\n",
      "        2  0.27169  -0.272  1.000\n",
      "[#1] INFO:Minization -- RooMinimizer::optimizeConst: deactivating const optimization\n"
     ]
    }
   ],
   "source": [
    "w.import(mc) ;\n",
    "w.writeToFile(\"../workspaces/model.root\") ;\n",
    "w.pdf(\"model\")->fitTo(d,RooFit::GlobalObservables(*w.var(\"Nobs_CR\"))) ;"
   ]
  },
  {
   "cell_type": "code",
   "execution_count": null,
   "metadata": {
    "collapsed": true
   },
   "outputs": [],
   "source": []
  }
 ],
 "metadata": {
  "kernelspec": {
   "display_name": "ROOT C++",
   "language": "c++",
   "name": "root"
  },
  "language_info": {
   "codemirror_mode": "text/x-c++src",
   "file_extension": ".C",
   "mimetype": " text/x-c++src",
   "name": "c++"
  }
 },
 "nbformat": 4,
 "nbformat_minor": 2
}
