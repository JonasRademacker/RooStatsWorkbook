{
 "cells": [
  {
   "cell_type": "code",
   "execution_count": 1,
   "metadata": {},
   "outputs": [
    {
     "name": "stdout",
     "output_type": "stream",
     "text": [
      "Welcome to JupyROOT 6.13/01\n"
     ]
    }
   ],
   "source": [
    "import ROOT\n",
    "ROOT.gSystem.Load(\"libDelphes\")\n",
    "ROOT.gInterpreter.Declare('#include \"classes/DelphesClasses.h\"')\n",
    "ROOT.gInterpreter.Declare('#include \"external/ExRootAnalysis/ExRootTreeReader.h\"')\n",
    "from array import array"
   ]
  },
  {
   "cell_type": "code",
   "execution_count": 2,
   "metadata": {},
   "outputs": [],
   "source": [
    "lumi = 25000."
   ]
  },
  {
   "cell_type": "code",
   "execution_count": 3,
   "metadata": {},
   "outputs": [],
   "source": [
    "f1 = ROOT.TFile.Open(\"/Users/vince/work/Madgraph/MG5_aMC_v2_6_1/Hgg_RUN/Events/run_01/tag_1_delphes_events.root\")"
   ]
  },
  {
   "cell_type": "code",
   "execution_count": 4,
   "metadata": {},
   "outputs": [],
   "source": [
    "t1 = f1.Get(\"Delphes\")"
   ]
  },
  {
   "cell_type": "code",
   "execution_count": 5,
   "metadata": {},
   "outputs": [],
   "source": [
    "ROOT.gROOT.ProcessLine(\n",
    "\"struct MyStruct {\\\n",
    "   Float_t gamma_lead_pt;\\\n",
    "   Float_t gamma_lead_eta;\\\n",
    "   Float_t gamma_lead_phi;\\\n",
    "   Float_t gamma_sublead_pt;\\\n",
    "   Float_t gamma_sublead_eta;\\\n",
    "   Float_t gamma_sublead_phi;\\\n",
    "   Int_t n_photons;\\\n",
    "   Int_t n_jets;\\\n",
    "   Int_t n_leptons;\\\n",
    "   Float_t lead_isolation;\\\n",
    "   Float_t sublead_isolation;\\\n",
    "   Float_t ht;\\\n",
    "   Float_t weight;\\\n",
    "   Char_t    fMyCode[10];\\\n",
    "};\" );"
   ]
  },
  {
   "cell_type": "code",
   "execution_count": 6,
   "metadata": {},
   "outputs": [],
   "source": [
    "from ROOT import MyStruct\n",
    "\n",
    "mystruct = MyStruct()\n",
    "\n",
    "sig_file = ROOT.TFile(\"HggSignal.root\",\"RECREATE\")\n",
    "signal_tree = ROOT.TTree( 'Tree', 'Higgs Events' )\n",
    "signal_tree.Branch( 'mypts', mystruct, 'gamma_lead_pt/F:gamma_lead_eta:gamma_lead_phi:gamma_sublead_pt:gamma_sublead_eta:gamma_sublead_phi:n_photons/I:n_jets:n_leptons:lead_isolation/F:sublead_isolation:ht:weight/F' )\n",
    "signal_tree.Branch( 'mycode', ROOT.AddressOf( mystruct, 'fMyCode' ), 'MyCode/C' )\n",
    " \n",
    "for event in t1:\n",
    "    mystruct.n_photons = event.Photon.GetEntries()\n",
    "    #mystruct.weight = event.Weight\n",
    "    mystruct.weight = event.Event[0].Weight\n",
    "    mystruct.ht = event.ScalarHT[0].HT\n",
    "    for i, gamma in enumerate(event.Photon):\n",
    "        if i == 0: \n",
    "            l = gamma.P4()\n",
    "            mystruct.gamma_lead_pt = l.Pt()\n",
    "            mystruct.gamma_lead_eta = l.Eta()\n",
    "            mystruct.gamma_lead_phi = l.Phi()\n",
    "            mystruct.lead_isolation = gamma.IsolationVar\n",
    "        elif i == 1: \n",
    "            l = gamma.P4()\n",
    "            mystruct.gamma_sublead_pt = l.Pt()\n",
    "            mystruct.gamma_sublead_eta = l.Eta()\n",
    "            mystruct.gamma_sublead_phi = l.Phi()\n",
    "    n_jets = 0\n",
    "    for jet in event.Jet:\n",
    "        if jet.P4().Pt() > 40: n_jets +=1\n",
    "    mystruct.n_jets = n_jets\n",
    "    n_leptons = 0\n",
    "    for electron in event.Electron:\n",
    "        if electron.P4().Pt()> 10:\n",
    "            n_leptons += 1\n",
    "    for muon in event.Muon:\n",
    "        if muon.P4().Pt() > 3:\n",
    "            n_leptons += 1\n",
    "    mystruct.n_leptons = n_leptons\n",
    "    for i in range(10):\n",
    "        mystruct.fMyCode   = \"%03d\" % i      # note string assignment\n",
    "    signal_tree.Fill()"
   ]
  },
  {
   "cell_type": "code",
   "execution_count": 7,
   "metadata": {
    "scrolled": true
   },
   "outputs": [],
   "source": [
    "signal = signal_tree.CloneTree() \n",
    "sig_file.Write()\n",
    "sig_file.Close()"
   ]
  },
  {
   "cell_type": "code",
   "execution_count": 8,
   "metadata": {},
   "outputs": [],
   "source": [
    "f2 = ROOT.TFile.Open(\"/Users/vince/work/Madgraph/MG5_aMC_v2_6_1/HggBgk_RUN/Events/run_06/tag_1_delphes_events.root\")\n",
    "t2 = f2.Get(\"Delphes\")"
   ]
  },
  {
   "cell_type": "code",
   "execution_count": 9,
   "metadata": {
    "scrolled": true
   },
   "outputs": [],
   "source": [
    "mystruct = MyStruct()\n",
    " \n",
    "bkg_file = ROOT.TFile(\"HggBackground.root\",\"RECREATE\")\n",
    "background_tree = ROOT.TTree( 'Tree', 'Background Events' )\n",
    "background_tree.Branch( 'mypts', mystruct, 'gamma_lead_pt/F:gamma_lead_eta:gamma_lead_phi:gamma_sublead_pt:gamma_sublead_eta:gamma_sublead_phi:n_photons/I:n_jets:n_leptons:lead_isolation/F:sublead_isolation:ht:weight/F' )\n",
    "background_tree.Branch( 'mycode', ROOT.AddressOf( mystruct, 'fMyCode' ), 'MyCode/C' )\n",
    " \n",
    "for event in t2:\n",
    "    mystruct.n_photons = event.Photon.GetEntries()\n",
    "    mystruct.weight = event.Event[0].Weight\n",
    "    mystruct.ht = event.ScalarHT[0].HT\n",
    "    for i, gamma in enumerate(event.Photon):\n",
    "        if i == 0: \n",
    "            l = gamma.P4()\n",
    "            mystruct.gamma_lead_pt = l.Pt()\n",
    "            mystruct.gamma_lead_eta = l.Eta()\n",
    "            mystruct.gamma_lead_phi = l.Phi()\n",
    "            mystruct.lead_isolation = gamma.IsolationVar\n",
    "        elif i == 1: \n",
    "            l = gamma.P4()\n",
    "            mystruct.gamma_sublead_pt = l.Pt()\n",
    "            mystruct.gamma_sublead_eta = l.Eta()\n",
    "            mystruct.gamma_sublead_phi = l.Phi()\n",
    "            mystruct.sublead_isolation = gamma.IsolationVar\n",
    "    n_jets = 0\n",
    "    for jet in event.Jet:\n",
    "        if jet.P4().Pt() > 40: n_jets +=1\n",
    "    mystruct.n_jets = n_jets\n",
    "    n_leptons = 0\n",
    "    for electron in event.Electron:\n",
    "        if electron.P4().Pt()> 10:\n",
    "            n_leptons += 1\n",
    "    for muon in event.Muon:\n",
    "        if muon.P4().Pt() > 3:\n",
    "            n_leptons += 1\n",
    "\n",
    "    mystruct.n_leptons = n_leptons\n",
    "    for i in range(10):\n",
    "        mystruct.fMyCode   = \"%03d\" % i      # note string assignment\n",
    "    background_tree.Fill()"
   ]
  },
  {
   "cell_type": "code",
   "execution_count": 10,
   "metadata": {},
   "outputs": [],
   "source": [
    "background = background_tree.CloneTree() \n",
    "bkg_file.Write()\n",
    "bkg_file.Close()"
   ]
  }
 ],
 "metadata": {
  "kernelspec": {
   "display_name": "Python 2",
   "language": "python",
   "name": "python2"
  },
  "language_info": {
   "codemirror_mode": {
    "name": "ipython",
    "version": 2
   },
   "file_extension": ".py",
   "mimetype": "text/x-python",
   "name": "python",
   "nbconvert_exporter": "python",
   "pygments_lexer": "ipython2",
   "version": "2.7.13"
  }
 },
 "nbformat": 4,
 "nbformat_minor": 2
}
